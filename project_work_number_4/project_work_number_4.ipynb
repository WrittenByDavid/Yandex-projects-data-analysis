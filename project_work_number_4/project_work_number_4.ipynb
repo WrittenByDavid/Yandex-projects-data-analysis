{
 "cells": [
  {
   "cell_type": "markdown",
   "id": "5e23ed6b",
   "metadata": {},
   "source": [
    "<h1>Содержание<span class=\"tocSkip\"></span></h1>\n",
    "\n",
    "<div class=\"toc\">\n",
    "    <ul class=\"toc-item\">\n",
    "        <li>\n",
    "            <span>\n",
    "                <a href=\"#Изучение-данных\" data-toc-modified-id=\"Изучение-данных-1\">\n",
    "                    <span class=\"toc-item-num\">\n",
    "                        1&nbsp;&nbsp;\n",
    "                    </span>\n",
    "                    Изучение данных\n",
    "                </a>\n",
    "            </span>\n",
    "        </li>\n",
    "        <li>\n",
    "            <span>\n",
    "                <a href=\"#Предобработка-данных\" data-toc-modified-id=\"Предобработка-данных-2\">\n",
    "                    <span class=\"toc-item-num\">\n",
    "                        2&nbsp;&nbsp;\n",
    "                    </span>\n",
    "                    Предобработка данных\n",
    "                </a>\n",
    "            </span>\n",
    "            <ul class=\"toc-item\">\n",
    "                <li>\n",
    "                    <span>\n",
    "                        <a href=\"#Заполнение-пропусков\" data-toc-modified-id=\"Заполнение-пропусков-2.1\">\n",
    "                            <span class=\"toc-item-num\">\n",
    "                                2.1&nbsp;&nbsp;\n",
    "                            </span>\n",
    "                            Заполнение пропусков\n",
    "                        </a>\n",
    "                    </span>\n",
    "                </li>\n",
    "                <li>\n",
    "                    <span>\n",
    "                        <a href=\"#Изменение-типов-данных\" data-toc-modified-id=\"Изменение-типов-данных-2.2\">\n",
    "                            <span class=\"toc-item-num\">\n",
    "                                2.2&nbsp;&nbsp;\n",
    "                            </span>\n",
    "                            Изменение типов данных\n",
    "                        </a>\n",
    "                    </span>\n",
    "                </li>\n",
    "                <li>\n",
    "                    <span>\n",
    "                        <a href=\"#Поиск-явных-дубликатов\" data-toc-modified-id=\"Поиск-явных-дубликатов-2.3\">\n",
    "                            <span class=\"toc-item-num\">\n",
    "                                2.3&nbsp;&nbsp;\n",
    "                            </span>\n",
    "                            Поиск явных дубликатов\n",
    "                        </a>\n",
    "                    </span>\n",
    "                </li>\n",
    "                <li>\n",
    "                    <span>\n",
    "                        <a href=\"#Добавление-суммарных-продаж-по-всем-регионам\" data-toc-modified-id=\"Добавление-суммарных-продаж-по-всем-регионам-2.4\">\n",
    "                            <span class=\"toc-item-num\">\n",
    "                                2.4&nbsp;&nbsp;\n",
    "                            </span>\n",
    "                            Добавление суммарных продаж по всем регионам\n",
    "                        </a>\n",
    "                    </span>\n",
    "                </li>\n",
    "            </ul>\n",
    "        </li>\n",
    "        <li>\n",
    "            <span>\n",
    "                <a href=\"#Анализ-данных\" data-toc-modified-id=\"Анализ-данных-3\">\n",
    "                    <span class=\"toc-item-num\">\n",
    "                        3&nbsp;&nbsp;\n",
    "                    </span>\n",
    "                    Анализ данных\n",
    "                </a>\n",
    "            </span>\n",
    "            <ul class=\"toc-item\">\n",
    "                <li>\n",
    "                    <span>\n",
    "                        <a href=\"#Cколько-игр-выпускалось-в-разные-годы\" data-toc-modified-id=\"Cколько-игр-выпускалось-в-разные-годы-3.1\">\n",
    "                            <span class=\"toc-item-num\">\n",
    "                                3.1&nbsp;&nbsp;\n",
    "                            </span>\n",
    "                            Cколько игр выпускалось в разные годы\n",
    "                        </a>\n",
    "                    </span>\n",
    "                </li>\n",
    "                <li>\n",
    "                    <span>\n",
    "                        <a href=\"#Продажи-по-платформам\" data-toc-modified-id=\"Продажи-по-платформам-3.2\">\n",
    "                            <span class=\"toc-item-num\">\n",
    "                                3.2&nbsp;&nbsp;\n",
    "                            </span>\n",
    "                            Продажи по платформам\n",
    "                        </a>\n",
    "                    </span>\n",
    "                </li>\n",
    "                <li>\n",
    "                    <span>\n",
    "                        <a href=\"#Актуальный-период\" data-toc-modified-id=\"Актуальный-период-3.3\">\n",
    "                            <span class=\"toc-item-num\">\n",
    "                                3.3&nbsp;&nbsp;\n",
    "                            </span>\n",
    "                            Актуальный период\n",
    "                        </a>\n",
    "                    </span>\n",
    "                </li>\n",
    "                <li>\n",
    "                    <span>\n",
    "                        <a href=\"#Выберем-потенциально-прибыльные-платформы\" data-toc-modified-id=\"Выберем-потенциально-прибыльные-платформы-3.4\">\n",
    "                            <span class=\"toc-item-num\">\n",
    "                                3.4&nbsp;&nbsp;\n",
    "                            </span>\n",
    "                            Выберем потенциально прибыльные платформы\n",
    "                        </a>\n",
    "                    </span>\n",
    "                </li>\n",
    "                <li>\n",
    "                    <span>\n",
    "                        <a href=\"#Диаграмма-размаха-по-глобальным-продажам-игр\" data-toc-modified-id=\"Диаграмма-размаха-по-глобальным-продажам-игр-3.5\">\n",
    "                            <span class=\"toc-item-num\">\n",
    "                                3.5&nbsp;&nbsp;\n",
    "                            </span>\n",
    "                            Диаграмма размаха по глобальным продажам игр\n",
    "                        </a>\n",
    "                    </span>\n",
    "                </li>\n",
    "                <li>\n",
    "                    <span>\n",
    "                        <a href=\"#Влияние-отзывов-на-продажи\" data-toc-modified-id=\"Влияние-отзывов-на-продажи-3.6\">\n",
    "                            <span class=\"toc-item-num\">\n",
    "                                3.6&nbsp;&nbsp;\n",
    "                            </span>\n",
    "                            Влияние отзывов на продажи\n",
    "                        </a>\n",
    "                    </span>\n",
    "                </li>\n",
    "                <li>\n",
    "                    <span>\n",
    "                        <a href=\"#Распределение-игр-по-жанрам\" data-toc-modified-id=\"Распределение-игр-по-жанрам-3.7\">\n",
    "                            <span class=\"toc-item-num\">\n",
    "                                3.7&nbsp;&nbsp;\n",
    "                            </span>\n",
    "                            Распределение игр по жанрам\n",
    "                        </a>\n",
    "                    </span>\n",
    "                </li>\n",
    "            </ul>  \n",
    "        </li>\n",
    "        <li>\n",
    "            <span>\n",
    "                <a href=\"#Портрет-пользователя-каждого-региона\" data-toc-modified-id=\"Портрет-пользователя-каждого-региона-4\">\n",
    "                    <span class=\"toc-item-num\">\n",
    "                        4&nbsp;&nbsp;\n",
    "                    </span>\n",
    "                    Портрет пользователя каждого региона\n",
    "                </a>\n",
    "            </span>\n",
    "        </li>\n",
    "        <li>\n",
    "            <span>\n",
    "                <a href=\"#Проверка-гипотез\" data-toc-modified-id=\"Проверка-гипотез-5\">\n",
    "                    <span class=\"toc-item-num\">\n",
    "                        5&nbsp;&nbsp;\n",
    "                    </span>\n",
    "                    Проверка гипотез\n",
    "                </a>\n",
    "            </span>\n",
    "        </li>\n",
    "        <li>\n",
    "            <span>\n",
    "                <a href=\"#Общий-вывод\" data-toc-modified-id=\"Общий-вывод-6\">\n",
    "                    <span class=\"toc-item-num\">\n",
    "                        6&nbsp;&nbsp;\n",
    "                    </span>\n",
    "                    Общий вывод\n",
    "                </a>\n",
    "            </span>\n",
    "        </li>\n",
    "    </ul>\n",
    "</div>"
   ]
  },
  {
   "cell_type": "markdown",
   "id": "2d02ec18",
   "metadata": {},
   "source": [
    "## Описание проекта"
   ]
  },
  {
   "cell_type": "markdown",
   "id": "b964b908",
   "metadata": {},
   "source": [
    "Интернет-магазин «Стримчик» продаёт по всему миру компьютерные игры. Из открытых источников доступны исторические данные о продажах игр: оценки пользователей и экспертов, жанры и платформы (например, *Xbox* или *PlayStation*). Нужно выявить определяющие успешность игры закономерности. Это позволит сделать ставку на потенциально популярный продукт и спланировать рекламные кампании."
   ]
  },
  {
   "cell_type": "markdown",
   "id": "83c9bb37",
   "metadata": {},
   "source": [
    "## Изучение данных"
   ]
  },
  {
   "cell_type": "markdown",
   "id": "cb3426c1",
   "metadata": {},
   "source": [
    "Импортируем библиотеку `pandas`, прочитаем файл `games.csv` и посмотрим первые и последние 10 строк таблицы `df`."
   ]
  },
  {
   "cell_type": "code",
   "execution_count": 1,
   "id": "46a07c43",
   "metadata": {},
   "outputs": [
    {
     "data": {
      "text/html": [
       "<div>\n",
       "<style scoped>\n",
       "    .dataframe tbody tr th:only-of-type {\n",
       "        vertical-align: middle;\n",
       "    }\n",
       "\n",
       "    .dataframe tbody tr th {\n",
       "        vertical-align: top;\n",
       "    }\n",
       "\n",
       "    .dataframe thead th {\n",
       "        text-align: right;\n",
       "    }\n",
       "</style>\n",
       "<table border=\"1\" class=\"dataframe\">\n",
       "  <thead>\n",
       "    <tr style=\"text-align: right;\">\n",
       "      <th></th>\n",
       "      <th>Name</th>\n",
       "      <th>Platform</th>\n",
       "      <th>Year_of_Release</th>\n",
       "      <th>Genre</th>\n",
       "      <th>NA_sales</th>\n",
       "      <th>EU_sales</th>\n",
       "      <th>JP_sales</th>\n",
       "      <th>Other_sales</th>\n",
       "      <th>Critic_Score</th>\n",
       "      <th>User_Score</th>\n",
       "      <th>Rating</th>\n",
       "    </tr>\n",
       "  </thead>\n",
       "  <tbody>\n",
       "    <tr>\n",
       "      <th>0</th>\n",
       "      <td>Wii Sports</td>\n",
       "      <td>Wii</td>\n",
       "      <td>2006.0</td>\n",
       "      <td>Sports</td>\n",
       "      <td>41.36</td>\n",
       "      <td>28.96</td>\n",
       "      <td>3.77</td>\n",
       "      <td>8.45</td>\n",
       "      <td>76.0</td>\n",
       "      <td>8</td>\n",
       "      <td>E</td>\n",
       "    </tr>\n",
       "    <tr>\n",
       "      <th>1</th>\n",
       "      <td>Super Mario Bros.</td>\n",
       "      <td>NES</td>\n",
       "      <td>1985.0</td>\n",
       "      <td>Platform</td>\n",
       "      <td>29.08</td>\n",
       "      <td>3.58</td>\n",
       "      <td>6.81</td>\n",
       "      <td>0.77</td>\n",
       "      <td>NaN</td>\n",
       "      <td>NaN</td>\n",
       "      <td>NaN</td>\n",
       "    </tr>\n",
       "    <tr>\n",
       "      <th>2</th>\n",
       "      <td>Mario Kart Wii</td>\n",
       "      <td>Wii</td>\n",
       "      <td>2008.0</td>\n",
       "      <td>Racing</td>\n",
       "      <td>15.68</td>\n",
       "      <td>12.76</td>\n",
       "      <td>3.79</td>\n",
       "      <td>3.29</td>\n",
       "      <td>82.0</td>\n",
       "      <td>8.3</td>\n",
       "      <td>E</td>\n",
       "    </tr>\n",
       "    <tr>\n",
       "      <th>3</th>\n",
       "      <td>Wii Sports Resort</td>\n",
       "      <td>Wii</td>\n",
       "      <td>2009.0</td>\n",
       "      <td>Sports</td>\n",
       "      <td>15.61</td>\n",
       "      <td>10.93</td>\n",
       "      <td>3.28</td>\n",
       "      <td>2.95</td>\n",
       "      <td>80.0</td>\n",
       "      <td>8</td>\n",
       "      <td>E</td>\n",
       "    </tr>\n",
       "    <tr>\n",
       "      <th>4</th>\n",
       "      <td>Pokemon Red/Pokemon Blue</td>\n",
       "      <td>GB</td>\n",
       "      <td>1996.0</td>\n",
       "      <td>Role-Playing</td>\n",
       "      <td>11.27</td>\n",
       "      <td>8.89</td>\n",
       "      <td>10.22</td>\n",
       "      <td>1.00</td>\n",
       "      <td>NaN</td>\n",
       "      <td>NaN</td>\n",
       "      <td>NaN</td>\n",
       "    </tr>\n",
       "    <tr>\n",
       "      <th>5</th>\n",
       "      <td>Tetris</td>\n",
       "      <td>GB</td>\n",
       "      <td>1989.0</td>\n",
       "      <td>Puzzle</td>\n",
       "      <td>23.20</td>\n",
       "      <td>2.26</td>\n",
       "      <td>4.22</td>\n",
       "      <td>0.58</td>\n",
       "      <td>NaN</td>\n",
       "      <td>NaN</td>\n",
       "      <td>NaN</td>\n",
       "    </tr>\n",
       "    <tr>\n",
       "      <th>6</th>\n",
       "      <td>New Super Mario Bros.</td>\n",
       "      <td>DS</td>\n",
       "      <td>2006.0</td>\n",
       "      <td>Platform</td>\n",
       "      <td>11.28</td>\n",
       "      <td>9.14</td>\n",
       "      <td>6.50</td>\n",
       "      <td>2.88</td>\n",
       "      <td>89.0</td>\n",
       "      <td>8.5</td>\n",
       "      <td>E</td>\n",
       "    </tr>\n",
       "    <tr>\n",
       "      <th>7</th>\n",
       "      <td>Wii Play</td>\n",
       "      <td>Wii</td>\n",
       "      <td>2006.0</td>\n",
       "      <td>Misc</td>\n",
       "      <td>13.96</td>\n",
       "      <td>9.18</td>\n",
       "      <td>2.93</td>\n",
       "      <td>2.84</td>\n",
       "      <td>58.0</td>\n",
       "      <td>6.6</td>\n",
       "      <td>E</td>\n",
       "    </tr>\n",
       "    <tr>\n",
       "      <th>8</th>\n",
       "      <td>New Super Mario Bros. Wii</td>\n",
       "      <td>Wii</td>\n",
       "      <td>2009.0</td>\n",
       "      <td>Platform</td>\n",
       "      <td>14.44</td>\n",
       "      <td>6.94</td>\n",
       "      <td>4.70</td>\n",
       "      <td>2.24</td>\n",
       "      <td>87.0</td>\n",
       "      <td>8.4</td>\n",
       "      <td>E</td>\n",
       "    </tr>\n",
       "    <tr>\n",
       "      <th>9</th>\n",
       "      <td>Duck Hunt</td>\n",
       "      <td>NES</td>\n",
       "      <td>1984.0</td>\n",
       "      <td>Shooter</td>\n",
       "      <td>26.93</td>\n",
       "      <td>0.63</td>\n",
       "      <td>0.28</td>\n",
       "      <td>0.47</td>\n",
       "      <td>NaN</td>\n",
       "      <td>NaN</td>\n",
       "      <td>NaN</td>\n",
       "    </tr>\n",
       "  </tbody>\n",
       "</table>\n",
       "</div>"
      ],
      "text/plain": [
       "                        Name Platform  Year_of_Release         Genre  \\\n",
       "0                 Wii Sports      Wii           2006.0        Sports   \n",
       "1          Super Mario Bros.      NES           1985.0      Platform   \n",
       "2             Mario Kart Wii      Wii           2008.0        Racing   \n",
       "3          Wii Sports Resort      Wii           2009.0        Sports   \n",
       "4   Pokemon Red/Pokemon Blue       GB           1996.0  Role-Playing   \n",
       "5                     Tetris       GB           1989.0        Puzzle   \n",
       "6      New Super Mario Bros.       DS           2006.0      Platform   \n",
       "7                   Wii Play      Wii           2006.0          Misc   \n",
       "8  New Super Mario Bros. Wii      Wii           2009.0      Platform   \n",
       "9                  Duck Hunt      NES           1984.0       Shooter   \n",
       "\n",
       "   NA_sales  EU_sales  JP_sales  Other_sales  Critic_Score User_Score Rating  \n",
       "0     41.36     28.96      3.77         8.45          76.0          8      E  \n",
       "1     29.08      3.58      6.81         0.77           NaN        NaN    NaN  \n",
       "2     15.68     12.76      3.79         3.29          82.0        8.3      E  \n",
       "3     15.61     10.93      3.28         2.95          80.0          8      E  \n",
       "4     11.27      8.89     10.22         1.00           NaN        NaN    NaN  \n",
       "5     23.20      2.26      4.22         0.58           NaN        NaN    NaN  \n",
       "6     11.28      9.14      6.50         2.88          89.0        8.5      E  \n",
       "7     13.96      9.18      2.93         2.84          58.0        6.6      E  \n",
       "8     14.44      6.94      4.70         2.24          87.0        8.4      E  \n",
       "9     26.93      0.63      0.28         0.47           NaN        NaN    NaN  "
      ]
     },
     "execution_count": 1,
     "metadata": {},
     "output_type": "execute_result"
    }
   ],
   "source": [
    "import pandas as pd\n",
    "# Библиотеку scipy используем в дальнейшем для проверки гипотез\n",
    "from scipy import stats as st\n",
    "# Библиотеку matplotlib используем в дальнейшем для построения и оформления графиков\n",
    "import matplotlib.pyplot as plt\n",
    "\n",
    "try:\n",
    "    df = pd.read_csv('games.csv')\n",
    "except:\n",
    "    df = pd.read_csv('/datasets/games.csv')\n",
    "\n",
    "df.head(10)"
   ]
  },
  {
   "cell_type": "code",
   "execution_count": 2,
   "id": "63363308",
   "metadata": {},
   "outputs": [
    {
     "data": {
      "text/html": [
       "<div>\n",
       "<style scoped>\n",
       "    .dataframe tbody tr th:only-of-type {\n",
       "        vertical-align: middle;\n",
       "    }\n",
       "\n",
       "    .dataframe tbody tr th {\n",
       "        vertical-align: top;\n",
       "    }\n",
       "\n",
       "    .dataframe thead th {\n",
       "        text-align: right;\n",
       "    }\n",
       "</style>\n",
       "<table border=\"1\" class=\"dataframe\">\n",
       "  <thead>\n",
       "    <tr style=\"text-align: right;\">\n",
       "      <th></th>\n",
       "      <th>Name</th>\n",
       "      <th>Platform</th>\n",
       "      <th>Year_of_Release</th>\n",
       "      <th>Genre</th>\n",
       "      <th>NA_sales</th>\n",
       "      <th>EU_sales</th>\n",
       "      <th>JP_sales</th>\n",
       "      <th>Other_sales</th>\n",
       "      <th>Critic_Score</th>\n",
       "      <th>User_Score</th>\n",
       "      <th>Rating</th>\n",
       "    </tr>\n",
       "  </thead>\n",
       "  <tbody>\n",
       "    <tr>\n",
       "      <th>16705</th>\n",
       "      <td>15 Days</td>\n",
       "      <td>PC</td>\n",
       "      <td>2009.0</td>\n",
       "      <td>Adventure</td>\n",
       "      <td>0.00</td>\n",
       "      <td>0.01</td>\n",
       "      <td>0.00</td>\n",
       "      <td>0.0</td>\n",
       "      <td>63.0</td>\n",
       "      <td>5.8</td>\n",
       "      <td>NaN</td>\n",
       "    </tr>\n",
       "    <tr>\n",
       "      <th>16706</th>\n",
       "      <td>Men in Black II: Alien Escape</td>\n",
       "      <td>GC</td>\n",
       "      <td>2003.0</td>\n",
       "      <td>Shooter</td>\n",
       "      <td>0.01</td>\n",
       "      <td>0.00</td>\n",
       "      <td>0.00</td>\n",
       "      <td>0.0</td>\n",
       "      <td>NaN</td>\n",
       "      <td>tbd</td>\n",
       "      <td>T</td>\n",
       "    </tr>\n",
       "    <tr>\n",
       "      <th>16707</th>\n",
       "      <td>Aiyoku no Eustia</td>\n",
       "      <td>PSV</td>\n",
       "      <td>2014.0</td>\n",
       "      <td>Misc</td>\n",
       "      <td>0.00</td>\n",
       "      <td>0.00</td>\n",
       "      <td>0.01</td>\n",
       "      <td>0.0</td>\n",
       "      <td>NaN</td>\n",
       "      <td>NaN</td>\n",
       "      <td>NaN</td>\n",
       "    </tr>\n",
       "    <tr>\n",
       "      <th>16708</th>\n",
       "      <td>Woody Woodpecker in Crazy Castle 5</td>\n",
       "      <td>GBA</td>\n",
       "      <td>2002.0</td>\n",
       "      <td>Platform</td>\n",
       "      <td>0.01</td>\n",
       "      <td>0.00</td>\n",
       "      <td>0.00</td>\n",
       "      <td>0.0</td>\n",
       "      <td>NaN</td>\n",
       "      <td>NaN</td>\n",
       "      <td>NaN</td>\n",
       "    </tr>\n",
       "    <tr>\n",
       "      <th>16709</th>\n",
       "      <td>SCORE International Baja 1000: The Official Game</td>\n",
       "      <td>PS2</td>\n",
       "      <td>2008.0</td>\n",
       "      <td>Racing</td>\n",
       "      <td>0.00</td>\n",
       "      <td>0.00</td>\n",
       "      <td>0.00</td>\n",
       "      <td>0.0</td>\n",
       "      <td>NaN</td>\n",
       "      <td>NaN</td>\n",
       "      <td>NaN</td>\n",
       "    </tr>\n",
       "    <tr>\n",
       "      <th>16710</th>\n",
       "      <td>Samurai Warriors: Sanada Maru</td>\n",
       "      <td>PS3</td>\n",
       "      <td>2016.0</td>\n",
       "      <td>Action</td>\n",
       "      <td>0.00</td>\n",
       "      <td>0.00</td>\n",
       "      <td>0.01</td>\n",
       "      <td>0.0</td>\n",
       "      <td>NaN</td>\n",
       "      <td>NaN</td>\n",
       "      <td>NaN</td>\n",
       "    </tr>\n",
       "    <tr>\n",
       "      <th>16711</th>\n",
       "      <td>LMA Manager 2007</td>\n",
       "      <td>X360</td>\n",
       "      <td>2006.0</td>\n",
       "      <td>Sports</td>\n",
       "      <td>0.00</td>\n",
       "      <td>0.01</td>\n",
       "      <td>0.00</td>\n",
       "      <td>0.0</td>\n",
       "      <td>NaN</td>\n",
       "      <td>NaN</td>\n",
       "      <td>NaN</td>\n",
       "    </tr>\n",
       "    <tr>\n",
       "      <th>16712</th>\n",
       "      <td>Haitaka no Psychedelica</td>\n",
       "      <td>PSV</td>\n",
       "      <td>2016.0</td>\n",
       "      <td>Adventure</td>\n",
       "      <td>0.00</td>\n",
       "      <td>0.00</td>\n",
       "      <td>0.01</td>\n",
       "      <td>0.0</td>\n",
       "      <td>NaN</td>\n",
       "      <td>NaN</td>\n",
       "      <td>NaN</td>\n",
       "    </tr>\n",
       "    <tr>\n",
       "      <th>16713</th>\n",
       "      <td>Spirits &amp; Spells</td>\n",
       "      <td>GBA</td>\n",
       "      <td>2003.0</td>\n",
       "      <td>Platform</td>\n",
       "      <td>0.01</td>\n",
       "      <td>0.00</td>\n",
       "      <td>0.00</td>\n",
       "      <td>0.0</td>\n",
       "      <td>NaN</td>\n",
       "      <td>NaN</td>\n",
       "      <td>NaN</td>\n",
       "    </tr>\n",
       "    <tr>\n",
       "      <th>16714</th>\n",
       "      <td>Winning Post 8 2016</td>\n",
       "      <td>PSV</td>\n",
       "      <td>2016.0</td>\n",
       "      <td>Simulation</td>\n",
       "      <td>0.00</td>\n",
       "      <td>0.00</td>\n",
       "      <td>0.01</td>\n",
       "      <td>0.0</td>\n",
       "      <td>NaN</td>\n",
       "      <td>NaN</td>\n",
       "      <td>NaN</td>\n",
       "    </tr>\n",
       "  </tbody>\n",
       "</table>\n",
       "</div>"
      ],
      "text/plain": [
       "                                                   Name Platform  \\\n",
       "16705                                           15 Days       PC   \n",
       "16706                     Men in Black II: Alien Escape       GC   \n",
       "16707                                  Aiyoku no Eustia      PSV   \n",
       "16708                Woody Woodpecker in Crazy Castle 5      GBA   \n",
       "16709  SCORE International Baja 1000: The Official Game      PS2   \n",
       "16710                     Samurai Warriors: Sanada Maru      PS3   \n",
       "16711                                  LMA Manager 2007     X360   \n",
       "16712                           Haitaka no Psychedelica      PSV   \n",
       "16713                                  Spirits & Spells      GBA   \n",
       "16714                               Winning Post 8 2016      PSV   \n",
       "\n",
       "       Year_of_Release       Genre  NA_sales  EU_sales  JP_sales  Other_sales  \\\n",
       "16705           2009.0   Adventure      0.00      0.01      0.00          0.0   \n",
       "16706           2003.0     Shooter      0.01      0.00      0.00          0.0   \n",
       "16707           2014.0        Misc      0.00      0.00      0.01          0.0   \n",
       "16708           2002.0    Platform      0.01      0.00      0.00          0.0   \n",
       "16709           2008.0      Racing      0.00      0.00      0.00          0.0   \n",
       "16710           2016.0      Action      0.00      0.00      0.01          0.0   \n",
       "16711           2006.0      Sports      0.00      0.01      0.00          0.0   \n",
       "16712           2016.0   Adventure      0.00      0.00      0.01          0.0   \n",
       "16713           2003.0    Platform      0.01      0.00      0.00          0.0   \n",
       "16714           2016.0  Simulation      0.00      0.00      0.01          0.0   \n",
       "\n",
       "       Critic_Score User_Score Rating  \n",
       "16705          63.0        5.8    NaN  \n",
       "16706           NaN        tbd      T  \n",
       "16707           NaN        NaN    NaN  \n",
       "16708           NaN        NaN    NaN  \n",
       "16709           NaN        NaN    NaN  \n",
       "16710           NaN        NaN    NaN  \n",
       "16711           NaN        NaN    NaN  \n",
       "16712           NaN        NaN    NaN  \n",
       "16713           NaN        NaN    NaN  \n",
       "16714           NaN        NaN    NaN  "
      ]
     },
     "execution_count": 2,
     "metadata": {},
     "output_type": "execute_result"
    }
   ],
   "source": [
    "df.tail(10)"
   ]
  },
  {
   "cell_type": "markdown",
   "id": "87c908f7",
   "metadata": {},
   "source": [
    "Посмотрим общую информацию о данных в таблице `df`."
   ]
  },
  {
   "cell_type": "code",
   "execution_count": 3,
   "id": "8b1af832",
   "metadata": {},
   "outputs": [
    {
     "name": "stdout",
     "output_type": "stream",
     "text": [
      "<class 'pandas.core.frame.DataFrame'>\n",
      "RangeIndex: 16715 entries, 0 to 16714\n",
      "Data columns (total 11 columns):\n",
      " #   Column           Non-Null Count  Dtype  \n",
      "---  ------           --------------  -----  \n",
      " 0   Name             16713 non-null  object \n",
      " 1   Platform         16715 non-null  object \n",
      " 2   Year_of_Release  16446 non-null  float64\n",
      " 3   Genre            16713 non-null  object \n",
      " 4   NA_sales         16715 non-null  float64\n",
      " 5   EU_sales         16715 non-null  float64\n",
      " 6   JP_sales         16715 non-null  float64\n",
      " 7   Other_sales      16715 non-null  float64\n",
      " 8   Critic_Score     8137 non-null   float64\n",
      " 9   User_Score       10014 non-null  object \n",
      " 10  Rating           9949 non-null   object \n",
      "dtypes: float64(6), object(5)\n",
      "memory usage: 1.4+ MB\n"
     ]
    }
   ],
   "source": [
    "df.info()"
   ]
  },
  {
   "cell_type": "markdown",
   "id": "e4ee35df",
   "metadata": {},
   "source": [
    "Посмотрим названия колонок таблицы `df`."
   ]
  },
  {
   "cell_type": "code",
   "execution_count": 4,
   "id": "01d344f2",
   "metadata": {},
   "outputs": [
    {
     "data": {
      "text/plain": [
       "Index(['Name', 'Platform', 'Year_of_Release', 'Genre', 'NA_sales', 'EU_sales',\n",
       "       'JP_sales', 'Other_sales', 'Critic_Score', 'User_Score', 'Rating'],\n",
       "      dtype='object')"
      ]
     },
     "execution_count": 4,
     "metadata": {},
     "output_type": "execute_result"
    }
   ],
   "source": [
    "df.columns"
   ]
  },
  {
   "cell_type": "markdown",
   "id": "ce27fb96",
   "metadata": {},
   "source": [
    "В названиях колонок присутствуют заглавные буквы. Приведём все названия к единому стилю `snake_case`."
   ]
  },
  {
   "cell_type": "code",
   "execution_count": 5,
   "id": "ea57378b",
   "metadata": {},
   "outputs": [],
   "source": [
    "df.columns = df.columns.str.lower()"
   ]
  },
  {
   "cell_type": "markdown",
   "id": "f2a4ebf8",
   "metadata": {},
   "source": [
    "Ещё раз посмотрим названия колонок таблицы `df` после сделанных изменений и опишем данные в каждом столбце."
   ]
  },
  {
   "cell_type": "code",
   "execution_count": 6,
   "id": "9788d940",
   "metadata": {},
   "outputs": [
    {
     "data": {
      "text/plain": [
       "Index(['name', 'platform', 'year_of_release', 'genre', 'na_sales', 'eu_sales',\n",
       "       'jp_sales', 'other_sales', 'critic_score', 'user_score', 'rating'],\n",
       "      dtype='object')"
      ]
     },
     "execution_count": 6,
     "metadata": {},
     "output_type": "execute_result"
    }
   ],
   "source": [
    "df.columns"
   ]
  },
  {
   "cell_type": "markdown",
   "id": "a7716e28",
   "metadata": {},
   "source": [
    "Описание данных в столбцах:\n",
    "+ `name` — название игры\n",
    "+ `platform` — платформа\n",
    "+ `year_of_release` — год выпуска\n",
    "+ `genre` — жанр игры\n",
    "+ `na_sales` — продажи в Северной Америке (миллионы проданных копий)\n",
    "+ `eu_sales` — продажи в Европе (миллионы проданных копий)\n",
    "+ `jp_sales` — продажи в Японии (миллионы проданных копий)\n",
    "+ `other_sales` — продажи в других странах (миллионы проданных копий)\n",
    "+ `critic_score` — оценка критиков (максимум 100)\n",
    "+ `user_score` — оценка пользователей (максимум 10)\n",
    "+ `rating` — рейтинг от организации ESRB\n",
    "\n",
    "ESRB (Entertainment Software Rating Board) — это ассоциация, которая определяет рейтинг компьютерных игр и присваивает им подходящую возрастную категорию."
   ]
  },
  {
   "cell_type": "markdown",
   "id": "fd7e762e",
   "metadata": {},
   "source": [
    "<b>ИТОГО</b>\n",
    "1. Мы работаем с таблицей размером 16715 строк на 11 столбцов;\n",
    "2. Наш датафрейм занимает всего 1.4 Мб памяти;\n",
    "3. Количество значений в столбцах различается. Значит в данных есть пропущенные значения;\n",
    "4. Столбец `year_of_release` нужно привести из типа `float` к типу `int`, так как год релиза может быть только целым числом;\n",
    "5. Столбец `critic_score` имеет тип `float`, но похоже, что он хранит только целые значения оценок;\n",
    "6. При просмотре последних 10 строк таблицы `df` можно заметить значение `tbd` в столбце `user_score`. Это объясняет тип `object` для данных числового типа."
   ]
  },
  {
   "cell_type": "markdown",
   "id": "83ef149b",
   "metadata": {},
   "source": [
    "## Предобработка данных\n",
    "### Заполнение пропусков"
   ]
  },
  {
   "cell_type": "markdown",
   "id": "0b01535e",
   "metadata": {},
   "source": [
    "Посчитаем количество пропущенных значений в таблице `df`."
   ]
  },
  {
   "cell_type": "code",
   "execution_count": 7,
   "id": "69a2ac04",
   "metadata": {},
   "outputs": [
    {
     "data": {
      "text/plain": [
       "name                  2\n",
       "platform              0\n",
       "year_of_release     269\n",
       "genre                 2\n",
       "na_sales              0\n",
       "eu_sales              0\n",
       "jp_sales              0\n",
       "other_sales           0\n",
       "critic_score       8578\n",
       "user_score         6701\n",
       "rating             6766\n",
       "dtype: int64"
      ]
     },
     "execution_count": 7,
     "metadata": {},
     "output_type": "execute_result"
    }
   ],
   "source": [
    "df.isna().sum()"
   ]
  },
  {
   "cell_type": "markdown",
   "id": "a0196abf",
   "metadata": {},
   "source": [
    "Есть две игры без названия, ещё две без жанра и 269 без даты релиза. Если с именем ничего не сделать, то дату релиза и жанр по хорошему можно найти через поисковую систему по названию игры и внести эти данные вручную. Эти строки составляют всего 1,6% от общего объёма данных, поэтому просто удалим их."
   ]
  },
  {
   "cell_type": "code",
   "execution_count": 8,
   "id": "2ba023dd",
   "metadata": {},
   "outputs": [],
   "source": [
    "df = df.dropna(subset=['name', 'year_of_release', 'genre'])"
   ]
  },
  {
   "cell_type": "markdown",
   "id": "8d2e9483",
   "metadata": {},
   "source": [
    "+ **Рассмотрим столбец** `critic_score`\n",
    "\n",
    "В данном столбце пропущенно 51,3% ячеек. Заполнить их медианой или средним значением будет некорректно, так как каждая игра индивидуальна, поэтому оставим пропуски как есть. Также в обзоре данных упоминалось, что столбец `critic_score` имеет тип `float`, но похоже, что он хранит только целые значения оценок. Поскольку мы оставляем в столбце пропуски, то приведение к типу `int` не имеет смысла."
   ]
  },
  {
   "cell_type": "markdown",
   "id": "40e54e11",
   "metadata": {},
   "source": [
    "+ **Рассмотрим столбец** `user_score`\n",
    "\n",
    "В данном столбце пропущенно 40% ячеек. Ситуация с пропусками аналогична столбцу `critic_score`. Также в этом столбце присутствует значение `tbd` отличное от остальных численных значений. Поиск в интернете говорит, что это геймерская аббревиатура и расшифровывается как `To Be Determined (Будет определено)`. Очевидно, что пользователи так и не определились с оценками, поэтому заменим все эти значения пропусками. Также для справки посмотрим, сколько таких строк."
   ]
  },
  {
   "cell_type": "code",
   "execution_count": 9,
   "id": "6fe8f170",
   "metadata": {},
   "outputs": [
    {
     "data": {
      "text/plain": [
       "2376"
      ]
     },
     "execution_count": 9,
     "metadata": {},
     "output_type": "execute_result"
    }
   ],
   "source": [
    "len(df.loc[df['user_score']=='tbd'])"
   ]
  },
  {
   "cell_type": "markdown",
   "id": "bc4c6600",
   "metadata": {},
   "source": [
    "Значит после замены всех значений `tbd` доля пропусков в столбце `user_score` вырастет до 54,3%"
   ]
  },
  {
   "cell_type": "code",
   "execution_count": 10,
   "id": "a1350f87",
   "metadata": {},
   "outputs": [],
   "source": [
    "df['user_score'] = df['user_score'].replace('tbd', df['user_score'][1])"
   ]
  },
  {
   "cell_type": "markdown",
   "id": "8db17e59",
   "metadata": {},
   "source": [
    "+ **Рассмотрим столбец** `rating `"
   ]
  },
  {
   "cell_type": "markdown",
   "id": "f93a4c31",
   "metadata": {},
   "source": [
    "В данном столбце пропущенно 40,5% ячеек. Ситуация с пропусками аналогична столбцу `critic_score`. Для ясности посмотрим какие уникальные значения хранятся в данном столбце и опишем их."
   ]
  },
  {
   "cell_type": "code",
   "execution_count": 11,
   "id": "a7f5dbb1",
   "metadata": {},
   "outputs": [
    {
     "data": {
      "text/plain": [
       "array(['E', nan, 'M', 'T', 'E10+', 'K-A', 'AO', 'EC', 'RP'], dtype=object)"
      ]
     },
     "execution_count": 11,
     "metadata": {},
     "output_type": "execute_result"
    }
   ],
   "source": [
    "df['rating'].unique()"
   ]
  },
  {
   "cell_type": "markdown",
   "id": "5d30e3e5",
   "metadata": {},
   "source": [
    "Википедия говорит, что буквы рейтинга означают следующее:\n",
    "\n",
    "\n",
    "+ EC (Early childhood) — для детей младшего возраста (от 3 лет и старше)\n",
    "+ E (Everyone) — для всех\n",
    "+ E10+ (Everyone 10 and older) — для всех старше 10 лет\n",
    "+ T (Teen) — подросткам (от 13 лет)\n",
    "+ M (Mature) — для взрослых (от 17 лет)\n",
    "+ AO (Adults Only 18+) — только для взрослых (от 18 лет)\n",
    "+ RP (Rating Pending) — рейтинг ожидается (продукт был отправлен в ESRB и ожидает присвоения рейтинга)\n",
    "\n",
    "Из общей картины выбивается только значение «K-A». Опять же через поиск в интернете удалось найти, что до 1998 года так обозначались игры категории «для всех», а после категорию переименовали c «K-A» на «E». Проверим как часто встречаются значения каждого из рейтингов."
   ]
  },
  {
   "cell_type": "code",
   "execution_count": 12,
   "id": "3c871c8b",
   "metadata": {},
   "outputs": [
    {
     "data": {
      "text/plain": [
       "[['EC', 8],\n",
       " ['E', 3921],\n",
       " ['E10+', 1393],\n",
       " ['T', 2905],\n",
       " ['M', 1536],\n",
       " ['AO', 1],\n",
       " ['RP', 1],\n",
       " ['K-A', 3]]"
      ]
     },
     "execution_count": 12,
     "metadata": {},
     "output_type": "execute_result"
    }
   ],
   "source": [
    "check_the_quantity = []\n",
    "for i in ['EC', 'E', 'E10+', 'T', 'M', 'AO', 'RP', 'K-A']:\n",
    "    check_the_quantity.append([i, len(df.loc[df['rating'] == i])])\n",
    "check_the_quantity"
   ]
  },
  {
   "cell_type": "markdown",
   "id": "9b5fdd36",
   "metadata": {},
   "source": [
    "Строки с рейтингами EC, AO, RP и K-A составляют пренебрежимо малую долю в данных (0,08%). Удалим их."
   ]
  },
  {
   "cell_type": "code",
   "execution_count": 13,
   "id": "47cec153",
   "metadata": {},
   "outputs": [],
   "source": [
    "list_of_ratings = ['EC', 'AO', 'RP', 'K-A']\n",
    "df = df.query('rating not in @list_of_ratings')"
   ]
  },
  {
   "cell_type": "markdown",
   "id": "ba1f25fc",
   "metadata": {},
   "source": [
    "<b>ИТОГО</b> — объём пропусков во всех трёх столбцах с оценками и рейтингами колеблется в районе 50%. Самой очевидной причиной появления пропусков может быть низкая популярность игр."
   ]
  },
  {
   "cell_type": "markdown",
   "id": "88f0e901",
   "metadata": {},
   "source": [
    "### Изменение типов данных"
   ]
  },
  {
   "cell_type": "markdown",
   "id": "d0ef50f4",
   "metadata": {},
   "source": [
    "Изменять типы данных будем в следующих столбцах:\n",
    "+ Столбец `year_of_release` нужно привести из типа `float` к типу `int`, так как год релиза может быть только целым числом;\n",
    "+ Столбец `user_score` нужно привести из типа `object` к типу `float`, так как оценка это численное значение.\n",
    "\n",
    "Затем проверим типы данных всех столбцов после сделанных изменений"
   ]
  },
  {
   "cell_type": "code",
   "execution_count": 14,
   "id": "cbaf60a8",
   "metadata": {},
   "outputs": [
    {
     "data": {
      "text/plain": [
       "name                object\n",
       "platform            object\n",
       "year_of_release      int32\n",
       "genre               object\n",
       "na_sales           float64\n",
       "eu_sales           float64\n",
       "jp_sales           float64\n",
       "other_sales        float64\n",
       "critic_score       float64\n",
       "user_score         float64\n",
       "rating              object\n",
       "dtype: object"
      ]
     },
     "execution_count": 14,
     "metadata": {},
     "output_type": "execute_result"
    }
   ],
   "source": [
    "df['year_of_release'] = df['year_of_release'].astype('int')\n",
    "df['user_score'] = pd.to_numeric(df['user_score'])\n",
    "df.dtypes"
   ]
  },
  {
   "cell_type": "markdown",
   "id": "901a05c4",
   "metadata": {},
   "source": [
    "### Поиск явных дубликатов"
   ]
  },
  {
   "cell_type": "code",
   "execution_count": 15,
   "id": "d9dd618c",
   "metadata": {},
   "outputs": [
    {
     "data": {
      "text/plain": [
       "0"
      ]
     },
     "execution_count": 15,
     "metadata": {},
     "output_type": "execute_result"
    }
   ],
   "source": [
    "df.duplicated().sum()"
   ]
  },
  {
   "cell_type": "markdown",
   "id": "e979a8fc",
   "metadata": {},
   "source": [
    "### Добавление суммарных продаж по всем регионам"
   ]
  },
  {
   "cell_type": "markdown",
   "id": "66d045c5",
   "metadata": {},
   "source": [
    "Добавим в таблицу `df` столбец `total_sales`, в котором будет храниться сумма продаж во всех регионах по каждой игре. Выведем данные на экран."
   ]
  },
  {
   "cell_type": "code",
   "execution_count": 16,
   "id": "63a404e9",
   "metadata": {},
   "outputs": [
    {
     "data": {
      "text/html": [
       "<div>\n",
       "<style scoped>\n",
       "    .dataframe tbody tr th:only-of-type {\n",
       "        vertical-align: middle;\n",
       "    }\n",
       "\n",
       "    .dataframe tbody tr th {\n",
       "        vertical-align: top;\n",
       "    }\n",
       "\n",
       "    .dataframe thead th {\n",
       "        text-align: right;\n",
       "    }\n",
       "</style>\n",
       "<table border=\"1\" class=\"dataframe\">\n",
       "  <thead>\n",
       "    <tr style=\"text-align: right;\">\n",
       "      <th></th>\n",
       "      <th>name</th>\n",
       "      <th>platform</th>\n",
       "      <th>year_of_release</th>\n",
       "      <th>genre</th>\n",
       "      <th>na_sales</th>\n",
       "      <th>eu_sales</th>\n",
       "      <th>jp_sales</th>\n",
       "      <th>other_sales</th>\n",
       "      <th>critic_score</th>\n",
       "      <th>user_score</th>\n",
       "      <th>rating</th>\n",
       "      <th>total_sales</th>\n",
       "    </tr>\n",
       "  </thead>\n",
       "  <tbody>\n",
       "    <tr>\n",
       "      <th>0</th>\n",
       "      <td>Wii Sports</td>\n",
       "      <td>Wii</td>\n",
       "      <td>2006</td>\n",
       "      <td>Sports</td>\n",
       "      <td>41.36</td>\n",
       "      <td>28.96</td>\n",
       "      <td>3.77</td>\n",
       "      <td>8.45</td>\n",
       "      <td>76.0</td>\n",
       "      <td>8.0</td>\n",
       "      <td>E</td>\n",
       "      <td>82.54</td>\n",
       "    </tr>\n",
       "    <tr>\n",
       "      <th>1</th>\n",
       "      <td>Super Mario Bros.</td>\n",
       "      <td>NES</td>\n",
       "      <td>1985</td>\n",
       "      <td>Platform</td>\n",
       "      <td>29.08</td>\n",
       "      <td>3.58</td>\n",
       "      <td>6.81</td>\n",
       "      <td>0.77</td>\n",
       "      <td>NaN</td>\n",
       "      <td>NaN</td>\n",
       "      <td>NaN</td>\n",
       "      <td>40.24</td>\n",
       "    </tr>\n",
       "    <tr>\n",
       "      <th>2</th>\n",
       "      <td>Mario Kart Wii</td>\n",
       "      <td>Wii</td>\n",
       "      <td>2008</td>\n",
       "      <td>Racing</td>\n",
       "      <td>15.68</td>\n",
       "      <td>12.76</td>\n",
       "      <td>3.79</td>\n",
       "      <td>3.29</td>\n",
       "      <td>82.0</td>\n",
       "      <td>8.3</td>\n",
       "      <td>E</td>\n",
       "      <td>35.52</td>\n",
       "    </tr>\n",
       "    <tr>\n",
       "      <th>3</th>\n",
       "      <td>Wii Sports Resort</td>\n",
       "      <td>Wii</td>\n",
       "      <td>2009</td>\n",
       "      <td>Sports</td>\n",
       "      <td>15.61</td>\n",
       "      <td>10.93</td>\n",
       "      <td>3.28</td>\n",
       "      <td>2.95</td>\n",
       "      <td>80.0</td>\n",
       "      <td>8.0</td>\n",
       "      <td>E</td>\n",
       "      <td>32.77</td>\n",
       "    </tr>\n",
       "    <tr>\n",
       "      <th>4</th>\n",
       "      <td>Pokemon Red/Pokemon Blue</td>\n",
       "      <td>GB</td>\n",
       "      <td>1996</td>\n",
       "      <td>Role-Playing</td>\n",
       "      <td>11.27</td>\n",
       "      <td>8.89</td>\n",
       "      <td>10.22</td>\n",
       "      <td>1.00</td>\n",
       "      <td>NaN</td>\n",
       "      <td>NaN</td>\n",
       "      <td>NaN</td>\n",
       "      <td>31.38</td>\n",
       "    </tr>\n",
       "  </tbody>\n",
       "</table>\n",
       "</div>"
      ],
      "text/plain": [
       "                       name platform  year_of_release         genre  na_sales  \\\n",
       "0                Wii Sports      Wii             2006        Sports     41.36   \n",
       "1         Super Mario Bros.      NES             1985      Platform     29.08   \n",
       "2            Mario Kart Wii      Wii             2008        Racing     15.68   \n",
       "3         Wii Sports Resort      Wii             2009        Sports     15.61   \n",
       "4  Pokemon Red/Pokemon Blue       GB             1996  Role-Playing     11.27   \n",
       "\n",
       "   eu_sales  jp_sales  other_sales  critic_score  user_score rating  \\\n",
       "0     28.96      3.77         8.45          76.0         8.0      E   \n",
       "1      3.58      6.81         0.77           NaN         NaN    NaN   \n",
       "2     12.76      3.79         3.29          82.0         8.3      E   \n",
       "3     10.93      3.28         2.95          80.0         8.0      E   \n",
       "4      8.89     10.22         1.00           NaN         NaN    NaN   \n",
       "\n",
       "   total_sales  \n",
       "0        82.54  \n",
       "1        40.24  \n",
       "2        35.52  \n",
       "3        32.77  \n",
       "4        31.38  "
      ]
     },
     "execution_count": 16,
     "metadata": {},
     "output_type": "execute_result"
    }
   ],
   "source": [
    "df['total_sales'] = df['na_sales'] + df['eu_sales'] + df['jp_sales'] + df['other_sales']\n",
    "df.head()"
   ]
  },
  {
   "cell_type": "markdown",
   "id": "266c8ecc",
   "metadata": {},
   "source": [
    "## Анализ данных"
   ]
  },
  {
   "cell_type": "markdown",
   "id": "8c0b6f95",
   "metadata": {},
   "source": [
    "### Cколько игр выпускалось в разные годы"
   ]
  },
  {
   "cell_type": "markdown",
   "id": "251fe045",
   "metadata": {},
   "source": [
    "<b>Посмотрим сколько игр выпускалось в разные годы.</b> Сгруппируем данные по столбцу `year_of_release` и затем посчитаем количество игр за каждый год. Считать будем по столбцу `name`, но так как названия игр могут повторяться для разных платформ, то будем работать со срезом данных по уникальным именам. Выведем данные на экран используя `bar plot`."
   ]
  },
  {
   "cell_type": "code",
   "execution_count": 17,
   "id": "b151ecdd",
   "metadata": {},
   "outputs": [
    {
     "data": {
      "image/png": "[encoded data removed]",
      "text/plain": [
       "<Figure size 432x288 with 1 Axes>"
      ]
     },
     "metadata": {
      "needs_background": "light"
     },
     "output_type": "display_data"
    }
   ],
   "source": [
    "df[~df['name'].duplicated()].groupby('year_of_release')['name'].count().plot.bar()\n",
    "plt.title('Гистограмма количества выпущенных игр по годам')\n",
    "plt.xlabel('Год выпуска игр')\n",
    "plt.ylabel('Количество выпущенных игр')\n",
    "plt.show()"
   ]
  },
  {
   "cell_type": "markdown",
   "id": "1f38934a",
   "metadata": {},
   "source": [
    "Количество игр выпущенных в период с 1980 по 1994 крайне незначительно на общем фоне. Начиная с 2012 года количество выпускаемых ежегодно игр сократилось более чем в 2 раза."
   ]
  },
  {
   "cell_type": "markdown",
   "id": "b2ad14f8",
   "metadata": {},
   "source": [
    "### Продажи по платформам"
   ]
  },
  {
   "cell_type": "markdown",
   "id": "5c1bcd5e",
   "metadata": {},
   "source": [
    "<b>Посмотрим сколько продаж пришлось на каждую платформу.</b> Для этого создадим сводную таблицу с группировкой по платформам и для наглядности ещё выведем данные на экран используя `bar plot`."
   ]
  },
  {
   "cell_type": "code",
   "execution_count": 18,
   "id": "a2066a87",
   "metadata": {},
   "outputs": [
    {
     "data": {
      "text/html": [
       "<div>\n",
       "<style scoped>\n",
       "    .dataframe tbody tr th:only-of-type {\n",
       "        vertical-align: middle;\n",
       "    }\n",
       "\n",
       "    .dataframe tbody tr th {\n",
       "        vertical-align: top;\n",
       "    }\n",
       "\n",
       "    .dataframe thead th {\n",
       "        text-align: right;\n",
       "    }\n",
       "</style>\n",
       "<table border=\"1\" class=\"dataframe\">\n",
       "  <thead>\n",
       "    <tr style=\"text-align: right;\">\n",
       "      <th></th>\n",
       "      <th>platform</th>\n",
       "      <th>total_sales</th>\n",
       "    </tr>\n",
       "  </thead>\n",
       "  <tbody>\n",
       "    <tr>\n",
       "      <th>16</th>\n",
       "      <td>PS2</td>\n",
       "      <td>1233.32</td>\n",
       "    </tr>\n",
       "    <tr>\n",
       "      <th>28</th>\n",
       "      <td>X360</td>\n",
       "      <td>961.24</td>\n",
       "    </tr>\n",
       "    <tr>\n",
       "      <th>17</th>\n",
       "      <td>PS3</td>\n",
       "      <td>931.34</td>\n",
       "    </tr>\n",
       "    <tr>\n",
       "      <th>26</th>\n",
       "      <td>Wii</td>\n",
       "      <td>890.52</td>\n",
       "    </tr>\n",
       "    <tr>\n",
       "      <th>4</th>\n",
       "      <td>DS</td>\n",
       "      <td>802.13</td>\n",
       "    </tr>\n",
       "    <tr>\n",
       "      <th>15</th>\n",
       "      <td>PS</td>\n",
       "      <td>725.67</td>\n",
       "    </tr>\n",
       "    <tr>\n",
       "      <th>18</th>\n",
       "      <td>PS4</td>\n",
       "      <td>314.14</td>\n",
       "    </tr>\n",
       "    <tr>\n",
       "      <th>6</th>\n",
       "      <td>GBA</td>\n",
       "      <td>312.88</td>\n",
       "    </tr>\n",
       "    <tr>\n",
       "      <th>19</th>\n",
       "      <td>PSP</td>\n",
       "      <td>289.53</td>\n",
       "    </tr>\n",
       "    <tr>\n",
       "      <th>2</th>\n",
       "      <td>3DS</td>\n",
       "      <td>257.81</td>\n",
       "    </tr>\n",
       "    <tr>\n",
       "      <th>5</th>\n",
       "      <td>GB</td>\n",
       "      <td>254.43</td>\n",
       "    </tr>\n",
       "    <tr>\n",
       "      <th>13</th>\n",
       "      <td>PC</td>\n",
       "      <td>253.22</td>\n",
       "    </tr>\n",
       "    <tr>\n",
       "      <th>11</th>\n",
       "      <td>NES</td>\n",
       "      <td>251.05</td>\n",
       "    </tr>\n",
       "    <tr>\n",
       "      <th>29</th>\n",
       "      <td>XB</td>\n",
       "      <td>249.61</td>\n",
       "    </tr>\n",
       "    <tr>\n",
       "      <th>10</th>\n",
       "      <td>N64</td>\n",
       "      <td>218.01</td>\n",
       "    </tr>\n",
       "    <tr>\n",
       "      <th>23</th>\n",
       "      <td>SNES</td>\n",
       "      <td>200.04</td>\n",
       "    </tr>\n",
       "    <tr>\n",
       "      <th>7</th>\n",
       "      <td>GC</td>\n",
       "      <td>196.62</td>\n",
       "    </tr>\n",
       "    <tr>\n",
       "      <th>30</th>\n",
       "      <td>XOne</td>\n",
       "      <td>159.32</td>\n",
       "    </tr>\n",
       "    <tr>\n",
       "      <th>0</th>\n",
       "      <td>2600</td>\n",
       "      <td>86.48</td>\n",
       "    </tr>\n",
       "    <tr>\n",
       "      <th>27</th>\n",
       "      <td>WiiU</td>\n",
       "      <td>82.19</td>\n",
       "    </tr>\n",
       "    <tr>\n",
       "      <th>20</th>\n",
       "      <td>PSV</td>\n",
       "      <td>53.81</td>\n",
       "    </tr>\n",
       "    <tr>\n",
       "      <th>21</th>\n",
       "      <td>SAT</td>\n",
       "      <td>33.59</td>\n",
       "    </tr>\n",
       "    <tr>\n",
       "      <th>8</th>\n",
       "      <td>GEN</td>\n",
       "      <td>28.35</td>\n",
       "    </tr>\n",
       "    <tr>\n",
       "      <th>3</th>\n",
       "      <td>DC</td>\n",
       "      <td>15.95</td>\n",
       "    </tr>\n",
       "    <tr>\n",
       "      <th>22</th>\n",
       "      <td>SCD</td>\n",
       "      <td>1.86</td>\n",
       "    </tr>\n",
       "    <tr>\n",
       "      <th>12</th>\n",
       "      <td>NG</td>\n",
       "      <td>1.44</td>\n",
       "    </tr>\n",
       "    <tr>\n",
       "      <th>25</th>\n",
       "      <td>WS</td>\n",
       "      <td>1.42</td>\n",
       "    </tr>\n",
       "    <tr>\n",
       "      <th>24</th>\n",
       "      <td>TG16</td>\n",
       "      <td>0.16</td>\n",
       "    </tr>\n",
       "    <tr>\n",
       "      <th>1</th>\n",
       "      <td>3DO</td>\n",
       "      <td>0.10</td>\n",
       "    </tr>\n",
       "    <tr>\n",
       "      <th>9</th>\n",
       "      <td>GG</td>\n",
       "      <td>0.04</td>\n",
       "    </tr>\n",
       "    <tr>\n",
       "      <th>14</th>\n",
       "      <td>PCFX</td>\n",
       "      <td>0.03</td>\n",
       "    </tr>\n",
       "  </tbody>\n",
       "</table>\n",
       "</div>"
      ],
      "text/plain": [
       "   platform  total_sales\n",
       "16      PS2      1233.32\n",
       "28     X360       961.24\n",
       "17      PS3       931.34\n",
       "26      Wii       890.52\n",
       "4        DS       802.13\n",
       "15       PS       725.67\n",
       "18      PS4       314.14\n",
       "6       GBA       312.88\n",
       "19      PSP       289.53\n",
       "2       3DS       257.81\n",
       "5        GB       254.43\n",
       "13       PC       253.22\n",
       "11      NES       251.05\n",
       "29       XB       249.61\n",
       "10      N64       218.01\n",
       "23     SNES       200.04\n",
       "7        GC       196.62\n",
       "30     XOne       159.32\n",
       "0      2600        86.48\n",
       "27     WiiU        82.19\n",
       "20      PSV        53.81\n",
       "21      SAT        33.59\n",
       "8       GEN        28.35\n",
       "3        DC        15.95\n",
       "22      SCD         1.86\n",
       "12       NG         1.44\n",
       "25       WS         1.42\n",
       "24     TG16         0.16\n",
       "1       3DO         0.10\n",
       "9        GG         0.04\n",
       "14     PCFX         0.03"
      ]
     },
     "execution_count": 18,
     "metadata": {},
     "output_type": "execute_result"
    }
   ],
   "source": [
    "total_gradation_by_platform = df.pivot_table(index=['platform'], values=['total_sales'], aggfunc=['sum']).reset_index()\n",
    "total_gradation_by_platform.columns = ['platform', 'total_sales']\n",
    "total_gradation_by_platform.sort_values(by='total_sales', ascending = False)"
   ]
  },
  {
   "cell_type": "code",
   "execution_count": 19,
   "id": "88f116b6",
   "metadata": {},
   "outputs": [
    {
     "data": {
      "image/png": "[encoded data removed]",
      "text/plain": [
       "<Figure size 432x288 with 1 Axes>"
      ]
     },
     "metadata": {
      "needs_background": "light"
     },
     "output_type": "display_data"
    }
   ],
   "source": [
    "df.groupby('platform')['total_sales'].sum().plot.bar()\n",
    "plt.title('Продажи по платформам')\n",
    "plt.xlabel('Платформа')\n",
    "plt.ylabel('Всего продаж')\n",
    "plt.show()"
   ]
  },
  {
   "cell_type": "markdown",
   "id": "7189e07e",
   "metadata": {},
   "source": [
    "Из общей массы по объёму продаж выделяются шесть платформ: `DS, X360, Wii, PS, PS2, PS3`. Построим распределение продаж по годам для каждой из шести платформ и проанализируем, за какой характерный срок появляются новые и исчезают старые платформы."
   ]
  },
  {
   "cell_type": "code",
   "execution_count": 20,
   "id": "c9035b06",
   "metadata": {},
   "outputs": [
    {
     "data": {
      "image/png": "[encoded data removed]",
      "text/plain": [
       "<Figure size 432x288 with 1 Axes>"
      ]
     },
     "metadata": {
      "needs_background": "light"
     },
     "output_type": "display_data"
    }
   ],
   "source": [
    "# Распределение для платформы DS\n",
    "df.loc[df['platform'] == 'DS'].groupby('year_of_release')['total_sales'].sum().plot.bar()\n",
    "plt.title('Продажи на платформе DS по годам')\n",
    "plt.xlabel('Год')\n",
    "plt.ylabel('Продажи')\n",
    "plt.show()"
   ]
  },
  {
   "cell_type": "code",
   "execution_count": 21,
   "id": "260a27a8",
   "metadata": {},
   "outputs": [
    {
     "data": {
      "image/png": "[encoded data removed]",
      "text/plain": [
       "<Figure size 432x288 with 1 Axes>"
      ]
     },
     "metadata": {
      "needs_background": "light"
     },
     "output_type": "display_data"
    }
   ],
   "source": [
    "# Распределение для платформы X360\n",
    "df.loc[df['platform'] == 'X360'].groupby('year_of_release')['total_sales'].sum().plot.bar()\n",
    "plt.title('Продажи на платформе X360 по годам')\n",
    "plt.xlabel('Год')\n",
    "plt.ylabel('Продажи')\n",
    "plt.show()"
   ]
  },
  {
   "cell_type": "code",
   "execution_count": 22,
   "id": "3a89b54e",
   "metadata": {},
   "outputs": [
    {
     "data": {
      "image/png": "[encoded data removed]",
      "text/plain": [
       "<Figure size 432x288 with 1 Axes>"
      ]
     },
     "metadata": {
      "needs_background": "light"
     },
     "output_type": "display_data"
    }
   ],
   "source": [
    "# Распределение для платформы Wii\n",
    "df.loc[df['platform'] == 'Wii'].groupby('year_of_release')['total_sales'].sum().plot.bar()\n",
    "plt.title('Продажи на платформе Wii по годам')\n",
    "plt.xlabel('Год')\n",
    "plt.ylabel('Продажи')\n",
    "plt.show()"
   ]
  },
  {
   "cell_type": "code",
   "execution_count": 23,
   "id": "0001a86d",
   "metadata": {},
   "outputs": [
    {
     "data": {
      "image/png": "[encoded data removed]",
      "text/plain": [
       "<Figure size 432x288 with 1 Axes>"
      ]
     },
     "metadata": {
      "needs_background": "light"
     },
     "output_type": "display_data"
    }
   ],
   "source": [
    "# Распределение для платформы PS\n",
    "df.loc[df['platform'] == 'PS'].groupby('year_of_release')['total_sales'].sum().plot.bar()\n",
    "plt.title('Продажи на платформе PS по годам')\n",
    "plt.xlabel('Год')\n",
    "plt.ylabel('Продажи')\n",
    "plt.show()"
   ]
  },
  {
   "cell_type": "code",
   "execution_count": 24,
   "id": "bb4f8ad9",
   "metadata": {},
   "outputs": [
    {
     "data": {
      "image/png": "[encoded data removed]",
      "text/plain": [
       "<Figure size 432x288 with 1 Axes>"
      ]
     },
     "metadata": {
      "needs_background": "light"
     },
     "output_type": "display_data"
    }
   ],
   "source": [
    "# Распределение для платформы PS2\n",
    "df.loc[df['platform'] == 'PS2'].groupby('year_of_release')['total_sales'].sum().plot.bar()\n",
    "plt.title('Продажи на платформе PS2 по годам')\n",
    "plt.xlabel('Год')\n",
    "plt.ylabel('Продажи')\n",
    "plt.show()"
   ]
  },
  {
   "cell_type": "code",
   "execution_count": 25,
   "id": "390dd6a1",
   "metadata": {},
   "outputs": [
    {
     "data": {
      "image/png": "[encoded data removed]",
      "text/plain": [
       "<Figure size 432x288 with 1 Axes>"
      ]
     },
     "metadata": {
      "needs_background": "light"
     },
     "output_type": "display_data"
    }
   ],
   "source": [
    "# Распределение для платформы PS3\n",
    "df.loc[df['platform'] == 'PS3'].groupby('year_of_release')['total_sales'].sum().plot.bar()\n",
    "plt.title('Продажи на платформе PS3 по годам')\n",
    "plt.xlabel('Год')\n",
    "plt.ylabel('Продажи')\n",
    "plt.show()"
   ]
  },
  {
   "cell_type": "markdown",
   "id": "49cd8500",
   "metadata": {},
   "source": [
    "На основе полученных графиков можно сказать, что срок жизни платформы находится в диапазоне от 6 до 8 лет. Платформы становятся популярными почти сразу, а теряют популярность планомерно в течении нескольких лет."
   ]
  },
  {
   "cell_type": "markdown",
   "id": "0e31c0a7",
   "metadata": {},
   "source": [
    "### Актуальный период"
   ]
  },
  {
   "cell_type": "markdown",
   "id": "ca20b6b8",
   "metadata": {},
   "source": [
    "<b>Обозначим актуальный период и отбросим данные вне этого периода.</b> Будем отталкиваться от года, когда на рынок вышли последние поколения таких ведущих платформ как PlayStation, Xbox и Nintendo. Это будут PS4 в 2013, XOne в 2013 и WiiU в 2012. Таким образом обозначим актуальным, период с 2012 по 2016 год."
   ]
  },
  {
   "cell_type": "code",
   "execution_count": 26,
   "id": "fc8c1a31",
   "metadata": {},
   "outputs": [],
   "source": [
    "df = df.loc[df['year_of_release'] >= 2012]"
   ]
  },
  {
   "cell_type": "markdown",
   "id": "bcada7c0",
   "metadata": {},
   "source": [
    "### Выберем потенциально прибыльные платформы"
   ]
  },
  {
   "cell_type": "markdown",
   "id": "c5c26dc0",
   "metadata": {},
   "source": [
    "Посмотрим список платформ, которые остались в актуальном периоде."
   ]
  },
  {
   "cell_type": "code",
   "execution_count": 27,
   "id": "6957d4c5",
   "metadata": {},
   "outputs": [
    {
     "data": {
      "text/plain": [
       "array(['PS3', 'X360', 'PS4', '3DS', 'DS', 'XOne', 'WiiU', 'Wii', 'PC',\n",
       "       'PSV', 'PSP'], dtype=object)"
      ]
     },
     "execution_count": 27,
     "metadata": {},
     "output_type": "execute_result"
    }
   ],
   "source": [
    "df['platform'].unique()"
   ]
  },
  {
   "cell_type": "markdown",
   "id": "5e773ca9",
   "metadata": {},
   "source": [
    "Актуальными остались только персональные компьютеры и платформы от PlayStation, Microsoft и Nintendo. Построим линейный график общих продаж за каждый год для всех оставшихся платформ."
   ]
  },
  {
   "cell_type": "code",
   "execution_count": 28,
   "id": "8e2f144c",
   "metadata": {},
   "outputs": [
    {
     "data": {
      "image/png": "[encoded data removed]",
      "text/plain": [
       "<Figure size 1080x360 with 1 Axes>"
      ]
     },
     "metadata": {
      "needs_background": "light"
     },
     "output_type": "display_data"
    }
   ],
   "source": [
    "for i in df['platform'].unique():\n",
    "    df.loc[(df['platform'] == i)].groupby('year_of_release')['total_sales'].sum().plot(figsize=(15, 5), label=i)\n",
    "\n",
    "plt.title('Линейный график продаж по платформам')\n",
    "plt.xlabel('Год')\n",
    "plt.ylabel('Продажи')\n",
    "plt.legend()\n",
    "plt.show()"
   ]
  },
  {
   "cell_type": "markdown",
   "id": "177cec3d",
   "metadata": {},
   "source": [
    "Наблюдается общая тенденция на падение продаж по всем платформам. Из общей массы выделяются три платформы с наибольшими продажами в последние годы: PS4, XOne и 3DS. Будем считать их потенциально прибыльными для 2017 года."
   ]
  },
  {
   "cell_type": "markdown",
   "id": "25a6fa48",
   "metadata": {},
   "source": [
    "### Диаграмма размаха по глобальным продажам игр"
   ]
  },
  {
   "cell_type": "markdown",
   "id": "670eced7",
   "metadata": {},
   "source": [
    "Построим график «ящик с усами» (она же диаграмма размаха) по глобальным продажам игр в разбивке по всем платформам."
   ]
  },
  {
   "cell_type": "code",
   "execution_count": 29,
   "id": "4f0efaf8",
   "metadata": {},
   "outputs": [
    {
     "data": {
      "image/png": "[encoded data removed]",
      "text/plain": [
       "<Figure size 1080x360 with 1 Axes>"
      ]
     },
     "metadata": {
      "needs_background": "light"
     },
     "output_type": "display_data"
    }
   ],
   "source": [
    "df.boxplot(column=['total_sales'], by='platform', figsize=(15, 5))\n",
    "plt.title('Диаграмма размаха по глобальным продажам игр')\n",
    "plt.xlabel('Год')\n",
    "plt.ylabel('Продажи')\n",
    "plt.show()"
   ]
  },
  {
   "cell_type": "markdown",
   "id": "4c2f7d99",
   "metadata": {},
   "source": [
    "Из-за значительного количества выбросов, медианы у платформ трудно различимы. Построим дополнительный график, где будет отображена только нижняя часть `boxplot-ов`."
   ]
  },
  {
   "cell_type": "code",
   "execution_count": 30,
   "id": "8a2ef131",
   "metadata": {},
   "outputs": [
    {
     "data": {
      "image/png": "[encoded data removed]",
      "text/plain": [
       "<Figure size 1080x576 with 1 Axes>"
      ]
     },
     "metadata": {
      "needs_background": "light"
     },
     "output_type": "display_data"
    }
   ],
   "source": [
    "df.boxplot(column=['total_sales'], by='platform', figsize=(15, 8))\n",
    "plt.ylim(0, 1)\n",
    "plt.title('Диаграмма размаха по глобальным продажам игр')\n",
    "plt.xlabel('Год')\n",
    "plt.ylabel('Продажи')\n",
    "plt.show()"
   ]
  },
  {
   "cell_type": "markdown",
   "id": "805ee162",
   "metadata": {},
   "source": [
    "+ На всех платформах медианное значение продаж близко друг к другу и колеблется примерно в диапазоне от 0.05 до 0.3;\n",
    "+ У всех портативных консолей узкий межквартильный размах, а у стационарных игровых консолей широкий."
   ]
  },
  {
   "cell_type": "markdown",
   "id": "efee9633",
   "metadata": {},
   "source": [
    "### Влияние отзывов на продажи"
   ]
  },
  {
   "cell_type": "markdown",
   "id": "3f571a67",
   "metadata": {},
   "source": [
    "Посмотрим, как влияют на продажи оценки пользователей и критиков для платформ PS4, XOne, WiiU, 3DS и PC. Построим диаграммы рассеяния и посчитаем корреляцию между оценками и продажами."
   ]
  },
  {
   "cell_type": "markdown",
   "id": "268b5eee",
   "metadata": {},
   "source": [
    "+ <b>Влияние оценок пользователей на продажи</b>"
   ]
  },
  {
   "cell_type": "code",
   "execution_count": 31,
   "id": "cc746c72",
   "metadata": {},
   "outputs": [
    {
     "data": {
      "image/png": "[encoded data removed]",
      "text/plain": [
       "<Figure size 432x288 with 1 Axes>"
      ]
     },
     "metadata": {
      "needs_background": "light"
     },
     "output_type": "display_data"
    },
    {
     "data": {
      "image/png": "[encoded data removed]",
      "text/plain": [
       "<Figure size 432x288 with 1 Axes>"
      ]
     },
     "metadata": {
      "needs_background": "light"
     },
     "output_type": "display_data"
    },
    {
     "data": {
      "image/png": "[encoded data removed]",
      "text/plain": [
       "<Figure size 432x288 with 1 Axes>"
      ]
     },
     "metadata": {
      "needs_background": "light"
     },
     "output_type": "display_data"
    },
    {
     "data": {
      "image/png": "[encoded data removed]",
      "text/plain": [
       "<Figure size 432x288 with 1 Axes>"
      ]
     },
     "metadata": {
      "needs_background": "light"
     },
     "output_type": "display_data"
    },
    {
     "data": {
      "image/png": "[encoded data removed]",
      "text/plain": [
       "<Figure size 432x288 with 1 Axes>"
      ]
     },
     "metadata": {
      "needs_background": "light"
     },
     "output_type": "display_data"
    }
   ],
   "source": [
    "# Диаграммы рассеяния по влиянию оценок пользователей на продажи\n",
    "for i in ['PS4', 'XOne', 'WiiU', '3DS', 'PC']:\n",
    "    df.loc[df['platform'] == i].plot(x='user_score', y='total_sales', kind='scatter', alpha=0.5)\n",
    "    plt.title(f'Влияние оценок пользователей на продажи для платформы {i}')\n",
    "    plt.xlabel('Оценки пользователей')\n",
    "    plt.ylabel('Количество продаж')\n",
    "\n",
    "plt.show()"
   ]
  },
  {
   "cell_type": "code",
   "execution_count": 32,
   "id": "36fd678b",
   "metadata": {},
   "outputs": [
    {
     "data": {
      "text/plain": [
       "[['Для платформы PS4 корреляция равна — 0.03'],\n",
       " ['Для платформы XOne корреляция равна — 0.07'],\n",
       " ['Для платформы WiiU корреляция равна — 0.4'],\n",
       " ['Для платформы 3DS корреляция равна — 0.2'],\n",
       " ['Для платформы PC корреляция равна — 0.12']]"
      ]
     },
     "execution_count": 32,
     "metadata": {},
     "output_type": "execute_result"
    }
   ],
   "source": [
    "# Корреляция между продажами и оценками пользователей\n",
    "corr_user_list = []\n",
    "for i in ['PS4', 'XOne', 'WiiU', '3DS', 'PC']:\n",
    "    corr_user = df.loc[df['platform'] == i]['user_score'].corr(df['total_sales'])\n",
    "    corr_user_list.append([f'Для платформы {i} корреляция равна — {round(abs(corr_user), 2)}'])\n",
    "\n",
    "corr_user_list"
   ]
  },
  {
   "cell_type": "markdown",
   "id": "83afc129",
   "metadata": {},
   "source": [
    "<b>ИТОГО</b> — коэффициенты корреляции Пирсона говорят, что связь между оценками пользователей и продажами очень слабая. Только у платформы WiiU уровень связи ближе к средней. Диаграммы рассеяния подтверждают такой результат."
   ]
  },
  {
   "cell_type": "markdown",
   "id": "01fe100e",
   "metadata": {},
   "source": [
    "+ <b>Влияние оценок критиков на продажи</b>"
   ]
  },
  {
   "cell_type": "code",
   "execution_count": 33,
   "id": "bed7f7af",
   "metadata": {},
   "outputs": [
    {
     "data": {
      "image/png": "[encoded data removed]",
      "text/plain": [
       "<Figure size 432x288 with 1 Axes>"
      ]
     },
     "metadata": {
      "needs_background": "light"
     },
     "output_type": "display_data"
    },
    {
     "data": {
      "image/png": "[encoded data removed]",
      "text/plain": [
       "<Figure size 432x288 with 1 Axes>"
      ]
     },
     "metadata": {
      "needs_background": "light"
     },
     "output_type": "display_data"
    },
    {
     "data": {
      "image/png": "[encoded data removed]",
      "text/plain": [
       "<Figure size 432x288 with 1 Axes>"
      ]
     },
     "metadata": {
      "needs_background": "light"
     },
     "output_type": "display_data"
    },
    {
     "data": {
      "image/png": "[encoded data removed]",
      "text/plain": [
       "<Figure size 432x288 with 1 Axes>"
      ]
     },
     "metadata": {
      "needs_background": "light"
     },
     "output_type": "display_data"
    },
    {
     "data": {
      "image/png": "[encoded data removed]",
      "text/plain": [
       "<Figure size 432x288 with 1 Axes>"
      ]
     },
     "metadata": {
      "needs_background": "light"
     },
     "output_type": "display_data"
    }
   ],
   "source": [
    "# Диаграммы рассеяния по влиянию оценок критиков на продажи\n",
    "for i in ['PS4', 'XOne', 'WiiU', '3DS', 'PC']:\n",
    "    df.loc[df['platform'] == i].plot(x='critic_score', y='total_sales', kind='scatter', alpha=0.5)\n",
    "    plt.title(f'Влияние оценок критиков на продажи для платформы {i}')\n",
    "    plt.xlabel('Оценки критиков')\n",
    "    plt.ylabel('Количество продаж')\n",
    "\n",
    "plt.show()"
   ]
  },
  {
   "cell_type": "code",
   "execution_count": 34,
   "id": "9c5bbb44",
   "metadata": {},
   "outputs": [
    {
     "data": {
      "text/plain": [
       "[['Для платформы PS4 корреляция равна — 0.41'],\n",
       " ['Для платформы XOne корреляция равна — 0.42'],\n",
       " ['Для платформы WiiU корреляция равна — 0.35'],\n",
       " ['Для платформы 3DS корреляция равна — 0.32'],\n",
       " ['Для платформы PC корреляция равна — 0.24']]"
      ]
     },
     "execution_count": 34,
     "metadata": {},
     "output_type": "execute_result"
    }
   ],
   "source": [
    "# Корреляция между продажами и оценками критиков\n",
    "corr_critic_list = []\n",
    "for i in ['PS4', 'XOne', 'WiiU', '3DS', 'PC']:\n",
    "    corr_critic = df.loc[df['platform'] == i]['critic_score'].corr(df['total_sales'])\n",
    "    corr_critic_list.append([f'Для платформы {i} корреляция равна — {round(abs(corr_critic), 2)}'])\n",
    "\n",
    "corr_critic_list"
   ]
  },
  {
   "cell_type": "markdown",
   "id": "c7592da6",
   "metadata": {},
   "source": [
    "<b>ИТОГО</b> — коэффициенты корреляции Пирсона говорят, что связь между оценками критиков и продажами слабая. Для платформ PS4 и  XOne уровень связи тяготеет ближе к средней. Диаграммы рассеяния подтверждают такой результат и показывают, что большинство продаж и все игры с высокими показателями продаж имеют оценки критиков более 60/100."
   ]
  },
  {
   "cell_type": "markdown",
   "id": "a85edacb",
   "metadata": {},
   "source": [
    "### Распределение игр по жанрам"
   ]
  },
  {
   "cell_type": "markdown",
   "id": "21de68ae",
   "metadata": {},
   "source": [
    "<b>Посмотрим сколько продаж пришлось на каждый жанр.</b> Для этого создадим сводную таблицу с группировкой по жанрам и для наглядности выведем данные на экран используя `bar plot`."
   ]
  },
  {
   "cell_type": "code",
   "execution_count": 35,
   "id": "2da18737",
   "metadata": {},
   "outputs": [],
   "source": [
    "total_gradation_by_genre = df.pivot_table(index=['genre'], values=['total_sales'], aggfunc=['mean', 'median']).reset_index()\n",
    "total_gradation_by_genre.columns = ['genre', 'mean', 'median']"
   ]
  },
  {
   "cell_type": "markdown",
   "id": "47e06c47",
   "metadata": {},
   "source": [
    "+ Отсортируем сводную таблицу по среднему и построим `bar plot` по среднему."
   ]
  },
  {
   "cell_type": "code",
   "execution_count": 36,
   "id": "14846e5e",
   "metadata": {},
   "outputs": [
    {
     "data": {
      "text/html": [
       "<div>\n",
       "<style scoped>\n",
       "    .dataframe tbody tr th:only-of-type {\n",
       "        vertical-align: middle;\n",
       "    }\n",
       "\n",
       "    .dataframe tbody tr th {\n",
       "        vertical-align: top;\n",
       "    }\n",
       "\n",
       "    .dataframe thead th {\n",
       "        text-align: right;\n",
       "    }\n",
       "</style>\n",
       "<table border=\"1\" class=\"dataframe\">\n",
       "  <thead>\n",
       "    <tr style=\"text-align: right;\">\n",
       "      <th></th>\n",
       "      <th>genre</th>\n",
       "      <th>mean</th>\n",
       "    </tr>\n",
       "  </thead>\n",
       "  <tbody>\n",
       "    <tr>\n",
       "      <th>8</th>\n",
       "      <td>Shooter</td>\n",
       "      <td>1.296723</td>\n",
       "    </tr>\n",
       "    <tr>\n",
       "      <th>4</th>\n",
       "      <td>Platform</td>\n",
       "      <td>0.717647</td>\n",
       "    </tr>\n",
       "    <tr>\n",
       "      <th>10</th>\n",
       "      <td>Sports</td>\n",
       "      <td>0.675634</td>\n",
       "    </tr>\n",
       "    <tr>\n",
       "      <th>7</th>\n",
       "      <td>Role-Playing</td>\n",
       "      <td>0.521081</td>\n",
       "    </tr>\n",
       "    <tr>\n",
       "      <th>6</th>\n",
       "      <td>Racing</td>\n",
       "      <td>0.465217</td>\n",
       "    </tr>\n",
       "    <tr>\n",
       "      <th>3</th>\n",
       "      <td>Misc</td>\n",
       "      <td>0.442917</td>\n",
       "    </tr>\n",
       "    <tr>\n",
       "      <th>9</th>\n",
       "      <td>Simulation</td>\n",
       "      <td>0.439000</td>\n",
       "    </tr>\n",
       "    <tr>\n",
       "      <th>0</th>\n",
       "      <td>Action</td>\n",
       "      <td>0.427856</td>\n",
       "    </tr>\n",
       "    <tr>\n",
       "      <th>2</th>\n",
       "      <td>Fighting</td>\n",
       "      <td>0.408165</td>\n",
       "    </tr>\n",
       "    <tr>\n",
       "      <th>11</th>\n",
       "      <td>Strategy</td>\n",
       "      <td>0.187887</td>\n",
       "    </tr>\n",
       "    <tr>\n",
       "      <th>5</th>\n",
       "      <td>Puzzle</td>\n",
       "      <td>0.174643</td>\n",
       "    </tr>\n",
       "    <tr>\n",
       "      <th>1</th>\n",
       "      <td>Adventure</td>\n",
       "      <td>0.097450</td>\n",
       "    </tr>\n",
       "  </tbody>\n",
       "</table>\n",
       "</div>"
      ],
      "text/plain": [
       "           genre      mean\n",
       "8        Shooter  1.296723\n",
       "4       Platform  0.717647\n",
       "10        Sports  0.675634\n",
       "7   Role-Playing  0.521081\n",
       "6         Racing  0.465217\n",
       "3           Misc  0.442917\n",
       "9     Simulation  0.439000\n",
       "0         Action  0.427856\n",
       "2       Fighting  0.408165\n",
       "11      Strategy  0.187887\n",
       "5         Puzzle  0.174643\n",
       "1      Adventure  0.097450"
      ]
     },
     "execution_count": 36,
     "metadata": {},
     "output_type": "execute_result"
    }
   ],
   "source": [
    "total_gradation_by_genre.loc[:, ['genre', 'mean']].sort_values(by='mean', ascending = False)"
   ]
  },
  {
   "cell_type": "code",
   "execution_count": 37,
   "id": "6118a8f4",
   "metadata": {},
   "outputs": [
    {
     "data": {
      "image/png": "[encoded data removed]",
      "text/plain": [
       "<Figure size 720x360 with 1 Axes>"
      ]
     },
     "metadata": {
      "needs_background": "light"
     },
     "output_type": "display_data"
    }
   ],
   "source": [
    "df.groupby('genre')['total_sales'].mean().plot.bar(figsize=(10, 5))\n",
    "plt.title('Средние продажи по жанрам игр')\n",
    "plt.xlabel('Жанр игры')\n",
    "plt.ylabel('Средние продажи')\n",
    "plt.show()"
   ]
  },
  {
   "cell_type": "markdown",
   "id": "5d339760",
   "metadata": {},
   "source": [
    "+ Отсортируем сводную таблицу по медиане и построим `bar plot` по медиане."
   ]
  },
  {
   "cell_type": "code",
   "execution_count": 38,
   "id": "e0cdb4eb",
   "metadata": {},
   "outputs": [
    {
     "data": {
      "text/html": [
       "<div>\n",
       "<style scoped>\n",
       "    .dataframe tbody tr th:only-of-type {\n",
       "        vertical-align: middle;\n",
       "    }\n",
       "\n",
       "    .dataframe tbody tr th {\n",
       "        vertical-align: top;\n",
       "    }\n",
       "\n",
       "    .dataframe thead th {\n",
       "        text-align: right;\n",
       "    }\n",
       "</style>\n",
       "<table border=\"1\" class=\"dataframe\">\n",
       "  <thead>\n",
       "    <tr style=\"text-align: right;\">\n",
       "      <th></th>\n",
       "      <th>genre</th>\n",
       "      <th>median</th>\n",
       "    </tr>\n",
       "  </thead>\n",
       "  <tbody>\n",
       "    <tr>\n",
       "      <th>8</th>\n",
       "      <td>Shooter</td>\n",
       "      <td>0.440</td>\n",
       "    </tr>\n",
       "    <tr>\n",
       "      <th>10</th>\n",
       "      <td>Sports</td>\n",
       "      <td>0.240</td>\n",
       "    </tr>\n",
       "    <tr>\n",
       "      <th>4</th>\n",
       "      <td>Platform</td>\n",
       "      <td>0.210</td>\n",
       "    </tr>\n",
       "    <tr>\n",
       "      <th>7</th>\n",
       "      <td>Role-Playing</td>\n",
       "      <td>0.140</td>\n",
       "    </tr>\n",
       "    <tr>\n",
       "      <th>6</th>\n",
       "      <td>Racing</td>\n",
       "      <td>0.140</td>\n",
       "    </tr>\n",
       "    <tr>\n",
       "      <th>2</th>\n",
       "      <td>Fighting</td>\n",
       "      <td>0.130</td>\n",
       "    </tr>\n",
       "    <tr>\n",
       "      <th>0</th>\n",
       "      <td>Action</td>\n",
       "      <td>0.120</td>\n",
       "    </tr>\n",
       "    <tr>\n",
       "      <th>3</th>\n",
       "      <td>Misc</td>\n",
       "      <td>0.120</td>\n",
       "    </tr>\n",
       "    <tr>\n",
       "      <th>9</th>\n",
       "      <td>Simulation</td>\n",
       "      <td>0.120</td>\n",
       "    </tr>\n",
       "    <tr>\n",
       "      <th>11</th>\n",
       "      <td>Strategy</td>\n",
       "      <td>0.080</td>\n",
       "    </tr>\n",
       "    <tr>\n",
       "      <th>5</th>\n",
       "      <td>Puzzle</td>\n",
       "      <td>0.045</td>\n",
       "    </tr>\n",
       "    <tr>\n",
       "      <th>1</th>\n",
       "      <td>Adventure</td>\n",
       "      <td>0.030</td>\n",
       "    </tr>\n",
       "  </tbody>\n",
       "</table>\n",
       "</div>"
      ],
      "text/plain": [
       "           genre  median\n",
       "8        Shooter   0.440\n",
       "10        Sports   0.240\n",
       "4       Platform   0.210\n",
       "7   Role-Playing   0.140\n",
       "6         Racing   0.140\n",
       "2       Fighting   0.130\n",
       "0         Action   0.120\n",
       "3           Misc   0.120\n",
       "9     Simulation   0.120\n",
       "11      Strategy   0.080\n",
       "5         Puzzle   0.045\n",
       "1      Adventure   0.030"
      ]
     },
     "execution_count": 38,
     "metadata": {},
     "output_type": "execute_result"
    }
   ],
   "source": [
    "total_gradation_by_genre.loc[:, ['genre', 'median']].sort_values(by='median', ascending = False)"
   ]
  },
  {
   "cell_type": "code",
   "execution_count": 39,
   "id": "69b12a5f",
   "metadata": {},
   "outputs": [
    {
     "data": {
      "image/png": "[encoded data removed]",
      "text/plain": [
       "<Figure size 720x360 with 1 Axes>"
      ]
     },
     "metadata": {
      "needs_background": "light"
     },
     "output_type": "display_data"
    }
   ],
   "source": [
    "df.groupby('genre')['total_sales'].median().plot.bar(figsize=(10, 5))\n",
    "plt.title('Медианные продажи по жанрам игр')\n",
    "plt.xlabel('Жанр игры')\n",
    "plt.ylabel('Медианные продажи')\n",
    "plt.show()"
   ]
  },
  {
   "cell_type": "markdown",
   "id": "d4125ad5",
   "metadata": {},
   "source": [
    "<b>ИТОГО</b> — жанр Shooter лидирует по продажам почти с двухкратным отрывом. Рейтинг жанров по продажам практически идентичен как для среднего так и для медианного значения."
   ]
  },
  {
   "cell_type": "markdown",
   "id": "47598654",
   "metadata": {},
   "source": [
    "## Портрет пользователя каждого региона"
   ]
  },
  {
   "cell_type": "markdown",
   "id": "e76b7433",
   "metadata": {},
   "source": [
    "+ <b>Определим топ-5 самых популярных платформ</b> отдельно для Северной Америки, Европы и Японии. Создадим для этого сводную таблицу `top5_platform`."
   ]
  },
  {
   "cell_type": "code",
   "execution_count": 40,
   "id": "42169762",
   "metadata": {},
   "outputs": [],
   "source": [
    "top5_platform = df.pivot_table(index=['platform'], values=['na_sales', 'eu_sales', 'jp_sales'], aggfunc=['sum']).reset_index()\n",
    "top5_platform.columns = ['platform', 'eu_sales', 'jp_sales', 'na_sales']"
   ]
  },
  {
   "cell_type": "markdown",
   "id": "b90443d9",
   "metadata": {},
   "source": [
    "Теперь для каждого региона отдельно выведем первые 5 строк сводной таблицы `top5_platform` отсортированной по убыванию."
   ]
  },
  {
   "cell_type": "code",
   "execution_count": 41,
   "id": "6bf9ee5d",
   "metadata": {},
   "outputs": [
    {
     "data": {
      "text/html": [
       "<div>\n",
       "<style scoped>\n",
       "    .dataframe tbody tr th:only-of-type {\n",
       "        vertical-align: middle;\n",
       "    }\n",
       "\n",
       "    .dataframe tbody tr th {\n",
       "        vertical-align: top;\n",
       "    }\n",
       "\n",
       "    .dataframe thead th {\n",
       "        text-align: right;\n",
       "    }\n",
       "</style>\n",
       "<table border=\"1\" class=\"dataframe\">\n",
       "  <thead>\n",
       "    <tr style=\"text-align: right;\">\n",
       "      <th></th>\n",
       "      <th>platform</th>\n",
       "      <th>na_sales</th>\n",
       "    </tr>\n",
       "  </thead>\n",
       "  <tbody>\n",
       "    <tr>\n",
       "      <th>9</th>\n",
       "      <td>X360</td>\n",
       "      <td>140.05</td>\n",
       "    </tr>\n",
       "    <tr>\n",
       "      <th>4</th>\n",
       "      <td>PS4</td>\n",
       "      <td>108.74</td>\n",
       "    </tr>\n",
       "    <tr>\n",
       "      <th>3</th>\n",
       "      <td>PS3</td>\n",
       "      <td>103.38</td>\n",
       "    </tr>\n",
       "    <tr>\n",
       "      <th>10</th>\n",
       "      <td>XOne</td>\n",
       "      <td>93.12</td>\n",
       "    </tr>\n",
       "    <tr>\n",
       "      <th>0</th>\n",
       "      <td>3DS</td>\n",
       "      <td>55.31</td>\n",
       "    </tr>\n",
       "  </tbody>\n",
       "</table>\n",
       "</div>"
      ],
      "text/plain": [
       "   platform  na_sales\n",
       "9      X360    140.05\n",
       "4       PS4    108.74\n",
       "3       PS3    103.38\n",
       "10     XOne     93.12\n",
       "0       3DS     55.31"
      ]
     },
     "execution_count": 41,
     "metadata": {},
     "output_type": "execute_result"
    }
   ],
   "source": [
    "top5_platform.loc[:, ['platform', 'na_sales']].sort_values(by='na_sales', ascending = False).head()"
   ]
  },
  {
   "cell_type": "code",
   "execution_count": 42,
   "id": "14b9a251",
   "metadata": {},
   "outputs": [
    {
     "data": {
      "text/html": [
       "<div>\n",
       "<style scoped>\n",
       "    .dataframe tbody tr th:only-of-type {\n",
       "        vertical-align: middle;\n",
       "    }\n",
       "\n",
       "    .dataframe tbody tr th {\n",
       "        vertical-align: top;\n",
       "    }\n",
       "\n",
       "    .dataframe thead th {\n",
       "        text-align: right;\n",
       "    }\n",
       "</style>\n",
       "<table border=\"1\" class=\"dataframe\">\n",
       "  <thead>\n",
       "    <tr style=\"text-align: right;\">\n",
       "      <th></th>\n",
       "      <th>platform</th>\n",
       "      <th>eu_sales</th>\n",
       "    </tr>\n",
       "  </thead>\n",
       "  <tbody>\n",
       "    <tr>\n",
       "      <th>4</th>\n",
       "      <td>PS4</td>\n",
       "      <td>141.09</td>\n",
       "    </tr>\n",
       "    <tr>\n",
       "      <th>3</th>\n",
       "      <td>PS3</td>\n",
       "      <td>106.86</td>\n",
       "    </tr>\n",
       "    <tr>\n",
       "      <th>9</th>\n",
       "      <td>X360</td>\n",
       "      <td>74.52</td>\n",
       "    </tr>\n",
       "    <tr>\n",
       "      <th>10</th>\n",
       "      <td>XOne</td>\n",
       "      <td>51.59</td>\n",
       "    </tr>\n",
       "    <tr>\n",
       "      <th>0</th>\n",
       "      <td>3DS</td>\n",
       "      <td>42.64</td>\n",
       "    </tr>\n",
       "  </tbody>\n",
       "</table>\n",
       "</div>"
      ],
      "text/plain": [
       "   platform  eu_sales\n",
       "4       PS4    141.09\n",
       "3       PS3    106.86\n",
       "9      X360     74.52\n",
       "10     XOne     51.59\n",
       "0       3DS     42.64"
      ]
     },
     "execution_count": 42,
     "metadata": {},
     "output_type": "execute_result"
    }
   ],
   "source": [
    "top5_platform.loc[:, ['platform', 'eu_sales']].sort_values(by='eu_sales', ascending = False).head()"
   ]
  },
  {
   "cell_type": "code",
   "execution_count": 43,
   "id": "42d18b3f",
   "metadata": {},
   "outputs": [
    {
     "data": {
      "text/html": [
       "<div>\n",
       "<style scoped>\n",
       "    .dataframe tbody tr th:only-of-type {\n",
       "        vertical-align: middle;\n",
       "    }\n",
       "\n",
       "    .dataframe tbody tr th {\n",
       "        vertical-align: top;\n",
       "    }\n",
       "\n",
       "    .dataframe thead th {\n",
       "        text-align: right;\n",
       "    }\n",
       "</style>\n",
       "<table border=\"1\" class=\"dataframe\">\n",
       "  <thead>\n",
       "    <tr style=\"text-align: right;\">\n",
       "      <th></th>\n",
       "      <th>platform</th>\n",
       "      <th>jp_sales</th>\n",
       "    </tr>\n",
       "  </thead>\n",
       "  <tbody>\n",
       "    <tr>\n",
       "      <th>0</th>\n",
       "      <td>3DS</td>\n",
       "      <td>87.79</td>\n",
       "    </tr>\n",
       "    <tr>\n",
       "      <th>3</th>\n",
       "      <td>PS3</td>\n",
       "      <td>35.29</td>\n",
       "    </tr>\n",
       "    <tr>\n",
       "      <th>6</th>\n",
       "      <td>PSV</td>\n",
       "      <td>21.04</td>\n",
       "    </tr>\n",
       "    <tr>\n",
       "      <th>4</th>\n",
       "      <td>PS4</td>\n",
       "      <td>15.96</td>\n",
       "    </tr>\n",
       "    <tr>\n",
       "      <th>8</th>\n",
       "      <td>WiiU</td>\n",
       "      <td>13.01</td>\n",
       "    </tr>\n",
       "  </tbody>\n",
       "</table>\n",
       "</div>"
      ],
      "text/plain": [
       "  platform  jp_sales\n",
       "0      3DS     87.79\n",
       "3      PS3     35.29\n",
       "6      PSV     21.04\n",
       "4      PS4     15.96\n",
       "8     WiiU     13.01"
      ]
     },
     "execution_count": 43,
     "metadata": {},
     "output_type": "execute_result"
    }
   ],
   "source": [
    "top5_platform.loc[:, ['platform', 'jp_sales']].sort_values(by='jp_sales', ascending = False).head()"
   ]
  },
  {
   "cell_type": "markdown",
   "id": "20a5134f",
   "metadata": {},
   "source": [
    "<b>ИТОГО</b> — в Европе PlayStation популярнее чем Xbox, а в Северной Америке наоборот. В Японии вообще на портативных консолях играют больше, чем на всех топ-5 стационарных консолях вместе взятых."
   ]
  },
  {
   "cell_type": "markdown",
   "id": "4bfaab87",
   "metadata": {},
   "source": [
    "+ <b>Определим топ-5 самых популярных жанров</b> отдельно для Северной Америки, Европы и Японии. Создадим для этого сводную таблицу `top5_genre`."
   ]
  },
  {
   "cell_type": "code",
   "execution_count": 44,
   "id": "1c71a926",
   "metadata": {},
   "outputs": [],
   "source": [
    "top5_genre = df.pivot_table(index=['genre'], values=['na_sales', 'eu_sales', 'jp_sales'], aggfunc=['sum']).reset_index()\n",
    "top5_genre.columns = ['genre', 'eu_sales', 'jp_sales', 'na_sales']"
   ]
  },
  {
   "cell_type": "markdown",
   "id": "62b17f61",
   "metadata": {},
   "source": [
    "Теперь для каждого региона отдельно выведем первые 5 строк сводной таблицы `top5_genre` отсортированной по убыванию."
   ]
  },
  {
   "cell_type": "code",
   "execution_count": 45,
   "id": "6931ef5d",
   "metadata": {},
   "outputs": [
    {
     "data": {
      "text/html": [
       "<div>\n",
       "<style scoped>\n",
       "    .dataframe tbody tr th:only-of-type {\n",
       "        vertical-align: middle;\n",
       "    }\n",
       "\n",
       "    .dataframe tbody tr th {\n",
       "        vertical-align: top;\n",
       "    }\n",
       "\n",
       "    .dataframe thead th {\n",
       "        text-align: right;\n",
       "    }\n",
       "</style>\n",
       "<table border=\"1\" class=\"dataframe\">\n",
       "  <thead>\n",
       "    <tr style=\"text-align: right;\">\n",
       "      <th></th>\n",
       "      <th>genre</th>\n",
       "      <th>na_sales</th>\n",
       "    </tr>\n",
       "  </thead>\n",
       "  <tbody>\n",
       "    <tr>\n",
       "      <th>0</th>\n",
       "      <td>Action</td>\n",
       "      <td>177.84</td>\n",
       "    </tr>\n",
       "    <tr>\n",
       "      <th>8</th>\n",
       "      <td>Shooter</td>\n",
       "      <td>144.77</td>\n",
       "    </tr>\n",
       "    <tr>\n",
       "      <th>10</th>\n",
       "      <td>Sports</td>\n",
       "      <td>81.53</td>\n",
       "    </tr>\n",
       "    <tr>\n",
       "      <th>7</th>\n",
       "      <td>Role-Playing</td>\n",
       "      <td>64.00</td>\n",
       "    </tr>\n",
       "    <tr>\n",
       "      <th>3</th>\n",
       "      <td>Misc</td>\n",
       "      <td>38.19</td>\n",
       "    </tr>\n",
       "  </tbody>\n",
       "</table>\n",
       "</div>"
      ],
      "text/plain": [
       "           genre  na_sales\n",
       "0         Action    177.84\n",
       "8        Shooter    144.77\n",
       "10        Sports     81.53\n",
       "7   Role-Playing     64.00\n",
       "3           Misc     38.19"
      ]
     },
     "execution_count": 45,
     "metadata": {},
     "output_type": "execute_result"
    }
   ],
   "source": [
    "top5_genre.loc[:, ['genre', 'na_sales']].sort_values(by='na_sales', ascending = False).head()"
   ]
  },
  {
   "cell_type": "code",
   "execution_count": 46,
   "id": "97e1d76a",
   "metadata": {},
   "outputs": [
    {
     "data": {
      "text/html": [
       "<div>\n",
       "<style scoped>\n",
       "    .dataframe tbody tr th:only-of-type {\n",
       "        vertical-align: middle;\n",
       "    }\n",
       "\n",
       "    .dataframe tbody tr th {\n",
       "        vertical-align: top;\n",
       "    }\n",
       "\n",
       "    .dataframe thead th {\n",
       "        text-align: right;\n",
       "    }\n",
       "</style>\n",
       "<table border=\"1\" class=\"dataframe\">\n",
       "  <thead>\n",
       "    <tr style=\"text-align: right;\">\n",
       "      <th></th>\n",
       "      <th>genre</th>\n",
       "      <th>eu_sales</th>\n",
       "    </tr>\n",
       "  </thead>\n",
       "  <tbody>\n",
       "    <tr>\n",
       "      <th>0</th>\n",
       "      <td>Action</td>\n",
       "      <td>159.34</td>\n",
       "    </tr>\n",
       "    <tr>\n",
       "      <th>8</th>\n",
       "      <td>Shooter</td>\n",
       "      <td>113.47</td>\n",
       "    </tr>\n",
       "    <tr>\n",
       "      <th>10</th>\n",
       "      <td>Sports</td>\n",
       "      <td>69.09</td>\n",
       "    </tr>\n",
       "    <tr>\n",
       "      <th>7</th>\n",
       "      <td>Role-Playing</td>\n",
       "      <td>48.53</td>\n",
       "    </tr>\n",
       "    <tr>\n",
       "      <th>6</th>\n",
       "      <td>Racing</td>\n",
       "      <td>27.29</td>\n",
       "    </tr>\n",
       "  </tbody>\n",
       "</table>\n",
       "</div>"
      ],
      "text/plain": [
       "           genre  eu_sales\n",
       "0         Action    159.34\n",
       "8        Shooter    113.47\n",
       "10        Sports     69.09\n",
       "7   Role-Playing     48.53\n",
       "6         Racing     27.29"
      ]
     },
     "execution_count": 46,
     "metadata": {},
     "output_type": "execute_result"
    }
   ],
   "source": [
    "top5_genre.loc[:, ['genre', 'eu_sales']].sort_values(by='eu_sales', ascending = False).head()"
   ]
  },
  {
   "cell_type": "code",
   "execution_count": 47,
   "id": "028ed037",
   "metadata": {},
   "outputs": [
    {
     "data": {
      "text/html": [
       "<div>\n",
       "<style scoped>\n",
       "    .dataframe tbody tr th:only-of-type {\n",
       "        vertical-align: middle;\n",
       "    }\n",
       "\n",
       "    .dataframe tbody tr th {\n",
       "        vertical-align: top;\n",
       "    }\n",
       "\n",
       "    .dataframe thead th {\n",
       "        text-align: right;\n",
       "    }\n",
       "</style>\n",
       "<table border=\"1\" class=\"dataframe\">\n",
       "  <thead>\n",
       "    <tr style=\"text-align: right;\">\n",
       "      <th></th>\n",
       "      <th>genre</th>\n",
       "      <th>jp_sales</th>\n",
       "    </tr>\n",
       "  </thead>\n",
       "  <tbody>\n",
       "    <tr>\n",
       "      <th>7</th>\n",
       "      <td>Role-Playing</td>\n",
       "      <td>65.44</td>\n",
       "    </tr>\n",
       "    <tr>\n",
       "      <th>0</th>\n",
       "      <td>Action</td>\n",
       "      <td>52.80</td>\n",
       "    </tr>\n",
       "    <tr>\n",
       "      <th>3</th>\n",
       "      <td>Misc</td>\n",
       "      <td>12.86</td>\n",
       "    </tr>\n",
       "    <tr>\n",
       "      <th>9</th>\n",
       "      <td>Simulation</td>\n",
       "      <td>10.41</td>\n",
       "    </tr>\n",
       "    <tr>\n",
       "      <th>2</th>\n",
       "      <td>Fighting</td>\n",
       "      <td>9.44</td>\n",
       "    </tr>\n",
       "  </tbody>\n",
       "</table>\n",
       "</div>"
      ],
      "text/plain": [
       "          genre  jp_sales\n",
       "7  Role-Playing     65.44\n",
       "0        Action     52.80\n",
       "3          Misc     12.86\n",
       "9    Simulation     10.41\n",
       "2      Fighting      9.44"
      ]
     },
     "execution_count": 47,
     "metadata": {},
     "output_type": "execute_result"
    }
   ],
   "source": [
    "top5_genre.loc[:, ['genre', 'jp_sales']].sort_values(by='jp_sales', ascending = False).head()"
   ]
  },
  {
   "cell_type": "markdown",
   "id": "2c00c3da",
   "metadata": {},
   "source": [
    "<b>ИТОГО</b> — в Северной Америке и Европе популярны игры почти одинаковых жанров. В Японии большинство играет только в ролевые игры и экшены."
   ]
  },
  {
   "cell_type": "markdown",
   "id": "dd4490ee",
   "metadata": {},
   "source": [
    "+ <b>Проверим влияет ли рейтинг ESRB</b> на продажи в каждом из регионов. Для этого создадим сводную таблицу `esrb_and_sales`. Также, чтобы учесть игры без рейтинга, перед созданием сводной таблицы заменим все пропуски столбца `rating` таблицы `df` значением `'no rating'`."
   ]
  },
  {
   "cell_type": "code",
   "execution_count": 48,
   "id": "88e52b5e",
   "metadata": {},
   "outputs": [],
   "source": [
    "df['rating'] = df['rating'].fillna('no rating')\n",
    "esrb_and_sales = df.pivot_table(index=['rating'], values=['na_sales', 'eu_sales', 'jp_sales'], aggfunc=['sum']).reset_index()\n",
    "esrb_and_sales.columns = ['rating', 'eu_sales', 'jp_sales', 'na_sales']"
   ]
  },
  {
   "cell_type": "markdown",
   "id": "6dca6b18",
   "metadata": {},
   "source": [
    "Теперь для каждого региона отдельно выведем сводную таблицу `esrb_and_sales` отсортированную по убыванию."
   ]
  },
  {
   "cell_type": "code",
   "execution_count": 49,
   "id": "0a8bd72a",
   "metadata": {},
   "outputs": [
    {
     "data": {
      "text/html": [
       "<div>\n",
       "<style scoped>\n",
       "    .dataframe tbody tr th:only-of-type {\n",
       "        vertical-align: middle;\n",
       "    }\n",
       "\n",
       "    .dataframe tbody tr th {\n",
       "        vertical-align: top;\n",
       "    }\n",
       "\n",
       "    .dataframe thead th {\n",
       "        text-align: right;\n",
       "    }\n",
       "</style>\n",
       "<table border=\"1\" class=\"dataframe\">\n",
       "  <thead>\n",
       "    <tr style=\"text-align: right;\">\n",
       "      <th></th>\n",
       "      <th>rating</th>\n",
       "      <th>na_sales</th>\n",
       "    </tr>\n",
       "  </thead>\n",
       "  <tbody>\n",
       "    <tr>\n",
       "      <th>2</th>\n",
       "      <td>M</td>\n",
       "      <td>231.57</td>\n",
       "    </tr>\n",
       "    <tr>\n",
       "      <th>0</th>\n",
       "      <td>E</td>\n",
       "      <td>114.37</td>\n",
       "    </tr>\n",
       "    <tr>\n",
       "      <th>4</th>\n",
       "      <td>no rating</td>\n",
       "      <td>103.31</td>\n",
       "    </tr>\n",
       "    <tr>\n",
       "      <th>1</th>\n",
       "      <td>E10+</td>\n",
       "      <td>75.70</td>\n",
       "    </tr>\n",
       "    <tr>\n",
       "      <th>3</th>\n",
       "      <td>T</td>\n",
       "      <td>66.02</td>\n",
       "    </tr>\n",
       "  </tbody>\n",
       "</table>\n",
       "</div>"
      ],
      "text/plain": [
       "      rating  na_sales\n",
       "2          M    231.57\n",
       "0          E    114.37\n",
       "4  no rating    103.31\n",
       "1       E10+     75.70\n",
       "3          T     66.02"
      ]
     },
     "execution_count": 49,
     "metadata": {},
     "output_type": "execute_result"
    }
   ],
   "source": [
    "esrb_and_sales.loc[:, ['rating', 'na_sales']].sort_values(by='na_sales', ascending = False)"
   ]
  },
  {
   "cell_type": "code",
   "execution_count": 50,
   "id": "1f1d892c",
   "metadata": {},
   "outputs": [
    {
     "data": {
      "text/html": [
       "<div>\n",
       "<style scoped>\n",
       "    .dataframe tbody tr th:only-of-type {\n",
       "        vertical-align: middle;\n",
       "    }\n",
       "\n",
       "    .dataframe tbody tr th {\n",
       "        vertical-align: top;\n",
       "    }\n",
       "\n",
       "    .dataframe thead th {\n",
       "        text-align: right;\n",
       "    }\n",
       "</style>\n",
       "<table border=\"1\" class=\"dataframe\">\n",
       "  <thead>\n",
       "    <tr style=\"text-align: right;\">\n",
       "      <th></th>\n",
       "      <th>rating</th>\n",
       "      <th>eu_sales</th>\n",
       "    </tr>\n",
       "  </thead>\n",
       "  <tbody>\n",
       "    <tr>\n",
       "      <th>2</th>\n",
       "      <td>M</td>\n",
       "      <td>193.96</td>\n",
       "    </tr>\n",
       "    <tr>\n",
       "      <th>0</th>\n",
       "      <td>E</td>\n",
       "      <td>113.03</td>\n",
       "    </tr>\n",
       "    <tr>\n",
       "      <th>4</th>\n",
       "      <td>no rating</td>\n",
       "      <td>91.50</td>\n",
       "    </tr>\n",
       "    <tr>\n",
       "      <th>1</th>\n",
       "      <td>E10+</td>\n",
       "      <td>55.37</td>\n",
       "    </tr>\n",
       "    <tr>\n",
       "      <th>3</th>\n",
       "      <td>T</td>\n",
       "      <td>52.96</td>\n",
       "    </tr>\n",
       "  </tbody>\n",
       "</table>\n",
       "</div>"
      ],
      "text/plain": [
       "      rating  eu_sales\n",
       "2          M    193.96\n",
       "0          E    113.03\n",
       "4  no rating     91.50\n",
       "1       E10+     55.37\n",
       "3          T     52.96"
      ]
     },
     "execution_count": 50,
     "metadata": {},
     "output_type": "execute_result"
    }
   ],
   "source": [
    "esrb_and_sales.loc[:, ['rating', 'eu_sales']].sort_values(by='eu_sales', ascending = False)"
   ]
  },
  {
   "cell_type": "code",
   "execution_count": 51,
   "id": "3c406d0a",
   "metadata": {},
   "outputs": [
    {
     "data": {
      "text/html": [
       "<div>\n",
       "<style scoped>\n",
       "    .dataframe tbody tr th:only-of-type {\n",
       "        vertical-align: middle;\n",
       "    }\n",
       "\n",
       "    .dataframe tbody tr th {\n",
       "        vertical-align: top;\n",
       "    }\n",
       "\n",
       "    .dataframe thead th {\n",
       "        text-align: right;\n",
       "    }\n",
       "</style>\n",
       "<table border=\"1\" class=\"dataframe\">\n",
       "  <thead>\n",
       "    <tr style=\"text-align: right;\">\n",
       "      <th></th>\n",
       "      <th>rating</th>\n",
       "      <th>jp_sales</th>\n",
       "    </tr>\n",
       "  </thead>\n",
       "  <tbody>\n",
       "    <tr>\n",
       "      <th>4</th>\n",
       "      <td>no rating</td>\n",
       "      <td>108.84</td>\n",
       "    </tr>\n",
       "    <tr>\n",
       "      <th>0</th>\n",
       "      <td>E</td>\n",
       "      <td>28.33</td>\n",
       "    </tr>\n",
       "    <tr>\n",
       "      <th>3</th>\n",
       "      <td>T</td>\n",
       "      <td>26.02</td>\n",
       "    </tr>\n",
       "    <tr>\n",
       "      <th>2</th>\n",
       "      <td>M</td>\n",
       "      <td>21.20</td>\n",
       "    </tr>\n",
       "    <tr>\n",
       "      <th>1</th>\n",
       "      <td>E10+</td>\n",
       "      <td>8.19</td>\n",
       "    </tr>\n",
       "  </tbody>\n",
       "</table>\n",
       "</div>"
      ],
      "text/plain": [
       "      rating  jp_sales\n",
       "4  no rating    108.84\n",
       "0          E     28.33\n",
       "3          T     26.02\n",
       "2          M     21.20\n",
       "1       E10+      8.19"
      ]
     },
     "execution_count": 51,
     "metadata": {},
     "output_type": "execute_result"
    }
   ],
   "source": [
    "esrb_and_sales.loc[:, ['rating', 'jp_sales']].sort_values(by='jp_sales', ascending = False)"
   ]
  },
  {
   "cell_type": "markdown",
   "id": "f4b360f6",
   "metadata": {},
   "source": [
    "<b>ИТОГО</b> — в Северной Америке и Европе ситуация с возрастными рейтингами тоже одинаковая. В Японии играют в игры без возрастного рейтинга ESRB больше, чем во все остальные вместе взятые. У них действует своя система рейтингов CERO."
   ]
  },
  {
   "cell_type": "markdown",
   "id": "f1beb373",
   "metadata": {},
   "source": [
    "## Проверка гипотез"
   ]
  },
  {
   "cell_type": "markdown",
   "id": "c055175c",
   "metadata": {},
   "source": [
    "Необходимо проверить следующие гипотезы:\n",
    "+ Средние пользовательские рейтинги платформ Xbox One и PC одинаковые;\n",
    "+ Средние пользовательские рейтинги жанров Action и Sports разные."
   ]
  },
  {
   "cell_type": "markdown",
   "id": "e59cab4d",
   "metadata": {},
   "source": [
    "### Гипотеза №1"
   ]
  },
  {
   "cell_type": "markdown",
   "id": "fd2b947d",
   "metadata": {},
   "source": [
    "Сформулируем нулевую гипотезу и противоположную ей по смыслу альтернативную гипотезу.\n",
    "+ <b>Нулевая гипотеза</b> — cредние пользовательские рейтинги платформ Xbox One и PC равны;\n",
    "+ <b>Альтернативная гипотеза</b> — cредние пользовательские рейтинги платформ Xbox One и PC не равны.\n",
    "\n",
    "Примем пороговое значение `alpha = 0.05` и используем метод `st.ttest_ind()` для проверки нулевой гипотезы."
   ]
  },
  {
   "cell_type": "code",
   "execution_count": 52,
   "id": "b5931b4d",
   "metadata": {},
   "outputs": [
    {
     "name": "stdout",
     "output_type": "stream",
     "text": [
      "p-значение: 0.5535080500643661\n",
      "Не получилось отвергнуть нулевую гипотезу\n"
     ]
    }
   ],
   "source": [
    "alpha = 0.05\n",
    "results = st.ttest_ind(\n",
    "    df.loc[df['platform'] == 'XOne']['user_score'].dropna(),\n",
    "    df.loc[df['platform'] == 'PC']['user_score'].dropna()\n",
    "                  )\n",
    "print('p-значение:', results.pvalue)\n",
    "\n",
    "if results.pvalue < alpha:\n",
    "    print('Отвергаем нулевую гипотезу')\n",
    "else:\n",
    "    print('Не получилось отвергнуть нулевую гипотезу')"
   ]
  },
  {
   "cell_type": "markdown",
   "id": "cfb4ceea",
   "metadata": {},
   "source": [
    "<b>Вывод:</b> мы не можем отвергнуть гипотезу о том, что cредние пользовательские рейтинги платформ Xbox One и PC равны."
   ]
  },
  {
   "cell_type": "markdown",
   "id": "156c7871",
   "metadata": {},
   "source": [
    "### Гипотеза №2"
   ]
  },
  {
   "cell_type": "markdown",
   "id": "ca677783",
   "metadata": {},
   "source": [
    "Сформулируем нулевую гипотезу и противоположную ей по смыслу альтернативную гипотезу.\n",
    "+ <b>Нулевая гипотеза</b> — средние пользовательские рейтинги жанров Action и Sports равны.\n",
    "+ <b>Альтернативная гипотеза</b> — средние пользовательские рейтинги жанров Action и Sports не равны.\n",
    "\n",
    "\n",
    "Примем пороговое значение `alpha = 0.05` и используем метод `st.ttest_ind()` для проверки нулевой гипотезы."
   ]
  },
  {
   "cell_type": "code",
   "execution_count": 53,
   "id": "375b7ddd",
   "metadata": {},
   "outputs": [
    {
     "name": "stdout",
     "output_type": "stream",
     "text": [
      "p-значение: 3.7163089460934874e-26\n",
      "Отвергаем нулевую гипотезу\n"
     ]
    }
   ],
   "source": [
    "alpha = 0.05\n",
    "results = st.ttest_ind(\n",
    "    df.loc[df['genre'] == 'Action']['user_score'].dropna(),\n",
    "    df.loc[df['genre'] == 'Sports']['user_score'].dropna()\n",
    "                  )\n",
    "print('p-значение:', results.pvalue)\n",
    "\n",
    "if results.pvalue < alpha:\n",
    "    print('Отвергаем нулевую гипотезу')\n",
    "else:\n",
    "    print('Не получилось отвергнуть нулевую гипотезу')"
   ]
  },
  {
   "cell_type": "markdown",
   "id": "cd716b7b",
   "metadata": {},
   "source": [
    "<b>Вывод:</b> отвергаем нулевую гипотезу о том, что средние пользовательские рейтинги жанров Action и Sports равны."
   ]
  },
  {
   "cell_type": "markdown",
   "id": "5dbb9b4d",
   "metadata": {},
   "source": [
    "## Общий вывод"
   ]
  },
  {
   "cell_type": "markdown",
   "id": "3cfb945c",
   "metadata": {},
   "source": [
    "+ Начиная с 2012 года количество выпускаемых ежегодно игр сократилось более чем в 2 раза;\n",
    "+ Оценки критиков больше влияют на продажи, чем оценки пользователей;\n",
    "+ Shooter самый продаваемый жанр;\n",
    "+ В Европе и Северной Америке примерно одинаковая картина по всем показателям продаж. Там играют на Xbox и PlayStation и там востребованы экшены и шутеры для 17+;\n",
    "+ В Японии очень популярны портативные консоли, ролевые игры, экшены и игры не имеющие возрастного рейтинга ESRB."
   ]
  }
 ],
 "metadata": {
  "ExecuteTimeLog": [
   {
    "duration": 66,
    "start_time": "2022-06-05T11:41:15.940Z"
   },
   {
    "duration": 1013,
    "start_time": "2022-06-05T11:41:26.096Z"
   },
   {
    "duration": 1,
    "start_time": "2022-06-05T11:41:27.112Z"
   },
   {
    "duration": 0,
    "start_time": "2022-06-05T11:41:27.114Z"
   },
   {
    "duration": 0,
    "start_time": "2022-06-05T11:41:27.115Z"
   },
   {
    "duration": 0,
    "start_time": "2022-06-05T11:41:27.117Z"
   },
   {
    "duration": 0,
    "start_time": "2022-06-05T11:41:27.118Z"
   },
   {
    "duration": 0,
    "start_time": "2022-06-05T11:41:27.120Z"
   },
   {
    "duration": 0,
    "start_time": "2022-06-05T11:41:27.121Z"
   },
   {
    "duration": 0,
    "start_time": "2022-06-05T11:41:27.122Z"
   },
   {
    "duration": 0,
    "start_time": "2022-06-05T11:41:27.124Z"
   },
   {
    "duration": 0,
    "start_time": "2022-06-05T11:41:27.125Z"
   },
   {
    "duration": 0,
    "start_time": "2022-06-05T11:41:27.126Z"
   },
   {
    "duration": 0,
    "start_time": "2022-06-05T11:41:27.127Z"
   },
   {
    "duration": 0,
    "start_time": "2022-06-05T11:41:27.129Z"
   },
   {
    "duration": 0,
    "start_time": "2022-06-05T11:41:27.130Z"
   },
   {
    "duration": 0,
    "start_time": "2022-06-05T11:41:27.132Z"
   },
   {
    "duration": 0,
    "start_time": "2022-06-05T11:41:27.133Z"
   },
   {
    "duration": 0,
    "start_time": "2022-06-05T11:41:27.135Z"
   },
   {
    "duration": 0,
    "start_time": "2022-06-05T11:41:27.136Z"
   },
   {
    "duration": 0,
    "start_time": "2022-06-05T11:41:27.138Z"
   },
   {
    "duration": 0,
    "start_time": "2022-06-05T11:41:27.139Z"
   },
   {
    "duration": 0,
    "start_time": "2022-06-05T11:41:27.141Z"
   },
   {
    "duration": 0,
    "start_time": "2022-06-05T11:41:27.142Z"
   },
   {
    "duration": 0,
    "start_time": "2022-06-05T11:41:27.190Z"
   },
   {
    "duration": 0,
    "start_time": "2022-06-05T11:41:27.191Z"
   },
   {
    "duration": 0,
    "start_time": "2022-06-05T11:41:27.192Z"
   },
   {
    "duration": 0,
    "start_time": "2022-06-05T11:41:27.194Z"
   },
   {
    "duration": 0,
    "start_time": "2022-06-05T11:41:27.194Z"
   },
   {
    "duration": 0,
    "start_time": "2022-06-05T11:41:27.196Z"
   },
   {
    "duration": 0,
    "start_time": "2022-06-05T11:41:27.197Z"
   },
   {
    "duration": 0,
    "start_time": "2022-06-05T11:41:27.198Z"
   },
   {
    "duration": 0,
    "start_time": "2022-06-05T11:41:27.200Z"
   },
   {
    "duration": 0,
    "start_time": "2022-06-05T11:41:27.201Z"
   },
   {
    "duration": 0,
    "start_time": "2022-06-05T11:41:27.202Z"
   },
   {
    "duration": 0,
    "start_time": "2022-06-05T11:41:27.203Z"
   },
   {
    "duration": 0,
    "start_time": "2022-06-05T11:41:27.204Z"
   },
   {
    "duration": 0,
    "start_time": "2022-06-05T11:41:27.205Z"
   },
   {
    "duration": 0,
    "start_time": "2022-06-05T11:41:27.206Z"
   },
   {
    "duration": 0,
    "start_time": "2022-06-05T11:41:27.208Z"
   },
   {
    "duration": 0,
    "start_time": "2022-06-05T11:41:27.209Z"
   },
   {
    "duration": 0,
    "start_time": "2022-06-05T11:41:27.210Z"
   },
   {
    "duration": 0,
    "start_time": "2022-06-05T11:41:27.211Z"
   },
   {
    "duration": 0,
    "start_time": "2022-06-05T11:41:27.212Z"
   },
   {
    "duration": 0,
    "start_time": "2022-06-05T11:41:27.213Z"
   },
   {
    "duration": 0,
    "start_time": "2022-06-05T11:41:27.214Z"
   },
   {
    "duration": 0,
    "start_time": "2022-06-05T11:41:27.215Z"
   },
   {
    "duration": 0,
    "start_time": "2022-06-05T11:41:27.217Z"
   },
   {
    "duration": 0,
    "start_time": "2022-06-05T11:41:27.218Z"
   },
   {
    "duration": 0,
    "start_time": "2022-06-05T11:41:27.218Z"
   },
   {
    "duration": 0,
    "start_time": "2022-06-05T11:41:27.220Z"
   },
   {
    "duration": 0,
    "start_time": "2022-06-05T11:41:27.221Z"
   },
   {
    "duration": 0,
    "start_time": "2022-06-05T11:41:27.222Z"
   },
   {
    "duration": 0,
    "start_time": "2022-06-05T11:41:27.223Z"
   },
   {
    "duration": 0,
    "start_time": "2022-06-05T11:41:27.224Z"
   },
   {
    "duration": 0,
    "start_time": "2022-06-05T11:41:27.225Z"
   },
   {
    "duration": 0,
    "start_time": "2022-06-05T11:41:27.228Z"
   },
   {
    "duration": 0,
    "start_time": "2022-06-05T11:41:27.229Z"
   },
   {
    "duration": 0,
    "start_time": "2022-06-05T11:41:27.289Z"
   },
   {
    "duration": 0,
    "start_time": "2022-06-05T11:41:27.290Z"
   },
   {
    "duration": 0,
    "start_time": "2022-06-05T11:41:27.292Z"
   },
   {
    "duration": 0,
    "start_time": "2022-06-05T11:41:27.293Z"
   },
   {
    "duration": 0,
    "start_time": "2022-06-05T11:41:27.294Z"
   },
   {
    "duration": 0,
    "start_time": "2022-06-05T11:41:27.295Z"
   },
   {
    "duration": 0,
    "start_time": "2022-06-05T11:41:27.296Z"
   },
   {
    "duration": 0,
    "start_time": "2022-06-05T11:41:27.298Z"
   },
   {
    "duration": 0,
    "start_time": "2022-06-05T11:41:27.299Z"
   },
   {
    "duration": 0,
    "start_time": "2022-06-05T11:41:27.300Z"
   },
   {
    "duration": 0,
    "start_time": "2022-06-05T11:41:27.301Z"
   },
   {
    "duration": 952,
    "start_time": "2022-06-05T11:48:47.599Z"
   },
   {
    "duration": 25,
    "start_time": "2022-06-05T11:48:48.553Z"
   },
   {
    "duration": 14,
    "start_time": "2022-06-05T11:48:48.580Z"
   },
   {
    "duration": 4,
    "start_time": "2022-06-05T11:48:48.596Z"
   },
   {
    "duration": 5,
    "start_time": "2022-06-05T11:48:48.603Z"
   },
   {
    "duration": 6,
    "start_time": "2022-06-05T11:48:48.610Z"
   },
   {
    "duration": 11,
    "start_time": "2022-06-05T11:48:48.618Z"
   },
   {
    "duration": 12,
    "start_time": "2022-06-05T11:48:48.631Z"
   },
   {
    "duration": 8,
    "start_time": "2022-06-05T11:48:48.645Z"
   },
   {
    "duration": 35,
    "start_time": "2022-06-05T11:48:48.655Z"
   },
   {
    "duration": 6,
    "start_time": "2022-06-05T11:48:48.692Z"
   },
   {
    "duration": 14,
    "start_time": "2022-06-05T11:48:48.700Z"
   },
   {
    "duration": 16,
    "start_time": "2022-06-05T11:48:48.715Z"
   },
   {
    "duration": 17,
    "start_time": "2022-06-05T11:48:48.734Z"
   },
   {
    "duration": 669,
    "start_time": "2022-06-05T11:48:48.752Z"
   },
   {
    "duration": 22,
    "start_time": "2022-06-05T11:48:49.423Z"
   },
   {
    "duration": 344,
    "start_time": "2022-06-05T11:48:49.447Z"
   },
   {
    "duration": 250,
    "start_time": "2022-06-05T11:48:49.793Z"
   },
   {
    "duration": 193,
    "start_time": "2022-06-05T11:48:50.044Z"
   },
   {
    "duration": 191,
    "start_time": "2022-06-05T11:48:50.239Z"
   },
   {
    "duration": 179,
    "start_time": "2022-06-05T11:48:50.431Z"
   },
   {
    "duration": 193,
    "start_time": "2022-06-05T11:48:50.612Z"
   },
   {
    "duration": 179,
    "start_time": "2022-06-05T11:48:50.806Z"
   },
   {
    "duration": 5,
    "start_time": "2022-06-05T11:48:50.990Z"
   },
   {
    "duration": 144,
    "start_time": "2022-06-05T11:48:50.996Z"
   },
   {
    "duration": 191,
    "start_time": "2022-06-05T11:48:51.142Z"
   },
   {
    "duration": 164,
    "start_time": "2022-06-05T11:48:51.335Z"
   },
   {
    "duration": 195,
    "start_time": "2022-06-05T11:48:51.501Z"
   },
   {
    "duration": 256,
    "start_time": "2022-06-05T11:48:51.699Z"
   },
   {
    "duration": 331,
    "start_time": "2022-06-05T11:48:51.957Z"
   },
   {
    "duration": 190,
    "start_time": "2022-06-05T11:48:52.291Z"
   },
   {
    "duration": 195,
    "start_time": "2022-06-05T11:48:52.483Z"
   },
   {
    "duration": 137,
    "start_time": "2022-06-05T11:48:52.680Z"
   },
   {
    "duration": 228,
    "start_time": "2022-06-05T11:48:52.819Z"
   },
   {
    "duration": 169,
    "start_time": "2022-06-05T11:48:53.050Z"
   },
   {
    "duration": 203,
    "start_time": "2022-06-05T11:48:53.221Z"
   },
   {
    "duration": 140,
    "start_time": "2022-06-05T11:48:53.426Z"
   },
   {
    "duration": 185,
    "start_time": "2022-06-05T11:48:53.568Z"
   },
   {
    "duration": 152,
    "start_time": "2022-06-05T11:48:53.755Z"
   },
   {
    "duration": 197,
    "start_time": "2022-06-05T11:48:53.908Z"
   },
   {
    "duration": 248,
    "start_time": "2022-06-05T11:48:54.110Z"
   },
   {
    "duration": 228,
    "start_time": "2022-06-05T11:48:54.359Z"
   },
   {
    "duration": 228,
    "start_time": "2022-06-05T11:48:54.590Z"
   },
   {
    "duration": 120,
    "start_time": "2022-06-05T11:48:54.820Z"
   },
   {
    "duration": 119,
    "start_time": "2022-06-05T11:48:54.942Z"
   },
   {
    "duration": 161,
    "start_time": "2022-06-05T11:48:55.062Z"
   },
   {
    "duration": 317,
    "start_time": "2022-06-05T11:48:55.224Z"
   },
   {
    "duration": 14,
    "start_time": "2022-06-05T11:48:55.542Z"
   },
   {
    "duration": 32,
    "start_time": "2022-06-05T11:48:55.557Z"
   },
   {
    "duration": 310,
    "start_time": "2022-06-05T11:48:55.591Z"
   },
   {
    "duration": 13,
    "start_time": "2022-06-05T11:48:55.903Z"
   },
   {
    "duration": 13,
    "start_time": "2022-06-05T11:48:55.917Z"
   },
   {
    "duration": 331,
    "start_time": "2022-06-05T11:48:55.932Z"
   },
   {
    "duration": 26,
    "start_time": "2022-06-05T11:48:56.265Z"
   },
   {
    "duration": 11,
    "start_time": "2022-06-05T11:48:56.293Z"
   },
   {
    "duration": 22,
    "start_time": "2022-06-05T11:48:56.306Z"
   },
   {
    "duration": 217,
    "start_time": "2022-06-05T11:48:56.330Z"
   },
   {
    "duration": 13,
    "start_time": "2022-06-05T11:48:56.549Z"
   },
   {
    "duration": 9,
    "start_time": "2022-06-05T11:48:56.564Z"
   },
   {
    "duration": 21,
    "start_time": "2022-06-05T11:48:56.575Z"
   },
   {
    "duration": 13,
    "start_time": "2022-06-05T11:48:56.598Z"
   },
   {
    "duration": 13,
    "start_time": "2022-06-05T11:48:56.613Z"
   },
   {
    "duration": 9,
    "start_time": "2022-06-05T11:48:56.628Z"
   },
   {
    "duration": 11,
    "start_time": "2022-06-05T11:48:56.638Z"
   },
   {
    "duration": 40,
    "start_time": "2022-06-05T11:48:56.651Z"
   },
   {
    "duration": 22,
    "start_time": "2022-06-05T11:48:56.693Z"
   },
   {
    "duration": 10,
    "start_time": "2022-06-05T11:48:56.716Z"
   },
   {
    "duration": 11,
    "start_time": "2022-06-05T11:48:56.728Z"
   },
   {
    "duration": 1001,
    "start_time": "2022-06-05T12:01:29.352Z"
   },
   {
    "duration": 27,
    "start_time": "2022-06-05T12:01:30.355Z"
   },
   {
    "duration": 115,
    "start_time": "2022-06-05T12:01:30.384Z"
   },
   {
    "duration": 15,
    "start_time": "2022-06-05T12:01:30.501Z"
   },
   {
    "duration": 13,
    "start_time": "2022-06-05T12:01:30.520Z"
   },
   {
    "duration": 30,
    "start_time": "2022-06-05T12:01:30.536Z"
   },
   {
    "duration": 35,
    "start_time": "2022-06-05T12:01:30.569Z"
   },
   {
    "duration": 38,
    "start_time": "2022-06-05T12:01:30.606Z"
   },
   {
    "duration": 31,
    "start_time": "2022-06-05T12:01:30.646Z"
   },
   {
    "duration": 45,
    "start_time": "2022-06-05T12:01:30.679Z"
   },
   {
    "duration": 25,
    "start_time": "2022-06-05T12:01:30.727Z"
   },
   {
    "duration": 54,
    "start_time": "2022-06-05T12:01:30.754Z"
   },
   {
    "duration": 29,
    "start_time": "2022-06-05T12:01:30.810Z"
   },
   {
    "duration": 35,
    "start_time": "2022-06-05T12:01:30.843Z"
   },
   {
    "duration": 760,
    "start_time": "2022-06-05T12:01:30.890Z"
   },
   {
    "duration": 36,
    "start_time": "2022-06-05T12:01:31.653Z"
   },
   {
    "duration": 397,
    "start_time": "2022-06-05T12:01:31.692Z"
   },
   {
    "duration": 309,
    "start_time": "2022-06-05T12:01:32.091Z"
   },
   {
    "duration": 296,
    "start_time": "2022-06-05T12:01:32.402Z"
   },
   {
    "duration": 222,
    "start_time": "2022-06-05T12:01:32.701Z"
   },
   {
    "duration": 213,
    "start_time": "2022-06-05T12:01:32.925Z"
   },
   {
    "duration": 256,
    "start_time": "2022-06-05T12:01:33.140Z"
   },
   {
    "duration": 256,
    "start_time": "2022-06-05T12:01:33.398Z"
   },
   {
    "duration": 4,
    "start_time": "2022-06-05T12:01:33.656Z"
   },
   {
    "duration": 239,
    "start_time": "2022-06-05T12:01:33.662Z"
   },
   {
    "duration": 288,
    "start_time": "2022-06-05T12:01:33.903Z"
   },
   {
    "duration": 297,
    "start_time": "2022-06-05T12:01:34.193Z"
   },
   {
    "duration": 301,
    "start_time": "2022-06-05T12:01:34.493Z"
   },
   {
    "duration": 247,
    "start_time": "2022-06-05T12:01:34.796Z"
   },
   {
    "duration": 181,
    "start_time": "2022-06-05T12:01:35.045Z"
   },
   {
    "duration": 350,
    "start_time": "2022-06-05T12:01:35.228Z"
   },
   {
    "duration": 0,
    "start_time": "2022-06-05T12:01:35.581Z"
   },
   {
    "duration": 0,
    "start_time": "2022-06-05T12:01:35.589Z"
   },
   {
    "duration": 0,
    "start_time": "2022-06-05T12:01:35.590Z"
   },
   {
    "duration": 0,
    "start_time": "2022-06-05T12:01:35.591Z"
   },
   {
    "duration": 0,
    "start_time": "2022-06-05T12:01:35.592Z"
   },
   {
    "duration": 0,
    "start_time": "2022-06-05T12:01:35.594Z"
   },
   {
    "duration": 0,
    "start_time": "2022-06-05T12:01:35.595Z"
   },
   {
    "duration": 0,
    "start_time": "2022-06-05T12:01:35.597Z"
   },
   {
    "duration": 0,
    "start_time": "2022-06-05T12:01:35.599Z"
   },
   {
    "duration": 0,
    "start_time": "2022-06-05T12:01:35.600Z"
   },
   {
    "duration": 0,
    "start_time": "2022-06-05T12:01:35.602Z"
   },
   {
    "duration": 0,
    "start_time": "2022-06-05T12:01:35.603Z"
   },
   {
    "duration": 0,
    "start_time": "2022-06-05T12:01:35.604Z"
   },
   {
    "duration": 0,
    "start_time": "2022-06-05T12:01:35.605Z"
   },
   {
    "duration": 0,
    "start_time": "2022-06-05T12:01:35.606Z"
   },
   {
    "duration": 0,
    "start_time": "2022-06-05T12:01:35.607Z"
   },
   {
    "duration": 0,
    "start_time": "2022-06-05T12:01:35.608Z"
   },
   {
    "duration": 0,
    "start_time": "2022-06-05T12:01:35.609Z"
   },
   {
    "duration": 0,
    "start_time": "2022-06-05T12:01:35.610Z"
   },
   {
    "duration": 0,
    "start_time": "2022-06-05T12:01:35.611Z"
   },
   {
    "duration": 0,
    "start_time": "2022-06-05T12:01:35.612Z"
   },
   {
    "duration": 0,
    "start_time": "2022-06-05T12:01:35.614Z"
   },
   {
    "duration": 0,
    "start_time": "2022-06-05T12:01:35.615Z"
   },
   {
    "duration": 0,
    "start_time": "2022-06-05T12:01:35.616Z"
   },
   {
    "duration": 0,
    "start_time": "2022-06-05T12:01:35.617Z"
   },
   {
    "duration": 0,
    "start_time": "2022-06-05T12:01:35.618Z"
   },
   {
    "duration": 0,
    "start_time": "2022-06-05T12:01:35.619Z"
   },
   {
    "duration": 0,
    "start_time": "2022-06-05T12:01:35.620Z"
   },
   {
    "duration": 0,
    "start_time": "2022-06-05T12:01:35.621Z"
   },
   {
    "duration": 0,
    "start_time": "2022-06-05T12:01:35.623Z"
   },
   {
    "duration": 0,
    "start_time": "2022-06-05T12:01:35.623Z"
   },
   {
    "duration": 0,
    "start_time": "2022-06-05T12:01:35.624Z"
   },
   {
    "duration": 1,
    "start_time": "2022-06-05T12:01:35.625Z"
   },
   {
    "duration": 0,
    "start_time": "2022-06-05T12:01:35.627Z"
   },
   {
    "duration": 0,
    "start_time": "2022-06-05T12:01:35.690Z"
   },
   {
    "duration": 0,
    "start_time": "2022-06-05T12:01:35.691Z"
   },
   {
    "duration": 9,
    "start_time": "2022-06-05T12:02:12.830Z"
   },
   {
    "duration": 9,
    "start_time": "2022-06-05T12:02:16.256Z"
   },
   {
    "duration": 1002,
    "start_time": "2022-06-05T12:03:37.918Z"
   },
   {
    "duration": 26,
    "start_time": "2022-06-05T12:03:38.922Z"
   },
   {
    "duration": 15,
    "start_time": "2022-06-05T12:03:38.950Z"
   },
   {
    "duration": 25,
    "start_time": "2022-06-05T12:03:38.967Z"
   },
   {
    "duration": 20,
    "start_time": "2022-06-05T12:03:38.995Z"
   },
   {
    "duration": 4,
    "start_time": "2022-06-05T12:03:39.017Z"
   },
   {
    "duration": 13,
    "start_time": "2022-06-05T12:03:39.022Z"
   },
   {
    "duration": 25,
    "start_time": "2022-06-05T12:03:39.036Z"
   },
   {
    "duration": 6,
    "start_time": "2022-06-05T12:03:39.063Z"
   },
   {
    "duration": 10,
    "start_time": "2022-06-05T12:03:39.089Z"
   },
   {
    "duration": 13,
    "start_time": "2022-06-05T12:03:39.102Z"
   },
   {
    "duration": 11,
    "start_time": "2022-06-05T12:03:39.117Z"
   },
   {
    "duration": 16,
    "start_time": "2022-06-05T12:03:39.129Z"
   },
   {
    "duration": 56,
    "start_time": "2022-06-05T12:03:39.147Z"
   },
   {
    "duration": 684,
    "start_time": "2022-06-05T12:03:39.206Z"
   },
   {
    "duration": 28,
    "start_time": "2022-06-05T12:03:39.892Z"
   },
   {
    "duration": 354,
    "start_time": "2022-06-05T12:03:39.923Z"
   },
   {
    "duration": 287,
    "start_time": "2022-06-05T12:03:40.280Z"
   },
   {
    "duration": 227,
    "start_time": "2022-06-05T12:03:40.570Z"
   },
   {
    "duration": 219,
    "start_time": "2022-06-05T12:03:40.799Z"
   },
   {
    "duration": 195,
    "start_time": "2022-06-05T12:03:41.020Z"
   },
   {
    "duration": 204,
    "start_time": "2022-06-05T12:03:41.216Z"
   },
   {
    "duration": 206,
    "start_time": "2022-06-05T12:03:41.422Z"
   },
   {
    "duration": 6,
    "start_time": "2022-06-05T12:03:41.630Z"
   },
   {
    "duration": 167,
    "start_time": "2022-06-05T12:03:41.638Z"
   },
   {
    "duration": 200,
    "start_time": "2022-06-05T12:03:41.807Z"
   },
   {
    "duration": 167,
    "start_time": "2022-06-05T12:03:42.008Z"
   },
   {
    "duration": 217,
    "start_time": "2022-06-05T12:03:42.179Z"
   },
   {
    "duration": 274,
    "start_time": "2022-06-05T12:03:42.399Z"
   },
   {
    "duration": 356,
    "start_time": "2022-06-05T12:03:42.675Z"
   },
   {
    "duration": 190,
    "start_time": "2022-06-05T12:03:43.033Z"
   },
   {
    "duration": 207,
    "start_time": "2022-06-05T12:03:43.225Z"
   },
   {
    "duration": 142,
    "start_time": "2022-06-05T12:03:43.433Z"
   },
   {
    "duration": 249,
    "start_time": "2022-06-05T12:03:43.577Z"
   },
   {
    "duration": 186,
    "start_time": "2022-06-05T12:03:43.828Z"
   },
   {
    "duration": 209,
    "start_time": "2022-06-05T12:03:44.016Z"
   },
   {
    "duration": 135,
    "start_time": "2022-06-05T12:03:44.227Z"
   },
   {
    "duration": 198,
    "start_time": "2022-06-05T12:03:44.364Z"
   },
   {
    "duration": 168,
    "start_time": "2022-06-05T12:03:44.563Z"
   },
   {
    "duration": 222,
    "start_time": "2022-06-05T12:03:44.733Z"
   },
   {
    "duration": 258,
    "start_time": "2022-06-05T12:03:44.957Z"
   },
   {
    "duration": 249,
    "start_time": "2022-06-05T12:03:45.217Z"
   },
   {
    "duration": 244,
    "start_time": "2022-06-05T12:03:45.468Z"
   },
   {
    "duration": 129,
    "start_time": "2022-06-05T12:03:45.713Z"
   },
   {
    "duration": 125,
    "start_time": "2022-06-05T12:03:45.843Z"
   },
   {
    "duration": 324,
    "start_time": "2022-06-05T12:03:45.970Z"
   },
   {
    "duration": 15,
    "start_time": "2022-06-05T12:03:46.296Z"
   },
   {
    "duration": 16,
    "start_time": "2022-06-05T12:03:46.313Z"
   },
   {
    "duration": 351,
    "start_time": "2022-06-05T12:03:46.330Z"
   },
   {
    "duration": 13,
    "start_time": "2022-06-05T12:03:46.684Z"
   },
   {
    "duration": 13,
    "start_time": "2022-06-05T12:03:46.699Z"
   },
   {
    "duration": 345,
    "start_time": "2022-06-05T12:03:46.714Z"
   },
   {
    "duration": 13,
    "start_time": "2022-06-05T12:03:47.061Z"
   },
   {
    "duration": 25,
    "start_time": "2022-06-05T12:03:47.090Z"
   },
   {
    "duration": 30,
    "start_time": "2022-06-05T12:03:47.119Z"
   },
   {
    "duration": 204,
    "start_time": "2022-06-05T12:03:47.151Z"
   },
   {
    "duration": 14,
    "start_time": "2022-06-05T12:03:47.358Z"
   },
   {
    "duration": 24,
    "start_time": "2022-06-05T12:03:47.374Z"
   },
   {
    "duration": 20,
    "start_time": "2022-06-05T12:03:47.400Z"
   },
   {
    "duration": 13,
    "start_time": "2022-06-05T12:03:47.422Z"
   },
   {
    "duration": 19,
    "start_time": "2022-06-05T12:03:47.437Z"
   },
   {
    "duration": 11,
    "start_time": "2022-06-05T12:03:47.458Z"
   },
   {
    "duration": 11,
    "start_time": "2022-06-05T12:03:47.489Z"
   },
   {
    "duration": 13,
    "start_time": "2022-06-05T12:03:47.501Z"
   },
   {
    "duration": 26,
    "start_time": "2022-06-05T12:03:47.516Z"
   },
   {
    "duration": 10,
    "start_time": "2022-06-05T12:03:47.544Z"
   },
   {
    "duration": 42,
    "start_time": "2022-06-05T12:03:47.556Z"
   },
   {
    "duration": 156,
    "start_time": "2022-06-05T12:05:00.817Z"
   },
   {
    "duration": 37,
    "start_time": "2022-06-05T12:08:23.310Z"
   },
   {
    "duration": 975,
    "start_time": "2022-06-05T12:22:35.795Z"
   },
   {
    "duration": 25,
    "start_time": "2022-06-05T12:22:36.773Z"
   },
   {
    "duration": 16,
    "start_time": "2022-06-05T12:22:36.800Z"
   },
   {
    "duration": 4,
    "start_time": "2022-06-05T12:22:36.818Z"
   },
   {
    "duration": 5,
    "start_time": "2022-06-05T12:22:36.824Z"
   },
   {
    "duration": 6,
    "start_time": "2022-06-05T12:22:36.831Z"
   },
   {
    "duration": 11,
    "start_time": "2022-06-05T12:22:36.838Z"
   },
   {
    "duration": 46,
    "start_time": "2022-06-05T12:22:36.851Z"
   },
   {
    "duration": 7,
    "start_time": "2022-06-05T12:22:36.898Z"
   },
   {
    "duration": 7,
    "start_time": "2022-06-05T12:22:36.907Z"
   },
   {
    "duration": 5,
    "start_time": "2022-06-05T12:22:36.916Z"
   },
   {
    "duration": 6,
    "start_time": "2022-06-05T12:22:36.923Z"
   },
   {
    "duration": 6,
    "start_time": "2022-06-05T12:22:36.931Z"
   },
   {
    "duration": 13,
    "start_time": "2022-06-05T12:22:36.939Z"
   },
   {
    "duration": 51,
    "start_time": "2022-06-05T12:22:36.954Z"
   },
   {
    "duration": 18,
    "start_time": "2022-06-05T12:22:37.006Z"
   },
   {
    "duration": 633,
    "start_time": "2022-06-05T12:22:37.026Z"
   },
   {
    "duration": 31,
    "start_time": "2022-06-05T12:22:37.661Z"
   },
   {
    "duration": 292,
    "start_time": "2022-06-05T12:22:37.694Z"
   },
   {
    "duration": 259,
    "start_time": "2022-06-05T12:22:37.987Z"
   },
   {
    "duration": 250,
    "start_time": "2022-06-05T12:22:38.248Z"
   },
   {
    "duration": 228,
    "start_time": "2022-06-05T12:22:38.500Z"
   },
   {
    "duration": 192,
    "start_time": "2022-06-05T12:22:38.730Z"
   },
   {
    "duration": 199,
    "start_time": "2022-06-05T12:22:38.924Z"
   },
   {
    "duration": 210,
    "start_time": "2022-06-05T12:22:39.125Z"
   },
   {
    "duration": 6,
    "start_time": "2022-06-05T12:22:39.337Z"
   },
   {
    "duration": 165,
    "start_time": "2022-06-05T12:22:39.347Z"
   },
   {
    "duration": 196,
    "start_time": "2022-06-05T12:22:39.517Z"
   },
   {
    "duration": 168,
    "start_time": "2022-06-05T12:22:39.715Z"
   },
   {
    "duration": 194,
    "start_time": "2022-06-05T12:22:39.890Z"
   },
   {
    "duration": 286,
    "start_time": "2022-06-05T12:22:40.086Z"
   },
   {
    "duration": 337,
    "start_time": "2022-06-05T12:22:40.374Z"
   },
   {
    "duration": 188,
    "start_time": "2022-06-05T12:22:40.713Z"
   },
   {
    "duration": 213,
    "start_time": "2022-06-05T12:22:40.904Z"
   },
   {
    "duration": 155,
    "start_time": "2022-06-05T12:22:41.119Z"
   },
   {
    "duration": 246,
    "start_time": "2022-06-05T12:22:41.276Z"
   },
   {
    "duration": 168,
    "start_time": "2022-06-05T12:22:41.524Z"
   },
   {
    "duration": 234,
    "start_time": "2022-06-05T12:22:41.694Z"
   },
   {
    "duration": 163,
    "start_time": "2022-06-05T12:22:41.929Z"
   },
   {
    "duration": 196,
    "start_time": "2022-06-05T12:22:42.093Z"
   },
   {
    "duration": 160,
    "start_time": "2022-06-05T12:22:42.292Z"
   },
   {
    "duration": 202,
    "start_time": "2022-06-05T12:22:42.454Z"
   },
   {
    "duration": 243,
    "start_time": "2022-06-05T12:22:42.657Z"
   },
   {
    "duration": 250,
    "start_time": "2022-06-05T12:22:42.902Z"
   },
   {
    "duration": 240,
    "start_time": "2022-06-05T12:22:43.154Z"
   },
   {
    "duration": 125,
    "start_time": "2022-06-05T12:22:43.396Z"
   },
   {
    "duration": 129,
    "start_time": "2022-06-05T12:22:43.523Z"
   },
   {
    "duration": 352,
    "start_time": "2022-06-05T12:22:43.654Z"
   },
   {
    "duration": 14,
    "start_time": "2022-06-05T12:22:44.008Z"
   },
   {
    "duration": 13,
    "start_time": "2022-06-05T12:22:44.024Z"
   },
   {
    "duration": 396,
    "start_time": "2022-06-05T12:22:44.039Z"
   },
   {
    "duration": 11,
    "start_time": "2022-06-05T12:22:44.437Z"
   },
   {
    "duration": 15,
    "start_time": "2022-06-05T12:22:44.450Z"
   },
   {
    "duration": 366,
    "start_time": "2022-06-05T12:22:44.466Z"
   },
   {
    "duration": 11,
    "start_time": "2022-06-05T12:22:44.834Z"
   },
   {
    "duration": 11,
    "start_time": "2022-06-05T12:22:44.847Z"
   },
   {
    "duration": 58,
    "start_time": "2022-06-05T12:22:44.861Z"
   },
   {
    "duration": 233,
    "start_time": "2022-06-05T12:22:44.921Z"
   },
   {
    "duration": 15,
    "start_time": "2022-06-05T12:22:45.157Z"
   },
   {
    "duration": 31,
    "start_time": "2022-06-05T12:22:45.175Z"
   },
   {
    "duration": 11,
    "start_time": "2022-06-05T12:22:45.208Z"
   },
   {
    "duration": 12,
    "start_time": "2022-06-05T12:22:45.221Z"
   },
   {
    "duration": 16,
    "start_time": "2022-06-05T12:22:45.234Z"
   },
   {
    "duration": 11,
    "start_time": "2022-06-05T12:22:45.251Z"
   },
   {
    "duration": 13,
    "start_time": "2022-06-05T12:22:45.289Z"
   },
   {
    "duration": 15,
    "start_time": "2022-06-05T12:22:45.305Z"
   },
   {
    "duration": 34,
    "start_time": "2022-06-05T12:22:45.322Z"
   },
   {
    "duration": 36,
    "start_time": "2022-06-05T12:22:45.358Z"
   },
   {
    "duration": 15,
    "start_time": "2022-06-05T12:22:45.396Z"
   },
   {
    "duration": 150,
    "start_time": "2022-06-05T12:23:35.118Z"
   },
   {
    "duration": 16,
    "start_time": "2022-06-06T20:40:05.224Z"
   },
   {
    "duration": 1620,
    "start_time": "2022-06-06T20:40:29.680Z"
   },
   {
    "duration": 18,
    "start_time": "2022-06-06T20:40:31.302Z"
   },
   {
    "duration": 67,
    "start_time": "2022-06-06T20:40:31.321Z"
   },
   {
    "duration": 14,
    "start_time": "2022-06-06T20:40:31.390Z"
   },
   {
    "duration": 40,
    "start_time": "2022-06-06T20:40:31.406Z"
   },
   {
    "duration": 16,
    "start_time": "2022-06-06T20:40:31.447Z"
   },
   {
    "duration": 28,
    "start_time": "2022-06-06T20:40:31.466Z"
   },
   {
    "duration": 31,
    "start_time": "2022-06-06T20:40:31.496Z"
   },
   {
    "duration": 33,
    "start_time": "2022-06-06T20:40:31.529Z"
   },
   {
    "duration": 32,
    "start_time": "2022-06-06T20:40:31.565Z"
   },
   {
    "duration": 68,
    "start_time": "2022-06-06T20:40:31.599Z"
   },
   {
    "duration": 99,
    "start_time": "2022-06-06T20:40:31.669Z"
   },
   {
    "duration": 26,
    "start_time": "2022-06-06T20:40:31.770Z"
   },
   {
    "duration": 61,
    "start_time": "2022-06-06T20:40:31.798Z"
   },
   {
    "duration": 21,
    "start_time": "2022-06-06T20:40:31.861Z"
   },
   {
    "duration": 34,
    "start_time": "2022-06-06T20:40:31.884Z"
   },
   {
    "duration": 425,
    "start_time": "2022-06-06T20:40:31.920Z"
   },
   {
    "duration": 26,
    "start_time": "2022-06-06T20:40:32.347Z"
   },
   {
    "duration": 436,
    "start_time": "2022-06-06T20:40:32.375Z"
   },
   {
    "duration": 225,
    "start_time": "2022-06-06T20:40:32.814Z"
   },
   {
    "duration": 193,
    "start_time": "2022-06-06T20:40:33.045Z"
   },
   {
    "duration": 196,
    "start_time": "2022-06-06T20:40:33.242Z"
   },
   {
    "duration": 215,
    "start_time": "2022-06-06T20:40:33.440Z"
   },
   {
    "duration": 224,
    "start_time": "2022-06-06T20:40:33.657Z"
   },
   {
    "duration": 214,
    "start_time": "2022-06-06T20:40:33.883Z"
   },
   {
    "duration": 5,
    "start_time": "2022-06-06T20:40:34.100Z"
   },
   {
    "duration": 34,
    "start_time": "2022-06-06T20:40:34.106Z"
   },
   {
    "duration": 508,
    "start_time": "2022-06-06T20:40:34.146Z"
   },
   {
    "duration": 329,
    "start_time": "2022-06-06T20:40:34.656Z"
   },
   {
    "duration": 416,
    "start_time": "2022-06-06T20:40:34.987Z"
   },
   {
    "duration": 804,
    "start_time": "2022-06-06T20:40:35.405Z"
   },
   {
    "duration": 23,
    "start_time": "2022-06-06T20:40:36.210Z"
   },
   {
    "duration": 813,
    "start_time": "2022-06-06T20:40:36.237Z"
   },
   {
    "duration": 18,
    "start_time": "2022-06-06T20:40:37.051Z"
   },
   {
    "duration": 20,
    "start_time": "2022-06-06T20:40:37.071Z"
   },
   {
    "duration": 15,
    "start_time": "2022-06-06T20:40:37.093Z"
   },
   {
    "duration": 203,
    "start_time": "2022-06-06T20:40:37.132Z"
   },
   {
    "duration": 10,
    "start_time": "2022-06-06T20:40:37.342Z"
   },
   {
    "duration": 189,
    "start_time": "2022-06-06T20:40:37.355Z"
   },
   {
    "duration": 11,
    "start_time": "2022-06-06T20:40:37.546Z"
   },
   {
    "duration": 9,
    "start_time": "2022-06-06T20:40:37.559Z"
   },
   {
    "duration": 11,
    "start_time": "2022-06-06T20:40:37.570Z"
   },
   {
    "duration": 12,
    "start_time": "2022-06-06T20:40:37.582Z"
   },
   {
    "duration": 35,
    "start_time": "2022-06-06T20:40:37.596Z"
   },
   {
    "duration": 11,
    "start_time": "2022-06-06T20:40:37.642Z"
   },
   {
    "duration": 14,
    "start_time": "2022-06-06T20:40:37.654Z"
   },
   {
    "duration": 12,
    "start_time": "2022-06-06T20:40:37.670Z"
   },
   {
    "duration": 16,
    "start_time": "2022-06-06T20:40:37.684Z"
   },
   {
    "duration": 9,
    "start_time": "2022-06-06T20:40:37.702Z"
   },
   {
    "duration": 25,
    "start_time": "2022-06-06T20:40:37.713Z"
   },
   {
    "duration": 27,
    "start_time": "2022-06-06T20:40:37.742Z"
   },
   {
    "duration": 10,
    "start_time": "2022-06-06T20:40:37.771Z"
   },
   {
    "duration": 13,
    "start_time": "2022-06-06T20:40:37.783Z"
   },
   {
    "duration": 1173,
    "start_time": "2022-06-06T21:48:20.366Z"
   },
   {
    "duration": 18,
    "start_time": "2022-06-06T21:48:21.542Z"
   },
   {
    "duration": 8,
    "start_time": "2022-06-06T21:48:21.561Z"
   },
   {
    "duration": 15,
    "start_time": "2022-06-06T21:48:21.571Z"
   },
   {
    "duration": 4,
    "start_time": "2022-06-06T21:48:21.588Z"
   },
   {
    "duration": 33,
    "start_time": "2022-06-06T21:48:21.593Z"
   },
   {
    "duration": 6,
    "start_time": "2022-06-06T21:48:21.628Z"
   },
   {
    "duration": 6,
    "start_time": "2022-06-06T21:48:21.636Z"
   },
   {
    "duration": 11,
    "start_time": "2022-06-06T21:48:21.644Z"
   },
   {
    "duration": 12,
    "start_time": "2022-06-06T21:48:21.658Z"
   },
   {
    "duration": 9,
    "start_time": "2022-06-06T21:48:21.672Z"
   },
   {
    "duration": 47,
    "start_time": "2022-06-06T21:48:21.683Z"
   },
   {
    "duration": 6,
    "start_time": "2022-06-06T21:48:21.732Z"
   },
   {
    "duration": 20,
    "start_time": "2022-06-06T21:48:21.740Z"
   },
   {
    "duration": 9,
    "start_time": "2022-06-06T21:48:21.762Z"
   },
   {
    "duration": 11,
    "start_time": "2022-06-06T21:48:21.772Z"
   },
   {
    "duration": 53,
    "start_time": "2022-06-06T21:48:21.785Z"
   },
   {
    "duration": 17,
    "start_time": "2022-06-06T21:48:21.840Z"
   },
   {
    "duration": 323,
    "start_time": "2022-06-06T21:48:21.859Z"
   },
   {
    "duration": 22,
    "start_time": "2022-06-06T21:48:22.184Z"
   },
   {
    "duration": 330,
    "start_time": "2022-06-06T21:48:22.207Z"
   },
   {
    "duration": 168,
    "start_time": "2022-06-06T21:48:22.538Z"
   },
   {
    "duration": 199,
    "start_time": "2022-06-06T21:48:22.708Z"
   },
   {
    "duration": 182,
    "start_time": "2022-06-06T21:48:22.909Z"
   },
   {
    "duration": 164,
    "start_time": "2022-06-06T21:48:23.093Z"
   },
   {
    "duration": 193,
    "start_time": "2022-06-06T21:48:23.259Z"
   },
   {
    "duration": 175,
    "start_time": "2022-06-06T21:48:23.454Z"
   },
   {
    "duration": 5,
    "start_time": "2022-06-06T21:48:23.634Z"
   },
   {
    "duration": 11,
    "start_time": "2022-06-06T21:48:23.640Z"
   },
   {
    "duration": 409,
    "start_time": "2022-06-06T21:48:23.652Z"
   },
   {
    "duration": 260,
    "start_time": "2022-06-06T21:48:24.063Z"
   },
   {
    "duration": 437,
    "start_time": "2022-06-06T21:48:24.325Z"
   },
   {
    "duration": 742,
    "start_time": "2022-06-06T21:48:24.764Z"
   },
   {
    "duration": 25,
    "start_time": "2022-06-06T21:48:25.508Z"
   },
   {
    "duration": 701,
    "start_time": "2022-06-06T21:48:25.535Z"
   },
   {
    "duration": 15,
    "start_time": "2022-06-06T21:48:26.238Z"
   },
   {
    "duration": 16,
    "start_time": "2022-06-06T21:48:26.255Z"
   },
   {
    "duration": 23,
    "start_time": "2022-06-06T21:48:26.273Z"
   },
   {
    "duration": 195,
    "start_time": "2022-06-06T21:48:26.298Z"
   },
   {
    "duration": 10,
    "start_time": "2022-06-06T21:48:26.494Z"
   },
   {
    "duration": 177,
    "start_time": "2022-06-06T21:48:26.505Z"
   },
   {
    "duration": 14,
    "start_time": "2022-06-06T21:48:26.683Z"
   },
   {
    "duration": 14,
    "start_time": "2022-06-06T21:48:26.698Z"
   },
   {
    "duration": 21,
    "start_time": "2022-06-06T21:48:26.713Z"
   },
   {
    "duration": 19,
    "start_time": "2022-06-06T21:48:26.735Z"
   },
   {
    "duration": 16,
    "start_time": "2022-06-06T21:48:26.756Z"
   },
   {
    "duration": 11,
    "start_time": "2022-06-06T21:48:26.773Z"
   },
   {
    "duration": 13,
    "start_time": "2022-06-06T21:48:26.799Z"
   },
   {
    "duration": 17,
    "start_time": "2022-06-06T21:48:26.814Z"
   },
   {
    "duration": 13,
    "start_time": "2022-06-06T21:48:26.833Z"
   },
   {
    "duration": 14,
    "start_time": "2022-06-06T21:48:26.848Z"
   },
   {
    "duration": 18,
    "start_time": "2022-06-06T21:48:26.864Z"
   },
   {
    "duration": 13,
    "start_time": "2022-06-06T21:48:26.885Z"
   },
   {
    "duration": 12,
    "start_time": "2022-06-06T21:48:26.899Z"
   },
   {
    "duration": 20,
    "start_time": "2022-06-06T21:48:26.912Z"
   },
   {
    "duration": 5,
    "start_time": "2022-06-06T21:50:18.596Z"
   },
   {
    "duration": 5,
    "start_time": "2022-06-06T21:50:38.914Z"
   },
   {
    "duration": 11,
    "start_time": "2022-06-06T21:51:25.089Z"
   },
   {
    "duration": 11,
    "start_time": "2022-06-06T21:51:46.170Z"
   },
   {
    "duration": 10,
    "start_time": "2022-06-06T21:51:57.571Z"
   },
   {
    "duration": 13,
    "start_time": "2022-06-06T21:52:14.586Z"
   },
   {
    "duration": 22,
    "start_time": "2022-06-06T21:52:58.594Z"
   },
   {
    "duration": 5,
    "start_time": "2022-06-06T21:53:08.145Z"
   },
   {
    "duration": 5,
    "start_time": "2022-06-06T21:53:36.785Z"
   },
   {
    "duration": 6,
    "start_time": "2022-06-06T21:53:57.097Z"
   },
   {
    "duration": 9,
    "start_time": "2022-06-06T21:54:35.249Z"
   },
   {
    "duration": 18,
    "start_time": "2022-06-06T21:55:51.881Z"
   },
   {
    "duration": 11,
    "start_time": "2022-06-06T21:56:06.808Z"
   },
   {
    "duration": 128,
    "start_time": "2022-06-06T21:56:34.112Z"
   },
   {
    "duration": 20,
    "start_time": "2022-06-06T21:56:49.183Z"
   },
   {
    "duration": 20,
    "start_time": "2022-06-06T21:57:45.696Z"
   },
   {
    "duration": 22,
    "start_time": "2022-06-06T21:58:29.319Z"
   },
   {
    "duration": 4,
    "start_time": "2022-06-06T22:10:00.096Z"
   },
   {
    "duration": 5,
    "start_time": "2022-06-06T22:10:04.568Z"
   },
   {
    "duration": 10,
    "start_time": "2022-06-06T22:10:09.673Z"
   },
   {
    "duration": 19,
    "start_time": "2022-06-06T22:11:15.696Z"
   },
   {
    "duration": 41,
    "start_time": "2022-06-07T12:09:48.268Z"
   }
  ],
  "kernelspec": {
   "display_name": "Python 3 (ipykernel)",
   "language": "python",
   "name": "python3"
  },
  "language_info": {
   "codemirror_mode": {
    "name": "ipython",
    "version": 3
   },
   "file_extension": ".py",
   "mimetype": "text/x-python",
   "name": "python",
   "nbconvert_exporter": "python",
   "pygments_lexer": "ipython3",
   "version": "3.9.7"
  },
  "toc": {
   "base_numbering": 1,
   "nav_menu": {},
   "number_sections": true,
   "sideBar": true,
   "skip_h1_title": true,
   "title_cell": "Table of Contents",
   "title_sidebar": "Contents",
   "toc_cell": false,
   "toc_position": {},
   "toc_section_display": true,
   "toc_window_display": true
  }
 },
 "nbformat": 4,
 "nbformat_minor": 5
}
