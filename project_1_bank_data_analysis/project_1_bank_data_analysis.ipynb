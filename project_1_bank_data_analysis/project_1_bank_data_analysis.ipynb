{
 "cells": [
  {
   "cell_type": "markdown",
   "id": "453dd105",
   "metadata": {},
   "source": [
    "<h1>Содержание<span class=\"tocSkip\"></span></h1>\n",
    "\n",
    "<div class=\"toc\">\n",
    "    <ul class=\"toc-item\">\n",
    "        <li>\n",
    "            <span>\n",
    "                <a href=\"#Описание-проекта-—-Исследование-надёжности-заёмщиков\" data-toc-modified-id=\"Описание-проекта-—-Исследование-надёжности-заёмщиков-1\">\n",
    "                    <span class=\"toc-item-num\">\n",
    "                        1&nbsp;&nbsp;\n",
    "                    </span>\n",
    "                    Описание проекта — Исследование надёжности заёмщиков\n",
    "                </a>\n",
    "            </span>\n",
    "            <ul class=\"toc-item\">\n",
    "                <li>\n",
    "                    <span>\n",
    "                        <a href=\"#Цели-и-задачи-проекта\" data-toc-modified-id=\"Цели-и-задачи-проекта-1.1\">\n",
    "                            <span class=\"toc-item-num\">\n",
    "                                1.1&nbsp;&nbsp;\n",
    "                            </span>\n",
    "                            Цели и задачи проекта\n",
    "                        </a>\n",
    "                    </span>\n",
    "                </li>\n",
    "                <li>\n",
    "                    <span>\n",
    "                        <a href=\"#Описание-данных\" data-toc-modified-id=\"Описание-данных-1.2\">\n",
    "                            <span class=\"toc-item-num\">\n",
    "                                1.2&nbsp;&nbsp;\n",
    "                            </span>\n",
    "                            Описание данных\n",
    "                        </a>\n",
    "                    </span>\n",
    "                </li>\n",
    "                <li>\n",
    "                    <span>\n",
    "                        <a href=\"#План-работы\" data-toc-modified-id=\"План-работы-1.3\">\n",
    "                            <span class=\"toc-item-num\">\n",
    "                                1.3&nbsp;&nbsp;\n",
    "                            </span>\n",
    "                            План работы\n",
    "                        </a>\n",
    "                    </span>\n",
    "                </li>\n",
    "            </ul>\n",
    "        </li>\n",
    "        <li>\n",
    "            <span>\n",
    "                <a href=\"#Загрузка,-обзор-и-подготовка-данных\" data-toc-modified-id=\"Загрузка,-обзор-и-подготовка-данных-2\">\n",
    "                    <span class=\"toc-item-num\">\n",
    "                        2&nbsp;&nbsp;\n",
    "                    </span>\n",
    "                    Загрузка, обзор и подготовка данных\n",
    "                </a>\n",
    "            </span>\n",
    "            <ul class=\"toc-item\">\n",
    "                <li>\n",
    "                    <span>\n",
    "                        <a href=\"#Загрузка-данных\" data-toc-modified-id=\"Загрузка-данных-2.1\">\n",
    "                            <span class=\"toc-item-num\">\n",
    "                                2.1&nbsp;&nbsp;\n",
    "                            </span>\n",
    "                            Загрузка данных\n",
    "                        </a>\n",
    "                    </span>\n",
    "                </li>\n",
    "                <li>\n",
    "                    <span>\n",
    "                        <a href=\"#Обзор-данных\" data-toc-modified-id=\"Обзор-данных-2.2\">\n",
    "                            <span class=\"toc-item-num\">\n",
    "                                2.2&nbsp;&nbsp;\n",
    "                            </span>\n",
    "                            Обзор данных\n",
    "                        </a>\n",
    "                    </span>\n",
    "                </li>\n",
    "                <li>\n",
    "                    <span>\n",
    "                        <a href=\"#Подготовка-данных\" data-toc-modified-id=\"Подготовка-данных-2.3\">\n",
    "                            <span class=\"toc-item-num\">\n",
    "                                2.3&nbsp;&nbsp;\n",
    "                            </span>\n",
    "                            Подготовка данных\n",
    "                        </a>\n",
    "                    </span>\n",
    "                    <ul class=\"toc-item\">\n",
    "                        <li>\n",
    "                            <span>\n",
    "                                <a href=\"#Заполнение-пропусков\" data-toc-modified-id=\"Заполнение-пропусков-2.3.1\">\n",
    "                                    <span class=\"toc-item-num\">\n",
    "                                        2.3.1&nbsp;&nbsp;\n",
    "                                    </span>\n",
    "                                    Заполнение пропусков\n",
    "                                </a>\n",
    "                            </span>\n",
    "                        </li>\n",
    "                        <li>\n",
    "                            <span>\n",
    "                                <a href=\"#Проверка-данных-на-аномалии\" data-toc-modified-id=\"Проверка-данных-на-аномалии-2.3.2\">\n",
    "                                    <span class=\"toc-item-num\">\n",
    "                                        2.3.2&nbsp;&nbsp;\n",
    "                                    </span>\n",
    "                                    Проверка данных на аномалии\n",
    "                                </a>\n",
    "                            </span>\n",
    "                        </li>\n",
    "                        <li>\n",
    "                            <span>\n",
    "                                <a href=\"#Изменение-типов-данных\" data-toc-modified-id=\"Изменение-типов-данных-2.3.3\">\n",
    "                                    <span class=\"toc-item-num\">\n",
    "                                        2.3.3&nbsp;&nbsp;\n",
    "                                    </span>\n",
    "                                    Изменение типов данных\n",
    "                                </a>\n",
    "                            </span>\n",
    "                        </li>\n",
    "                        <li>\n",
    "                            <span>\n",
    "                                <a href=\"#Удаление-дубликатов\" data-toc-modified-id=\"Удаление-дубликатов-2.3.4\">\n",
    "                                    <span class=\"toc-item-num\">\n",
    "                                        2.3.4&nbsp;&nbsp;\n",
    "                                    </span>\n",
    "                                    Удаление дубликатов\n",
    "                                </a>\n",
    "                            </span>\n",
    "                        </li>\n",
    "                        <li>\n",
    "                            <span>\n",
    "                                <a href=\"#Создание-дополнительных-датафреймов\" data-toc-modified-id=\"Создание-дополнительных-датафреймов-2.3.5\">\n",
    "                                    <span class=\"toc-item-num\">\n",
    "                                        2.3.5&nbsp;&nbsp;\n",
    "                                    </span>\n",
    "                                    Создание дополнительных датафреймов\n",
    "                                </a>\n",
    "                            </span>\n",
    "                        </li>\n",
    "                        <li>\n",
    "                            <span>\n",
    "                                <a href=\"#Категоризация-дохода\" data-toc-modified-id=\"Категоризация-дохода-2.3.6\">\n",
    "                                    <span class=\"toc-item-num\">\n",
    "                                        2.3.6&nbsp;&nbsp;\n",
    "                                    </span>\n",
    "                                    Категоризация дохода\n",
    "                                </a>\n",
    "                            </span>\n",
    "                        </li>\n",
    "                        <li>\n",
    "                            <span>\n",
    "                                <a href=\"#Категоризация-целей-кредита\" data-toc-modified-id=\"Категоризация-целей-кредита-2.3.7\">\n",
    "                                    <span class=\"toc-item-num\">\n",
    "                                        2.3.7&nbsp;&nbsp;\n",
    "                                    </span>\n",
    "                                    Категоризация целей кредита\n",
    "                                </a>\n",
    "                            </span>\n",
    "                        </li>\n",
    "                    </ul>    \n",
    "                </li>\n",
    "            </ul>\n",
    "        </li>\n",
    "        <li>\n",
    "            <span>\n",
    "                <a href=\"#Анализ-зависимости-между-признаками\" data-toc-modified-id=\"Анализ-зависимости-между-признаками-3\">\n",
    "                    <span class=\"toc-item-num\">\n",
    "                        3&nbsp;&nbsp;\n",
    "                    </span>\n",
    "                    Анализ зависимости между признаками\n",
    "                </a>\n",
    "            </span>\n",
    "            <ul class=\"toc-item\">\n",
    "                <li>\n",
    "                    <span>\n",
    "                        <a href=\"#Зависимость-между-количеством-детей-и-возвратом-кредита-в-срок\" data-toc-modified-id=\"Зависимость-между-количеством-детей-и-возвратом-кредита-в-срок-3.1\">\n",
    "                            <span class=\"toc-item-num\">\n",
    "                                3.1&nbsp;&nbsp;\n",
    "                            </span>\n",
    "                            Зависимость между количеством детей и возвратом кредита в срок\n",
    "                        </a>\n",
    "                    </span>\n",
    "                </li>\n",
    "                <li>\n",
    "                    <span>\n",
    "                        <a href=\"#Зависимость-между-семейным-положением-и-возвратом-кредита-в-срок\" data-toc-modified-id=\"Зависимость-между-семейным-положением-и-возвратом-кредита-в-срок-3.2\">\n",
    "                            <span class=\"toc-item-num\">\n",
    "                                3.2&nbsp;&nbsp;\n",
    "                            </span>\n",
    "                            Зависимость между семейным положением и возвратом кредита в срок\n",
    "                        </a>\n",
    "                    </span>\n",
    "                </li>\n",
    "                <li>\n",
    "                    <span>\n",
    "                        <a href=\"#Зависимость-между-уровнем-дохода-и-возвратом-кредита-в-срок\" data-toc-modified-id=\"Зависимость-между-уровнем-дохода-и-возвратом-кредита-в-срок-3.3\">\n",
    "                            <span class=\"toc-item-num\">\n",
    "                                3.3&nbsp;&nbsp;\n",
    "                            </span>\n",
    "                            Зависимость между уровнем дохода и возвратом кредита в срок\n",
    "                        </a>\n",
    "                    </span>\n",
    "                </li>\n",
    "                <li>\n",
    "                    <span>\n",
    "                        <a href=\"#Зависимость-между-целью-кредита-и-возвратом-кредита-в-срок\" data-toc-modified-id=\"Зависимость-между-целью-кредита-и-возвратом-кредита-в-срок-3.4\">\n",
    "                            <span class=\"toc-item-num\">\n",
    "                                3.4&nbsp;&nbsp;\n",
    "                            </span>\n",
    "                            Зависимость между целью кредита и возвратом кредита в срок\n",
    "                        </a>\n",
    "                    </span>\n",
    "                </li>\n",
    "            </ul>\n",
    "        </li>\n",
    "        <li>\n",
    "            <span>\n",
    "                <a href=\"#Общий-вывод\" data-toc-modified-id=\"Общий-вывод-4\">\n",
    "                    <span class=\"toc-item-num\">\n",
    "                        4&nbsp;&nbsp;\n",
    "                    </span>\n",
    "                    Общий вывод\n",
    "                </a>\n",
    "            </span>\n",
    "        </li>\n",
    "    </ul>\n",
    "</div>"
   ]
  },
  {
   "cell_type": "markdown",
   "id": "008b5c4c",
   "metadata": {},
   "source": [
    "# Описание проекта — Исследование надёжности заёмщиков\n",
    "## Цели и задачи проекта\n",
    "\n",
    "Заказчик — кредитный отдел банка. Нужно проанализировать, влияет ли семейное положение и количество детей клиента на факт погашения кредита в срок.\n",
    "\n",
    "## Описание данных\n",
    "\n",
    "Банк предоставил статистику о платёжеспособности клиентов в виде датасета со следующими столбцами:\n",
    "+ `children` — количество детей в семье\n",
    "+ `days_employed` — общий трудовой стаж в днях\n",
    "+ `dob_years` — возраст клиента в годах\n",
    "+ `education` — уровень образования клиента\n",
    "+ `education_id` — идентификатор уровня образования\n",
    "+ `family_status` — семейное положение\n",
    "+ `family_status_id` — идентификатор семейного положения\n",
    "+ `gender` — пол клиента\n",
    "+ `income_type` — тип занятости\n",
    "+ `debt` — имел ли задолженность по возврату кредитов\n",
    "+ `total_income` — ежемесячный доход\n",
    "+ `purpose` — цель получения кредита\n",
    "\n",
    "## План работы\n",
    "\n",
    "+ Загрузить и изучить данные\n",
    "+ Провести предобработку данных\n",
    "+ Проанализировать зависимость между возвратом кредита в срок и между:\n",
    "    + количеством детей\n",
    "    + семейным положением\n",
    "    + уровнем дохода\n",
    "    + целью кредита\n",
    "+ Сделать общий вывод"
   ]
  },
  {
   "cell_type": "markdown",
   "id": "19e16965",
   "metadata": {},
   "source": [
    "# Загрузка, обзор и подготовка данных\n",
    "## Загрузка данных"
   ]
  },
  {
   "cell_type": "markdown",
   "id": "4adc6b03",
   "metadata": {},
   "source": [
    "Импортируем библиотеку `pandas` и прочитаем файл `data.csv`"
   ]
  },
  {
   "cell_type": "code",
   "execution_count": 1,
   "id": "2a24bc3c",
   "metadata": {},
   "outputs": [],
   "source": [
    "import pandas as pd"
   ]
  },
  {
   "cell_type": "code",
   "execution_count": 2,
   "id": "ca0e2a65",
   "metadata": {},
   "outputs": [],
   "source": [
    "df = pd.read_csv('data.csv')"
   ]
  },
  {
   "cell_type": "markdown",
   "id": "a44d65e5",
   "metadata": {},
   "source": [
    "## Обзор данных\n",
    "Посмотрим первые и последние 10 строк таблицы `df`"
   ]
  },
  {
   "cell_type": "code",
   "execution_count": 3,
   "id": "7c91c36a",
   "metadata": {},
   "outputs": [
    {
     "data": {
      "text/html": [
       "<div>\n",
       "<style scoped>\n",
       "    .dataframe tbody tr th:only-of-type {\n",
       "        vertical-align: middle;\n",
       "    }\n",
       "\n",
       "    .dataframe tbody tr th {\n",
       "        vertical-align: top;\n",
       "    }\n",
       "\n",
       "    .dataframe thead th {\n",
       "        text-align: right;\n",
       "    }\n",
       "</style>\n",
       "<table border=\"1\" class=\"dataframe\">\n",
       "  <thead>\n",
       "    <tr style=\"text-align: right;\">\n",
       "      <th></th>\n",
       "      <th>children</th>\n",
       "      <th>days_employed</th>\n",
       "      <th>dob_years</th>\n",
       "      <th>education</th>\n",
       "      <th>education_id</th>\n",
       "      <th>family_status</th>\n",
       "      <th>family_status_id</th>\n",
       "      <th>gender</th>\n",
       "      <th>income_type</th>\n",
       "      <th>debt</th>\n",
       "      <th>total_income</th>\n",
       "      <th>purpose</th>\n",
       "    </tr>\n",
       "  </thead>\n",
       "  <tbody>\n",
       "    <tr>\n",
       "      <th>0</th>\n",
       "      <td>1</td>\n",
       "      <td>-8437.673028</td>\n",
       "      <td>42</td>\n",
       "      <td>высшее</td>\n",
       "      <td>0</td>\n",
       "      <td>женат / замужем</td>\n",
       "      <td>0</td>\n",
       "      <td>F</td>\n",
       "      <td>сотрудник</td>\n",
       "      <td>0</td>\n",
       "      <td>253875.639453</td>\n",
       "      <td>покупка жилья</td>\n",
       "    </tr>\n",
       "    <tr>\n",
       "      <th>1</th>\n",
       "      <td>1</td>\n",
       "      <td>-4024.803754</td>\n",
       "      <td>36</td>\n",
       "      <td>среднее</td>\n",
       "      <td>1</td>\n",
       "      <td>женат / замужем</td>\n",
       "      <td>0</td>\n",
       "      <td>F</td>\n",
       "      <td>сотрудник</td>\n",
       "      <td>0</td>\n",
       "      <td>112080.014102</td>\n",
       "      <td>приобретение автомобиля</td>\n",
       "    </tr>\n",
       "    <tr>\n",
       "      <th>2</th>\n",
       "      <td>0</td>\n",
       "      <td>-5623.422610</td>\n",
       "      <td>33</td>\n",
       "      <td>Среднее</td>\n",
       "      <td>1</td>\n",
       "      <td>женат / замужем</td>\n",
       "      <td>0</td>\n",
       "      <td>M</td>\n",
       "      <td>сотрудник</td>\n",
       "      <td>0</td>\n",
       "      <td>145885.952297</td>\n",
       "      <td>покупка жилья</td>\n",
       "    </tr>\n",
       "    <tr>\n",
       "      <th>3</th>\n",
       "      <td>3</td>\n",
       "      <td>-4124.747207</td>\n",
       "      <td>32</td>\n",
       "      <td>среднее</td>\n",
       "      <td>1</td>\n",
       "      <td>женат / замужем</td>\n",
       "      <td>0</td>\n",
       "      <td>M</td>\n",
       "      <td>сотрудник</td>\n",
       "      <td>0</td>\n",
       "      <td>267628.550329</td>\n",
       "      <td>дополнительное образование</td>\n",
       "    </tr>\n",
       "    <tr>\n",
       "      <th>4</th>\n",
       "      <td>0</td>\n",
       "      <td>340266.072047</td>\n",
       "      <td>53</td>\n",
       "      <td>среднее</td>\n",
       "      <td>1</td>\n",
       "      <td>гражданский брак</td>\n",
       "      <td>1</td>\n",
       "      <td>F</td>\n",
       "      <td>пенсионер</td>\n",
       "      <td>0</td>\n",
       "      <td>158616.077870</td>\n",
       "      <td>сыграть свадьбу</td>\n",
       "    </tr>\n",
       "    <tr>\n",
       "      <th>5</th>\n",
       "      <td>0</td>\n",
       "      <td>-926.185831</td>\n",
       "      <td>27</td>\n",
       "      <td>высшее</td>\n",
       "      <td>0</td>\n",
       "      <td>гражданский брак</td>\n",
       "      <td>1</td>\n",
       "      <td>M</td>\n",
       "      <td>компаньон</td>\n",
       "      <td>0</td>\n",
       "      <td>255763.565419</td>\n",
       "      <td>покупка жилья</td>\n",
       "    </tr>\n",
       "    <tr>\n",
       "      <th>6</th>\n",
       "      <td>0</td>\n",
       "      <td>-2879.202052</td>\n",
       "      <td>43</td>\n",
       "      <td>высшее</td>\n",
       "      <td>0</td>\n",
       "      <td>женат / замужем</td>\n",
       "      <td>0</td>\n",
       "      <td>F</td>\n",
       "      <td>компаньон</td>\n",
       "      <td>0</td>\n",
       "      <td>240525.971920</td>\n",
       "      <td>операции с жильем</td>\n",
       "    </tr>\n",
       "    <tr>\n",
       "      <th>7</th>\n",
       "      <td>0</td>\n",
       "      <td>-152.779569</td>\n",
       "      <td>50</td>\n",
       "      <td>СРЕДНЕЕ</td>\n",
       "      <td>1</td>\n",
       "      <td>женат / замужем</td>\n",
       "      <td>0</td>\n",
       "      <td>M</td>\n",
       "      <td>сотрудник</td>\n",
       "      <td>0</td>\n",
       "      <td>135823.934197</td>\n",
       "      <td>образование</td>\n",
       "    </tr>\n",
       "    <tr>\n",
       "      <th>8</th>\n",
       "      <td>2</td>\n",
       "      <td>-6929.865299</td>\n",
       "      <td>35</td>\n",
       "      <td>ВЫСШЕЕ</td>\n",
       "      <td>0</td>\n",
       "      <td>гражданский брак</td>\n",
       "      <td>1</td>\n",
       "      <td>F</td>\n",
       "      <td>сотрудник</td>\n",
       "      <td>0</td>\n",
       "      <td>95856.832424</td>\n",
       "      <td>на проведение свадьбы</td>\n",
       "    </tr>\n",
       "    <tr>\n",
       "      <th>9</th>\n",
       "      <td>0</td>\n",
       "      <td>-2188.756445</td>\n",
       "      <td>41</td>\n",
       "      <td>среднее</td>\n",
       "      <td>1</td>\n",
       "      <td>женат / замужем</td>\n",
       "      <td>0</td>\n",
       "      <td>M</td>\n",
       "      <td>сотрудник</td>\n",
       "      <td>0</td>\n",
       "      <td>144425.938277</td>\n",
       "      <td>покупка жилья для семьи</td>\n",
       "    </tr>\n",
       "  </tbody>\n",
       "</table>\n",
       "</div>"
      ],
      "text/plain": [
       "   children  days_employed  dob_years education  education_id  \\\n",
       "0         1   -8437.673028         42    высшее             0   \n",
       "1         1   -4024.803754         36   среднее             1   \n",
       "2         0   -5623.422610         33   Среднее             1   \n",
       "3         3   -4124.747207         32   среднее             1   \n",
       "4         0  340266.072047         53   среднее             1   \n",
       "5         0    -926.185831         27    высшее             0   \n",
       "6         0   -2879.202052         43    высшее             0   \n",
       "7         0    -152.779569         50   СРЕДНЕЕ             1   \n",
       "8         2   -6929.865299         35    ВЫСШЕЕ             0   \n",
       "9         0   -2188.756445         41   среднее             1   \n",
       "\n",
       "      family_status  family_status_id gender income_type  debt   total_income  \\\n",
       "0   женат / замужем                 0      F   сотрудник     0  253875.639453   \n",
       "1   женат / замужем                 0      F   сотрудник     0  112080.014102   \n",
       "2   женат / замужем                 0      M   сотрудник     0  145885.952297   \n",
       "3   женат / замужем                 0      M   сотрудник     0  267628.550329   \n",
       "4  гражданский брак                 1      F   пенсионер     0  158616.077870   \n",
       "5  гражданский брак                 1      M   компаньон     0  255763.565419   \n",
       "6   женат / замужем                 0      F   компаньон     0  240525.971920   \n",
       "7   женат / замужем                 0      M   сотрудник     0  135823.934197   \n",
       "8  гражданский брак                 1      F   сотрудник     0   95856.832424   \n",
       "9   женат / замужем                 0      M   сотрудник     0  144425.938277   \n",
       "\n",
       "                      purpose  \n",
       "0               покупка жилья  \n",
       "1     приобретение автомобиля  \n",
       "2               покупка жилья  \n",
       "3  дополнительное образование  \n",
       "4             сыграть свадьбу  \n",
       "5               покупка жилья  \n",
       "6           операции с жильем  \n",
       "7                 образование  \n",
       "8       на проведение свадьбы  \n",
       "9     покупка жилья для семьи  "
      ]
     },
     "execution_count": 3,
     "metadata": {},
     "output_type": "execute_result"
    }
   ],
   "source": [
    "df.head(10)"
   ]
  },
  {
   "cell_type": "code",
   "execution_count": 4,
   "id": "d4aa4830",
   "metadata": {},
   "outputs": [
    {
     "data": {
      "text/html": [
       "<div>\n",
       "<style scoped>\n",
       "    .dataframe tbody tr th:only-of-type {\n",
       "        vertical-align: middle;\n",
       "    }\n",
       "\n",
       "    .dataframe tbody tr th {\n",
       "        vertical-align: top;\n",
       "    }\n",
       "\n",
       "    .dataframe thead th {\n",
       "        text-align: right;\n",
       "    }\n",
       "</style>\n",
       "<table border=\"1\" class=\"dataframe\">\n",
       "  <thead>\n",
       "    <tr style=\"text-align: right;\">\n",
       "      <th></th>\n",
       "      <th>children</th>\n",
       "      <th>days_employed</th>\n",
       "      <th>dob_years</th>\n",
       "      <th>education</th>\n",
       "      <th>education_id</th>\n",
       "      <th>family_status</th>\n",
       "      <th>family_status_id</th>\n",
       "      <th>gender</th>\n",
       "      <th>income_type</th>\n",
       "      <th>debt</th>\n",
       "      <th>total_income</th>\n",
       "      <th>purpose</th>\n",
       "    </tr>\n",
       "  </thead>\n",
       "  <tbody>\n",
       "    <tr>\n",
       "      <th>21515</th>\n",
       "      <td>1</td>\n",
       "      <td>-467.685130</td>\n",
       "      <td>28</td>\n",
       "      <td>среднее</td>\n",
       "      <td>1</td>\n",
       "      <td>женат / замужем</td>\n",
       "      <td>0</td>\n",
       "      <td>F</td>\n",
       "      <td>сотрудник</td>\n",
       "      <td>1</td>\n",
       "      <td>109486.327999</td>\n",
       "      <td>заняться образованием</td>\n",
       "    </tr>\n",
       "    <tr>\n",
       "      <th>21516</th>\n",
       "      <td>0</td>\n",
       "      <td>-914.391429</td>\n",
       "      <td>42</td>\n",
       "      <td>высшее</td>\n",
       "      <td>0</td>\n",
       "      <td>женат / замужем</td>\n",
       "      <td>0</td>\n",
       "      <td>F</td>\n",
       "      <td>компаньон</td>\n",
       "      <td>0</td>\n",
       "      <td>322807.776603</td>\n",
       "      <td>покупка своего жилья</td>\n",
       "    </tr>\n",
       "    <tr>\n",
       "      <th>21517</th>\n",
       "      <td>0</td>\n",
       "      <td>-404.679034</td>\n",
       "      <td>42</td>\n",
       "      <td>высшее</td>\n",
       "      <td>0</td>\n",
       "      <td>гражданский брак</td>\n",
       "      <td>1</td>\n",
       "      <td>F</td>\n",
       "      <td>компаньон</td>\n",
       "      <td>0</td>\n",
       "      <td>178059.553491</td>\n",
       "      <td>на покупку своего автомобиля</td>\n",
       "    </tr>\n",
       "    <tr>\n",
       "      <th>21518</th>\n",
       "      <td>0</td>\n",
       "      <td>373995.710838</td>\n",
       "      <td>59</td>\n",
       "      <td>СРЕДНЕЕ</td>\n",
       "      <td>1</td>\n",
       "      <td>женат / замужем</td>\n",
       "      <td>0</td>\n",
       "      <td>F</td>\n",
       "      <td>пенсионер</td>\n",
       "      <td>0</td>\n",
       "      <td>153864.650328</td>\n",
       "      <td>сделка с автомобилем</td>\n",
       "    </tr>\n",
       "    <tr>\n",
       "      <th>21519</th>\n",
       "      <td>1</td>\n",
       "      <td>-2351.431934</td>\n",
       "      <td>37</td>\n",
       "      <td>ученая степень</td>\n",
       "      <td>4</td>\n",
       "      <td>в разводе</td>\n",
       "      <td>3</td>\n",
       "      <td>M</td>\n",
       "      <td>сотрудник</td>\n",
       "      <td>0</td>\n",
       "      <td>115949.039788</td>\n",
       "      <td>покупка коммерческой недвижимости</td>\n",
       "    </tr>\n",
       "    <tr>\n",
       "      <th>21520</th>\n",
       "      <td>1</td>\n",
       "      <td>-4529.316663</td>\n",
       "      <td>43</td>\n",
       "      <td>среднее</td>\n",
       "      <td>1</td>\n",
       "      <td>гражданский брак</td>\n",
       "      <td>1</td>\n",
       "      <td>F</td>\n",
       "      <td>компаньон</td>\n",
       "      <td>0</td>\n",
       "      <td>224791.862382</td>\n",
       "      <td>операции с жильем</td>\n",
       "    </tr>\n",
       "    <tr>\n",
       "      <th>21521</th>\n",
       "      <td>0</td>\n",
       "      <td>343937.404131</td>\n",
       "      <td>67</td>\n",
       "      <td>среднее</td>\n",
       "      <td>1</td>\n",
       "      <td>женат / замужем</td>\n",
       "      <td>0</td>\n",
       "      <td>F</td>\n",
       "      <td>пенсионер</td>\n",
       "      <td>0</td>\n",
       "      <td>155999.806512</td>\n",
       "      <td>сделка с автомобилем</td>\n",
       "    </tr>\n",
       "    <tr>\n",
       "      <th>21522</th>\n",
       "      <td>1</td>\n",
       "      <td>-2113.346888</td>\n",
       "      <td>38</td>\n",
       "      <td>среднее</td>\n",
       "      <td>1</td>\n",
       "      <td>гражданский брак</td>\n",
       "      <td>1</td>\n",
       "      <td>M</td>\n",
       "      <td>сотрудник</td>\n",
       "      <td>1</td>\n",
       "      <td>89672.561153</td>\n",
       "      <td>недвижимость</td>\n",
       "    </tr>\n",
       "    <tr>\n",
       "      <th>21523</th>\n",
       "      <td>3</td>\n",
       "      <td>-3112.481705</td>\n",
       "      <td>38</td>\n",
       "      <td>среднее</td>\n",
       "      <td>1</td>\n",
       "      <td>женат / замужем</td>\n",
       "      <td>0</td>\n",
       "      <td>M</td>\n",
       "      <td>сотрудник</td>\n",
       "      <td>1</td>\n",
       "      <td>244093.050500</td>\n",
       "      <td>на покупку своего автомобиля</td>\n",
       "    </tr>\n",
       "    <tr>\n",
       "      <th>21524</th>\n",
       "      <td>2</td>\n",
       "      <td>-1984.507589</td>\n",
       "      <td>40</td>\n",
       "      <td>среднее</td>\n",
       "      <td>1</td>\n",
       "      <td>женат / замужем</td>\n",
       "      <td>0</td>\n",
       "      <td>F</td>\n",
       "      <td>сотрудник</td>\n",
       "      <td>0</td>\n",
       "      <td>82047.418899</td>\n",
       "      <td>на покупку автомобиля</td>\n",
       "    </tr>\n",
       "  </tbody>\n",
       "</table>\n",
       "</div>"
      ],
      "text/plain": [
       "       children  days_employed  dob_years       education  education_id  \\\n",
       "21515         1    -467.685130         28         среднее             1   \n",
       "21516         0    -914.391429         42          высшее             0   \n",
       "21517         0    -404.679034         42          высшее             0   \n",
       "21518         0  373995.710838         59         СРЕДНЕЕ             1   \n",
       "21519         1   -2351.431934         37  ученая степень             4   \n",
       "21520         1   -4529.316663         43         среднее             1   \n",
       "21521         0  343937.404131         67         среднее             1   \n",
       "21522         1   -2113.346888         38         среднее             1   \n",
       "21523         3   -3112.481705         38         среднее             1   \n",
       "21524         2   -1984.507589         40         среднее             1   \n",
       "\n",
       "          family_status  family_status_id gender income_type  debt  \\\n",
       "21515   женат / замужем                 0      F   сотрудник     1   \n",
       "21516   женат / замужем                 0      F   компаньон     0   \n",
       "21517  гражданский брак                 1      F   компаньон     0   \n",
       "21518   женат / замужем                 0      F   пенсионер     0   \n",
       "21519         в разводе                 3      M   сотрудник     0   \n",
       "21520  гражданский брак                 1      F   компаньон     0   \n",
       "21521   женат / замужем                 0      F   пенсионер     0   \n",
       "21522  гражданский брак                 1      M   сотрудник     1   \n",
       "21523   женат / замужем                 0      M   сотрудник     1   \n",
       "21524   женат / замужем                 0      F   сотрудник     0   \n",
       "\n",
       "        total_income                            purpose  \n",
       "21515  109486.327999              заняться образованием  \n",
       "21516  322807.776603               покупка своего жилья  \n",
       "21517  178059.553491       на покупку своего автомобиля  \n",
       "21518  153864.650328               сделка с автомобилем  \n",
       "21519  115949.039788  покупка коммерческой недвижимости  \n",
       "21520  224791.862382                  операции с жильем  \n",
       "21521  155999.806512               сделка с автомобилем  \n",
       "21522   89672.561153                       недвижимость  \n",
       "21523  244093.050500       на покупку своего автомобиля  \n",
       "21524   82047.418899              на покупку автомобиля  "
      ]
     },
     "execution_count": 4,
     "metadata": {},
     "output_type": "execute_result"
    }
   ],
   "source": [
    "df.tail(10)"
   ]
  },
  {
   "cell_type": "markdown",
   "id": "f70bb195",
   "metadata": {},
   "source": [
    "Посмотрим общую информацию о данных в таблице `df`"
   ]
  },
  {
   "cell_type": "code",
   "execution_count": 5,
   "id": "bf04c475",
   "metadata": {},
   "outputs": [
    {
     "name": "stdout",
     "output_type": "stream",
     "text": [
      "<class 'pandas.core.frame.DataFrame'>\n",
      "RangeIndex: 21525 entries, 0 to 21524\n",
      "Data columns (total 12 columns):\n",
      " #   Column            Non-Null Count  Dtype  \n",
      "---  ------            --------------  -----  \n",
      " 0   children          21525 non-null  int64  \n",
      " 1   days_employed     19351 non-null  float64\n",
      " 2   dob_years         21525 non-null  int64  \n",
      " 3   education         21525 non-null  object \n",
      " 4   education_id      21525 non-null  int64  \n",
      " 5   family_status     21525 non-null  object \n",
      " 6   family_status_id  21525 non-null  int64  \n",
      " 7   gender            21525 non-null  object \n",
      " 8   income_type       21525 non-null  object \n",
      " 9   debt              21525 non-null  int64  \n",
      " 10  total_income      19351 non-null  float64\n",
      " 11  purpose           21525 non-null  object \n",
      "dtypes: float64(2), int64(5), object(5)\n",
      "memory usage: 2.0+ MB\n"
     ]
    }
   ],
   "source": [
    "df.info()"
   ]
  },
  {
   "cell_type": "markdown",
   "id": "c95d8d27",
   "metadata": {},
   "source": [
    "Посмотрим названия колонок таблицы `df`"
   ]
  },
  {
   "cell_type": "code",
   "execution_count": 6,
   "id": "66256680",
   "metadata": {},
   "outputs": [
    {
     "data": {
      "text/plain": [
       "Index(['children', 'days_employed', 'dob_years', 'education', 'education_id',\n",
       "       'family_status', 'family_status_id', 'gender', 'income_type', 'debt',\n",
       "       'total_income', 'purpose'],\n",
       "      dtype='object')"
      ]
     },
     "execution_count": 6,
     "metadata": {},
     "output_type": "execute_result"
    }
   ],
   "source": [
    "df.columns"
   ]
  },
  {
   "cell_type": "markdown",
   "id": "ff47f281",
   "metadata": {},
   "source": [
    "ИТОГО:\n",
    "1. Мы работаем с таблицей размером 21525 строк на 12 столбцов.\n",
    "2. Проблем в названии колонок нет.\n",
    "3. Количество значений в столбцах различается. Значит в данных есть пропущенные значения.\n",
    "4. Общий трудовой стаж в днях представлен как `float`, но по своей сути это `int`.\n",
    "5. Общий трудовой стаж является отрицательным значением в некоторой части строк.\n",
    "6. Общий трудовой стаж в некоторых ячейках превышает 900 лет.\n",
    "7. В столбце `education` есть дубликаты написанные в разном регистре."
   ]
  },
  {
   "cell_type": "markdown",
   "id": "325bed0d",
   "metadata": {},
   "source": [
    "## Подготовка данных\n",
    "### Заполнение пропусков"
   ]
  },
  {
   "cell_type": "markdown",
   "id": "09f9c5af",
   "metadata": {},
   "source": [
    "Посчитаем количество пропущенных значений в таблице `df`"
   ]
  },
  {
   "cell_type": "code",
   "execution_count": 7,
   "id": "92e88802",
   "metadata": {},
   "outputs": [
    {
     "data": {
      "text/plain": [
       "children               0\n",
       "days_employed       2174\n",
       "dob_years              0\n",
       "education              0\n",
       "education_id           0\n",
       "family_status          0\n",
       "family_status_id       0\n",
       "gender                 0\n",
       "income_type            0\n",
       "debt                   0\n",
       "total_income        2174\n",
       "purpose                0\n",
       "dtype: int64"
      ]
     },
     "execution_count": 7,
     "metadata": {},
     "output_type": "execute_result"
    }
   ],
   "source": [
    "df.isna().sum()"
   ]
  },
  {
   "cell_type": "markdown",
   "id": "6a80b6d9",
   "metadata": {},
   "source": [
    "Количество пропусков в столбцах `days_employed` и `total_income` совпадает. Скорее всего пропуски сделаны в одинаковых строках. Создадим таблицу `skip_df`, чтобы проверить это. В неё войдут только те строки, в которых есть пропуски как в столбце `days_employed`, так и в столбце `total_income`."
   ]
  },
  {
   "cell_type": "code",
   "execution_count": 8,
   "id": "9000048f",
   "metadata": {},
   "outputs": [
    {
     "data": {
      "text/plain": [
       "2174"
      ]
     },
     "execution_count": 8,
     "metadata": {},
     "output_type": "execute_result"
    }
   ],
   "source": [
    "skip_df = df.loc[df['total_income'].isna() & df['days_employed'].isna()]\n",
    "len(skip_df)"
   ]
  },
  {
   "cell_type": "markdown",
   "id": "ad97a6b3",
   "metadata": {},
   "source": [
    "Количество строк таблицы `skip_df` совпадает с количеством пропусков, полученных ранее. Значит пропуски столбцов `days_employed` и `total_income` сделаны в одинаковых строках. Посмотрим первые и последние 10 строк таблицы `skip_df`."
   ]
  },
  {
   "cell_type": "code",
   "execution_count": 9,
   "id": "4e9a5d40",
   "metadata": {},
   "outputs": [
    {
     "data": {
      "text/html": [
       "<div>\n",
       "<style scoped>\n",
       "    .dataframe tbody tr th:only-of-type {\n",
       "        vertical-align: middle;\n",
       "    }\n",
       "\n",
       "    .dataframe tbody tr th {\n",
       "        vertical-align: top;\n",
       "    }\n",
       "\n",
       "    .dataframe thead th {\n",
       "        text-align: right;\n",
       "    }\n",
       "</style>\n",
       "<table border=\"1\" class=\"dataframe\">\n",
       "  <thead>\n",
       "    <tr style=\"text-align: right;\">\n",
       "      <th></th>\n",
       "      <th>children</th>\n",
       "      <th>days_employed</th>\n",
       "      <th>dob_years</th>\n",
       "      <th>education</th>\n",
       "      <th>education_id</th>\n",
       "      <th>family_status</th>\n",
       "      <th>family_status_id</th>\n",
       "      <th>gender</th>\n",
       "      <th>income_type</th>\n",
       "      <th>debt</th>\n",
       "      <th>total_income</th>\n",
       "      <th>purpose</th>\n",
       "    </tr>\n",
       "  </thead>\n",
       "  <tbody>\n",
       "    <tr>\n",
       "      <th>12</th>\n",
       "      <td>0</td>\n",
       "      <td>NaN</td>\n",
       "      <td>65</td>\n",
       "      <td>среднее</td>\n",
       "      <td>1</td>\n",
       "      <td>гражданский брак</td>\n",
       "      <td>1</td>\n",
       "      <td>M</td>\n",
       "      <td>пенсионер</td>\n",
       "      <td>0</td>\n",
       "      <td>NaN</td>\n",
       "      <td>сыграть свадьбу</td>\n",
       "    </tr>\n",
       "    <tr>\n",
       "      <th>26</th>\n",
       "      <td>0</td>\n",
       "      <td>NaN</td>\n",
       "      <td>41</td>\n",
       "      <td>среднее</td>\n",
       "      <td>1</td>\n",
       "      <td>женат / замужем</td>\n",
       "      <td>0</td>\n",
       "      <td>M</td>\n",
       "      <td>госслужащий</td>\n",
       "      <td>0</td>\n",
       "      <td>NaN</td>\n",
       "      <td>образование</td>\n",
       "    </tr>\n",
       "    <tr>\n",
       "      <th>29</th>\n",
       "      <td>0</td>\n",
       "      <td>NaN</td>\n",
       "      <td>63</td>\n",
       "      <td>среднее</td>\n",
       "      <td>1</td>\n",
       "      <td>Не женат / не замужем</td>\n",
       "      <td>4</td>\n",
       "      <td>F</td>\n",
       "      <td>пенсионер</td>\n",
       "      <td>0</td>\n",
       "      <td>NaN</td>\n",
       "      <td>строительство жилой недвижимости</td>\n",
       "    </tr>\n",
       "    <tr>\n",
       "      <th>41</th>\n",
       "      <td>0</td>\n",
       "      <td>NaN</td>\n",
       "      <td>50</td>\n",
       "      <td>среднее</td>\n",
       "      <td>1</td>\n",
       "      <td>женат / замужем</td>\n",
       "      <td>0</td>\n",
       "      <td>F</td>\n",
       "      <td>госслужащий</td>\n",
       "      <td>0</td>\n",
       "      <td>NaN</td>\n",
       "      <td>сделка с подержанным автомобилем</td>\n",
       "    </tr>\n",
       "    <tr>\n",
       "      <th>55</th>\n",
       "      <td>0</td>\n",
       "      <td>NaN</td>\n",
       "      <td>54</td>\n",
       "      <td>среднее</td>\n",
       "      <td>1</td>\n",
       "      <td>гражданский брак</td>\n",
       "      <td>1</td>\n",
       "      <td>F</td>\n",
       "      <td>пенсионер</td>\n",
       "      <td>1</td>\n",
       "      <td>NaN</td>\n",
       "      <td>сыграть свадьбу</td>\n",
       "    </tr>\n",
       "    <tr>\n",
       "      <th>65</th>\n",
       "      <td>0</td>\n",
       "      <td>NaN</td>\n",
       "      <td>21</td>\n",
       "      <td>среднее</td>\n",
       "      <td>1</td>\n",
       "      <td>Не женат / не замужем</td>\n",
       "      <td>4</td>\n",
       "      <td>M</td>\n",
       "      <td>компаньон</td>\n",
       "      <td>0</td>\n",
       "      <td>NaN</td>\n",
       "      <td>операции с коммерческой недвижимостью</td>\n",
       "    </tr>\n",
       "    <tr>\n",
       "      <th>67</th>\n",
       "      <td>0</td>\n",
       "      <td>NaN</td>\n",
       "      <td>52</td>\n",
       "      <td>высшее</td>\n",
       "      <td>0</td>\n",
       "      <td>женат / замужем</td>\n",
       "      <td>0</td>\n",
       "      <td>F</td>\n",
       "      <td>пенсионер</td>\n",
       "      <td>0</td>\n",
       "      <td>NaN</td>\n",
       "      <td>покупка жилья для семьи</td>\n",
       "    </tr>\n",
       "    <tr>\n",
       "      <th>72</th>\n",
       "      <td>1</td>\n",
       "      <td>NaN</td>\n",
       "      <td>32</td>\n",
       "      <td>высшее</td>\n",
       "      <td>0</td>\n",
       "      <td>женат / замужем</td>\n",
       "      <td>0</td>\n",
       "      <td>M</td>\n",
       "      <td>госслужащий</td>\n",
       "      <td>0</td>\n",
       "      <td>NaN</td>\n",
       "      <td>операции с коммерческой недвижимостью</td>\n",
       "    </tr>\n",
       "    <tr>\n",
       "      <th>82</th>\n",
       "      <td>2</td>\n",
       "      <td>NaN</td>\n",
       "      <td>50</td>\n",
       "      <td>высшее</td>\n",
       "      <td>0</td>\n",
       "      <td>женат / замужем</td>\n",
       "      <td>0</td>\n",
       "      <td>F</td>\n",
       "      <td>сотрудник</td>\n",
       "      <td>0</td>\n",
       "      <td>NaN</td>\n",
       "      <td>жилье</td>\n",
       "    </tr>\n",
       "    <tr>\n",
       "      <th>83</th>\n",
       "      <td>0</td>\n",
       "      <td>NaN</td>\n",
       "      <td>52</td>\n",
       "      <td>среднее</td>\n",
       "      <td>1</td>\n",
       "      <td>женат / замужем</td>\n",
       "      <td>0</td>\n",
       "      <td>M</td>\n",
       "      <td>сотрудник</td>\n",
       "      <td>0</td>\n",
       "      <td>NaN</td>\n",
       "      <td>жилье</td>\n",
       "    </tr>\n",
       "  </tbody>\n",
       "</table>\n",
       "</div>"
      ],
      "text/plain": [
       "    children  days_employed  dob_years education  education_id  \\\n",
       "12         0            NaN         65   среднее             1   \n",
       "26         0            NaN         41   среднее             1   \n",
       "29         0            NaN         63   среднее             1   \n",
       "41         0            NaN         50   среднее             1   \n",
       "55         0            NaN         54   среднее             1   \n",
       "65         0            NaN         21   среднее             1   \n",
       "67         0            NaN         52    высшее             0   \n",
       "72         1            NaN         32    высшее             0   \n",
       "82         2            NaN         50    высшее             0   \n",
       "83         0            NaN         52   среднее             1   \n",
       "\n",
       "            family_status  family_status_id gender  income_type  debt  \\\n",
       "12       гражданский брак                 1      M    пенсионер     0   \n",
       "26        женат / замужем                 0      M  госслужащий     0   \n",
       "29  Не женат / не замужем                 4      F    пенсионер     0   \n",
       "41        женат / замужем                 0      F  госслужащий     0   \n",
       "55       гражданский брак                 1      F    пенсионер     1   \n",
       "65  Не женат / не замужем                 4      M    компаньон     0   \n",
       "67        женат / замужем                 0      F    пенсионер     0   \n",
       "72        женат / замужем                 0      M  госслужащий     0   \n",
       "82        женат / замужем                 0      F    сотрудник     0   \n",
       "83        женат / замужем                 0      M    сотрудник     0   \n",
       "\n",
       "    total_income                                purpose  \n",
       "12           NaN                        сыграть свадьбу  \n",
       "26           NaN                            образование  \n",
       "29           NaN       строительство жилой недвижимости  \n",
       "41           NaN       сделка с подержанным автомобилем  \n",
       "55           NaN                        сыграть свадьбу  \n",
       "65           NaN  операции с коммерческой недвижимостью  \n",
       "67           NaN                покупка жилья для семьи  \n",
       "72           NaN  операции с коммерческой недвижимостью  \n",
       "82           NaN                                  жилье  \n",
       "83           NaN                                  жилье  "
      ]
     },
     "execution_count": 9,
     "metadata": {},
     "output_type": "execute_result"
    }
   ],
   "source": [
    "skip_df.head(10)"
   ]
  },
  {
   "cell_type": "code",
   "execution_count": 10,
   "id": "d5954368",
   "metadata": {},
   "outputs": [
    {
     "data": {
      "text/html": [
       "<div>\n",
       "<style scoped>\n",
       "    .dataframe tbody tr th:only-of-type {\n",
       "        vertical-align: middle;\n",
       "    }\n",
       "\n",
       "    .dataframe tbody tr th {\n",
       "        vertical-align: top;\n",
       "    }\n",
       "\n",
       "    .dataframe thead th {\n",
       "        text-align: right;\n",
       "    }\n",
       "</style>\n",
       "<table border=\"1\" class=\"dataframe\">\n",
       "  <thead>\n",
       "    <tr style=\"text-align: right;\">\n",
       "      <th></th>\n",
       "      <th>children</th>\n",
       "      <th>days_employed</th>\n",
       "      <th>dob_years</th>\n",
       "      <th>education</th>\n",
       "      <th>education_id</th>\n",
       "      <th>family_status</th>\n",
       "      <th>family_status_id</th>\n",
       "      <th>gender</th>\n",
       "      <th>income_type</th>\n",
       "      <th>debt</th>\n",
       "      <th>total_income</th>\n",
       "      <th>purpose</th>\n",
       "    </tr>\n",
       "  </thead>\n",
       "  <tbody>\n",
       "    <tr>\n",
       "      <th>21415</th>\n",
       "      <td>0</td>\n",
       "      <td>NaN</td>\n",
       "      <td>54</td>\n",
       "      <td>среднее</td>\n",
       "      <td>1</td>\n",
       "      <td>женат / замужем</td>\n",
       "      <td>0</td>\n",
       "      <td>F</td>\n",
       "      <td>пенсионер</td>\n",
       "      <td>0</td>\n",
       "      <td>NaN</td>\n",
       "      <td>операции с жильем</td>\n",
       "    </tr>\n",
       "    <tr>\n",
       "      <th>21423</th>\n",
       "      <td>0</td>\n",
       "      <td>NaN</td>\n",
       "      <td>63</td>\n",
       "      <td>среднее</td>\n",
       "      <td>1</td>\n",
       "      <td>женат / замужем</td>\n",
       "      <td>0</td>\n",
       "      <td>M</td>\n",
       "      <td>пенсионер</td>\n",
       "      <td>0</td>\n",
       "      <td>NaN</td>\n",
       "      <td>сделка с автомобилем</td>\n",
       "    </tr>\n",
       "    <tr>\n",
       "      <th>21426</th>\n",
       "      <td>0</td>\n",
       "      <td>NaN</td>\n",
       "      <td>49</td>\n",
       "      <td>среднее</td>\n",
       "      <td>1</td>\n",
       "      <td>женат / замужем</td>\n",
       "      <td>0</td>\n",
       "      <td>F</td>\n",
       "      <td>сотрудник</td>\n",
       "      <td>1</td>\n",
       "      <td>NaN</td>\n",
       "      <td>недвижимость</td>\n",
       "    </tr>\n",
       "    <tr>\n",
       "      <th>21432</th>\n",
       "      <td>1</td>\n",
       "      <td>NaN</td>\n",
       "      <td>38</td>\n",
       "      <td>неоконченное высшее</td>\n",
       "      <td>2</td>\n",
       "      <td>Не женат / не замужем</td>\n",
       "      <td>4</td>\n",
       "      <td>F</td>\n",
       "      <td>сотрудник</td>\n",
       "      <td>0</td>\n",
       "      <td>NaN</td>\n",
       "      <td>операции с жильем</td>\n",
       "    </tr>\n",
       "    <tr>\n",
       "      <th>21463</th>\n",
       "      <td>1</td>\n",
       "      <td>NaN</td>\n",
       "      <td>35</td>\n",
       "      <td>высшее</td>\n",
       "      <td>0</td>\n",
       "      <td>гражданский брак</td>\n",
       "      <td>1</td>\n",
       "      <td>M</td>\n",
       "      <td>сотрудник</td>\n",
       "      <td>0</td>\n",
       "      <td>NaN</td>\n",
       "      <td>на проведение свадьбы</td>\n",
       "    </tr>\n",
       "    <tr>\n",
       "      <th>21489</th>\n",
       "      <td>2</td>\n",
       "      <td>NaN</td>\n",
       "      <td>47</td>\n",
       "      <td>Среднее</td>\n",
       "      <td>1</td>\n",
       "      <td>женат / замужем</td>\n",
       "      <td>0</td>\n",
       "      <td>M</td>\n",
       "      <td>компаньон</td>\n",
       "      <td>0</td>\n",
       "      <td>NaN</td>\n",
       "      <td>сделка с автомобилем</td>\n",
       "    </tr>\n",
       "    <tr>\n",
       "      <th>21495</th>\n",
       "      <td>1</td>\n",
       "      <td>NaN</td>\n",
       "      <td>50</td>\n",
       "      <td>среднее</td>\n",
       "      <td>1</td>\n",
       "      <td>гражданский брак</td>\n",
       "      <td>1</td>\n",
       "      <td>F</td>\n",
       "      <td>сотрудник</td>\n",
       "      <td>0</td>\n",
       "      <td>NaN</td>\n",
       "      <td>свадьба</td>\n",
       "    </tr>\n",
       "    <tr>\n",
       "      <th>21497</th>\n",
       "      <td>0</td>\n",
       "      <td>NaN</td>\n",
       "      <td>48</td>\n",
       "      <td>ВЫСШЕЕ</td>\n",
       "      <td>0</td>\n",
       "      <td>женат / замужем</td>\n",
       "      <td>0</td>\n",
       "      <td>F</td>\n",
       "      <td>компаньон</td>\n",
       "      <td>0</td>\n",
       "      <td>NaN</td>\n",
       "      <td>строительство недвижимости</td>\n",
       "    </tr>\n",
       "    <tr>\n",
       "      <th>21502</th>\n",
       "      <td>1</td>\n",
       "      <td>NaN</td>\n",
       "      <td>42</td>\n",
       "      <td>среднее</td>\n",
       "      <td>1</td>\n",
       "      <td>женат / замужем</td>\n",
       "      <td>0</td>\n",
       "      <td>F</td>\n",
       "      <td>сотрудник</td>\n",
       "      <td>0</td>\n",
       "      <td>NaN</td>\n",
       "      <td>строительство жилой недвижимости</td>\n",
       "    </tr>\n",
       "    <tr>\n",
       "      <th>21510</th>\n",
       "      <td>2</td>\n",
       "      <td>NaN</td>\n",
       "      <td>28</td>\n",
       "      <td>среднее</td>\n",
       "      <td>1</td>\n",
       "      <td>женат / замужем</td>\n",
       "      <td>0</td>\n",
       "      <td>F</td>\n",
       "      <td>сотрудник</td>\n",
       "      <td>0</td>\n",
       "      <td>NaN</td>\n",
       "      <td>приобретение автомобиля</td>\n",
       "    </tr>\n",
       "  </tbody>\n",
       "</table>\n",
       "</div>"
      ],
      "text/plain": [
       "       children  days_employed  dob_years            education  education_id  \\\n",
       "21415         0            NaN         54              среднее             1   \n",
       "21423         0            NaN         63              среднее             1   \n",
       "21426         0            NaN         49              среднее             1   \n",
       "21432         1            NaN         38  неоконченное высшее             2   \n",
       "21463         1            NaN         35               высшее             0   \n",
       "21489         2            NaN         47              Среднее             1   \n",
       "21495         1            NaN         50              среднее             1   \n",
       "21497         0            NaN         48               ВЫСШЕЕ             0   \n",
       "21502         1            NaN         42              среднее             1   \n",
       "21510         2            NaN         28              среднее             1   \n",
       "\n",
       "               family_status  family_status_id gender income_type  debt  \\\n",
       "21415        женат / замужем                 0      F   пенсионер     0   \n",
       "21423        женат / замужем                 0      M   пенсионер     0   \n",
       "21426        женат / замужем                 0      F   сотрудник     1   \n",
       "21432  Не женат / не замужем                 4      F   сотрудник     0   \n",
       "21463       гражданский брак                 1      M   сотрудник     0   \n",
       "21489        женат / замужем                 0      M   компаньон     0   \n",
       "21495       гражданский брак                 1      F   сотрудник     0   \n",
       "21497        женат / замужем                 0      F   компаньон     0   \n",
       "21502        женат / замужем                 0      F   сотрудник     0   \n",
       "21510        женат / замужем                 0      F   сотрудник     0   \n",
       "\n",
       "       total_income                           purpose  \n",
       "21415           NaN                 операции с жильем  \n",
       "21423           NaN              сделка с автомобилем  \n",
       "21426           NaN                      недвижимость  \n",
       "21432           NaN                 операции с жильем  \n",
       "21463           NaN             на проведение свадьбы  \n",
       "21489           NaN              сделка с автомобилем  \n",
       "21495           NaN                           свадьба  \n",
       "21497           NaN        строительство недвижимости  \n",
       "21502           NaN  строительство жилой недвижимости  \n",
       "21510           NaN           приобретение автомобиля  "
      ]
     },
     "execution_count": 10,
     "metadata": {},
     "output_type": "execute_result"
    }
   ],
   "source": [
    "skip_df.tail(10)"
   ]
  },
  {
   "cell_type": "markdown",
   "id": "95a9eff8",
   "metadata": {},
   "source": [
    "ИТОГО:\n",
    "1. Пропущенные значения в столбцах `days_employed` и `total_income` заполнены значениями NaN.\n",
    "2. Доля пропущенных данных составляет 10% от общего объёма.\n",
    "3. Так как пропуски столбцов `days_employed` и `total_income` не хаотичны, а сделаны в одинаковых строках, значит они привязаны к конкретным людям. А это в свою очередь может значить, что причиной появления пропусков мог быть либо человеческий фактор (данные просто не внесли в полном объёме), либо эти 2174 человека не предоставили данные трудового стажа и ежемесячного дохода.\n",
    "4. Простое удаление строк с пустыми ячейками приведёт к потере 10% записей о семейном положении и количестве детей, поэтому лучше заменить их каким-нибудь другим значением. Так как значения в столбцах `days_employed` и `total_income` являются количественными, то в них могут быть значительные отклонения в сторону минимума или максимума, поэтому лучшим решением будет заполнить пропуски медианным значением. Но сперва следует избавиться от аномалий, которые присутствую в этих столбцах."
   ]
  },
  {
   "cell_type": "markdown",
   "id": "4f5d563b",
   "metadata": {},
   "source": [
    "### Проверка данных на аномалии"
   ]
  },
  {
   "cell_type": "markdown",
   "id": "fbe06ec8",
   "metadata": {},
   "source": [
    "Разберёмся с аномалиями в столбце `days_employed`. Здесь большая часть данных является отрицательным значением, а все положительные значения сверхбольшие. Сперва найдём минимум и максимум среди всех положительных значений трудового стажа, чтобы понять размер диапазона."
   ]
  },
  {
   "cell_type": "code",
   "execution_count": 11,
   "id": "5263b65f",
   "metadata": {},
   "outputs": [
    {
     "data": {
      "text/plain": [
       "328728.72060451825"
      ]
     },
     "execution_count": 11,
     "metadata": {},
     "output_type": "execute_result"
    }
   ],
   "source": [
    "row = df['days_employed']>=0\n",
    "df['days_employed'].loc[row].min()"
   ]
  },
  {
   "cell_type": "code",
   "execution_count": 12,
   "id": "5f00adc0",
   "metadata": {},
   "outputs": [
    {
     "data": {
      "text/plain": [
       "401755.40047533"
      ]
     },
     "execution_count": 12,
     "metadata": {},
     "output_type": "execute_result"
    }
   ],
   "source": [
    "df['days_employed'].loc[row].max()"
   ]
  },
  {
   "cell_type": "markdown",
   "id": "4d341b5c",
   "metadata": {},
   "source": [
    "Получается что все положительные значения трудового стажа лежат в диапазоне от 900 до 1100 лет. Следует проверить возраст и количество людей с таким аномальным стажем."
   ]
  },
  {
   "cell_type": "code",
   "execution_count": 13,
   "id": "a2fcb666",
   "metadata": {},
   "outputs": [
    {
     "data": {
      "text/plain": [
       "3445"
      ]
     },
     "execution_count": 13,
     "metadata": {},
     "output_type": "execute_result"
    }
   ],
   "source": [
    "# Количество людей с аномальным стажем\n",
    "len(df['days_employed'].loc[row])"
   ]
  },
  {
   "cell_type": "code",
   "execution_count": 14,
   "id": "9815c7ec",
   "metadata": {},
   "outputs": [
    {
     "data": {
      "text/plain": [
       "0"
      ]
     },
     "execution_count": 14,
     "metadata": {},
     "output_type": "execute_result"
    }
   ],
   "source": [
    "# Минимальный возраст среди людей с аномальным стажем\n",
    "df['dob_years'].loc[row].min()"
   ]
  },
  {
   "cell_type": "code",
   "execution_count": 15,
   "id": "7e23785e",
   "metadata": {},
   "outputs": [
    {
     "data": {
      "text/plain": [
       "74"
      ]
     },
     "execution_count": 15,
     "metadata": {},
     "output_type": "execute_result"
    }
   ],
   "source": [
    "# Максимальный возраст среди людей с аномальным стажем\n",
    "df['dob_years'].loc[row].max()"
   ]
  },
  {
   "cell_type": "markdown",
   "id": "a2af8fc5",
   "metadata": {},
   "source": [
    "Получается, что это 3445 человек в возрасте от 0 до 74 лет и они составляют 15.9% от общего количества данных в нашей таблице, поэтому мы не можем просто удалить эти строки. Посмотрим сколько среди них возрастных людей старше 50 лет."
   ]
  },
  {
   "cell_type": "code",
   "execution_count": 16,
   "id": "9352e6b9",
   "metadata": {},
   "outputs": [
    {
     "data": {
      "text/plain": [
       "3202"
      ]
     },
     "execution_count": 16,
     "metadata": {},
     "output_type": "execute_result"
    }
   ],
   "source": [
    "people_over_50 = (df['dob_years']>50) & (df['days_employed']>=0)\n",
    "len(df.loc[people_over_50])"
   ]
  },
  {
   "cell_type": "markdown",
   "id": "dc2f6d87",
   "metadata": {},
   "source": [
    "Получается, что 93% людей с аномальным стажем старше 50 лет. Если разделить весь положительный трудовой стаж на 20, тогда он будет находиться в диапазоне от 45 до 55 лет, что вполне нормально для людей пенсионного возраста."
   ]
  },
  {
   "cell_type": "markdown",
   "id": "43460dec",
   "metadata": {},
   "source": [
    "Теперь рассмотрим отрицательные значения трудового стажа. Так же как и для положительных значений, найдём минимум и максимум среди всех отрицательных значений трудового стажа."
   ]
  },
  {
   "cell_type": "code",
   "execution_count": 17,
   "id": "b4807012",
   "metadata": {},
   "outputs": [
    {
     "data": {
      "text/plain": [
       "-18388.949900568383"
      ]
     },
     "execution_count": 17,
     "metadata": {},
     "output_type": "execute_result"
    }
   ],
   "source": [
    "df['days_employed'].loc[df['days_employed']<0].min()"
   ]
  },
  {
   "cell_type": "code",
   "execution_count": 18,
   "id": "7f1839aa",
   "metadata": {},
   "outputs": [
    {
     "data": {
      "text/plain": [
       "-24.14163324048118"
      ]
     },
     "execution_count": 18,
     "metadata": {},
     "output_type": "execute_result"
    }
   ],
   "source": [
    "df['days_employed'].loc[df['days_employed']<0].max()"
   ]
  },
  {
   "cell_type": "markdown",
   "id": "00eb675e",
   "metadata": {},
   "source": [
    "Если не обращать внимания на знак минус, то все отрицательные значения трудового стажа лежат в диапазоне от 24 дней до 50 лет, что вполне нормально, поэтому просто избавимся от знака минус взяв все отрицательные значения трудового стажа по модулю."
   ]
  },
  {
   "cell_type": "code",
   "execution_count": 19,
   "id": "0ab69307",
   "metadata": {},
   "outputs": [
    {
     "data": {
      "text/html": [
       "<div>\n",
       "<style scoped>\n",
       "    .dataframe tbody tr th:only-of-type {\n",
       "        vertical-align: middle;\n",
       "    }\n",
       "\n",
       "    .dataframe tbody tr th {\n",
       "        vertical-align: top;\n",
       "    }\n",
       "\n",
       "    .dataframe thead th {\n",
       "        text-align: right;\n",
       "    }\n",
       "</style>\n",
       "<table border=\"1\" class=\"dataframe\">\n",
       "  <thead>\n",
       "    <tr style=\"text-align: right;\">\n",
       "      <th></th>\n",
       "      <th>children</th>\n",
       "      <th>days_employed</th>\n",
       "      <th>dob_years</th>\n",
       "      <th>education</th>\n",
       "      <th>education_id</th>\n",
       "      <th>family_status</th>\n",
       "      <th>family_status_id</th>\n",
       "      <th>gender</th>\n",
       "      <th>income_type</th>\n",
       "      <th>debt</th>\n",
       "      <th>total_income</th>\n",
       "      <th>purpose</th>\n",
       "    </tr>\n",
       "  </thead>\n",
       "  <tbody>\n",
       "    <tr>\n",
       "      <th>0</th>\n",
       "      <td>1</td>\n",
       "      <td>8437.673028</td>\n",
       "      <td>42</td>\n",
       "      <td>высшее</td>\n",
       "      <td>0</td>\n",
       "      <td>женат / замужем</td>\n",
       "      <td>0</td>\n",
       "      <td>F</td>\n",
       "      <td>сотрудник</td>\n",
       "      <td>0</td>\n",
       "      <td>253875.639453</td>\n",
       "      <td>покупка жилья</td>\n",
       "    </tr>\n",
       "    <tr>\n",
       "      <th>1</th>\n",
       "      <td>1</td>\n",
       "      <td>4024.803754</td>\n",
       "      <td>36</td>\n",
       "      <td>среднее</td>\n",
       "      <td>1</td>\n",
       "      <td>женат / замужем</td>\n",
       "      <td>0</td>\n",
       "      <td>F</td>\n",
       "      <td>сотрудник</td>\n",
       "      <td>0</td>\n",
       "      <td>112080.014102</td>\n",
       "      <td>приобретение автомобиля</td>\n",
       "    </tr>\n",
       "    <tr>\n",
       "      <th>2</th>\n",
       "      <td>0</td>\n",
       "      <td>5623.422610</td>\n",
       "      <td>33</td>\n",
       "      <td>Среднее</td>\n",
       "      <td>1</td>\n",
       "      <td>женат / замужем</td>\n",
       "      <td>0</td>\n",
       "      <td>M</td>\n",
       "      <td>сотрудник</td>\n",
       "      <td>0</td>\n",
       "      <td>145885.952297</td>\n",
       "      <td>покупка жилья</td>\n",
       "    </tr>\n",
       "    <tr>\n",
       "      <th>3</th>\n",
       "      <td>3</td>\n",
       "      <td>4124.747207</td>\n",
       "      <td>32</td>\n",
       "      <td>среднее</td>\n",
       "      <td>1</td>\n",
       "      <td>женат / замужем</td>\n",
       "      <td>0</td>\n",
       "      <td>M</td>\n",
       "      <td>сотрудник</td>\n",
       "      <td>0</td>\n",
       "      <td>267628.550329</td>\n",
       "      <td>дополнительное образование</td>\n",
       "    </tr>\n",
       "    <tr>\n",
       "      <th>4</th>\n",
       "      <td>0</td>\n",
       "      <td>17013.303602</td>\n",
       "      <td>53</td>\n",
       "      <td>среднее</td>\n",
       "      <td>1</td>\n",
       "      <td>гражданский брак</td>\n",
       "      <td>1</td>\n",
       "      <td>F</td>\n",
       "      <td>пенсионер</td>\n",
       "      <td>0</td>\n",
       "      <td>158616.077870</td>\n",
       "      <td>сыграть свадьбу</td>\n",
       "    </tr>\n",
       "    <tr>\n",
       "      <th>5</th>\n",
       "      <td>0</td>\n",
       "      <td>926.185831</td>\n",
       "      <td>27</td>\n",
       "      <td>высшее</td>\n",
       "      <td>0</td>\n",
       "      <td>гражданский брак</td>\n",
       "      <td>1</td>\n",
       "      <td>M</td>\n",
       "      <td>компаньон</td>\n",
       "      <td>0</td>\n",
       "      <td>255763.565419</td>\n",
       "      <td>покупка жилья</td>\n",
       "    </tr>\n",
       "    <tr>\n",
       "      <th>6</th>\n",
       "      <td>0</td>\n",
       "      <td>2879.202052</td>\n",
       "      <td>43</td>\n",
       "      <td>высшее</td>\n",
       "      <td>0</td>\n",
       "      <td>женат / замужем</td>\n",
       "      <td>0</td>\n",
       "      <td>F</td>\n",
       "      <td>компаньон</td>\n",
       "      <td>0</td>\n",
       "      <td>240525.971920</td>\n",
       "      <td>операции с жильем</td>\n",
       "    </tr>\n",
       "    <tr>\n",
       "      <th>7</th>\n",
       "      <td>0</td>\n",
       "      <td>152.779569</td>\n",
       "      <td>50</td>\n",
       "      <td>СРЕДНЕЕ</td>\n",
       "      <td>1</td>\n",
       "      <td>женат / замужем</td>\n",
       "      <td>0</td>\n",
       "      <td>M</td>\n",
       "      <td>сотрудник</td>\n",
       "      <td>0</td>\n",
       "      <td>135823.934197</td>\n",
       "      <td>образование</td>\n",
       "    </tr>\n",
       "    <tr>\n",
       "      <th>8</th>\n",
       "      <td>2</td>\n",
       "      <td>6929.865299</td>\n",
       "      <td>35</td>\n",
       "      <td>ВЫСШЕЕ</td>\n",
       "      <td>0</td>\n",
       "      <td>гражданский брак</td>\n",
       "      <td>1</td>\n",
       "      <td>F</td>\n",
       "      <td>сотрудник</td>\n",
       "      <td>0</td>\n",
       "      <td>95856.832424</td>\n",
       "      <td>на проведение свадьбы</td>\n",
       "    </tr>\n",
       "    <tr>\n",
       "      <th>9</th>\n",
       "      <td>0</td>\n",
       "      <td>2188.756445</td>\n",
       "      <td>41</td>\n",
       "      <td>среднее</td>\n",
       "      <td>1</td>\n",
       "      <td>женат / замужем</td>\n",
       "      <td>0</td>\n",
       "      <td>M</td>\n",
       "      <td>сотрудник</td>\n",
       "      <td>0</td>\n",
       "      <td>144425.938277</td>\n",
       "      <td>покупка жилья для семьи</td>\n",
       "    </tr>\n",
       "  </tbody>\n",
       "</table>\n",
       "</div>"
      ],
      "text/plain": [
       "   children  days_employed  dob_years education  education_id  \\\n",
       "0         1    8437.673028         42    высшее             0   \n",
       "1         1    4024.803754         36   среднее             1   \n",
       "2         0    5623.422610         33   Среднее             1   \n",
       "3         3    4124.747207         32   среднее             1   \n",
       "4         0   17013.303602         53   среднее             1   \n",
       "5         0     926.185831         27    высшее             0   \n",
       "6         0    2879.202052         43    высшее             0   \n",
       "7         0     152.779569         50   СРЕДНЕЕ             1   \n",
       "8         2    6929.865299         35    ВЫСШЕЕ             0   \n",
       "9         0    2188.756445         41   среднее             1   \n",
       "\n",
       "      family_status  family_status_id gender income_type  debt   total_income  \\\n",
       "0   женат / замужем                 0      F   сотрудник     0  253875.639453   \n",
       "1   женат / замужем                 0      F   сотрудник     0  112080.014102   \n",
       "2   женат / замужем                 0      M   сотрудник     0  145885.952297   \n",
       "3   женат / замужем                 0      M   сотрудник     0  267628.550329   \n",
       "4  гражданский брак                 1      F   пенсионер     0  158616.077870   \n",
       "5  гражданский брак                 1      M   компаньон     0  255763.565419   \n",
       "6   женат / замужем                 0      F   компаньон     0  240525.971920   \n",
       "7   женат / замужем                 0      M   сотрудник     0  135823.934197   \n",
       "8  гражданский брак                 1      F   сотрудник     0   95856.832424   \n",
       "9   женат / замужем                 0      M   сотрудник     0  144425.938277   \n",
       "\n",
       "                      purpose  \n",
       "0               покупка жилья  \n",
       "1     приобретение автомобиля  \n",
       "2               покупка жилья  \n",
       "3  дополнительное образование  \n",
       "4             сыграть свадьбу  \n",
       "5               покупка жилья  \n",
       "6           операции с жильем  \n",
       "7                 образование  \n",
       "8       на проведение свадьбы  \n",
       "9     покупка жилья для семьи  "
      ]
     },
     "execution_count": 19,
     "metadata": {},
     "output_type": "execute_result"
    }
   ],
   "source": [
    "# Разделим все положительные значения трудового стажа на 20\n",
    "df.loc[df['days_employed']>=0, 'days_employed'] = df.loc[df['days_employed']>=0, 'days_employed']/20\n",
    "# Возьмём все отрицательные значения трудового стажа по модулю\n",
    "df.loc[df['days_employed']<0, 'days_employed'] = df.loc[df['days_employed']<0, 'days_employed'].abs()\n",
    "# Посмотрим первые 10 строк таблицы df после сделанных изменений\n",
    "df.head(10)"
   ]
  },
  {
   "cell_type": "markdown",
   "id": "d228b796",
   "metadata": {},
   "source": [
    "Теперь можно заполнить пустые ячейки столбца `days_employed` медианным значением."
   ]
  },
  {
   "cell_type": "code",
   "execution_count": 20,
   "id": "e09a4792",
   "metadata": {},
   "outputs": [],
   "source": [
    "df['days_employed'] = df['days_employed'].fillna(df['days_employed'].median())"
   ]
  },
  {
   "cell_type": "markdown",
   "id": "1ee86c40",
   "metadata": {},
   "source": [
    "Также проверим на аномалии столбцы `dob_years`, `education_id`, `family_status_id` и `debt`. Посмотрим их уникальные значения."
   ]
  },
  {
   "cell_type": "code",
   "execution_count": 21,
   "id": "ad475d08",
   "metadata": {},
   "outputs": [
    {
     "data": {
      "text/plain": [
       "array([ 0, 19, 20, 21, 22, 23, 24, 25, 26, 27, 28, 29, 30, 31, 32, 33, 34,\n",
       "       35, 36, 37, 38, 39, 40, 41, 42, 43, 44, 45, 46, 47, 48, 49, 50, 51,\n",
       "       52, 53, 54, 55, 56, 57, 58, 59, 60, 61, 62, 63, 64, 65, 66, 67, 68,\n",
       "       69, 70, 71, 72, 73, 74, 75], dtype=int64)"
      ]
     },
     "execution_count": 21,
     "metadata": {},
     "output_type": "execute_result"
    }
   ],
   "source": [
    "df['dob_years'].sort_values().unique()"
   ]
  },
  {
   "cell_type": "code",
   "execution_count": 22,
   "id": "1346f034",
   "metadata": {},
   "outputs": [
    {
     "data": {
      "text/plain": [
       "array([0, 1, 2, 3, 4], dtype=int64)"
      ]
     },
     "execution_count": 22,
     "metadata": {},
     "output_type": "execute_result"
    }
   ],
   "source": [
    "df['education_id'].sort_values().unique()"
   ]
  },
  {
   "cell_type": "code",
   "execution_count": 23,
   "id": "f6c2467c",
   "metadata": {},
   "outputs": [
    {
     "data": {
      "text/plain": [
       "array([0, 1, 2, 3, 4], dtype=int64)"
      ]
     },
     "execution_count": 23,
     "metadata": {},
     "output_type": "execute_result"
    }
   ],
   "source": [
    "df['family_status_id'].sort_values().unique()"
   ]
  },
  {
   "cell_type": "code",
   "execution_count": 24,
   "id": "8ebd8466",
   "metadata": {},
   "outputs": [
    {
     "data": {
      "text/plain": [
       "array([0, 1], dtype=int64)"
      ]
     },
     "execution_count": 24,
     "metadata": {},
     "output_type": "execute_result"
    }
   ],
   "source": [
    "df['debt'].sort_values().unique()"
   ]
  },
  {
   "cell_type": "markdown",
   "id": "d5cfe3d8",
   "metadata": {},
   "source": [
    "Наблюдается одна единственная аномалия. Это люди с возрастом 0 лет. Посмотрим сколько таких людей и кто они."
   ]
  },
  {
   "cell_type": "code",
   "execution_count": 25,
   "id": "15a64e75",
   "metadata": {},
   "outputs": [
    {
     "data": {
      "text/plain": [
       "101"
      ]
     },
     "execution_count": 25,
     "metadata": {},
     "output_type": "execute_result"
    }
   ],
   "source": [
    "len(df.loc[df['dob_years']==0])"
   ]
  },
  {
   "cell_type": "code",
   "execution_count": 26,
   "id": "e1686304",
   "metadata": {},
   "outputs": [
    {
     "data": {
      "text/html": [
       "<div>\n",
       "<style scoped>\n",
       "    .dataframe tbody tr th:only-of-type {\n",
       "        vertical-align: middle;\n",
       "    }\n",
       "\n",
       "    .dataframe tbody tr th {\n",
       "        vertical-align: top;\n",
       "    }\n",
       "\n",
       "    .dataframe thead th {\n",
       "        text-align: right;\n",
       "    }\n",
       "</style>\n",
       "<table border=\"1\" class=\"dataframe\">\n",
       "  <thead>\n",
       "    <tr style=\"text-align: right;\">\n",
       "      <th></th>\n",
       "      <th>children</th>\n",
       "      <th>days_employed</th>\n",
       "      <th>dob_years</th>\n",
       "      <th>education</th>\n",
       "      <th>education_id</th>\n",
       "      <th>family_status</th>\n",
       "      <th>family_status_id</th>\n",
       "      <th>gender</th>\n",
       "      <th>income_type</th>\n",
       "      <th>debt</th>\n",
       "      <th>total_income</th>\n",
       "      <th>purpose</th>\n",
       "    </tr>\n",
       "  </thead>\n",
       "  <tbody>\n",
       "    <tr>\n",
       "      <th>99</th>\n",
       "      <td>0</td>\n",
       "      <td>17327.080945</td>\n",
       "      <td>0</td>\n",
       "      <td>Среднее</td>\n",
       "      <td>1</td>\n",
       "      <td>женат / замужем</td>\n",
       "      <td>0</td>\n",
       "      <td>F</td>\n",
       "      <td>пенсионер</td>\n",
       "      <td>0</td>\n",
       "      <td>71291.522491</td>\n",
       "      <td>автомобиль</td>\n",
       "    </tr>\n",
       "    <tr>\n",
       "      <th>149</th>\n",
       "      <td>0</td>\n",
       "      <td>2664.273168</td>\n",
       "      <td>0</td>\n",
       "      <td>среднее</td>\n",
       "      <td>1</td>\n",
       "      <td>в разводе</td>\n",
       "      <td>3</td>\n",
       "      <td>F</td>\n",
       "      <td>сотрудник</td>\n",
       "      <td>0</td>\n",
       "      <td>70176.435951</td>\n",
       "      <td>операции с жильем</td>\n",
       "    </tr>\n",
       "    <tr>\n",
       "      <th>270</th>\n",
       "      <td>3</td>\n",
       "      <td>1872.663186</td>\n",
       "      <td>0</td>\n",
       "      <td>среднее</td>\n",
       "      <td>1</td>\n",
       "      <td>женат / замужем</td>\n",
       "      <td>0</td>\n",
       "      <td>F</td>\n",
       "      <td>сотрудник</td>\n",
       "      <td>0</td>\n",
       "      <td>102166.458894</td>\n",
       "      <td>ремонт жилью</td>\n",
       "    </tr>\n",
       "    <tr>\n",
       "      <th>578</th>\n",
       "      <td>0</td>\n",
       "      <td>19892.828251</td>\n",
       "      <td>0</td>\n",
       "      <td>среднее</td>\n",
       "      <td>1</td>\n",
       "      <td>женат / замужем</td>\n",
       "      <td>0</td>\n",
       "      <td>F</td>\n",
       "      <td>пенсионер</td>\n",
       "      <td>0</td>\n",
       "      <td>97620.687042</td>\n",
       "      <td>строительство собственной недвижимости</td>\n",
       "    </tr>\n",
       "    <tr>\n",
       "      <th>1040</th>\n",
       "      <td>0</td>\n",
       "      <td>1158.029561</td>\n",
       "      <td>0</td>\n",
       "      <td>высшее</td>\n",
       "      <td>0</td>\n",
       "      <td>в разводе</td>\n",
       "      <td>3</td>\n",
       "      <td>F</td>\n",
       "      <td>компаньон</td>\n",
       "      <td>0</td>\n",
       "      <td>303994.134987</td>\n",
       "      <td>свой автомобиль</td>\n",
       "    </tr>\n",
       "  </tbody>\n",
       "</table>\n",
       "</div>"
      ],
      "text/plain": [
       "      children  days_employed  dob_years education  education_id  \\\n",
       "99           0   17327.080945          0   Среднее             1   \n",
       "149          0    2664.273168          0   среднее             1   \n",
       "270          3    1872.663186          0   среднее             1   \n",
       "578          0   19892.828251          0   среднее             1   \n",
       "1040         0    1158.029561          0    высшее             0   \n",
       "\n",
       "        family_status  family_status_id gender income_type  debt  \\\n",
       "99    женат / замужем                 0      F   пенсионер     0   \n",
       "149         в разводе                 3      F   сотрудник     0   \n",
       "270   женат / замужем                 0      F   сотрудник     0   \n",
       "578   женат / замужем                 0      F   пенсионер     0   \n",
       "1040        в разводе                 3      F   компаньон     0   \n",
       "\n",
       "       total_income                                 purpose  \n",
       "99     71291.522491                              автомобиль  \n",
       "149    70176.435951                       операции с жильем  \n",
       "270   102166.458894                            ремонт жилью  \n",
       "578    97620.687042  строительство собственной недвижимости  \n",
       "1040  303994.134987                         свой автомобиль  "
      ]
     },
     "execution_count": 26,
     "metadata": {},
     "output_type": "execute_result"
    }
   ],
   "source": [
    "df.loc[df['dob_years']==0].head()"
   ]
  },
  {
   "cell_type": "code",
   "execution_count": 27,
   "id": "b1c4773f",
   "metadata": {},
   "outputs": [
    {
     "data": {
      "text/html": [
       "<div>\n",
       "<style scoped>\n",
       "    .dataframe tbody tr th:only-of-type {\n",
       "        vertical-align: middle;\n",
       "    }\n",
       "\n",
       "    .dataframe tbody tr th {\n",
       "        vertical-align: top;\n",
       "    }\n",
       "\n",
       "    .dataframe thead th {\n",
       "        text-align: right;\n",
       "    }\n",
       "</style>\n",
       "<table border=\"1\" class=\"dataframe\">\n",
       "  <thead>\n",
       "    <tr style=\"text-align: right;\">\n",
       "      <th></th>\n",
       "      <th>children</th>\n",
       "      <th>days_employed</th>\n",
       "      <th>dob_years</th>\n",
       "      <th>education</th>\n",
       "      <th>education_id</th>\n",
       "      <th>family_status</th>\n",
       "      <th>family_status_id</th>\n",
       "      <th>gender</th>\n",
       "      <th>income_type</th>\n",
       "      <th>debt</th>\n",
       "      <th>total_income</th>\n",
       "      <th>purpose</th>\n",
       "    </tr>\n",
       "  </thead>\n",
       "  <tbody>\n",
       "    <tr>\n",
       "      <th>19829</th>\n",
       "      <td>0</td>\n",
       "      <td>2194.220567</td>\n",
       "      <td>0</td>\n",
       "      <td>среднее</td>\n",
       "      <td>1</td>\n",
       "      <td>женат / замужем</td>\n",
       "      <td>0</td>\n",
       "      <td>F</td>\n",
       "      <td>сотрудник</td>\n",
       "      <td>0</td>\n",
       "      <td>NaN</td>\n",
       "      <td>жилье</td>\n",
       "    </tr>\n",
       "    <tr>\n",
       "      <th>20462</th>\n",
       "      <td>0</td>\n",
       "      <td>16936.743427</td>\n",
       "      <td>0</td>\n",
       "      <td>среднее</td>\n",
       "      <td>1</td>\n",
       "      <td>женат / замужем</td>\n",
       "      <td>0</td>\n",
       "      <td>F</td>\n",
       "      <td>пенсионер</td>\n",
       "      <td>0</td>\n",
       "      <td>259193.920299</td>\n",
       "      <td>покупка своего жилья</td>\n",
       "    </tr>\n",
       "    <tr>\n",
       "      <th>20577</th>\n",
       "      <td>0</td>\n",
       "      <td>16587.063573</td>\n",
       "      <td>0</td>\n",
       "      <td>среднее</td>\n",
       "      <td>1</td>\n",
       "      <td>Не женат / не замужем</td>\n",
       "      <td>4</td>\n",
       "      <td>F</td>\n",
       "      <td>пенсионер</td>\n",
       "      <td>0</td>\n",
       "      <td>129788.762899</td>\n",
       "      <td>недвижимость</td>\n",
       "    </tr>\n",
       "    <tr>\n",
       "      <th>21179</th>\n",
       "      <td>2</td>\n",
       "      <td>108.967042</td>\n",
       "      <td>0</td>\n",
       "      <td>высшее</td>\n",
       "      <td>0</td>\n",
       "      <td>женат / замужем</td>\n",
       "      <td>0</td>\n",
       "      <td>M</td>\n",
       "      <td>компаньон</td>\n",
       "      <td>0</td>\n",
       "      <td>240702.007382</td>\n",
       "      <td>строительство жилой недвижимости</td>\n",
       "    </tr>\n",
       "    <tr>\n",
       "      <th>21313</th>\n",
       "      <td>0</td>\n",
       "      <td>1268.487728</td>\n",
       "      <td>0</td>\n",
       "      <td>среднее</td>\n",
       "      <td>1</td>\n",
       "      <td>Не женат / не замужем</td>\n",
       "      <td>4</td>\n",
       "      <td>M</td>\n",
       "      <td>сотрудник</td>\n",
       "      <td>0</td>\n",
       "      <td>152419.184851</td>\n",
       "      <td>операции с жильем</td>\n",
       "    </tr>\n",
       "  </tbody>\n",
       "</table>\n",
       "</div>"
      ],
      "text/plain": [
       "       children  days_employed  dob_years education  education_id  \\\n",
       "19829         0    2194.220567          0   среднее             1   \n",
       "20462         0   16936.743427          0   среднее             1   \n",
       "20577         0   16587.063573          0   среднее             1   \n",
       "21179         2     108.967042          0    высшее             0   \n",
       "21313         0    1268.487728          0   среднее             1   \n",
       "\n",
       "               family_status  family_status_id gender income_type  debt  \\\n",
       "19829        женат / замужем                 0      F   сотрудник     0   \n",
       "20462        женат / замужем                 0      F   пенсионер     0   \n",
       "20577  Не женат / не замужем                 4      F   пенсионер     0   \n",
       "21179        женат / замужем                 0      M   компаньон     0   \n",
       "21313  Не женат / не замужем                 4      M   сотрудник     0   \n",
       "\n",
       "        total_income                           purpose  \n",
       "19829            NaN                             жилье  \n",
       "20462  259193.920299              покупка своего жилья  \n",
       "20577  129788.762899                      недвижимость  \n",
       "21179  240702.007382  строительство жилой недвижимости  \n",
       "21313  152419.184851                 операции с жильем  "
      ]
     },
     "execution_count": 27,
     "metadata": {},
     "output_type": "execute_result"
    }
   ],
   "source": [
    "df.loc[df['dob_years']==0].tail()"
   ]
  },
  {
   "cell_type": "markdown",
   "id": "a9fb83a9",
   "metadata": {},
   "source": [
    "Таких людей всего 101 или 0,47% от общего объёма данных. Судя по столбцам `children`, `days_employed` и `income_type` - это люди самых разных возрастных категорий, поэтому заменить все нули на какое-либо одно усреднённое значение возраста не выйдет. Оставим как есть. На главную цель исследования это никак не повлияет."
   ]
  },
  {
   "cell_type": "markdown",
   "id": "24fcdbeb",
   "metadata": {},
   "source": [
    "Осталось проверить столбец `total_income`. Здесь просмотр уникальных значений ничего не даст. Пожалуй единственная аномалия, которая может быть в этом столбце - это отрицательный доход. Поэтому просто проверим столбец `total_income` на наличие отрицательных значений."
   ]
  },
  {
   "cell_type": "code",
   "execution_count": 28,
   "id": "67c665b1",
   "metadata": {},
   "outputs": [
    {
     "data": {
      "text/plain": [
       "0"
      ]
     },
     "execution_count": 28,
     "metadata": {},
     "output_type": "execute_result"
    }
   ],
   "source": [
    "len(df.loc[df['total_income']<0])"
   ]
  },
  {
   "cell_type": "markdown",
   "id": "d762f533",
   "metadata": {},
   "source": [
    "Таких значений не оказалось, значит всё в порядке."
   ]
  },
  {
   "cell_type": "markdown",
   "id": "1bb8bd3b",
   "metadata": {},
   "source": [
    "### Изменение типов данных"
   ]
  },
  {
   "cell_type": "markdown",
   "id": "d5fec1c0",
   "metadata": {},
   "source": [
    "Значения в столбцах `days_employed` и `total_income` имеют тип `float`, но все цифры после запятой ни на что не влияют и усложняют визуальное восприятие данных. Преобразуем их в целочисленный тип `int`. Так как в столбце `total_income` есть пропуски, а преобразование `NaN` в `int` может вызвать ошибку, то используем конструкцию `try-except`. Также заполним пропуски в столбце `total_income` медианным значением по аналогии с заполнением в столбце `days_employed`."
   ]
  },
  {
   "cell_type": "code",
   "execution_count": 29,
   "id": "cd2a2bc9",
   "metadata": {},
   "outputs": [],
   "source": [
    "try:\n",
    "    df['total_income'] = df['total_income'].astype('int')\n",
    "    df['days_employed'] = df['days_employed'].astype('int')\n",
    "    df['total_income'] = df['total_income'].fillna(df['total_income'].median())\n",
    "except:\n",
    "    df['total_income'] = df['total_income'].fillna(df['total_income'].median())\n",
    "    df['total_income'] = df['total_income'].astype('int')\n",
    "    df['days_employed'] = df['days_employed'].astype('int')"
   ]
  },
  {
   "cell_type": "markdown",
   "id": "99b873e2",
   "metadata": {},
   "source": [
    "Посмотрим общую информацию о данных в таблице `df` после сделанных изменений."
   ]
  },
  {
   "cell_type": "code",
   "execution_count": 30,
   "id": "9633a233",
   "metadata": {},
   "outputs": [
    {
     "name": "stdout",
     "output_type": "stream",
     "text": [
      "<class 'pandas.core.frame.DataFrame'>\n",
      "RangeIndex: 21525 entries, 0 to 21524\n",
      "Data columns (total 12 columns):\n",
      " #   Column            Non-Null Count  Dtype \n",
      "---  ------            --------------  ----- \n",
      " 0   children          21525 non-null  int64 \n",
      " 1   days_employed     21525 non-null  int32 \n",
      " 2   dob_years         21525 non-null  int64 \n",
      " 3   education         21525 non-null  object\n",
      " 4   education_id      21525 non-null  int64 \n",
      " 5   family_status     21525 non-null  object\n",
      " 6   family_status_id  21525 non-null  int64 \n",
      " 7   gender            21525 non-null  object\n",
      " 8   income_type       21525 non-null  object\n",
      " 9   debt              21525 non-null  int64 \n",
      " 10  total_income      21525 non-null  int32 \n",
      " 11  purpose           21525 non-null  object\n",
      "dtypes: int32(2), int64(5), object(5)\n",
      "memory usage: 1.8+ MB\n"
     ]
    }
   ],
   "source": [
    "df.info()"
   ]
  },
  {
   "cell_type": "markdown",
   "id": "e2eb6a8c",
   "metadata": {},
   "source": [
    "### Удаление дубликатов\n",
    "Займёмся очисткой данных от дубликатов. Посчитаем и удалим явные дубликаты таблицы `df`."
   ]
  },
  {
   "cell_type": "code",
   "execution_count": 31,
   "id": "7033d654",
   "metadata": {},
   "outputs": [
    {
     "data": {
      "text/plain": [
       "54"
      ]
     },
     "execution_count": 31,
     "metadata": {},
     "output_type": "execute_result"
    }
   ],
   "source": [
    "df.duplicated().sum()"
   ]
  },
  {
   "cell_type": "code",
   "execution_count": 32,
   "id": "6303083c",
   "metadata": {},
   "outputs": [],
   "source": [
    "df = df.drop_duplicates().reset_index(drop=True)"
   ]
  },
  {
   "cell_type": "markdown",
   "id": "57a20009",
   "metadata": {},
   "source": [
    "Проверим наличие явных дубликатов и посмотрим общую информацию о данных в таблице `df` после сделанных изменений."
   ]
  },
  {
   "cell_type": "code",
   "execution_count": 33,
   "id": "ba952733",
   "metadata": {},
   "outputs": [
    {
     "data": {
      "text/plain": [
       "0"
      ]
     },
     "execution_count": 33,
     "metadata": {},
     "output_type": "execute_result"
    }
   ],
   "source": [
    "df.duplicated().sum()"
   ]
  },
  {
   "cell_type": "code",
   "execution_count": 34,
   "id": "4a4130ae",
   "metadata": {},
   "outputs": [
    {
     "name": "stdout",
     "output_type": "stream",
     "text": [
      "<class 'pandas.core.frame.DataFrame'>\n",
      "RangeIndex: 21471 entries, 0 to 21470\n",
      "Data columns (total 12 columns):\n",
      " #   Column            Non-Null Count  Dtype \n",
      "---  ------            --------------  ----- \n",
      " 0   children          21471 non-null  int64 \n",
      " 1   days_employed     21471 non-null  int32 \n",
      " 2   dob_years         21471 non-null  int64 \n",
      " 3   education         21471 non-null  object\n",
      " 4   education_id      21471 non-null  int64 \n",
      " 5   family_status     21471 non-null  object\n",
      " 6   family_status_id  21471 non-null  int64 \n",
      " 7   gender            21471 non-null  object\n",
      " 8   income_type       21471 non-null  object\n",
      " 9   debt              21471 non-null  int64 \n",
      " 10  total_income      21471 non-null  int32 \n",
      " 11  purpose           21471 non-null  object\n",
      "dtypes: int32(2), int64(5), object(5)\n",
      "memory usage: 1.8+ MB\n"
     ]
    }
   ],
   "source": [
    "df.info()"
   ]
  },
  {
   "cell_type": "markdown",
   "id": "e19f7a93",
   "metadata": {},
   "source": [
    "Теперь разберёмся с неявными дубликатами. Посмотрим уникальные значения всех столбцов имеющих тип данных `object`."
   ]
  },
  {
   "cell_type": "code",
   "execution_count": 35,
   "id": "dea95ce4",
   "metadata": {},
   "outputs": [
    {
     "data": {
      "text/plain": [
       "array(['ВЫСШЕЕ', 'Высшее', 'НАЧАЛЬНОЕ', 'НЕОКОНЧЕННОЕ ВЫСШЕЕ',\n",
       "       'Начальное', 'Неоконченное высшее', 'СРЕДНЕЕ', 'Среднее',\n",
       "       'УЧЕНАЯ СТЕПЕНЬ', 'Ученая степень', 'высшее', 'начальное',\n",
       "       'неоконченное высшее', 'среднее', 'ученая степень'], dtype=object)"
      ]
     },
     "execution_count": 35,
     "metadata": {},
     "output_type": "execute_result"
    }
   ],
   "source": [
    "df['education'].sort_values().unique()"
   ]
  },
  {
   "cell_type": "code",
   "execution_count": 36,
   "id": "bdd0f770",
   "metadata": {},
   "outputs": [
    {
     "data": {
      "text/plain": [
       "array(['Не женат / не замужем', 'в разводе', 'вдовец / вдова',\n",
       "       'гражданский брак', 'женат / замужем'], dtype=object)"
      ]
     },
     "execution_count": 36,
     "metadata": {},
     "output_type": "execute_result"
    }
   ],
   "source": [
    "df['family_status'].sort_values().unique()"
   ]
  },
  {
   "cell_type": "code",
   "execution_count": 37,
   "id": "e025a89d",
   "metadata": {},
   "outputs": [
    {
     "data": {
      "text/plain": [
       "array(['F', 'M', 'XNA'], dtype=object)"
      ]
     },
     "execution_count": 37,
     "metadata": {},
     "output_type": "execute_result"
    }
   ],
   "source": [
    "df['gender'].sort_values().unique()"
   ]
  },
  {
   "cell_type": "code",
   "execution_count": 38,
   "id": "2f841e02",
   "metadata": {},
   "outputs": [
    {
     "data": {
      "text/plain": [
       "array(['безработный', 'в декрете', 'госслужащий', 'компаньон',\n",
       "       'пенсионер', 'предприниматель', 'сотрудник', 'студент'],\n",
       "      dtype=object)"
      ]
     },
     "execution_count": 38,
     "metadata": {},
     "output_type": "execute_result"
    }
   ],
   "source": [
    "df['income_type'].sort_values().unique()"
   ]
  },
  {
   "cell_type": "code",
   "execution_count": 39,
   "id": "75b70fe5",
   "metadata": {
    "scrolled": true
   },
   "outputs": [
    {
     "data": {
      "text/plain": [
       "array(['автомобили', 'автомобиль', 'высшее образование',\n",
       "       'дополнительное образование', 'жилье',\n",
       "       'заняться высшим образованием', 'заняться образованием',\n",
       "       'на покупку автомобиля', 'на покупку подержанного автомобиля',\n",
       "       'на покупку своего автомобиля', 'на проведение свадьбы',\n",
       "       'недвижимость', 'образование', 'операции с жильем',\n",
       "       'операции с коммерческой недвижимостью',\n",
       "       'операции с недвижимостью', 'операции со своей недвижимостью',\n",
       "       'покупка жилой недвижимости', 'покупка жилья',\n",
       "       'покупка жилья для сдачи', 'покупка жилья для семьи',\n",
       "       'покупка коммерческой недвижимости', 'покупка недвижимости',\n",
       "       'покупка своего жилья', 'получение высшего образования',\n",
       "       'получение дополнительного образования', 'получение образования',\n",
       "       'приобретение автомобиля', 'профильное образование',\n",
       "       'ремонт жилью', 'свадьба', 'свой автомобиль',\n",
       "       'сделка с автомобилем', 'сделка с подержанным автомобилем',\n",
       "       'строительство жилой недвижимости', 'строительство недвижимости',\n",
       "       'строительство собственной недвижимости', 'сыграть свадьбу'],\n",
       "      dtype=object)"
      ]
     },
     "execution_count": 39,
     "metadata": {},
     "output_type": "execute_result"
    }
   ],
   "source": [
    "df['purpose'].sort_values().unique()"
   ]
  },
  {
   "cell_type": "markdown",
   "id": "b526ec0b",
   "metadata": {},
   "source": [
    "В столбцах `education` и `family_status` значения записаны в разном регистре. Приведём все значения в этих столбцах к нижнему регистру."
   ]
  },
  {
   "cell_type": "code",
   "execution_count": 40,
   "id": "cdba93ad",
   "metadata": {},
   "outputs": [],
   "source": [
    "df['education'] = df['education'].str.lower()\n",
    "df['family_status'] = df['family_status'].str.lower()"
   ]
  },
  {
   "cell_type": "markdown",
   "id": "1ae249a3",
   "metadata": {},
   "source": [
    "Проверим уникальные значения в столбцах `education` и `family_status` после сделанных изменений."
   ]
  },
  {
   "cell_type": "code",
   "execution_count": 41,
   "id": "a8b2572a",
   "metadata": {},
   "outputs": [
    {
     "data": {
      "text/plain": [
       "array(['высшее', 'начальное', 'неоконченное высшее', 'среднее',\n",
       "       'ученая степень'], dtype=object)"
      ]
     },
     "execution_count": 41,
     "metadata": {},
     "output_type": "execute_result"
    }
   ],
   "source": [
    "df['education'].sort_values().unique()"
   ]
  },
  {
   "cell_type": "code",
   "execution_count": 42,
   "id": "58bd0451",
   "metadata": {},
   "outputs": [
    {
     "data": {
      "text/plain": [
       "array(['в разводе', 'вдовец / вдова', 'гражданский брак',\n",
       "       'женат / замужем', 'не женат / не замужем'], dtype=object)"
      ]
     },
     "execution_count": 42,
     "metadata": {},
     "output_type": "execute_result"
    }
   ],
   "source": [
    "df['family_status'].sort_values().unique()"
   ]
  },
  {
   "cell_type": "markdown",
   "id": "e2fcf7df",
   "metadata": {},
   "source": [
    "### Создание дополнительных датафреймов"
   ]
  },
  {
   "cell_type": "markdown",
   "id": "41a54d68",
   "metadata": {},
   "source": [
    "Создадим два новых датафрейма `education_df` и `family_df`, в которых каждому уникальному значению из `education` и `family_status` таблицы `df` соответствует уникальное значение `education_id` и `family_status_id`."
   ]
  },
  {
   "cell_type": "code",
   "execution_count": 43,
   "id": "5e50c071",
   "metadata": {},
   "outputs": [],
   "source": [
    "education_data = [\n",
    "    ['начальное', 3],\n",
    "    ['среднее', 1],\n",
    "    ['неоконченное высшее', 2],\n",
    "    ['высшее', 0],\n",
    "    ['ученая степень', 4]\n",
    "]\n",
    "\n",
    "family_data = [\n",
    "    ['женат / замужем', 0],\n",
    "    ['не женат / не замужем', 4],\n",
    "    ['гражданский брак', 1],\n",
    "    ['в разводе', 3],\n",
    "    ['вдовец / вдова', 2]\n",
    "]\n",
    "education_columns = ['education', 'education_id']\n",
    "family_columns = ['family_status', 'family_status_id']\n",
    "\n",
    "education_df = pd.DataFrame(data=education_data, columns=education_columns)\n",
    "family_df = pd.DataFrame(data=family_data, columns=family_columns)"
   ]
  },
  {
   "cell_type": "code",
   "execution_count": 44,
   "id": "83973ddc",
   "metadata": {},
   "outputs": [
    {
     "data": {
      "text/html": [
       "<div>\n",
       "<style scoped>\n",
       "    .dataframe tbody tr th:only-of-type {\n",
       "        vertical-align: middle;\n",
       "    }\n",
       "\n",
       "    .dataframe tbody tr th {\n",
       "        vertical-align: top;\n",
       "    }\n",
       "\n",
       "    .dataframe thead th {\n",
       "        text-align: right;\n",
       "    }\n",
       "</style>\n",
       "<table border=\"1\" class=\"dataframe\">\n",
       "  <thead>\n",
       "    <tr style=\"text-align: right;\">\n",
       "      <th></th>\n",
       "      <th>education</th>\n",
       "      <th>education_id</th>\n",
       "    </tr>\n",
       "  </thead>\n",
       "  <tbody>\n",
       "    <tr>\n",
       "      <th>0</th>\n",
       "      <td>начальное</td>\n",
       "      <td>3</td>\n",
       "    </tr>\n",
       "    <tr>\n",
       "      <th>1</th>\n",
       "      <td>среднее</td>\n",
       "      <td>1</td>\n",
       "    </tr>\n",
       "    <tr>\n",
       "      <th>2</th>\n",
       "      <td>неоконченное высшее</td>\n",
       "      <td>2</td>\n",
       "    </tr>\n",
       "    <tr>\n",
       "      <th>3</th>\n",
       "      <td>высшее</td>\n",
       "      <td>0</td>\n",
       "    </tr>\n",
       "    <tr>\n",
       "      <th>4</th>\n",
       "      <td>ученая степень</td>\n",
       "      <td>4</td>\n",
       "    </tr>\n",
       "  </tbody>\n",
       "</table>\n",
       "</div>"
      ],
      "text/plain": [
       "             education  education_id\n",
       "0            начальное             3\n",
       "1              среднее             1\n",
       "2  неоконченное высшее             2\n",
       "3               высшее             0\n",
       "4       ученая степень             4"
      ]
     },
     "execution_count": 44,
     "metadata": {},
     "output_type": "execute_result"
    }
   ],
   "source": [
    "education_df"
   ]
  },
  {
   "cell_type": "code",
   "execution_count": 45,
   "id": "3886fa36",
   "metadata": {},
   "outputs": [
    {
     "data": {
      "text/html": [
       "<div>\n",
       "<style scoped>\n",
       "    .dataframe tbody tr th:only-of-type {\n",
       "        vertical-align: middle;\n",
       "    }\n",
       "\n",
       "    .dataframe tbody tr th {\n",
       "        vertical-align: top;\n",
       "    }\n",
       "\n",
       "    .dataframe thead th {\n",
       "        text-align: right;\n",
       "    }\n",
       "</style>\n",
       "<table border=\"1\" class=\"dataframe\">\n",
       "  <thead>\n",
       "    <tr style=\"text-align: right;\">\n",
       "      <th></th>\n",
       "      <th>family_status</th>\n",
       "      <th>family_status_id</th>\n",
       "    </tr>\n",
       "  </thead>\n",
       "  <tbody>\n",
       "    <tr>\n",
       "      <th>0</th>\n",
       "      <td>женат / замужем</td>\n",
       "      <td>0</td>\n",
       "    </tr>\n",
       "    <tr>\n",
       "      <th>1</th>\n",
       "      <td>не женат / не замужем</td>\n",
       "      <td>4</td>\n",
       "    </tr>\n",
       "    <tr>\n",
       "      <th>2</th>\n",
       "      <td>гражданский брак</td>\n",
       "      <td>1</td>\n",
       "    </tr>\n",
       "    <tr>\n",
       "      <th>3</th>\n",
       "      <td>в разводе</td>\n",
       "      <td>3</td>\n",
       "    </tr>\n",
       "    <tr>\n",
       "      <th>4</th>\n",
       "      <td>вдовец / вдова</td>\n",
       "      <td>2</td>\n",
       "    </tr>\n",
       "  </tbody>\n",
       "</table>\n",
       "</div>"
      ],
      "text/plain": [
       "           family_status  family_status_id\n",
       "0        женат / замужем                 0\n",
       "1  не женат / не замужем                 4\n",
       "2       гражданский брак                 1\n",
       "3              в разводе                 3\n",
       "4         вдовец / вдова                 2"
      ]
     },
     "execution_count": 45,
     "metadata": {},
     "output_type": "execute_result"
    }
   ],
   "source": [
    "family_df"
   ]
  },
  {
   "cell_type": "markdown",
   "id": "41b35725",
   "metadata": {},
   "source": [
    "Удалим из исходного датафрейма `df` столбцы `education` и `family_status`. Посмотрим первые 10 строк после сделанных изменений."
   ]
  },
  {
   "cell_type": "code",
   "execution_count": 46,
   "id": "ed03cde0",
   "metadata": {},
   "outputs": [
    {
     "data": {
      "text/html": [
       "<div>\n",
       "<style scoped>\n",
       "    .dataframe tbody tr th:only-of-type {\n",
       "        vertical-align: middle;\n",
       "    }\n",
       "\n",
       "    .dataframe tbody tr th {\n",
       "        vertical-align: top;\n",
       "    }\n",
       "\n",
       "    .dataframe thead th {\n",
       "        text-align: right;\n",
       "    }\n",
       "</style>\n",
       "<table border=\"1\" class=\"dataframe\">\n",
       "  <thead>\n",
       "    <tr style=\"text-align: right;\">\n",
       "      <th></th>\n",
       "      <th>children</th>\n",
       "      <th>days_employed</th>\n",
       "      <th>dob_years</th>\n",
       "      <th>education_id</th>\n",
       "      <th>family_status_id</th>\n",
       "      <th>gender</th>\n",
       "      <th>income_type</th>\n",
       "      <th>debt</th>\n",
       "      <th>total_income</th>\n",
       "      <th>purpose</th>\n",
       "    </tr>\n",
       "  </thead>\n",
       "  <tbody>\n",
       "    <tr>\n",
       "      <th>0</th>\n",
       "      <td>1</td>\n",
       "      <td>8437</td>\n",
       "      <td>42</td>\n",
       "      <td>0</td>\n",
       "      <td>0</td>\n",
       "      <td>F</td>\n",
       "      <td>сотрудник</td>\n",
       "      <td>0</td>\n",
       "      <td>253875</td>\n",
       "      <td>покупка жилья</td>\n",
       "    </tr>\n",
       "    <tr>\n",
       "      <th>1</th>\n",
       "      <td>1</td>\n",
       "      <td>4024</td>\n",
       "      <td>36</td>\n",
       "      <td>1</td>\n",
       "      <td>0</td>\n",
       "      <td>F</td>\n",
       "      <td>сотрудник</td>\n",
       "      <td>0</td>\n",
       "      <td>112080</td>\n",
       "      <td>приобретение автомобиля</td>\n",
       "    </tr>\n",
       "    <tr>\n",
       "      <th>2</th>\n",
       "      <td>0</td>\n",
       "      <td>5623</td>\n",
       "      <td>33</td>\n",
       "      <td>1</td>\n",
       "      <td>0</td>\n",
       "      <td>M</td>\n",
       "      <td>сотрудник</td>\n",
       "      <td>0</td>\n",
       "      <td>145885</td>\n",
       "      <td>покупка жилья</td>\n",
       "    </tr>\n",
       "    <tr>\n",
       "      <th>3</th>\n",
       "      <td>3</td>\n",
       "      <td>4124</td>\n",
       "      <td>32</td>\n",
       "      <td>1</td>\n",
       "      <td>0</td>\n",
       "      <td>M</td>\n",
       "      <td>сотрудник</td>\n",
       "      <td>0</td>\n",
       "      <td>267628</td>\n",
       "      <td>дополнительное образование</td>\n",
       "    </tr>\n",
       "    <tr>\n",
       "      <th>4</th>\n",
       "      <td>0</td>\n",
       "      <td>17013</td>\n",
       "      <td>53</td>\n",
       "      <td>1</td>\n",
       "      <td>1</td>\n",
       "      <td>F</td>\n",
       "      <td>пенсионер</td>\n",
       "      <td>0</td>\n",
       "      <td>158616</td>\n",
       "      <td>сыграть свадьбу</td>\n",
       "    </tr>\n",
       "    <tr>\n",
       "      <th>5</th>\n",
       "      <td>0</td>\n",
       "      <td>926</td>\n",
       "      <td>27</td>\n",
       "      <td>0</td>\n",
       "      <td>1</td>\n",
       "      <td>M</td>\n",
       "      <td>компаньон</td>\n",
       "      <td>0</td>\n",
       "      <td>255763</td>\n",
       "      <td>покупка жилья</td>\n",
       "    </tr>\n",
       "    <tr>\n",
       "      <th>6</th>\n",
       "      <td>0</td>\n",
       "      <td>2879</td>\n",
       "      <td>43</td>\n",
       "      <td>0</td>\n",
       "      <td>0</td>\n",
       "      <td>F</td>\n",
       "      <td>компаньон</td>\n",
       "      <td>0</td>\n",
       "      <td>240525</td>\n",
       "      <td>операции с жильем</td>\n",
       "    </tr>\n",
       "    <tr>\n",
       "      <th>7</th>\n",
       "      <td>0</td>\n",
       "      <td>152</td>\n",
       "      <td>50</td>\n",
       "      <td>1</td>\n",
       "      <td>0</td>\n",
       "      <td>M</td>\n",
       "      <td>сотрудник</td>\n",
       "      <td>0</td>\n",
       "      <td>135823</td>\n",
       "      <td>образование</td>\n",
       "    </tr>\n",
       "    <tr>\n",
       "      <th>8</th>\n",
       "      <td>2</td>\n",
       "      <td>6929</td>\n",
       "      <td>35</td>\n",
       "      <td>0</td>\n",
       "      <td>1</td>\n",
       "      <td>F</td>\n",
       "      <td>сотрудник</td>\n",
       "      <td>0</td>\n",
       "      <td>95856</td>\n",
       "      <td>на проведение свадьбы</td>\n",
       "    </tr>\n",
       "    <tr>\n",
       "      <th>9</th>\n",
       "      <td>0</td>\n",
       "      <td>2188</td>\n",
       "      <td>41</td>\n",
       "      <td>1</td>\n",
       "      <td>0</td>\n",
       "      <td>M</td>\n",
       "      <td>сотрудник</td>\n",
       "      <td>0</td>\n",
       "      <td>144425</td>\n",
       "      <td>покупка жилья для семьи</td>\n",
       "    </tr>\n",
       "  </tbody>\n",
       "</table>\n",
       "</div>"
      ],
      "text/plain": [
       "   children  days_employed  dob_years  education_id  family_status_id gender  \\\n",
       "0         1           8437         42             0                 0      F   \n",
       "1         1           4024         36             1                 0      F   \n",
       "2         0           5623         33             1                 0      M   \n",
       "3         3           4124         32             1                 0      M   \n",
       "4         0          17013         53             1                 1      F   \n",
       "5         0            926         27             0                 1      M   \n",
       "6         0           2879         43             0                 0      F   \n",
       "7         0            152         50             1                 0      M   \n",
       "8         2           6929         35             0                 1      F   \n",
       "9         0           2188         41             1                 0      M   \n",
       "\n",
       "  income_type  debt  total_income                     purpose  \n",
       "0   сотрудник     0        253875               покупка жилья  \n",
       "1   сотрудник     0        112080     приобретение автомобиля  \n",
       "2   сотрудник     0        145885               покупка жилья  \n",
       "3   сотрудник     0        267628  дополнительное образование  \n",
       "4   пенсионер     0        158616             сыграть свадьбу  \n",
       "5   компаньон     0        255763               покупка жилья  \n",
       "6   компаньон     0        240525           операции с жильем  \n",
       "7   сотрудник     0        135823                 образование  \n",
       "8   сотрудник     0         95856       на проведение свадьбы  \n",
       "9   сотрудник     0        144425     покупка жилья для семьи  "
      ]
     },
     "execution_count": 46,
     "metadata": {},
     "output_type": "execute_result"
    }
   ],
   "source": [
    "df = df.drop(columns=['education', 'family_status'])\n",
    "df.head(10)"
   ]
  },
  {
   "cell_type": "markdown",
   "id": "422decff",
   "metadata": {},
   "source": [
    "### Категоризация дохода"
   ]
  },
  {
   "cell_type": "markdown",
   "id": "bc97f67b",
   "metadata": {},
   "source": [
    "Добавим в нашу таблицу `df` столбец `total_income_category`, в котором будем присваивать клиентам банка категории, в зависимости от уровня ежемесячного дохода. Посмотрим первые 10 строк таблицы `df` после сделанных изменений."
   ]
  },
  {
   "cell_type": "code",
   "execution_count": 47,
   "id": "aa3b1b30",
   "metadata": {},
   "outputs": [
    {
     "data": {
      "text/html": [
       "<div>\n",
       "<style scoped>\n",
       "    .dataframe tbody tr th:only-of-type {\n",
       "        vertical-align: middle;\n",
       "    }\n",
       "\n",
       "    .dataframe tbody tr th {\n",
       "        vertical-align: top;\n",
       "    }\n",
       "\n",
       "    .dataframe thead th {\n",
       "        text-align: right;\n",
       "    }\n",
       "</style>\n",
       "<table border=\"1\" class=\"dataframe\">\n",
       "  <thead>\n",
       "    <tr style=\"text-align: right;\">\n",
       "      <th></th>\n",
       "      <th>children</th>\n",
       "      <th>days_employed</th>\n",
       "      <th>dob_years</th>\n",
       "      <th>education_id</th>\n",
       "      <th>family_status_id</th>\n",
       "      <th>gender</th>\n",
       "      <th>income_type</th>\n",
       "      <th>debt</th>\n",
       "      <th>total_income</th>\n",
       "      <th>purpose</th>\n",
       "      <th>total_income_category</th>\n",
       "    </tr>\n",
       "  </thead>\n",
       "  <tbody>\n",
       "    <tr>\n",
       "      <th>0</th>\n",
       "      <td>1</td>\n",
       "      <td>8437</td>\n",
       "      <td>42</td>\n",
       "      <td>0</td>\n",
       "      <td>0</td>\n",
       "      <td>F</td>\n",
       "      <td>сотрудник</td>\n",
       "      <td>0</td>\n",
       "      <td>253875</td>\n",
       "      <td>покупка жилья</td>\n",
       "      <td>B</td>\n",
       "    </tr>\n",
       "    <tr>\n",
       "      <th>1</th>\n",
       "      <td>1</td>\n",
       "      <td>4024</td>\n",
       "      <td>36</td>\n",
       "      <td>1</td>\n",
       "      <td>0</td>\n",
       "      <td>F</td>\n",
       "      <td>сотрудник</td>\n",
       "      <td>0</td>\n",
       "      <td>112080</td>\n",
       "      <td>приобретение автомобиля</td>\n",
       "      <td>C</td>\n",
       "    </tr>\n",
       "    <tr>\n",
       "      <th>2</th>\n",
       "      <td>0</td>\n",
       "      <td>5623</td>\n",
       "      <td>33</td>\n",
       "      <td>1</td>\n",
       "      <td>0</td>\n",
       "      <td>M</td>\n",
       "      <td>сотрудник</td>\n",
       "      <td>0</td>\n",
       "      <td>145885</td>\n",
       "      <td>покупка жилья</td>\n",
       "      <td>C</td>\n",
       "    </tr>\n",
       "    <tr>\n",
       "      <th>3</th>\n",
       "      <td>3</td>\n",
       "      <td>4124</td>\n",
       "      <td>32</td>\n",
       "      <td>1</td>\n",
       "      <td>0</td>\n",
       "      <td>M</td>\n",
       "      <td>сотрудник</td>\n",
       "      <td>0</td>\n",
       "      <td>267628</td>\n",
       "      <td>дополнительное образование</td>\n",
       "      <td>B</td>\n",
       "    </tr>\n",
       "    <tr>\n",
       "      <th>4</th>\n",
       "      <td>0</td>\n",
       "      <td>17013</td>\n",
       "      <td>53</td>\n",
       "      <td>1</td>\n",
       "      <td>1</td>\n",
       "      <td>F</td>\n",
       "      <td>пенсионер</td>\n",
       "      <td>0</td>\n",
       "      <td>158616</td>\n",
       "      <td>сыграть свадьбу</td>\n",
       "      <td>C</td>\n",
       "    </tr>\n",
       "    <tr>\n",
       "      <th>5</th>\n",
       "      <td>0</td>\n",
       "      <td>926</td>\n",
       "      <td>27</td>\n",
       "      <td>0</td>\n",
       "      <td>1</td>\n",
       "      <td>M</td>\n",
       "      <td>компаньон</td>\n",
       "      <td>0</td>\n",
       "      <td>255763</td>\n",
       "      <td>покупка жилья</td>\n",
       "      <td>B</td>\n",
       "    </tr>\n",
       "    <tr>\n",
       "      <th>6</th>\n",
       "      <td>0</td>\n",
       "      <td>2879</td>\n",
       "      <td>43</td>\n",
       "      <td>0</td>\n",
       "      <td>0</td>\n",
       "      <td>F</td>\n",
       "      <td>компаньон</td>\n",
       "      <td>0</td>\n",
       "      <td>240525</td>\n",
       "      <td>операции с жильем</td>\n",
       "      <td>B</td>\n",
       "    </tr>\n",
       "    <tr>\n",
       "      <th>7</th>\n",
       "      <td>0</td>\n",
       "      <td>152</td>\n",
       "      <td>50</td>\n",
       "      <td>1</td>\n",
       "      <td>0</td>\n",
       "      <td>M</td>\n",
       "      <td>сотрудник</td>\n",
       "      <td>0</td>\n",
       "      <td>135823</td>\n",
       "      <td>образование</td>\n",
       "      <td>C</td>\n",
       "    </tr>\n",
       "    <tr>\n",
       "      <th>8</th>\n",
       "      <td>2</td>\n",
       "      <td>6929</td>\n",
       "      <td>35</td>\n",
       "      <td>0</td>\n",
       "      <td>1</td>\n",
       "      <td>F</td>\n",
       "      <td>сотрудник</td>\n",
       "      <td>0</td>\n",
       "      <td>95856</td>\n",
       "      <td>на проведение свадьбы</td>\n",
       "      <td>C</td>\n",
       "    </tr>\n",
       "    <tr>\n",
       "      <th>9</th>\n",
       "      <td>0</td>\n",
       "      <td>2188</td>\n",
       "      <td>41</td>\n",
       "      <td>1</td>\n",
       "      <td>0</td>\n",
       "      <td>M</td>\n",
       "      <td>сотрудник</td>\n",
       "      <td>0</td>\n",
       "      <td>144425</td>\n",
       "      <td>покупка жилья для семьи</td>\n",
       "      <td>C</td>\n",
       "    </tr>\n",
       "  </tbody>\n",
       "</table>\n",
       "</div>"
      ],
      "text/plain": [
       "   children  days_employed  dob_years  education_id  family_status_id gender  \\\n",
       "0         1           8437         42             0                 0      F   \n",
       "1         1           4024         36             1                 0      F   \n",
       "2         0           5623         33             1                 0      M   \n",
       "3         3           4124         32             1                 0      M   \n",
       "4         0          17013         53             1                 1      F   \n",
       "5         0            926         27             0                 1      M   \n",
       "6         0           2879         43             0                 0      F   \n",
       "7         0            152         50             1                 0      M   \n",
       "8         2           6929         35             0                 1      F   \n",
       "9         0           2188         41             1                 0      M   \n",
       "\n",
       "  income_type  debt  total_income                     purpose  \\\n",
       "0   сотрудник     0        253875               покупка жилья   \n",
       "1   сотрудник     0        112080     приобретение автомобиля   \n",
       "2   сотрудник     0        145885               покупка жилья   \n",
       "3   сотрудник     0        267628  дополнительное образование   \n",
       "4   пенсионер     0        158616             сыграть свадьбу   \n",
       "5   компаньон     0        255763               покупка жилья   \n",
       "6   компаньон     0        240525           операции с жильем   \n",
       "7   сотрудник     0        135823                 образование   \n",
       "8   сотрудник     0         95856       на проведение свадьбы   \n",
       "9   сотрудник     0        144425     покупка жилья для семьи   \n",
       "\n",
       "  total_income_category  \n",
       "0                     B  \n",
       "1                     C  \n",
       "2                     C  \n",
       "3                     B  \n",
       "4                     C  \n",
       "5                     B  \n",
       "6                     B  \n",
       "7                     C  \n",
       "8                     C  \n",
       "9                     C  "
      ]
     },
     "execution_count": 47,
     "metadata": {},
     "output_type": "execute_result"
    }
   ],
   "source": [
    "def change_total_income(row):\n",
    "    line = row['total_income']\n",
    "    if 0<=line<=30000:\n",
    "        return 'E'\n",
    "    elif 30001<=line<=50000:\n",
    "        return 'D'\n",
    "    elif 50001<=line<=200000:\n",
    "        return 'C'\n",
    "    elif 200001<=line<=1000000:\n",
    "        return 'B'\n",
    "    elif line>=1000001:\n",
    "        return 'A'\n",
    "    \n",
    "df['total_income_category'] = df.apply(change_total_income, axis=1)\n",
    "df.head(10)"
   ]
  },
  {
   "cell_type": "markdown",
   "id": "8097928e",
   "metadata": {},
   "source": [
    "### Категоризация целей кредита"
   ]
  },
  {
   "cell_type": "markdown",
   "id": "cd1a7c6f",
   "metadata": {},
   "source": [
    "Напишем функцию `change_purpose_credit` и используя метод `apply` добавим в нашу таблицу `df` новый столбец `purpose_category`, в котором мы обобщим цели получения кредита на основе столбца `purpose`. Посмотрим первые 10 строк таблицы `df` после сделанных изменений."
   ]
  },
  {
   "cell_type": "code",
   "execution_count": 48,
   "id": "63fa674b",
   "metadata": {},
   "outputs": [
    {
     "data": {
      "text/html": [
       "<div>\n",
       "<style scoped>\n",
       "    .dataframe tbody tr th:only-of-type {\n",
       "        vertical-align: middle;\n",
       "    }\n",
       "\n",
       "    .dataframe tbody tr th {\n",
       "        vertical-align: top;\n",
       "    }\n",
       "\n",
       "    .dataframe thead th {\n",
       "        text-align: right;\n",
       "    }\n",
       "</style>\n",
       "<table border=\"1\" class=\"dataframe\">\n",
       "  <thead>\n",
       "    <tr style=\"text-align: right;\">\n",
       "      <th></th>\n",
       "      <th>children</th>\n",
       "      <th>days_employed</th>\n",
       "      <th>dob_years</th>\n",
       "      <th>education_id</th>\n",
       "      <th>family_status_id</th>\n",
       "      <th>gender</th>\n",
       "      <th>income_type</th>\n",
       "      <th>debt</th>\n",
       "      <th>total_income</th>\n",
       "      <th>purpose</th>\n",
       "      <th>total_income_category</th>\n",
       "      <th>purpose_category</th>\n",
       "    </tr>\n",
       "  </thead>\n",
       "  <tbody>\n",
       "    <tr>\n",
       "      <th>0</th>\n",
       "      <td>1</td>\n",
       "      <td>8437</td>\n",
       "      <td>42</td>\n",
       "      <td>0</td>\n",
       "      <td>0</td>\n",
       "      <td>F</td>\n",
       "      <td>сотрудник</td>\n",
       "      <td>0</td>\n",
       "      <td>253875</td>\n",
       "      <td>покупка жилья</td>\n",
       "      <td>B</td>\n",
       "      <td>операции с недвижимостью</td>\n",
       "    </tr>\n",
       "    <tr>\n",
       "      <th>1</th>\n",
       "      <td>1</td>\n",
       "      <td>4024</td>\n",
       "      <td>36</td>\n",
       "      <td>1</td>\n",
       "      <td>0</td>\n",
       "      <td>F</td>\n",
       "      <td>сотрудник</td>\n",
       "      <td>0</td>\n",
       "      <td>112080</td>\n",
       "      <td>приобретение автомобиля</td>\n",
       "      <td>C</td>\n",
       "      <td>операции с автомобилем</td>\n",
       "    </tr>\n",
       "    <tr>\n",
       "      <th>2</th>\n",
       "      <td>0</td>\n",
       "      <td>5623</td>\n",
       "      <td>33</td>\n",
       "      <td>1</td>\n",
       "      <td>0</td>\n",
       "      <td>M</td>\n",
       "      <td>сотрудник</td>\n",
       "      <td>0</td>\n",
       "      <td>145885</td>\n",
       "      <td>покупка жилья</td>\n",
       "      <td>C</td>\n",
       "      <td>операции с недвижимостью</td>\n",
       "    </tr>\n",
       "    <tr>\n",
       "      <th>3</th>\n",
       "      <td>3</td>\n",
       "      <td>4124</td>\n",
       "      <td>32</td>\n",
       "      <td>1</td>\n",
       "      <td>0</td>\n",
       "      <td>M</td>\n",
       "      <td>сотрудник</td>\n",
       "      <td>0</td>\n",
       "      <td>267628</td>\n",
       "      <td>дополнительное образование</td>\n",
       "      <td>B</td>\n",
       "      <td>получение образования</td>\n",
       "    </tr>\n",
       "    <tr>\n",
       "      <th>4</th>\n",
       "      <td>0</td>\n",
       "      <td>17013</td>\n",
       "      <td>53</td>\n",
       "      <td>1</td>\n",
       "      <td>1</td>\n",
       "      <td>F</td>\n",
       "      <td>пенсионер</td>\n",
       "      <td>0</td>\n",
       "      <td>158616</td>\n",
       "      <td>сыграть свадьбу</td>\n",
       "      <td>C</td>\n",
       "      <td>проведение свадьбы</td>\n",
       "    </tr>\n",
       "    <tr>\n",
       "      <th>5</th>\n",
       "      <td>0</td>\n",
       "      <td>926</td>\n",
       "      <td>27</td>\n",
       "      <td>0</td>\n",
       "      <td>1</td>\n",
       "      <td>M</td>\n",
       "      <td>компаньон</td>\n",
       "      <td>0</td>\n",
       "      <td>255763</td>\n",
       "      <td>покупка жилья</td>\n",
       "      <td>B</td>\n",
       "      <td>операции с недвижимостью</td>\n",
       "    </tr>\n",
       "    <tr>\n",
       "      <th>6</th>\n",
       "      <td>0</td>\n",
       "      <td>2879</td>\n",
       "      <td>43</td>\n",
       "      <td>0</td>\n",
       "      <td>0</td>\n",
       "      <td>F</td>\n",
       "      <td>компаньон</td>\n",
       "      <td>0</td>\n",
       "      <td>240525</td>\n",
       "      <td>операции с жильем</td>\n",
       "      <td>B</td>\n",
       "      <td>операции с недвижимостью</td>\n",
       "    </tr>\n",
       "    <tr>\n",
       "      <th>7</th>\n",
       "      <td>0</td>\n",
       "      <td>152</td>\n",
       "      <td>50</td>\n",
       "      <td>1</td>\n",
       "      <td>0</td>\n",
       "      <td>M</td>\n",
       "      <td>сотрудник</td>\n",
       "      <td>0</td>\n",
       "      <td>135823</td>\n",
       "      <td>образование</td>\n",
       "      <td>C</td>\n",
       "      <td>получение образования</td>\n",
       "    </tr>\n",
       "    <tr>\n",
       "      <th>8</th>\n",
       "      <td>2</td>\n",
       "      <td>6929</td>\n",
       "      <td>35</td>\n",
       "      <td>0</td>\n",
       "      <td>1</td>\n",
       "      <td>F</td>\n",
       "      <td>сотрудник</td>\n",
       "      <td>0</td>\n",
       "      <td>95856</td>\n",
       "      <td>на проведение свадьбы</td>\n",
       "      <td>C</td>\n",
       "      <td>проведение свадьбы</td>\n",
       "    </tr>\n",
       "    <tr>\n",
       "      <th>9</th>\n",
       "      <td>0</td>\n",
       "      <td>2188</td>\n",
       "      <td>41</td>\n",
       "      <td>1</td>\n",
       "      <td>0</td>\n",
       "      <td>M</td>\n",
       "      <td>сотрудник</td>\n",
       "      <td>0</td>\n",
       "      <td>144425</td>\n",
       "      <td>покупка жилья для семьи</td>\n",
       "      <td>C</td>\n",
       "      <td>операции с недвижимостью</td>\n",
       "    </tr>\n",
       "  </tbody>\n",
       "</table>\n",
       "</div>"
      ],
      "text/plain": [
       "   children  days_employed  dob_years  education_id  family_status_id gender  \\\n",
       "0         1           8437         42             0                 0      F   \n",
       "1         1           4024         36             1                 0      F   \n",
       "2         0           5623         33             1                 0      M   \n",
       "3         3           4124         32             1                 0      M   \n",
       "4         0          17013         53             1                 1      F   \n",
       "5         0            926         27             0                 1      M   \n",
       "6         0           2879         43             0                 0      F   \n",
       "7         0            152         50             1                 0      M   \n",
       "8         2           6929         35             0                 1      F   \n",
       "9         0           2188         41             1                 0      M   \n",
       "\n",
       "  income_type  debt  total_income                     purpose  \\\n",
       "0   сотрудник     0        253875               покупка жилья   \n",
       "1   сотрудник     0        112080     приобретение автомобиля   \n",
       "2   сотрудник     0        145885               покупка жилья   \n",
       "3   сотрудник     0        267628  дополнительное образование   \n",
       "4   пенсионер     0        158616             сыграть свадьбу   \n",
       "5   компаньон     0        255763               покупка жилья   \n",
       "6   компаньон     0        240525           операции с жильем   \n",
       "7   сотрудник     0        135823                 образование   \n",
       "8   сотрудник     0         95856       на проведение свадьбы   \n",
       "9   сотрудник     0        144425     покупка жилья для семьи   \n",
       "\n",
       "  total_income_category          purpose_category  \n",
       "0                     B  операции с недвижимостью  \n",
       "1                     C    операции с автомобилем  \n",
       "2                     C  операции с недвижимостью  \n",
       "3                     B     получение образования  \n",
       "4                     C        проведение свадьбы  \n",
       "5                     B  операции с недвижимостью  \n",
       "6                     B  операции с недвижимостью  \n",
       "7                     C     получение образования  \n",
       "8                     C        проведение свадьбы  \n",
       "9                     C  операции с недвижимостью  "
      ]
     },
     "execution_count": 48,
     "metadata": {},
     "output_type": "execute_result"
    }
   ],
   "source": [
    "def change_purpose_credit(row):\n",
    "    line = row['purpose']\n",
    "    if 'автомобил' in line:\n",
    "        return 'операции с автомобилем'\n",
    "    elif 'жиль' in line or 'недвижимост' in line:\n",
    "        return 'операции с недвижимостью'\n",
    "    elif 'свадьб' in line:\n",
    "        return 'проведение свадьбы'\n",
    "    elif 'образован' in line:\n",
    "        return 'получение образования'\n",
    "    else:\n",
    "        return 'нет категории'\n",
    "\n",
    "df['purpose_category'] = df.apply(change_purpose_credit, axis=1)\n",
    "df.head(10)"
   ]
  },
  {
   "cell_type": "markdown",
   "id": "2d92ce47",
   "metadata": {},
   "source": [
    "# Анализ зависимости между признаками\n",
    "Чтобы проанализировать зависимости, сделаем несколько сводных таблиц. Мы будем расчитывать среднеарифметическое значение столбца `debt` для каждого уникального значения из столбцов `children`, `family_status_id`, `total_income_category` и `purpose_category`. В столбце `debt` значение 0 - это отсутствие задолженности в прошлом, а значение 1 - это наличие задолженности в прошлом, поэтому чем ближе среднеарифметическое будет к 0, тем более надёжным будет клиент."
   ]
  },
  {
   "cell_type": "markdown",
   "id": "277adbf8",
   "metadata": {},
   "source": [
    "## Зависимость между количеством детей и возвратом кредита в срок"
   ]
  },
  {
   "cell_type": "code",
   "execution_count": 49,
   "id": "b77faff8",
   "metadata": {},
   "outputs": [
    {
     "data": {
      "text/html": [
       "<div>\n",
       "<style scoped>\n",
       "    .dataframe tbody tr th:only-of-type {\n",
       "        vertical-align: middle;\n",
       "    }\n",
       "\n",
       "    .dataframe tbody tr th {\n",
       "        vertical-align: top;\n",
       "    }\n",
       "\n",
       "    .dataframe thead tr th {\n",
       "        text-align: left;\n",
       "    }\n",
       "\n",
       "    .dataframe thead tr:last-of-type th {\n",
       "        text-align: right;\n",
       "    }\n",
       "</style>\n",
       "<table border=\"1\" class=\"dataframe\">\n",
       "  <thead>\n",
       "    <tr>\n",
       "      <th></th>\n",
       "      <th>mean</th>\n",
       "      <th>count</th>\n",
       "    </tr>\n",
       "    <tr>\n",
       "      <th></th>\n",
       "      <th>debt</th>\n",
       "      <th>debt</th>\n",
       "    </tr>\n",
       "    <tr>\n",
       "      <th>children</th>\n",
       "      <th></th>\n",
       "      <th></th>\n",
       "    </tr>\n",
       "  </thead>\n",
       "  <tbody>\n",
       "    <tr>\n",
       "      <th>-1</th>\n",
       "      <td>0.021277</td>\n",
       "      <td>47</td>\n",
       "    </tr>\n",
       "    <tr>\n",
       "      <th>0</th>\n",
       "      <td>0.075353</td>\n",
       "      <td>14107</td>\n",
       "    </tr>\n",
       "    <tr>\n",
       "      <th>1</th>\n",
       "      <td>0.092327</td>\n",
       "      <td>4809</td>\n",
       "    </tr>\n",
       "    <tr>\n",
       "      <th>2</th>\n",
       "      <td>0.094542</td>\n",
       "      <td>2052</td>\n",
       "    </tr>\n",
       "    <tr>\n",
       "      <th>3</th>\n",
       "      <td>0.081818</td>\n",
       "      <td>330</td>\n",
       "    </tr>\n",
       "    <tr>\n",
       "      <th>4</th>\n",
       "      <td>0.097561</td>\n",
       "      <td>41</td>\n",
       "    </tr>\n",
       "    <tr>\n",
       "      <th>5</th>\n",
       "      <td>0.000000</td>\n",
       "      <td>9</td>\n",
       "    </tr>\n",
       "    <tr>\n",
       "      <th>20</th>\n",
       "      <td>0.105263</td>\n",
       "      <td>76</td>\n",
       "    </tr>\n",
       "  </tbody>\n",
       "</table>\n",
       "</div>"
      ],
      "text/plain": [
       "              mean  count\n",
       "              debt   debt\n",
       "children                 \n",
       "-1        0.021277     47\n",
       " 0        0.075353  14107\n",
       " 1        0.092327   4809\n",
       " 2        0.094542   2052\n",
       " 3        0.081818    330\n",
       " 4        0.097561     41\n",
       " 5        0.000000      9\n",
       " 20       0.105263     76"
      ]
     },
     "execution_count": 49,
     "metadata": {},
     "output_type": "execute_result"
    }
   ],
   "source": [
    "df.pivot_table(index='children', values='debt', aggfunc=['mean', 'count'])"
   ]
  },
  {
   "cell_type": "markdown",
   "id": "d0ada38a",
   "metadata": {},
   "source": [
    "Обнаружилась аномалия, которую не учли на стадии предобработки данных. Значения с количеством детей -1 и 20 (-1 невозможно, а 20 крайне маловероятно). Среднеарифметическое по столбцу `debt` для 20 детей очень близко к значениям для 1, 2, 3 или 4 детей. Примем что это многодетные семьи с количеством детей более 5. Ячейки со значением -1 столбца `children` заменим на значение 0. После сделанных изменений заново построим сводную таблицу."
   ]
  },
  {
   "cell_type": "code",
   "execution_count": 50,
   "id": "59db4b5c",
   "metadata": {},
   "outputs": [
    {
     "data": {
      "text/html": [
       "<div>\n",
       "<style scoped>\n",
       "    .dataframe tbody tr th:only-of-type {\n",
       "        vertical-align: middle;\n",
       "    }\n",
       "\n",
       "    .dataframe tbody tr th {\n",
       "        vertical-align: top;\n",
       "    }\n",
       "\n",
       "    .dataframe thead tr th {\n",
       "        text-align: left;\n",
       "    }\n",
       "\n",
       "    .dataframe thead tr:last-of-type th {\n",
       "        text-align: right;\n",
       "    }\n",
       "</style>\n",
       "<table border=\"1\" class=\"dataframe\">\n",
       "  <thead>\n",
       "    <tr>\n",
       "      <th></th>\n",
       "      <th>mean</th>\n",
       "      <th>count</th>\n",
       "    </tr>\n",
       "    <tr>\n",
       "      <th></th>\n",
       "      <th>debt</th>\n",
       "      <th>debt</th>\n",
       "    </tr>\n",
       "    <tr>\n",
       "      <th>children</th>\n",
       "      <th></th>\n",
       "      <th></th>\n",
       "    </tr>\n",
       "  </thead>\n",
       "  <tbody>\n",
       "    <tr>\n",
       "      <th>0</th>\n",
       "      <td>0.075173</td>\n",
       "      <td>14154</td>\n",
       "    </tr>\n",
       "    <tr>\n",
       "      <th>1</th>\n",
       "      <td>0.092327</td>\n",
       "      <td>4809</td>\n",
       "    </tr>\n",
       "    <tr>\n",
       "      <th>2</th>\n",
       "      <td>0.094542</td>\n",
       "      <td>2052</td>\n",
       "    </tr>\n",
       "    <tr>\n",
       "      <th>3</th>\n",
       "      <td>0.081818</td>\n",
       "      <td>330</td>\n",
       "    </tr>\n",
       "    <tr>\n",
       "      <th>4</th>\n",
       "      <td>0.097561</td>\n",
       "      <td>41</td>\n",
       "    </tr>\n",
       "    <tr>\n",
       "      <th>5</th>\n",
       "      <td>0.000000</td>\n",
       "      <td>9</td>\n",
       "    </tr>\n",
       "    <tr>\n",
       "      <th>20</th>\n",
       "      <td>0.105263</td>\n",
       "      <td>76</td>\n",
       "    </tr>\n",
       "  </tbody>\n",
       "</table>\n",
       "</div>"
      ],
      "text/plain": [
       "              mean  count\n",
       "              debt   debt\n",
       "children                 \n",
       "0         0.075173  14154\n",
       "1         0.092327   4809\n",
       "2         0.094542   2052\n",
       "3         0.081818    330\n",
       "4         0.097561     41\n",
       "5         0.000000      9\n",
       "20        0.105263     76"
      ]
     },
     "execution_count": 50,
     "metadata": {},
     "output_type": "execute_result"
    }
   ],
   "source": [
    "df.loc[df['children']==-1, 'children'] = 0\n",
    "df.pivot_table(index='children', values='debt', aggfunc=['mean', 'count'])"
   ]
  },
  {
   "cell_type": "markdown",
   "id": "461dcf3d",
   "metadata": {},
   "source": [
    "Также стоит обратить внимание, что при количестве детей 5 среднеарифметическое значение `debt` равно ровно нулю. Очевидно, что это связано с тем, что людей с таким количеством детей всего 9 (или 0,04% от общего количества клиентов) и ни у кого из них не было задолженностей."
   ]
  },
  {
   "cell_type": "markdown",
   "id": "0925bc17",
   "metadata": {},
   "source": [
    "__Вывод:__ Количество детей __влияет__ на вероятность возврата кредита в срок. Чем меньше детей, тем больше вероятность возврата кредита в срок.  Из общей тенденции выделяются только люди с 3 детьми, но это скорее результат малости выборки (всего 330 клиентов банка из 21471), чем исключение."
   ]
  },
  {
   "cell_type": "markdown",
   "id": "901b6c6e",
   "metadata": {},
   "source": [
    "## Зависимость между семейным положением и возвратом кредита в срок"
   ]
  },
  {
   "cell_type": "code",
   "execution_count": 51,
   "id": "df3a4716",
   "metadata": {},
   "outputs": [
    {
     "data": {
      "text/html": [
       "<div>\n",
       "<style scoped>\n",
       "    .dataframe tbody tr th:only-of-type {\n",
       "        vertical-align: middle;\n",
       "    }\n",
       "\n",
       "    .dataframe tbody tr th {\n",
       "        vertical-align: top;\n",
       "    }\n",
       "\n",
       "    .dataframe thead tr th {\n",
       "        text-align: left;\n",
       "    }\n",
       "\n",
       "    .dataframe thead tr:last-of-type th {\n",
       "        text-align: right;\n",
       "    }\n",
       "</style>\n",
       "<table border=\"1\" class=\"dataframe\">\n",
       "  <thead>\n",
       "    <tr>\n",
       "      <th></th>\n",
       "      <th>mean</th>\n",
       "      <th>count</th>\n",
       "    </tr>\n",
       "    <tr>\n",
       "      <th></th>\n",
       "      <th>debt</th>\n",
       "      <th>debt</th>\n",
       "    </tr>\n",
       "    <tr>\n",
       "      <th>family_status_id</th>\n",
       "      <th></th>\n",
       "      <th></th>\n",
       "    </tr>\n",
       "  </thead>\n",
       "  <tbody>\n",
       "    <tr>\n",
       "      <th>0</th>\n",
       "      <td>0.075421</td>\n",
       "      <td>12344</td>\n",
       "    </tr>\n",
       "    <tr>\n",
       "      <th>1</th>\n",
       "      <td>0.093202</td>\n",
       "      <td>4163</td>\n",
       "    </tr>\n",
       "    <tr>\n",
       "      <th>2</th>\n",
       "      <td>0.065693</td>\n",
       "      <td>959</td>\n",
       "    </tr>\n",
       "    <tr>\n",
       "      <th>3</th>\n",
       "      <td>0.071130</td>\n",
       "      <td>1195</td>\n",
       "    </tr>\n",
       "    <tr>\n",
       "      <th>4</th>\n",
       "      <td>0.097509</td>\n",
       "      <td>2810</td>\n",
       "    </tr>\n",
       "  </tbody>\n",
       "</table>\n",
       "</div>"
      ],
      "text/plain": [
       "                      mean  count\n",
       "                      debt   debt\n",
       "family_status_id                 \n",
       "0                 0.075421  12344\n",
       "1                 0.093202   4163\n",
       "2                 0.065693    959\n",
       "3                 0.071130   1195\n",
       "4                 0.097509   2810"
      ]
     },
     "execution_count": 51,
     "metadata": {},
     "output_type": "execute_result"
    }
   ],
   "source": [
    "df.pivot_table(index=['family_status_id'], values=['debt'], aggfunc=['mean', 'count'])"
   ]
  },
  {
   "cell_type": "markdown",
   "id": "05710c62",
   "metadata": {},
   "source": [
    "Для полноты картины посмотрим таблицу `family_df`."
   ]
  },
  {
   "cell_type": "code",
   "execution_count": 52,
   "id": "86b6bb68",
   "metadata": {},
   "outputs": [
    {
     "data": {
      "text/html": [
       "<div>\n",
       "<style scoped>\n",
       "    .dataframe tbody tr th:only-of-type {\n",
       "        vertical-align: middle;\n",
       "    }\n",
       "\n",
       "    .dataframe tbody tr th {\n",
       "        vertical-align: top;\n",
       "    }\n",
       "\n",
       "    .dataframe thead th {\n",
       "        text-align: right;\n",
       "    }\n",
       "</style>\n",
       "<table border=\"1\" class=\"dataframe\">\n",
       "  <thead>\n",
       "    <tr style=\"text-align: right;\">\n",
       "      <th></th>\n",
       "      <th>family_status</th>\n",
       "      <th>family_status_id</th>\n",
       "    </tr>\n",
       "  </thead>\n",
       "  <tbody>\n",
       "    <tr>\n",
       "      <th>0</th>\n",
       "      <td>женат / замужем</td>\n",
       "      <td>0</td>\n",
       "    </tr>\n",
       "    <tr>\n",
       "      <th>1</th>\n",
       "      <td>не женат / не замужем</td>\n",
       "      <td>4</td>\n",
       "    </tr>\n",
       "    <tr>\n",
       "      <th>2</th>\n",
       "      <td>гражданский брак</td>\n",
       "      <td>1</td>\n",
       "    </tr>\n",
       "    <tr>\n",
       "      <th>3</th>\n",
       "      <td>в разводе</td>\n",
       "      <td>3</td>\n",
       "    </tr>\n",
       "    <tr>\n",
       "      <th>4</th>\n",
       "      <td>вдовец / вдова</td>\n",
       "      <td>2</td>\n",
       "    </tr>\n",
       "  </tbody>\n",
       "</table>\n",
       "</div>"
      ],
      "text/plain": [
       "           family_status  family_status_id\n",
       "0        женат / замужем                 0\n",
       "1  не женат / не замужем                 4\n",
       "2       гражданский брак                 1\n",
       "3              в разводе                 3\n",
       "4         вдовец / вдова                 2"
      ]
     },
     "execution_count": 52,
     "metadata": {},
     "output_type": "execute_result"
    }
   ],
   "source": [
    "family_df"
   ]
  },
  {
   "cell_type": "markdown",
   "id": "aa868836",
   "metadata": {},
   "source": [
    "__Вывод:__ Семейное положение __влияет__ на вероятность возврата кредита в срок. Наиболее надёжные клиенты - это люди состоящие в гражданском браке."
   ]
  },
  {
   "cell_type": "markdown",
   "id": "47676151",
   "metadata": {},
   "source": [
    "## Зависимость между уровнем дохода и возвратом кредита в срок"
   ]
  },
  {
   "cell_type": "code",
   "execution_count": 53,
   "id": "6256d9c8",
   "metadata": {},
   "outputs": [
    {
     "data": {
      "text/html": [
       "<div>\n",
       "<style scoped>\n",
       "    .dataframe tbody tr th:only-of-type {\n",
       "        vertical-align: middle;\n",
       "    }\n",
       "\n",
       "    .dataframe tbody tr th {\n",
       "        vertical-align: top;\n",
       "    }\n",
       "\n",
       "    .dataframe thead tr th {\n",
       "        text-align: left;\n",
       "    }\n",
       "\n",
       "    .dataframe thead tr:last-of-type th {\n",
       "        text-align: right;\n",
       "    }\n",
       "</style>\n",
       "<table border=\"1\" class=\"dataframe\">\n",
       "  <thead>\n",
       "    <tr>\n",
       "      <th></th>\n",
       "      <th>mean</th>\n",
       "      <th>count</th>\n",
       "    </tr>\n",
       "    <tr>\n",
       "      <th></th>\n",
       "      <th>debt</th>\n",
       "      <th>debt</th>\n",
       "    </tr>\n",
       "    <tr>\n",
       "      <th>total_income_category</th>\n",
       "      <th></th>\n",
       "      <th></th>\n",
       "    </tr>\n",
       "  </thead>\n",
       "  <tbody>\n",
       "    <tr>\n",
       "      <th>A</th>\n",
       "      <td>0.080000</td>\n",
       "      <td>25</td>\n",
       "    </tr>\n",
       "    <tr>\n",
       "      <th>B</th>\n",
       "      <td>0.070621</td>\n",
       "      <td>5041</td>\n",
       "    </tr>\n",
       "    <tr>\n",
       "      <th>C</th>\n",
       "      <td>0.084825</td>\n",
       "      <td>16033</td>\n",
       "    </tr>\n",
       "    <tr>\n",
       "      <th>D</th>\n",
       "      <td>0.060000</td>\n",
       "      <td>350</td>\n",
       "    </tr>\n",
       "    <tr>\n",
       "      <th>E</th>\n",
       "      <td>0.090909</td>\n",
       "      <td>22</td>\n",
       "    </tr>\n",
       "  </tbody>\n",
       "</table>\n",
       "</div>"
      ],
      "text/plain": [
       "                           mean  count\n",
       "                           debt   debt\n",
       "total_income_category                 \n",
       "A                      0.080000     25\n",
       "B                      0.070621   5041\n",
       "C                      0.084825  16033\n",
       "D                      0.060000    350\n",
       "E                      0.090909     22"
      ]
     },
     "execution_count": 53,
     "metadata": {},
     "output_type": "execute_result"
    }
   ],
   "source": [
    "df.pivot_table(index=['total_income_category'], values=['debt'], aggfunc=['mean', 'count'])"
   ]
  },
  {
   "cell_type": "markdown",
   "id": "945d5d57",
   "metadata": {},
   "source": [
    "__Вывод:__ Логично предположить, что чем выше уровень дохода, тем более надёжный должен быть клиент, но в сводной таблице не наблюдается такой закономерности, поэтому можно сказать, что уровень дохода __не влияет__ на вероятность возврата кредита в срок."
   ]
  },
  {
   "cell_type": "markdown",
   "id": "c02700db",
   "metadata": {},
   "source": [
    "## Зависимость между целью кредита и возвратом кредита в срок"
   ]
  },
  {
   "cell_type": "code",
   "execution_count": 54,
   "id": "a3006316",
   "metadata": {},
   "outputs": [
    {
     "data": {
      "text/html": [
       "<div>\n",
       "<style scoped>\n",
       "    .dataframe tbody tr th:only-of-type {\n",
       "        vertical-align: middle;\n",
       "    }\n",
       "\n",
       "    .dataframe tbody tr th {\n",
       "        vertical-align: top;\n",
       "    }\n",
       "\n",
       "    .dataframe thead tr th {\n",
       "        text-align: left;\n",
       "    }\n",
       "\n",
       "    .dataframe thead tr:last-of-type th {\n",
       "        text-align: right;\n",
       "    }\n",
       "</style>\n",
       "<table border=\"1\" class=\"dataframe\">\n",
       "  <thead>\n",
       "    <tr>\n",
       "      <th></th>\n",
       "      <th>mean</th>\n",
       "      <th>count</th>\n",
       "    </tr>\n",
       "    <tr>\n",
       "      <th></th>\n",
       "      <th>debt</th>\n",
       "      <th>debt</th>\n",
       "    </tr>\n",
       "    <tr>\n",
       "      <th>purpose_category</th>\n",
       "      <th></th>\n",
       "      <th></th>\n",
       "    </tr>\n",
       "  </thead>\n",
       "  <tbody>\n",
       "    <tr>\n",
       "      <th>операции с автомобилем</th>\n",
       "      <td>0.093547</td>\n",
       "      <td>4308</td>\n",
       "    </tr>\n",
       "    <tr>\n",
       "      <th>операции с недвижимостью</th>\n",
       "      <td>0.072314</td>\n",
       "      <td>10814</td>\n",
       "    </tr>\n",
       "    <tr>\n",
       "      <th>получение образования</th>\n",
       "      <td>0.092177</td>\n",
       "      <td>4014</td>\n",
       "    </tr>\n",
       "    <tr>\n",
       "      <th>проведение свадьбы</th>\n",
       "      <td>0.079657</td>\n",
       "      <td>2335</td>\n",
       "    </tr>\n",
       "  </tbody>\n",
       "</table>\n",
       "</div>"
      ],
      "text/plain": [
       "                              mean  count\n",
       "                              debt   debt\n",
       "purpose_category                         \n",
       "операции с автомобилем    0.093547   4308\n",
       "операции с недвижимостью  0.072314  10814\n",
       "получение образования     0.092177   4014\n",
       "проведение свадьбы        0.079657   2335"
      ]
     },
     "execution_count": 54,
     "metadata": {},
     "output_type": "execute_result"
    }
   ],
   "source": [
    "df.pivot_table(index=['purpose_category'], values=['debt'], aggfunc=['mean', 'count'])"
   ]
  },
  {
   "cell_type": "markdown",
   "id": "f97117c0",
   "metadata": {},
   "source": [
    "__Вывод:__ Цель кредита __влияет__ на вероятность возврата кредита в срок. Операции с автомобилем и получение образования менее надёжны с точки зрения возврата кредита в срок, чем операции с недвижимостью или проведение свадьбы."
   ]
  },
  {
   "cell_type": "markdown",
   "id": "085fa2b9",
   "metadata": {},
   "source": [
    "# Общий вывод"
   ]
  },
  {
   "cell_type": "markdown",
   "id": "a8505cb6",
   "metadata": {},
   "source": [
    "Количество должников, относительно общего количества клиентов, находится в диапазоне от 6,5% до 10,5%. Семейное положение и количество детей клиента __влияет__ на вероятность погашения кредита в срок, но значимость этого влияния находится в диапазоне от 0% до 3%."
   ]
  }
 ],
 "metadata": {
  "ExecuteTimeLog": [
   {
    "duration": 621,
    "start_time": "2022-04-27T11:03:12.379Z"
   },
   {
    "duration": 94,
    "start_time": "2022-04-27T11:03:25.017Z"
   },
   {
    "duration": 20,
    "start_time": "2022-04-27T11:07:36.075Z"
   },
   {
    "duration": 7,
    "start_time": "2022-04-27T11:07:47.128Z"
   },
   {
    "duration": 6,
    "start_time": "2022-04-27T11:24:52.870Z"
   },
   {
    "duration": 7,
    "start_time": "2022-04-27T11:26:17.518Z"
   },
   {
    "duration": 49,
    "start_time": "2022-04-27T11:29:30.816Z"
   },
   {
    "duration": 13,
    "start_time": "2022-04-27T11:29:44.710Z"
   },
   {
    "duration": 7,
    "start_time": "2022-04-27T11:30:08.500Z"
   },
   {
    "duration": 14,
    "start_time": "2022-04-27T11:33:06.823Z"
   },
   {
    "duration": 18,
    "start_time": "2022-04-27T11:33:25.695Z"
   },
   {
    "duration": 23,
    "start_time": "2022-04-27T11:39:03.352Z"
   },
   {
    "duration": 18,
    "start_time": "2022-04-27T11:39:25.747Z"
   },
   {
    "duration": 20,
    "start_time": "2022-04-27T11:41:18.644Z"
   },
   {
    "duration": 92,
    "start_time": "2022-04-27T11:42:00.365Z"
   },
   {
    "duration": 89,
    "start_time": "2022-04-27T11:42:09.558Z"
   },
   {
    "duration": 118,
    "start_time": "2022-04-27T11:43:08.915Z"
   },
   {
    "duration": 17,
    "start_time": "2022-04-27T11:43:21.945Z"
   },
   {
    "duration": 22,
    "start_time": "2022-04-27T11:44:24.683Z"
   },
   {
    "duration": 21,
    "start_time": "2022-04-27T11:44:30.469Z"
   },
   {
    "duration": 27,
    "start_time": "2022-04-27T11:46:57.606Z"
   },
   {
    "duration": 20,
    "start_time": "2022-04-27T11:47:00.355Z"
   },
   {
    "duration": 6,
    "start_time": "2022-04-27T11:52:29.671Z"
   },
   {
    "duration": 14,
    "start_time": "2022-04-27T12:05:31.347Z"
   },
   {
    "duration": 8,
    "start_time": "2022-04-27T12:09:04.789Z"
   },
   {
    "duration": 114,
    "start_time": "2022-04-27T12:10:49.003Z"
   },
   {
    "duration": 1884,
    "start_time": "2022-04-27T12:11:25.609Z"
   },
   {
    "duration": 5,
    "start_time": "2022-04-27T12:11:37.728Z"
   },
   {
    "duration": 4,
    "start_time": "2022-04-27T12:11:40.985Z"
   },
   {
    "duration": 120,
    "start_time": "2022-04-27T12:12:12.554Z"
   },
   {
    "duration": 152,
    "start_time": "2022-04-27T12:12:37.383Z"
   },
   {
    "duration": 137,
    "start_time": "2022-04-27T12:13:06.207Z"
   },
   {
    "duration": 107,
    "start_time": "2022-04-27T12:13:21.862Z"
   },
   {
    "duration": 226,
    "start_time": "2022-04-27T12:13:50.272Z"
   },
   {
    "duration": 118,
    "start_time": "2022-04-27T12:14:03.538Z"
   },
   {
    "duration": 14,
    "start_time": "2022-04-27T12:14:12.821Z"
   },
   {
    "duration": 102,
    "start_time": "2022-04-27T12:14:24.530Z"
   },
   {
    "duration": 9,
    "start_time": "2022-04-27T12:15:38.306Z"
   },
   {
    "duration": 34,
    "start_time": "2022-04-27T12:17:15.305Z"
   },
   {
    "duration": 42,
    "start_time": "2022-04-27T12:18:19.244Z"
   },
   {
    "duration": 58,
    "start_time": "2022-04-27T12:18:23.331Z"
   },
   {
    "duration": 24,
    "start_time": "2022-04-27T12:18:53.027Z"
   },
   {
    "duration": 58,
    "start_time": "2022-04-27T12:19:50.393Z"
   },
   {
    "duration": 58,
    "start_time": "2022-04-27T12:23:22.498Z"
   },
   {
    "duration": 14,
    "start_time": "2022-04-27T12:24:41.775Z"
   },
   {
    "duration": 12,
    "start_time": "2022-04-27T12:25:07.799Z"
   },
   {
    "duration": 20,
    "start_time": "2022-04-27T12:25:37.940Z"
   },
   {
    "duration": 12,
    "start_time": "2022-04-27T12:25:42.496Z"
   },
   {
    "duration": 39,
    "start_time": "2022-04-27T12:25:54.789Z"
   },
   {
    "duration": 31,
    "start_time": "2022-04-27T12:29:02.926Z"
   },
   {
    "duration": 389,
    "start_time": "2022-04-27T12:29:17.337Z"
   },
   {
    "duration": 22,
    "start_time": "2022-04-27T12:29:30.597Z"
   },
   {
    "duration": 58,
    "start_time": "2022-04-27T12:33:21.105Z"
   },
   {
    "duration": 10,
    "start_time": "2022-04-27T12:35:38.442Z"
   },
   {
    "duration": 11,
    "start_time": "2022-04-27T12:39:37.355Z"
   },
   {
    "duration": 13,
    "start_time": "2022-04-27T12:39:52.618Z"
   },
   {
    "duration": 23,
    "start_time": "2022-04-27T12:40:46.551Z"
   },
   {
    "duration": 9,
    "start_time": "2022-04-27T12:41:04.684Z"
   },
   {
    "duration": 10,
    "start_time": "2022-04-27T12:41:10.043Z"
   },
   {
    "duration": 14,
    "start_time": "2022-04-27T12:41:37.764Z"
   },
   {
    "duration": 14,
    "start_time": "2022-04-27T12:41:57.984Z"
   },
   {
    "duration": 11,
    "start_time": "2022-04-27T12:42:11.818Z"
   },
   {
    "duration": 30,
    "start_time": "2022-04-27T12:43:49.339Z"
   },
   {
    "duration": 5,
    "start_time": "2022-04-27T12:44:07.233Z"
   },
   {
    "duration": 9,
    "start_time": "2022-04-27T12:47:22.998Z"
   },
   {
    "duration": 6,
    "start_time": "2022-04-27T12:47:43.715Z"
   },
   {
    "duration": 168,
    "start_time": "2022-04-27T12:48:05.752Z"
   },
   {
    "duration": 71,
    "start_time": "2022-04-27T12:50:10.231Z"
   },
   {
    "duration": 20,
    "start_time": "2022-04-27T12:50:10.305Z"
   },
   {
    "duration": 21,
    "start_time": "2022-04-27T12:50:10.327Z"
   },
   {
    "duration": 47,
    "start_time": "2022-04-27T12:50:10.351Z"
   },
   {
    "duration": 6,
    "start_time": "2022-04-27T12:50:10.400Z"
   },
   {
    "duration": 15,
    "start_time": "2022-04-27T12:50:10.408Z"
   },
   {
    "duration": 7,
    "start_time": "2022-04-27T12:50:10.425Z"
   },
   {
    "duration": 14,
    "start_time": "2022-04-27T12:50:10.434Z"
   },
   {
    "duration": 49,
    "start_time": "2022-04-27T12:50:10.450Z"
   },
   {
    "duration": 120,
    "start_time": "2022-04-27T13:13:40.499Z"
   },
   {
    "duration": 51,
    "start_time": "2022-04-29T09:37:20.779Z"
   },
   {
    "duration": 466,
    "start_time": "2022-04-29T09:37:44.876Z"
   },
   {
    "duration": 20,
    "start_time": "2022-04-29T09:37:45.344Z"
   },
   {
    "duration": 13,
    "start_time": "2022-04-29T09:37:45.366Z"
   },
   {
    "duration": 22,
    "start_time": "2022-04-29T09:37:45.381Z"
   },
   {
    "duration": 5,
    "start_time": "2022-04-29T09:37:45.405Z"
   },
   {
    "duration": 12,
    "start_time": "2022-04-29T09:37:45.412Z"
   },
   {
    "duration": 8,
    "start_time": "2022-04-29T09:37:45.426Z"
   },
   {
    "duration": 5,
    "start_time": "2022-04-29T09:37:45.435Z"
   },
   {
    "duration": 16,
    "start_time": "2022-04-29T09:37:45.441Z"
   },
   {
    "duration": 13,
    "start_time": "2022-04-29T09:37:45.459Z"
   },
   {
    "duration": 6,
    "start_time": "2022-04-29T09:59:05.383Z"
   },
   {
    "duration": 2,
    "start_time": "2022-04-29T10:00:50.644Z"
   },
   {
    "duration": 6,
    "start_time": "2022-04-29T10:08:06.065Z"
   },
   {
    "duration": 26,
    "start_time": "2022-04-29T10:10:41.968Z"
   },
   {
    "duration": 24,
    "start_time": "2022-04-29T10:11:01.431Z"
   },
   {
    "duration": 304,
    "start_time": "2022-04-29T10:11:45.811Z"
   },
   {
    "duration": 12,
    "start_time": "2022-04-29T10:12:25.737Z"
   },
   {
    "duration": 12,
    "start_time": "2022-04-29T10:12:31.807Z"
   },
   {
    "duration": 14,
    "start_time": "2022-04-29T10:12:41.499Z"
   },
   {
    "duration": 11,
    "start_time": "2022-04-29T10:12:45.128Z"
   },
   {
    "duration": 14,
    "start_time": "2022-04-29T10:12:49.748Z"
   },
   {
    "duration": 22,
    "start_time": "2022-04-29T10:12:54.223Z"
   },
   {
    "duration": 7,
    "start_time": "2022-04-29T10:13:25.754Z"
   },
   {
    "duration": 23,
    "start_time": "2022-04-29T10:13:38.029Z"
   },
   {
    "duration": 10,
    "start_time": "2022-04-29T10:13:43.176Z"
   },
   {
    "duration": 11,
    "start_time": "2022-04-29T10:14:03.030Z"
   },
   {
    "duration": 15,
    "start_time": "2022-04-29T10:14:06.364Z"
   },
   {
    "duration": 30,
    "start_time": "2022-04-29T10:14:10.594Z"
   },
   {
    "duration": 13,
    "start_time": "2022-04-29T10:14:31.296Z"
   },
   {
    "duration": 22,
    "start_time": "2022-04-29T10:16:11.899Z"
   },
   {
    "duration": 8,
    "start_time": "2022-04-29T10:17:13.481Z"
   },
   {
    "duration": 8,
    "start_time": "2022-04-29T10:17:26.996Z"
   },
   {
    "duration": 9,
    "start_time": "2022-04-29T10:17:35.087Z"
   },
   {
    "duration": 24,
    "start_time": "2022-04-29T10:18:36.305Z"
   },
   {
    "duration": 9,
    "start_time": "2022-04-29T10:18:50.497Z"
   },
   {
    "duration": 9,
    "start_time": "2022-04-29T10:18:54.707Z"
   },
   {
    "duration": 89,
    "start_time": "2022-04-29T10:19:44.581Z"
   },
   {
    "duration": 31,
    "start_time": "2022-04-29T10:20:45.516Z"
   },
   {
    "duration": 24,
    "start_time": "2022-04-29T10:20:56.871Z"
   },
   {
    "duration": 16,
    "start_time": "2022-04-29T10:21:17.459Z"
   },
   {
    "duration": 8,
    "start_time": "2022-04-29T10:21:29.497Z"
   },
   {
    "duration": 8,
    "start_time": "2022-04-29T10:21:36.878Z"
   },
   {
    "duration": 4,
    "start_time": "2022-04-29T10:24:37.983Z"
   },
   {
    "duration": 34,
    "start_time": "2022-04-29T10:25:35.945Z"
   },
   {
    "duration": 9,
    "start_time": "2022-04-29T10:26:08.849Z"
   },
   {
    "duration": 10,
    "start_time": "2022-04-29T10:26:14.305Z"
   },
   {
    "duration": 30,
    "start_time": "2022-04-29T10:26:42.181Z"
   },
   {
    "duration": 37,
    "start_time": "2022-04-29T10:26:49.699Z"
   },
   {
    "duration": 35,
    "start_time": "2022-04-29T10:26:54.302Z"
   },
   {
    "duration": 34,
    "start_time": "2022-04-29T10:26:59.328Z"
   },
   {
    "duration": 24,
    "start_time": "2022-04-29T10:32:46.087Z"
   },
   {
    "duration": 71,
    "start_time": "2022-04-29T10:46:21.227Z"
   },
   {
    "duration": 62,
    "start_time": "2022-04-29T10:47:06.841Z"
   },
   {
    "duration": 16,
    "start_time": "2022-04-29T10:53:43.718Z"
   },
   {
    "duration": 7,
    "start_time": "2022-04-29T10:54:05.043Z"
   },
   {
    "duration": 7,
    "start_time": "2022-04-29T10:54:33.179Z"
   },
   {
    "duration": 7,
    "start_time": "2022-04-29T10:54:50.096Z"
   },
   {
    "duration": 5,
    "start_time": "2022-04-29T10:54:52.400Z"
   },
   {
    "duration": 4,
    "start_time": "2022-04-29T10:59:57.350Z"
   },
   {
    "duration": 5,
    "start_time": "2022-04-29T11:01:34.264Z"
   },
   {
    "duration": 6,
    "start_time": "2022-04-29T11:01:35.998Z"
   },
   {
    "duration": 886,
    "start_time": "2022-04-29T11:04:52.110Z"
   },
   {
    "duration": 24,
    "start_time": "2022-04-29T11:09:44.923Z"
   },
   {
    "duration": 23,
    "start_time": "2022-04-29T11:10:29.750Z"
   },
   {
    "duration": 25,
    "start_time": "2022-04-29T11:10:45.070Z"
   },
   {
    "duration": 25,
    "start_time": "2022-04-29T11:12:18.333Z"
   },
   {
    "duration": 33,
    "start_time": "2022-04-29T11:12:45.804Z"
   },
   {
    "duration": 9,
    "start_time": "2022-04-29T11:14:30.089Z"
   },
   {
    "duration": 8,
    "start_time": "2022-04-29T11:14:39.664Z"
   },
   {
    "duration": 104,
    "start_time": "2022-04-29T11:16:24.856Z"
   },
   {
    "duration": 7,
    "start_time": "2022-04-29T11:19:16.972Z"
   },
   {
    "duration": 5,
    "start_time": "2022-04-29T11:19:30.694Z"
   },
   {
    "duration": 6,
    "start_time": "2022-04-29T11:19:35.019Z"
   },
   {
    "duration": 11,
    "start_time": "2022-04-29T11:21:43.390Z"
   },
   {
    "duration": 8,
    "start_time": "2022-04-29T11:21:54.253Z"
   },
   {
    "duration": 9,
    "start_time": "2022-04-29T11:22:40.261Z"
   },
   {
    "duration": 9,
    "start_time": "2022-04-29T11:22:44.094Z"
   },
   {
    "duration": 58,
    "start_time": "2022-04-29T11:22:48.766Z"
   },
   {
    "duration": 13,
    "start_time": "2022-04-29T11:22:48.826Z"
   },
   {
    "duration": 14,
    "start_time": "2022-04-29T11:22:48.841Z"
   },
   {
    "duration": 18,
    "start_time": "2022-04-29T11:22:48.856Z"
   },
   {
    "duration": 4,
    "start_time": "2022-04-29T11:22:48.877Z"
   },
   {
    "duration": 34,
    "start_time": "2022-04-29T11:22:48.883Z"
   },
   {
    "duration": 6,
    "start_time": "2022-04-29T11:22:48.919Z"
   },
   {
    "duration": 5,
    "start_time": "2022-04-29T11:22:48.926Z"
   },
   {
    "duration": 14,
    "start_time": "2022-04-29T11:22:48.933Z"
   },
   {
    "duration": 14,
    "start_time": "2022-04-29T11:22:48.949Z"
   },
   {
    "duration": 8,
    "start_time": "2022-04-29T11:22:48.965Z"
   },
   {
    "duration": 24,
    "start_time": "2022-04-29T11:22:49.008Z"
   },
   {
    "duration": 6,
    "start_time": "2022-04-29T11:22:49.033Z"
   },
   {
    "duration": 6,
    "start_time": "2022-04-29T11:22:49.041Z"
   },
   {
    "duration": 6,
    "start_time": "2022-04-29T11:22:49.049Z"
   },
   {
    "duration": 6,
    "start_time": "2022-04-29T11:22:49.056Z"
   },
   {
    "duration": 44,
    "start_time": "2022-04-29T11:22:49.064Z"
   },
   {
    "duration": 8,
    "start_time": "2022-04-29T11:22:49.110Z"
   },
   {
    "duration": 6,
    "start_time": "2022-04-29T11:22:49.120Z"
   },
   {
    "duration": 6,
    "start_time": "2022-04-29T11:22:49.127Z"
   },
   {
    "duration": 9,
    "start_time": "2022-04-29T11:22:49.135Z"
   },
   {
    "duration": 3,
    "start_time": "2022-04-29T11:25:31.363Z"
   },
   {
    "duration": 54,
    "start_time": "2022-04-29T11:27:41.665Z"
   },
   {
    "duration": 14,
    "start_time": "2022-04-29T11:27:41.721Z"
   },
   {
    "duration": 13,
    "start_time": "2022-04-29T11:27:41.737Z"
   },
   {
    "duration": 18,
    "start_time": "2022-04-29T11:27:41.752Z"
   },
   {
    "duration": 4,
    "start_time": "2022-04-29T11:27:41.773Z"
   },
   {
    "duration": 11,
    "start_time": "2022-04-29T11:27:41.807Z"
   },
   {
    "duration": 6,
    "start_time": "2022-04-29T11:27:41.820Z"
   },
   {
    "duration": 6,
    "start_time": "2022-04-29T11:27:41.827Z"
   },
   {
    "duration": 13,
    "start_time": "2022-04-29T11:27:41.835Z"
   },
   {
    "duration": 14,
    "start_time": "2022-04-29T11:27:41.850Z"
   },
   {
    "duration": 3,
    "start_time": "2022-04-29T11:27:41.866Z"
   },
   {
    "duration": 6,
    "start_time": "2022-04-29T11:27:41.908Z"
   },
   {
    "duration": 6,
    "start_time": "2022-04-29T11:27:41.916Z"
   },
   {
    "duration": 5,
    "start_time": "2022-04-29T11:27:41.925Z"
   },
   {
    "duration": 11,
    "start_time": "2022-04-29T11:27:41.932Z"
   },
   {
    "duration": 5,
    "start_time": "2022-04-29T11:27:41.945Z"
   },
   {
    "duration": 8,
    "start_time": "2022-04-29T11:27:41.952Z"
   },
   {
    "duration": 6,
    "start_time": "2022-04-29T11:27:41.961Z"
   },
   {
    "duration": 6,
    "start_time": "2022-04-29T11:27:42.008Z"
   },
   {
    "duration": 10,
    "start_time": "2022-04-29T11:27:42.015Z"
   },
   {
    "duration": 8,
    "start_time": "2022-04-29T11:28:32.125Z"
   },
   {
    "duration": 9,
    "start_time": "2022-04-29T11:28:35.969Z"
   },
   {
    "duration": 57,
    "start_time": "2022-04-29T11:28:39.956Z"
   },
   {
    "duration": 14,
    "start_time": "2022-04-29T11:28:40.015Z"
   },
   {
    "duration": 14,
    "start_time": "2022-04-29T11:28:40.031Z"
   },
   {
    "duration": 19,
    "start_time": "2022-04-29T11:28:40.046Z"
   },
   {
    "duration": 4,
    "start_time": "2022-04-29T11:28:40.068Z"
   },
   {
    "duration": 40,
    "start_time": "2022-04-29T11:28:40.074Z"
   },
   {
    "duration": 6,
    "start_time": "2022-04-29T11:28:40.116Z"
   },
   {
    "duration": 4,
    "start_time": "2022-04-29T11:28:40.124Z"
   },
   {
    "duration": 13,
    "start_time": "2022-04-29T11:28:40.130Z"
   },
   {
    "duration": 13,
    "start_time": "2022-04-29T11:28:40.145Z"
   },
   {
    "duration": 3,
    "start_time": "2022-04-29T11:28:40.160Z"
   },
   {
    "duration": 42,
    "start_time": "2022-04-29T11:28:40.165Z"
   },
   {
    "duration": 7,
    "start_time": "2022-04-29T11:28:40.209Z"
   },
   {
    "duration": 4,
    "start_time": "2022-04-29T11:28:40.219Z"
   },
   {
    "duration": 5,
    "start_time": "2022-04-29T11:28:40.225Z"
   },
   {
    "duration": 9,
    "start_time": "2022-04-29T11:28:40.231Z"
   },
   {
    "duration": 10,
    "start_time": "2022-04-29T11:28:40.241Z"
   },
   {
    "duration": 6,
    "start_time": "2022-04-29T11:28:40.252Z"
   },
   {
    "duration": 5,
    "start_time": "2022-04-29T11:28:40.260Z"
   },
   {
    "duration": 47,
    "start_time": "2022-04-29T11:28:40.267Z"
   },
   {
    "duration": 60,
    "start_time": "2022-04-29T11:31:23.696Z"
   },
   {
    "duration": 13,
    "start_time": "2022-04-29T11:31:23.758Z"
   },
   {
    "duration": 14,
    "start_time": "2022-04-29T11:31:23.772Z"
   },
   {
    "duration": 27,
    "start_time": "2022-04-29T11:31:23.788Z"
   },
   {
    "duration": 4,
    "start_time": "2022-04-29T11:31:23.817Z"
   },
   {
    "duration": 11,
    "start_time": "2022-04-29T11:31:23.823Z"
   },
   {
    "duration": 5,
    "start_time": "2022-04-29T11:31:23.835Z"
   },
   {
    "duration": 8,
    "start_time": "2022-04-29T11:31:23.842Z"
   },
   {
    "duration": 18,
    "start_time": "2022-04-29T11:31:23.851Z"
   },
   {
    "duration": 44,
    "start_time": "2022-04-29T11:31:23.871Z"
   },
   {
    "duration": 4,
    "start_time": "2022-04-29T11:31:23.916Z"
   },
   {
    "duration": 6,
    "start_time": "2022-04-29T11:31:23.922Z"
   },
   {
    "duration": 5,
    "start_time": "2022-04-29T11:31:23.930Z"
   },
   {
    "duration": 4,
    "start_time": "2022-04-29T11:31:23.937Z"
   },
   {
    "duration": 8,
    "start_time": "2022-04-29T11:31:23.943Z"
   },
   {
    "duration": 5,
    "start_time": "2022-04-29T11:31:23.953Z"
   },
   {
    "duration": 7,
    "start_time": "2022-04-29T11:31:23.959Z"
   },
   {
    "duration": 43,
    "start_time": "2022-04-29T11:31:23.967Z"
   },
   {
    "duration": 5,
    "start_time": "2022-04-29T11:31:24.012Z"
   },
   {
    "duration": 6,
    "start_time": "2022-04-29T11:31:24.019Z"
   },
   {
    "duration": 57,
    "start_time": "2022-04-29T11:32:36.987Z"
   },
   {
    "duration": 14,
    "start_time": "2022-04-29T11:32:37.046Z"
   },
   {
    "duration": 21,
    "start_time": "2022-04-29T11:32:37.062Z"
   },
   {
    "duration": 42,
    "start_time": "2022-04-29T11:32:37.085Z"
   },
   {
    "duration": 5,
    "start_time": "2022-04-29T11:32:37.131Z"
   },
   {
    "duration": 16,
    "start_time": "2022-04-29T11:32:37.138Z"
   },
   {
    "duration": 5,
    "start_time": "2022-04-29T11:32:37.155Z"
   },
   {
    "duration": 9,
    "start_time": "2022-04-29T11:32:37.161Z"
   },
   {
    "duration": 40,
    "start_time": "2022-04-29T11:32:37.171Z"
   },
   {
    "duration": 13,
    "start_time": "2022-04-29T11:32:37.212Z"
   },
   {
    "duration": 4,
    "start_time": "2022-04-29T11:32:37.227Z"
   },
   {
    "duration": 7,
    "start_time": "2022-04-29T11:32:37.232Z"
   },
   {
    "duration": 5,
    "start_time": "2022-04-29T11:32:37.241Z"
   },
   {
    "duration": 5,
    "start_time": "2022-04-29T11:32:37.248Z"
   },
   {
    "duration": 6,
    "start_time": "2022-04-29T11:32:37.255Z"
   },
   {
    "duration": 45,
    "start_time": "2022-04-29T11:32:37.262Z"
   },
   {
    "duration": 8,
    "start_time": "2022-04-29T11:32:37.309Z"
   },
   {
    "duration": 5,
    "start_time": "2022-04-29T11:32:37.319Z"
   },
   {
    "duration": 5,
    "start_time": "2022-04-29T11:32:37.326Z"
   },
   {
    "duration": 9,
    "start_time": "2022-04-29T11:32:37.333Z"
   },
   {
    "duration": 8,
    "start_time": "2022-04-29T11:38:10.143Z"
   },
   {
    "duration": 55,
    "start_time": "2022-04-29T11:38:32.157Z"
   },
   {
    "duration": 12,
    "start_time": "2022-04-29T11:38:32.214Z"
   },
   {
    "duration": 14,
    "start_time": "2022-04-29T11:38:32.228Z"
   },
   {
    "duration": 15,
    "start_time": "2022-04-29T11:38:32.244Z"
   },
   {
    "duration": 4,
    "start_time": "2022-04-29T11:38:32.262Z"
   },
   {
    "duration": 10,
    "start_time": "2022-04-29T11:38:32.268Z"
   },
   {
    "duration": 30,
    "start_time": "2022-04-29T11:38:32.279Z"
   },
   {
    "duration": 5,
    "start_time": "2022-04-29T11:38:32.311Z"
   },
   {
    "duration": 14,
    "start_time": "2022-04-29T11:38:32.318Z"
   },
   {
    "duration": 18,
    "start_time": "2022-04-29T11:38:32.333Z"
   },
   {
    "duration": 4,
    "start_time": "2022-04-29T11:38:32.352Z"
   },
   {
    "duration": 6,
    "start_time": "2022-04-29T11:38:32.358Z"
   },
   {
    "duration": 4,
    "start_time": "2022-04-29T11:38:32.366Z"
   },
   {
    "duration": 34,
    "start_time": "2022-04-29T11:38:32.373Z"
   },
   {
    "duration": 5,
    "start_time": "2022-04-29T11:38:32.409Z"
   },
   {
    "duration": 6,
    "start_time": "2022-04-29T11:38:32.415Z"
   },
   {
    "duration": 6,
    "start_time": "2022-04-29T11:38:32.422Z"
   },
   {
    "duration": 5,
    "start_time": "2022-04-29T11:38:32.430Z"
   },
   {
    "duration": 5,
    "start_time": "2022-04-29T11:38:32.436Z"
   },
   {
    "duration": 8,
    "start_time": "2022-04-29T11:38:32.443Z"
   },
   {
    "duration": 53,
    "start_time": "2022-04-29T11:41:51.142Z"
   },
   {
    "duration": 13,
    "start_time": "2022-04-29T11:41:51.198Z"
   },
   {
    "duration": 16,
    "start_time": "2022-04-29T11:41:51.213Z"
   },
   {
    "duration": 17,
    "start_time": "2022-04-29T11:41:51.231Z"
   },
   {
    "duration": 4,
    "start_time": "2022-04-29T11:41:51.251Z"
   },
   {
    "duration": 14,
    "start_time": "2022-04-29T11:41:51.257Z"
   },
   {
    "duration": 5,
    "start_time": "2022-04-29T11:41:51.273Z"
   },
   {
    "duration": 28,
    "start_time": "2022-04-29T11:41:51.279Z"
   },
   {
    "duration": 13,
    "start_time": "2022-04-29T11:41:51.309Z"
   },
   {
    "duration": 17,
    "start_time": "2022-04-29T11:41:51.323Z"
   },
   {
    "duration": 6,
    "start_time": "2022-04-29T11:41:51.342Z"
   },
   {
    "duration": 8,
    "start_time": "2022-04-29T11:41:51.350Z"
   },
   {
    "duration": 7,
    "start_time": "2022-04-29T11:41:51.359Z"
   },
   {
    "duration": 4,
    "start_time": "2022-04-29T11:41:51.368Z"
   },
   {
    "duration": 34,
    "start_time": "2022-04-29T11:41:51.374Z"
   },
   {
    "duration": 5,
    "start_time": "2022-04-29T11:41:51.409Z"
   },
   {
    "duration": 11,
    "start_time": "2022-04-29T11:41:51.416Z"
   },
   {
    "duration": 6,
    "start_time": "2022-04-29T11:41:51.428Z"
   },
   {
    "duration": 5,
    "start_time": "2022-04-29T11:41:51.435Z"
   },
   {
    "duration": 5,
    "start_time": "2022-04-29T11:41:51.442Z"
   },
   {
    "duration": 60,
    "start_time": "2022-04-29T11:42:05.162Z"
   },
   {
    "duration": 14,
    "start_time": "2022-04-29T11:42:05.224Z"
   },
   {
    "duration": 16,
    "start_time": "2022-04-29T11:42:05.240Z"
   },
   {
    "duration": 21,
    "start_time": "2022-04-29T11:42:05.258Z"
   },
   {
    "duration": 27,
    "start_time": "2022-04-29T11:42:05.282Z"
   },
   {
    "duration": 18,
    "start_time": "2022-04-29T11:42:05.311Z"
   },
   {
    "duration": 4,
    "start_time": "2022-04-29T11:42:05.331Z"
   },
   {
    "duration": 6,
    "start_time": "2022-04-29T11:42:05.337Z"
   },
   {
    "duration": 15,
    "start_time": "2022-04-29T11:42:05.345Z"
   },
   {
    "duration": 47,
    "start_time": "2022-04-29T11:42:05.362Z"
   },
   {
    "duration": 4,
    "start_time": "2022-04-29T11:42:05.411Z"
   },
   {
    "duration": 45,
    "start_time": "2022-04-29T11:42:05.417Z"
   },
   {
    "duration": 6,
    "start_time": "2022-04-29T11:42:05.463Z"
   },
   {
    "duration": 5,
    "start_time": "2022-04-29T11:42:05.472Z"
   },
   {
    "duration": 32,
    "start_time": "2022-04-29T11:42:05.479Z"
   },
   {
    "duration": 6,
    "start_time": "2022-04-29T11:42:05.513Z"
   },
   {
    "duration": 7,
    "start_time": "2022-04-29T11:42:05.521Z"
   },
   {
    "duration": 6,
    "start_time": "2022-04-29T11:42:05.531Z"
   },
   {
    "duration": 6,
    "start_time": "2022-04-29T11:42:05.538Z"
   },
   {
    "duration": 7,
    "start_time": "2022-04-29T11:42:05.546Z"
   },
   {
    "duration": 9,
    "start_time": "2022-04-29T11:42:10.827Z"
   },
   {
    "duration": 55,
    "start_time": "2022-04-29T11:42:58.374Z"
   },
   {
    "duration": 13,
    "start_time": "2022-04-29T11:42:58.432Z"
   },
   {
    "duration": 14,
    "start_time": "2022-04-29T11:42:58.446Z"
   },
   {
    "duration": 16,
    "start_time": "2022-04-29T11:42:58.462Z"
   },
   {
    "duration": 28,
    "start_time": "2022-04-29T11:42:58.480Z"
   },
   {
    "duration": 11,
    "start_time": "2022-04-29T11:42:58.509Z"
   },
   {
    "duration": 5,
    "start_time": "2022-04-29T11:42:58.521Z"
   },
   {
    "duration": 4,
    "start_time": "2022-04-29T11:42:58.528Z"
   },
   {
    "duration": 15,
    "start_time": "2022-04-29T11:42:58.533Z"
   },
   {
    "duration": 15,
    "start_time": "2022-04-29T11:42:58.550Z"
   },
   {
    "duration": 44,
    "start_time": "2022-04-29T11:42:58.567Z"
   },
   {
    "duration": 8,
    "start_time": "2022-04-29T11:42:58.612Z"
   },
   {
    "duration": 4,
    "start_time": "2022-04-29T11:42:58.622Z"
   },
   {
    "duration": 6,
    "start_time": "2022-04-29T11:42:58.628Z"
   },
   {
    "duration": 5,
    "start_time": "2022-04-29T11:42:58.636Z"
   },
   {
    "duration": 5,
    "start_time": "2022-04-29T11:42:58.642Z"
   },
   {
    "duration": 6,
    "start_time": "2022-04-29T11:42:58.648Z"
   },
   {
    "duration": 52,
    "start_time": "2022-04-29T11:42:58.656Z"
   },
   {
    "duration": 5,
    "start_time": "2022-04-29T11:42:58.710Z"
   },
   {
    "duration": 8,
    "start_time": "2022-04-29T11:42:58.717Z"
   },
   {
    "duration": 5,
    "start_time": "2022-04-29T11:42:58.727Z"
   },
   {
    "duration": 59,
    "start_time": "2022-04-29T11:48:47.653Z"
   },
   {
    "duration": 14,
    "start_time": "2022-04-29T11:48:47.713Z"
   },
   {
    "duration": 15,
    "start_time": "2022-04-29T11:48:47.728Z"
   },
   {
    "duration": 18,
    "start_time": "2022-04-29T11:48:47.745Z"
   },
   {
    "duration": 5,
    "start_time": "2022-04-29T11:48:47.766Z"
   },
   {
    "duration": 35,
    "start_time": "2022-04-29T11:48:47.773Z"
   },
   {
    "duration": 5,
    "start_time": "2022-04-29T11:48:47.810Z"
   },
   {
    "duration": 9,
    "start_time": "2022-04-29T11:48:47.816Z"
   },
   {
    "duration": 14,
    "start_time": "2022-04-29T11:48:47.826Z"
   },
   {
    "duration": 14,
    "start_time": "2022-04-29T11:48:47.841Z"
   },
   {
    "duration": 3,
    "start_time": "2022-04-29T11:48:47.856Z"
   },
   {
    "duration": 8,
    "start_time": "2022-04-29T11:48:47.861Z"
   },
   {
    "duration": 5,
    "start_time": "2022-04-29T11:48:47.870Z"
   },
   {
    "duration": 5,
    "start_time": "2022-04-29T11:48:47.910Z"
   },
   {
    "duration": 5,
    "start_time": "2022-04-29T11:48:47.916Z"
   },
   {
    "duration": 4,
    "start_time": "2022-04-29T11:48:47.923Z"
   },
   {
    "duration": 6,
    "start_time": "2022-04-29T11:48:47.929Z"
   },
   {
    "duration": 5,
    "start_time": "2022-04-29T11:48:47.937Z"
   },
   {
    "duration": 5,
    "start_time": "2022-04-29T11:48:47.944Z"
   },
   {
    "duration": 10,
    "start_time": "2022-04-29T11:48:47.950Z"
   },
   {
    "duration": 6,
    "start_time": "2022-04-29T11:48:48.008Z"
   },
   {
    "duration": 54,
    "start_time": "2022-04-29T11:48:59.540Z"
   },
   {
    "duration": 14,
    "start_time": "2022-04-29T11:48:59.596Z"
   },
   {
    "duration": 14,
    "start_time": "2022-04-29T11:48:59.612Z"
   },
   {
    "duration": 16,
    "start_time": "2022-04-29T11:48:59.628Z"
   },
   {
    "duration": 4,
    "start_time": "2022-04-29T11:48:59.647Z"
   },
   {
    "duration": 11,
    "start_time": "2022-04-29T11:48:59.653Z"
   },
   {
    "duration": 4,
    "start_time": "2022-04-29T11:48:59.666Z"
   },
   {
    "duration": 4,
    "start_time": "2022-04-29T11:48:59.708Z"
   },
   {
    "duration": 22,
    "start_time": "2022-04-29T11:48:59.714Z"
   },
   {
    "duration": 17,
    "start_time": "2022-04-29T11:48:59.738Z"
   },
   {
    "duration": 8,
    "start_time": "2022-04-29T11:48:59.757Z"
   },
   {
    "duration": 8,
    "start_time": "2022-04-29T11:48:59.766Z"
   },
   {
    "duration": 5,
    "start_time": "2022-04-29T11:48:59.775Z"
   },
   {
    "duration": 5,
    "start_time": "2022-04-29T11:48:59.807Z"
   },
   {
    "duration": 8,
    "start_time": "2022-04-29T11:48:59.814Z"
   },
   {
    "duration": 6,
    "start_time": "2022-04-29T11:48:59.823Z"
   },
   {
    "duration": 6,
    "start_time": "2022-04-29T11:48:59.830Z"
   },
   {
    "duration": 6,
    "start_time": "2022-04-29T11:48:59.838Z"
   },
   {
    "duration": 5,
    "start_time": "2022-04-29T11:48:59.845Z"
   },
   {
    "duration": 11,
    "start_time": "2022-04-29T11:48:59.852Z"
   },
   {
    "duration": 47,
    "start_time": "2022-04-29T11:48:59.865Z"
   },
   {
    "duration": 60,
    "start_time": "2022-04-29T11:49:28.720Z"
   },
   {
    "duration": 14,
    "start_time": "2022-04-29T11:49:28.782Z"
   },
   {
    "duration": 21,
    "start_time": "2022-04-29T11:49:28.798Z"
   },
   {
    "duration": 19,
    "start_time": "2022-04-29T11:49:28.822Z"
   },
   {
    "duration": 4,
    "start_time": "2022-04-29T11:49:28.843Z"
   },
   {
    "duration": 11,
    "start_time": "2022-04-29T11:49:28.849Z"
   },
   {
    "duration": 4,
    "start_time": "2022-04-29T11:49:28.862Z"
   },
   {
    "duration": 39,
    "start_time": "2022-04-29T11:49:28.868Z"
   },
   {
    "duration": 14,
    "start_time": "2022-04-29T11:49:28.909Z"
   },
   {
    "duration": 14,
    "start_time": "2022-04-29T11:49:28.926Z"
   },
   {
    "duration": 4,
    "start_time": "2022-04-29T11:49:28.942Z"
   },
   {
    "duration": 9,
    "start_time": "2022-04-29T11:49:28.947Z"
   },
   {
    "duration": 8,
    "start_time": "2022-04-29T11:49:28.958Z"
   },
   {
    "duration": 40,
    "start_time": "2022-04-29T11:49:28.968Z"
   },
   {
    "duration": 6,
    "start_time": "2022-04-29T11:49:29.010Z"
   },
   {
    "duration": 7,
    "start_time": "2022-04-29T11:49:29.017Z"
   },
   {
    "duration": 8,
    "start_time": "2022-04-29T11:49:29.026Z"
   },
   {
    "duration": 5,
    "start_time": "2022-04-29T11:49:29.036Z"
   },
   {
    "duration": 5,
    "start_time": "2022-04-29T11:49:29.043Z"
   },
   {
    "duration": 10,
    "start_time": "2022-04-29T11:49:29.049Z"
   },
   {
    "duration": 50,
    "start_time": "2022-04-29T11:49:29.061Z"
   },
   {
    "duration": 56,
    "start_time": "2022-04-29T11:51:34.811Z"
   },
   {
    "duration": 14,
    "start_time": "2022-04-29T11:51:34.869Z"
   },
   {
    "duration": 39,
    "start_time": "2022-04-29T11:51:34.885Z"
   },
   {
    "duration": 52,
    "start_time": "2022-04-29T11:51:34.925Z"
   },
   {
    "duration": 10,
    "start_time": "2022-04-29T11:51:34.980Z"
   },
   {
    "duration": 40,
    "start_time": "2022-04-29T11:51:34.991Z"
   },
   {
    "duration": 37,
    "start_time": "2022-04-29T11:51:35.033Z"
   },
   {
    "duration": 53,
    "start_time": "2022-04-29T11:51:35.072Z"
   },
   {
    "duration": 39,
    "start_time": "2022-04-29T11:51:35.126Z"
   },
   {
    "duration": 35,
    "start_time": "2022-04-29T11:51:35.167Z"
   },
   {
    "duration": 28,
    "start_time": "2022-04-29T11:51:35.204Z"
   },
   {
    "duration": 19,
    "start_time": "2022-04-29T11:51:35.234Z"
   },
   {
    "duration": 26,
    "start_time": "2022-04-29T11:51:35.255Z"
   },
   {
    "duration": 24,
    "start_time": "2022-04-29T11:51:35.284Z"
   },
   {
    "duration": 30,
    "start_time": "2022-04-29T11:51:35.310Z"
   },
   {
    "duration": 34,
    "start_time": "2022-04-29T11:51:35.342Z"
   },
   {
    "duration": 8,
    "start_time": "2022-04-29T11:51:35.378Z"
   },
   {
    "duration": 33,
    "start_time": "2022-04-29T11:51:35.388Z"
   },
   {
    "duration": 23,
    "start_time": "2022-04-29T11:51:35.423Z"
   },
   {
    "duration": 18,
    "start_time": "2022-04-29T11:51:35.448Z"
   },
   {
    "duration": 57,
    "start_time": "2022-04-29T11:55:45.067Z"
   },
   {
    "duration": 13,
    "start_time": "2022-04-29T11:55:45.126Z"
   },
   {
    "duration": 14,
    "start_time": "2022-04-29T11:55:45.141Z"
   },
   {
    "duration": 15,
    "start_time": "2022-04-29T11:55:45.157Z"
   },
   {
    "duration": 4,
    "start_time": "2022-04-29T11:55:45.174Z"
   },
   {
    "duration": 38,
    "start_time": "2022-04-29T11:55:45.179Z"
   },
   {
    "duration": 5,
    "start_time": "2022-04-29T11:55:45.219Z"
   },
   {
    "duration": 6,
    "start_time": "2022-04-29T11:55:45.225Z"
   },
   {
    "duration": 14,
    "start_time": "2022-04-29T11:55:45.233Z"
   },
   {
    "duration": 15,
    "start_time": "2022-04-29T11:55:45.248Z"
   },
   {
    "duration": 5,
    "start_time": "2022-04-29T11:55:45.264Z"
   },
   {
    "duration": 38,
    "start_time": "2022-04-29T11:55:45.271Z"
   },
   {
    "duration": 6,
    "start_time": "2022-04-29T11:55:45.310Z"
   },
   {
    "duration": 5,
    "start_time": "2022-04-29T11:55:45.318Z"
   },
   {
    "duration": 7,
    "start_time": "2022-04-29T11:55:45.325Z"
   },
   {
    "duration": 8,
    "start_time": "2022-04-29T11:55:45.334Z"
   },
   {
    "duration": 10,
    "start_time": "2022-04-29T11:55:45.343Z"
   },
   {
    "duration": 6,
    "start_time": "2022-04-29T11:55:45.354Z"
   },
   {
    "duration": 7,
    "start_time": "2022-04-29T11:55:45.361Z"
   },
   {
    "duration": 12,
    "start_time": "2022-04-29T11:55:45.369Z"
   },
   {
    "duration": 5,
    "start_time": "2022-04-29T12:02:57.859Z"
   },
   {
    "duration": 22,
    "start_time": "2022-04-29T12:03:14.084Z"
   },
   {
    "duration": 2,
    "start_time": "2022-04-29T16:44:28.598Z"
   },
   {
    "duration": 7,
    "start_time": "2022-04-29T16:46:25.497Z"
   },
   {
    "duration": 56,
    "start_time": "2022-04-29T16:46:29.868Z"
   },
   {
    "duration": 13,
    "start_time": "2022-04-29T16:46:29.925Z"
   },
   {
    "duration": 16,
    "start_time": "2022-04-29T16:46:29.939Z"
   },
   {
    "duration": 15,
    "start_time": "2022-04-29T16:46:29.956Z"
   },
   {
    "duration": 3,
    "start_time": "2022-04-29T16:46:29.974Z"
   },
   {
    "duration": 37,
    "start_time": "2022-04-29T16:46:29.979Z"
   },
   {
    "duration": 6,
    "start_time": "2022-04-29T16:46:30.018Z"
   },
   {
    "duration": 11,
    "start_time": "2022-04-29T16:46:30.026Z"
   },
   {
    "duration": 27,
    "start_time": "2022-04-29T16:46:30.039Z"
   },
   {
    "duration": 15,
    "start_time": "2022-04-29T16:46:30.068Z"
   },
   {
    "duration": 5,
    "start_time": "2022-04-29T16:46:30.084Z"
   },
   {
    "duration": 7,
    "start_time": "2022-04-29T16:46:30.090Z"
   },
   {
    "duration": 4,
    "start_time": "2022-04-29T16:46:30.108Z"
   },
   {
    "duration": 5,
    "start_time": "2022-04-29T16:46:30.115Z"
   },
   {
    "duration": 11,
    "start_time": "2022-04-29T16:46:30.121Z"
   },
   {
    "duration": 15,
    "start_time": "2022-04-29T16:46:30.134Z"
   },
   {
    "duration": 7,
    "start_time": "2022-04-29T16:46:30.151Z"
   },
   {
    "duration": 6,
    "start_time": "2022-04-29T16:46:30.159Z"
   },
   {
    "duration": 5,
    "start_time": "2022-04-29T16:46:30.166Z"
   },
   {
    "duration": 5,
    "start_time": "2022-04-29T16:46:30.173Z"
   },
   {
    "duration": 33,
    "start_time": "2022-04-29T16:46:30.179Z"
   },
   {
    "duration": 54,
    "start_time": "2022-04-29T16:46:51.688Z"
   },
   {
    "duration": 12,
    "start_time": "2022-04-29T16:46:51.744Z"
   },
   {
    "duration": 17,
    "start_time": "2022-04-29T16:46:51.757Z"
   },
   {
    "duration": 15,
    "start_time": "2022-04-29T16:46:51.776Z"
   },
   {
    "duration": 17,
    "start_time": "2022-04-29T16:46:51.793Z"
   },
   {
    "duration": 12,
    "start_time": "2022-04-29T16:46:51.811Z"
   },
   {
    "duration": 10,
    "start_time": "2022-04-29T16:46:51.824Z"
   },
   {
    "duration": 4,
    "start_time": "2022-04-29T16:46:51.835Z"
   },
   {
    "duration": 16,
    "start_time": "2022-04-29T16:46:51.841Z"
   },
   {
    "duration": 14,
    "start_time": "2022-04-29T16:46:51.860Z"
   },
   {
    "duration": 33,
    "start_time": "2022-04-29T16:46:51.875Z"
   },
   {
    "duration": 7,
    "start_time": "2022-04-29T16:46:51.910Z"
   },
   {
    "duration": 10,
    "start_time": "2022-04-29T16:46:51.919Z"
   },
   {
    "duration": 6,
    "start_time": "2022-04-29T16:46:51.930Z"
   },
   {
    "duration": 5,
    "start_time": "2022-04-29T16:46:51.937Z"
   },
   {
    "duration": 9,
    "start_time": "2022-04-29T16:46:51.944Z"
   },
   {
    "duration": 6,
    "start_time": "2022-04-29T16:46:51.955Z"
   },
   {
    "duration": 7,
    "start_time": "2022-04-29T16:46:51.963Z"
   },
   {
    "duration": 38,
    "start_time": "2022-04-29T16:46:51.971Z"
   },
   {
    "duration": 2,
    "start_time": "2022-04-29T16:46:52.011Z"
   },
   {
    "duration": 7,
    "start_time": "2022-04-29T16:46:52.015Z"
   },
   {
    "duration": 57,
    "start_time": "2022-04-29T16:47:03.138Z"
   },
   {
    "duration": 13,
    "start_time": "2022-04-29T16:47:03.197Z"
   },
   {
    "duration": 15,
    "start_time": "2022-04-29T16:47:03.212Z"
   },
   {
    "duration": 16,
    "start_time": "2022-04-29T16:47:03.229Z"
   },
   {
    "duration": 4,
    "start_time": "2022-04-29T16:47:03.247Z"
   },
   {
    "duration": 15,
    "start_time": "2022-04-29T16:47:03.252Z"
   },
   {
    "duration": 8,
    "start_time": "2022-04-29T16:47:03.269Z"
   },
   {
    "duration": 28,
    "start_time": "2022-04-29T16:47:03.279Z"
   },
   {
    "duration": 14,
    "start_time": "2022-04-29T16:47:03.309Z"
   },
   {
    "duration": 13,
    "start_time": "2022-04-29T16:47:03.325Z"
   },
   {
    "duration": 19,
    "start_time": "2022-04-29T16:47:03.340Z"
   },
   {
    "duration": 10,
    "start_time": "2022-04-29T16:47:03.361Z"
   },
   {
    "duration": 7,
    "start_time": "2022-04-29T16:47:03.373Z"
   },
   {
    "duration": 5,
    "start_time": "2022-04-29T16:47:03.383Z"
   },
   {
    "duration": 21,
    "start_time": "2022-04-29T16:47:03.390Z"
   },
   {
    "duration": 6,
    "start_time": "2022-04-29T16:47:03.413Z"
   },
   {
    "duration": 7,
    "start_time": "2022-04-29T16:47:03.421Z"
   },
   {
    "duration": 6,
    "start_time": "2022-04-29T16:47:03.430Z"
   },
   {
    "duration": 10,
    "start_time": "2022-04-29T16:47:03.438Z"
   },
   {
    "duration": 6,
    "start_time": "2022-04-29T16:47:03.450Z"
   },
   {
    "duration": 12,
    "start_time": "2022-04-29T16:47:03.457Z"
   },
   {
    "duration": 58,
    "start_time": "2022-04-29T16:47:24.249Z"
   },
   {
    "duration": 15,
    "start_time": "2022-04-29T16:47:24.309Z"
   },
   {
    "duration": 14,
    "start_time": "2022-04-29T16:47:24.325Z"
   },
   {
    "duration": 17,
    "start_time": "2022-04-29T16:47:24.341Z"
   },
   {
    "duration": 4,
    "start_time": "2022-04-29T16:47:24.361Z"
   },
   {
    "duration": 12,
    "start_time": "2022-04-29T16:47:24.366Z"
   },
   {
    "duration": 5,
    "start_time": "2022-04-29T16:47:24.408Z"
   },
   {
    "duration": 8,
    "start_time": "2022-04-29T16:47:24.415Z"
   },
   {
    "duration": 15,
    "start_time": "2022-04-29T16:47:24.424Z"
   },
   {
    "duration": 15,
    "start_time": "2022-04-29T16:47:24.440Z"
   },
   {
    "duration": 4,
    "start_time": "2022-04-29T16:47:24.457Z"
   },
   {
    "duration": 16,
    "start_time": "2022-04-29T16:47:24.463Z"
   },
   {
    "duration": 28,
    "start_time": "2022-04-29T16:47:24.481Z"
   },
   {
    "duration": 5,
    "start_time": "2022-04-29T16:47:24.512Z"
   },
   {
    "duration": 5,
    "start_time": "2022-04-29T16:47:24.520Z"
   },
   {
    "duration": 5,
    "start_time": "2022-04-29T16:47:24.527Z"
   },
   {
    "duration": 6,
    "start_time": "2022-04-29T16:47:24.534Z"
   },
   {
    "duration": 5,
    "start_time": "2022-04-29T16:47:24.541Z"
   },
   {
    "duration": 4,
    "start_time": "2022-04-29T16:47:24.548Z"
   },
   {
    "duration": 2,
    "start_time": "2022-04-29T16:47:24.554Z"
   },
   {
    "duration": 70,
    "start_time": "2022-04-29T16:47:24.557Z"
   },
   {
    "duration": 2,
    "start_time": "2022-04-29T16:47:40.760Z"
   },
   {
    "duration": 61,
    "start_time": "2022-04-29T16:48:22.405Z"
   },
   {
    "duration": 14,
    "start_time": "2022-04-29T16:48:22.468Z"
   },
   {
    "duration": 31,
    "start_time": "2022-04-29T16:48:22.484Z"
   },
   {
    "duration": 16,
    "start_time": "2022-04-29T16:48:22.517Z"
   },
   {
    "duration": 4,
    "start_time": "2022-04-29T16:48:22.535Z"
   },
   {
    "duration": 12,
    "start_time": "2022-04-29T16:48:22.541Z"
   },
   {
    "duration": 5,
    "start_time": "2022-04-29T16:48:22.555Z"
   },
   {
    "duration": 7,
    "start_time": "2022-04-29T16:48:22.562Z"
   },
   {
    "duration": 15,
    "start_time": "2022-04-29T16:48:22.608Z"
   },
   {
    "duration": 14,
    "start_time": "2022-04-29T16:48:22.625Z"
   },
   {
    "duration": 4,
    "start_time": "2022-04-29T16:48:22.641Z"
   },
   {
    "duration": 7,
    "start_time": "2022-04-29T16:48:22.647Z"
   },
   {
    "duration": 6,
    "start_time": "2022-04-29T16:48:22.655Z"
   },
   {
    "duration": 5,
    "start_time": "2022-04-29T16:48:22.663Z"
   },
   {
    "duration": 42,
    "start_time": "2022-04-29T16:48:22.669Z"
   },
   {
    "duration": 6,
    "start_time": "2022-04-29T16:48:22.713Z"
   },
   {
    "duration": 6,
    "start_time": "2022-04-29T16:48:22.721Z"
   },
   {
    "duration": 5,
    "start_time": "2022-04-29T16:48:22.729Z"
   },
   {
    "duration": 4,
    "start_time": "2022-04-29T16:48:22.736Z"
   },
   {
    "duration": 3,
    "start_time": "2022-04-29T16:48:22.742Z"
   },
   {
    "duration": 9,
    "start_time": "2022-04-29T16:48:22.746Z"
   },
   {
    "duration": 2,
    "start_time": "2022-04-29T16:48:22.757Z"
   },
   {
    "duration": 55,
    "start_time": "2022-04-29T17:00:47.412Z"
   },
   {
    "duration": 13,
    "start_time": "2022-04-29T17:00:47.469Z"
   },
   {
    "duration": 28,
    "start_time": "2022-04-29T17:00:47.484Z"
   },
   {
    "duration": 16,
    "start_time": "2022-04-29T17:00:47.514Z"
   },
   {
    "duration": 4,
    "start_time": "2022-04-29T17:00:47.532Z"
   },
   {
    "duration": 11,
    "start_time": "2022-04-29T17:00:47.538Z"
   },
   {
    "duration": 5,
    "start_time": "2022-04-29T17:00:47.551Z"
   },
   {
    "duration": 5,
    "start_time": "2022-04-29T17:00:47.557Z"
   },
   {
    "duration": 46,
    "start_time": "2022-04-29T17:00:47.563Z"
   },
   {
    "duration": 15,
    "start_time": "2022-04-29T17:00:47.610Z"
   },
   {
    "duration": 4,
    "start_time": "2022-04-29T17:00:47.627Z"
   },
   {
    "duration": 6,
    "start_time": "2022-04-29T17:00:47.633Z"
   },
   {
    "duration": 5,
    "start_time": "2022-04-29T17:00:47.641Z"
   },
   {
    "duration": 5,
    "start_time": "2022-04-29T17:00:47.648Z"
   },
   {
    "duration": 5,
    "start_time": "2022-04-29T17:00:47.654Z"
   },
   {
    "duration": 6,
    "start_time": "2022-04-29T17:00:47.661Z"
   },
   {
    "duration": 44,
    "start_time": "2022-04-29T17:00:47.668Z"
   },
   {
    "duration": 6,
    "start_time": "2022-04-29T17:00:47.713Z"
   },
   {
    "duration": 7,
    "start_time": "2022-04-29T17:00:47.720Z"
   },
   {
    "duration": 3,
    "start_time": "2022-04-29T17:00:47.728Z"
   },
   {
    "duration": 4,
    "start_time": "2022-04-29T17:00:47.733Z"
   },
   {
    "duration": 23,
    "start_time": "2022-04-29T17:00:47.738Z"
   },
   {
    "duration": 572,
    "start_time": "2022-04-30T13:40:46.528Z"
   },
   {
    "duration": 32,
    "start_time": "2022-04-30T13:40:47.104Z"
   },
   {
    "duration": 18,
    "start_time": "2022-04-30T13:40:47.138Z"
   },
   {
    "duration": 50,
    "start_time": "2022-04-30T13:40:47.159Z"
   },
   {
    "duration": 132,
    "start_time": "2022-04-30T13:40:47.212Z"
   },
   {
    "duration": 0,
    "start_time": "2022-04-30T13:40:47.347Z"
   },
   {
    "duration": 0,
    "start_time": "2022-04-30T13:40:47.350Z"
   },
   {
    "duration": 0,
    "start_time": "2022-04-30T13:40:47.351Z"
   },
   {
    "duration": 0,
    "start_time": "2022-04-30T13:40:47.354Z"
   },
   {
    "duration": 0,
    "start_time": "2022-04-30T13:40:47.355Z"
   },
   {
    "duration": 0,
    "start_time": "2022-04-30T13:40:47.357Z"
   },
   {
    "duration": 0,
    "start_time": "2022-04-30T13:40:47.359Z"
   },
   {
    "duration": 0,
    "start_time": "2022-04-30T13:40:47.361Z"
   },
   {
    "duration": 0,
    "start_time": "2022-04-30T13:40:47.364Z"
   },
   {
    "duration": 0,
    "start_time": "2022-04-30T13:40:47.365Z"
   },
   {
    "duration": 0,
    "start_time": "2022-04-30T13:40:47.367Z"
   },
   {
    "duration": 0,
    "start_time": "2022-04-30T13:40:47.394Z"
   },
   {
    "duration": 0,
    "start_time": "2022-04-30T13:40:47.396Z"
   },
   {
    "duration": 0,
    "start_time": "2022-04-30T13:40:47.398Z"
   },
   {
    "duration": 0,
    "start_time": "2022-04-30T13:40:47.400Z"
   },
   {
    "duration": 0,
    "start_time": "2022-04-30T13:40:47.402Z"
   },
   {
    "duration": 0,
    "start_time": "2022-04-30T13:40:47.404Z"
   },
   {
    "duration": 122,
    "start_time": "2022-04-30T13:41:02.987Z"
   },
   {
    "duration": 19,
    "start_time": "2022-04-30T13:41:03.112Z"
   },
   {
    "duration": 22,
    "start_time": "2022-04-30T13:41:03.134Z"
   },
   {
    "duration": 37,
    "start_time": "2022-04-30T13:41:03.160Z"
   },
   {
    "duration": 8,
    "start_time": "2022-04-30T13:41:03.201Z"
   },
   {
    "duration": 25,
    "start_time": "2022-04-30T13:41:03.212Z"
   },
   {
    "duration": 7,
    "start_time": "2022-04-30T13:41:03.240Z"
   },
   {
    "duration": 7,
    "start_time": "2022-04-30T13:41:03.250Z"
   },
   {
    "duration": 32,
    "start_time": "2022-04-30T13:41:03.296Z"
   },
   {
    "duration": 19,
    "start_time": "2022-04-30T13:41:03.332Z"
   },
   {
    "duration": 7,
    "start_time": "2022-04-30T13:41:03.354Z"
   },
   {
    "duration": 43,
    "start_time": "2022-04-30T13:41:03.364Z"
   },
   {
    "duration": 9,
    "start_time": "2022-04-30T13:41:03.410Z"
   },
   {
    "duration": 12,
    "start_time": "2022-04-30T13:41:03.422Z"
   },
   {
    "duration": 13,
    "start_time": "2022-04-30T13:41:03.437Z"
   },
   {
    "duration": 12,
    "start_time": "2022-04-30T13:41:03.453Z"
   },
   {
    "duration": 10,
    "start_time": "2022-04-30T13:41:03.501Z"
   },
   {
    "duration": 14,
    "start_time": "2022-04-30T13:41:03.514Z"
   },
   {
    "duration": 9,
    "start_time": "2022-04-30T13:41:03.531Z"
   },
   {
    "duration": 6,
    "start_time": "2022-04-30T13:41:03.543Z"
   },
   {
    "duration": 11,
    "start_time": "2022-04-30T13:41:03.552Z"
   },
   {
    "duration": 79,
    "start_time": "2022-04-30T13:41:03.566Z"
   },
   {
    "duration": 79,
    "start_time": "2022-04-30T13:45:28.065Z"
   },
   {
    "duration": 18,
    "start_time": "2022-04-30T13:45:28.147Z"
   },
   {
    "duration": 50,
    "start_time": "2022-04-30T13:45:28.167Z"
   },
   {
    "duration": 21,
    "start_time": "2022-04-30T13:45:28.220Z"
   },
   {
    "duration": 5,
    "start_time": "2022-04-30T13:45:28.244Z"
   },
   {
    "duration": 19,
    "start_time": "2022-04-30T13:45:28.250Z"
   },
   {
    "duration": 34,
    "start_time": "2022-04-30T13:45:28.271Z"
   },
   {
    "duration": 9,
    "start_time": "2022-04-30T13:45:28.308Z"
   },
   {
    "duration": 23,
    "start_time": "2022-04-30T13:45:28.319Z"
   },
   {
    "duration": 18,
    "start_time": "2022-04-30T13:45:28.345Z"
   },
   {
    "duration": 33,
    "start_time": "2022-04-30T13:45:28.366Z"
   },
   {
    "duration": 14,
    "start_time": "2022-04-30T13:45:28.401Z"
   },
   {
    "duration": 8,
    "start_time": "2022-04-30T13:45:28.417Z"
   },
   {
    "duration": 7,
    "start_time": "2022-04-30T13:45:28.428Z"
   },
   {
    "duration": 9,
    "start_time": "2022-04-30T13:45:28.437Z"
   },
   {
    "duration": 56,
    "start_time": "2022-04-30T13:45:28.448Z"
   },
   {
    "duration": 12,
    "start_time": "2022-04-30T13:45:28.507Z"
   },
   {
    "duration": 11,
    "start_time": "2022-04-30T13:45:28.522Z"
   },
   {
    "duration": 8,
    "start_time": "2022-04-30T13:45:28.536Z"
   },
   {
    "duration": 4,
    "start_time": "2022-04-30T13:45:28.545Z"
   },
   {
    "duration": 47,
    "start_time": "2022-04-30T13:45:28.550Z"
   },
   {
    "duration": 40,
    "start_time": "2022-04-30T13:45:28.600Z"
   },
   {
    "duration": 63,
    "start_time": "2022-04-30T14:00:33.085Z"
   },
   {
    "duration": 19,
    "start_time": "2022-04-30T14:00:33.150Z"
   },
   {
    "duration": 37,
    "start_time": "2022-04-30T14:00:33.171Z"
   },
   {
    "duration": 22,
    "start_time": "2022-04-30T14:00:33.211Z"
   },
   {
    "duration": 5,
    "start_time": "2022-04-30T14:00:33.235Z"
   },
   {
    "duration": 25,
    "start_time": "2022-04-30T14:00:33.242Z"
   },
   {
    "duration": 7,
    "start_time": "2022-04-30T14:00:33.294Z"
   },
   {
    "duration": 20,
    "start_time": "2022-04-30T14:00:33.303Z"
   },
   {
    "duration": 25,
    "start_time": "2022-04-30T14:00:33.325Z"
   },
   {
    "duration": 19,
    "start_time": "2022-04-30T14:00:33.354Z"
   },
   {
    "duration": 19,
    "start_time": "2022-04-30T14:00:33.375Z"
   },
   {
    "duration": 9,
    "start_time": "2022-04-30T14:00:33.396Z"
   },
   {
    "duration": 18,
    "start_time": "2022-04-30T14:00:33.407Z"
   },
   {
    "duration": 21,
    "start_time": "2022-04-30T14:00:33.427Z"
   },
   {
    "duration": 11,
    "start_time": "2022-04-30T14:00:33.450Z"
   },
   {
    "duration": 12,
    "start_time": "2022-04-30T14:00:33.463Z"
   },
   {
    "duration": 17,
    "start_time": "2022-04-30T14:00:33.477Z"
   },
   {
    "duration": 7,
    "start_time": "2022-04-30T14:00:33.496Z"
   },
   {
    "duration": 8,
    "start_time": "2022-04-30T14:00:33.505Z"
   },
   {
    "duration": 25,
    "start_time": "2022-04-30T14:00:33.516Z"
   },
   {
    "duration": 10,
    "start_time": "2022-04-30T14:00:33.543Z"
   },
   {
    "duration": 51,
    "start_time": "2022-04-30T14:00:33.555Z"
   },
   {
    "duration": 75,
    "start_time": "2022-04-30T15:18:20.066Z"
   },
   {
    "duration": 19,
    "start_time": "2022-04-30T15:18:20.144Z"
   },
   {
    "duration": 42,
    "start_time": "2022-04-30T15:18:20.166Z"
   },
   {
    "duration": 22,
    "start_time": "2022-04-30T15:18:20.212Z"
   },
   {
    "duration": 6,
    "start_time": "2022-04-30T15:18:20.236Z"
   },
   {
    "duration": 17,
    "start_time": "2022-04-30T15:18:20.244Z"
   },
   {
    "duration": 6,
    "start_time": "2022-04-30T15:18:20.293Z"
   },
   {
    "duration": 7,
    "start_time": "2022-04-30T15:18:20.301Z"
   },
   {
    "duration": 20,
    "start_time": "2022-04-30T15:18:20.310Z"
   },
   {
    "duration": 22,
    "start_time": "2022-04-30T15:18:20.336Z"
   },
   {
    "duration": 4,
    "start_time": "2022-04-30T15:18:20.393Z"
   },
   {
    "duration": 13,
    "start_time": "2022-04-30T15:18:20.399Z"
   },
   {
    "duration": 19,
    "start_time": "2022-04-30T15:18:20.414Z"
   },
   {
    "duration": 7,
    "start_time": "2022-04-30T15:18:20.435Z"
   },
   {
    "duration": 7,
    "start_time": "2022-04-30T15:18:20.444Z"
   },
   {
    "duration": 10,
    "start_time": "2022-04-30T15:18:20.453Z"
   },
   {
    "duration": 9,
    "start_time": "2022-04-30T15:18:20.493Z"
   },
   {
    "duration": 7,
    "start_time": "2022-04-30T15:18:20.504Z"
   },
   {
    "duration": 8,
    "start_time": "2022-04-30T15:18:20.513Z"
   },
   {
    "duration": 3,
    "start_time": "2022-04-30T15:18:20.523Z"
   },
   {
    "duration": 5,
    "start_time": "2022-04-30T15:18:20.529Z"
   },
   {
    "duration": 77,
    "start_time": "2022-04-30T15:18:20.536Z"
   },
   {
    "duration": 72,
    "start_time": "2022-04-30T15:22:50.144Z"
   },
   {
    "duration": 19,
    "start_time": "2022-04-30T15:22:50.218Z"
   },
   {
    "duration": 22,
    "start_time": "2022-04-30T15:22:50.239Z"
   },
   {
    "duration": 47,
    "start_time": "2022-04-30T15:22:50.263Z"
   },
   {
    "duration": 5,
    "start_time": "2022-04-30T15:22:50.313Z"
   },
   {
    "duration": 14,
    "start_time": "2022-04-30T15:22:50.321Z"
   },
   {
    "duration": 5,
    "start_time": "2022-04-30T15:22:50.338Z"
   },
   {
    "duration": 7,
    "start_time": "2022-04-30T15:22:50.346Z"
   },
   {
    "duration": 55,
    "start_time": "2022-04-30T15:22:50.355Z"
   },
   {
    "duration": 22,
    "start_time": "2022-04-30T15:22:50.412Z"
   },
   {
    "duration": 5,
    "start_time": "2022-04-30T15:22:50.437Z"
   },
   {
    "duration": 12,
    "start_time": "2022-04-30T15:22:50.444Z"
   },
   {
    "duration": 6,
    "start_time": "2022-04-30T15:22:50.458Z"
   },
   {
    "duration": 6,
    "start_time": "2022-04-30T15:22:50.492Z"
   },
   {
    "duration": 8,
    "start_time": "2022-04-30T15:22:50.500Z"
   },
   {
    "duration": 18,
    "start_time": "2022-04-30T15:22:50.510Z"
   },
   {
    "duration": 14,
    "start_time": "2022-04-30T15:22:50.530Z"
   },
   {
    "duration": 8,
    "start_time": "2022-04-30T15:22:50.546Z"
   },
   {
    "duration": 40,
    "start_time": "2022-04-30T15:22:50.556Z"
   },
   {
    "duration": 6,
    "start_time": "2022-04-30T15:22:50.598Z"
   },
   {
    "duration": 11,
    "start_time": "2022-04-30T15:22:50.606Z"
   },
   {
    "duration": 39,
    "start_time": "2022-04-30T15:22:50.619Z"
   },
   {
    "duration": 75,
    "start_time": "2022-04-30T15:28:27.690Z"
   },
   {
    "duration": 26,
    "start_time": "2022-04-30T15:28:27.768Z"
   },
   {
    "duration": 22,
    "start_time": "2022-04-30T15:28:27.797Z"
   },
   {
    "duration": 22,
    "start_time": "2022-04-30T15:28:27.823Z"
   },
   {
    "duration": 11,
    "start_time": "2022-04-30T15:28:27.848Z"
   },
   {
    "duration": 45,
    "start_time": "2022-04-30T15:28:27.861Z"
   },
   {
    "duration": 8,
    "start_time": "2022-04-30T15:28:27.908Z"
   },
   {
    "duration": 6,
    "start_time": "2022-04-30T15:28:27.919Z"
   },
   {
    "duration": 23,
    "start_time": "2022-04-30T15:28:27.928Z"
   },
   {
    "duration": 21,
    "start_time": "2022-04-30T15:28:27.992Z"
   },
   {
    "duration": 5,
    "start_time": "2022-04-30T15:28:28.016Z"
   },
   {
    "duration": 9,
    "start_time": "2022-04-30T15:28:28.024Z"
   },
   {
    "duration": 10,
    "start_time": "2022-04-30T15:28:28.036Z"
   },
   {
    "duration": 47,
    "start_time": "2022-04-30T15:28:28.048Z"
   },
   {
    "duration": 10,
    "start_time": "2022-04-30T15:28:28.098Z"
   },
   {
    "duration": 7,
    "start_time": "2022-04-30T15:28:28.111Z"
   },
   {
    "duration": 9,
    "start_time": "2022-04-30T15:28:28.120Z"
   },
   {
    "duration": 7,
    "start_time": "2022-04-30T15:28:28.132Z"
   },
   {
    "duration": 53,
    "start_time": "2022-04-30T15:28:28.142Z"
   },
   {
    "duration": 38,
    "start_time": "2022-04-30T15:28:28.198Z"
   },
   {
    "duration": 6,
    "start_time": "2022-04-30T15:28:28.238Z"
   },
   {
    "duration": 32,
    "start_time": "2022-04-30T15:31:09.910Z"
   },
   {
    "duration": 71,
    "start_time": "2022-04-30T15:31:47.152Z"
   },
   {
    "duration": 19,
    "start_time": "2022-04-30T15:31:47.226Z"
   },
   {
    "duration": 23,
    "start_time": "2022-04-30T15:31:47.247Z"
   },
   {
    "duration": 40,
    "start_time": "2022-04-30T15:31:47.273Z"
   },
   {
    "duration": 6,
    "start_time": "2022-04-30T15:31:47.317Z"
   },
   {
    "duration": 18,
    "start_time": "2022-04-30T15:31:47.326Z"
   },
   {
    "duration": 7,
    "start_time": "2022-04-30T15:31:47.346Z"
   },
   {
    "duration": 5,
    "start_time": "2022-04-30T15:31:47.393Z"
   },
   {
    "duration": 21,
    "start_time": "2022-04-30T15:31:47.401Z"
   },
   {
    "duration": 22,
    "start_time": "2022-04-30T15:31:47.424Z"
   },
   {
    "duration": 6,
    "start_time": "2022-04-30T15:31:47.449Z"
   },
   {
    "duration": 46,
    "start_time": "2022-04-30T15:31:47.457Z"
   },
   {
    "duration": 12,
    "start_time": "2022-04-30T15:31:47.505Z"
   },
   {
    "duration": 6,
    "start_time": "2022-04-30T15:31:47.521Z"
   },
   {
    "duration": 8,
    "start_time": "2022-04-30T15:31:47.529Z"
   },
   {
    "duration": 11,
    "start_time": "2022-04-30T15:31:47.539Z"
   },
   {
    "duration": 40,
    "start_time": "2022-04-30T15:31:47.553Z"
   },
   {
    "duration": 7,
    "start_time": "2022-04-30T15:31:47.596Z"
   },
   {
    "duration": 19,
    "start_time": "2022-04-30T15:31:47.605Z"
   },
   {
    "duration": 38,
    "start_time": "2022-04-30T15:31:47.626Z"
   },
   {
    "duration": 47,
    "start_time": "2022-04-30T15:31:47.667Z"
   },
   {
    "duration": 71,
    "start_time": "2022-04-30T15:32:43.878Z"
   },
   {
    "duration": 18,
    "start_time": "2022-04-30T15:32:43.952Z"
   },
   {
    "duration": 32,
    "start_time": "2022-04-30T15:32:43.972Z"
   },
   {
    "duration": 21,
    "start_time": "2022-04-30T15:32:44.006Z"
   },
   {
    "duration": 5,
    "start_time": "2022-04-30T15:32:44.030Z"
   },
   {
    "duration": 13,
    "start_time": "2022-04-30T15:32:44.038Z"
   },
   {
    "duration": 42,
    "start_time": "2022-04-30T15:32:44.053Z"
   },
   {
    "duration": 7,
    "start_time": "2022-04-30T15:32:44.097Z"
   },
   {
    "duration": 20,
    "start_time": "2022-04-30T15:32:44.106Z"
   },
   {
    "duration": 20,
    "start_time": "2022-04-30T15:32:44.128Z"
   },
   {
    "duration": 43,
    "start_time": "2022-04-30T15:32:44.150Z"
   },
   {
    "duration": 7,
    "start_time": "2022-04-30T15:32:44.195Z"
   },
   {
    "duration": 8,
    "start_time": "2022-04-30T15:32:44.204Z"
   },
   {
    "duration": 7,
    "start_time": "2022-04-30T15:32:44.216Z"
   },
   {
    "duration": 8,
    "start_time": "2022-04-30T15:32:44.225Z"
   },
   {
    "duration": 8,
    "start_time": "2022-04-30T15:32:44.234Z"
   },
   {
    "duration": 51,
    "start_time": "2022-04-30T15:32:44.243Z"
   },
   {
    "duration": 10,
    "start_time": "2022-04-30T15:32:44.296Z"
   },
   {
    "duration": 6,
    "start_time": "2022-04-30T15:32:44.308Z"
   },
   {
    "duration": 37,
    "start_time": "2022-04-30T15:32:44.316Z"
   },
   {
    "duration": 8,
    "start_time": "2022-04-30T15:32:44.394Z"
   },
   {
    "duration": 72,
    "start_time": "2022-04-30T15:35:20.312Z"
   },
   {
    "duration": 18,
    "start_time": "2022-04-30T15:35:20.387Z"
   },
   {
    "duration": 22,
    "start_time": "2022-04-30T15:35:20.408Z"
   },
   {
    "duration": 21,
    "start_time": "2022-04-30T15:35:20.432Z"
   },
   {
    "duration": 5,
    "start_time": "2022-04-30T15:35:20.456Z"
   },
   {
    "duration": 44,
    "start_time": "2022-04-30T15:35:20.463Z"
   },
   {
    "duration": 6,
    "start_time": "2022-04-30T15:35:20.509Z"
   },
   {
    "duration": 5,
    "start_time": "2022-04-30T15:35:20.517Z"
   },
   {
    "duration": 21,
    "start_time": "2022-04-30T15:35:20.524Z"
   },
   {
    "duration": 57,
    "start_time": "2022-04-30T15:35:20.547Z"
   },
   {
    "duration": 6,
    "start_time": "2022-04-30T15:35:20.606Z"
   },
   {
    "duration": 11,
    "start_time": "2022-04-30T15:35:20.614Z"
   },
   {
    "duration": 10,
    "start_time": "2022-04-30T15:35:20.627Z"
   },
   {
    "duration": 10,
    "start_time": "2022-04-30T15:35:20.640Z"
   },
   {
    "duration": 44,
    "start_time": "2022-04-30T15:35:20.653Z"
   },
   {
    "duration": 7,
    "start_time": "2022-04-30T15:35:20.699Z"
   },
   {
    "duration": 14,
    "start_time": "2022-04-30T15:35:20.709Z"
   },
   {
    "duration": 7,
    "start_time": "2022-04-30T15:35:20.725Z"
   },
   {
    "duration": 6,
    "start_time": "2022-04-30T15:35:20.734Z"
   },
   {
    "duration": 76,
    "start_time": "2022-04-30T15:35:20.742Z"
   },
   {
    "duration": 35,
    "start_time": "2022-04-30T15:35:20.821Z"
   },
   {
    "duration": 73,
    "start_time": "2022-04-30T15:35:36.436Z"
   },
   {
    "duration": 19,
    "start_time": "2022-04-30T15:35:36.512Z"
   },
   {
    "duration": 20,
    "start_time": "2022-04-30T15:35:36.533Z"
   },
   {
    "duration": 23,
    "start_time": "2022-04-30T15:35:36.555Z"
   },
   {
    "duration": 5,
    "start_time": "2022-04-30T15:35:36.581Z"
   },
   {
    "duration": 13,
    "start_time": "2022-04-30T15:35:36.593Z"
   },
   {
    "duration": 6,
    "start_time": "2022-04-30T15:35:36.608Z"
   },
   {
    "duration": 12,
    "start_time": "2022-04-30T15:35:36.616Z"
   },
   {
    "duration": 21,
    "start_time": "2022-04-30T15:35:36.630Z"
   },
   {
    "duration": 21,
    "start_time": "2022-04-30T15:35:36.653Z"
   },
   {
    "duration": 5,
    "start_time": "2022-04-30T15:35:36.676Z"
   },
   {
    "duration": 11,
    "start_time": "2022-04-30T15:35:36.683Z"
   },
   {
    "duration": 6,
    "start_time": "2022-04-30T15:35:36.696Z"
   },
   {
    "duration": 6,
    "start_time": "2022-04-30T15:35:36.706Z"
   },
   {
    "duration": 9,
    "start_time": "2022-04-30T15:35:36.714Z"
   },
   {
    "duration": 7,
    "start_time": "2022-04-30T15:35:36.726Z"
   },
   {
    "duration": 8,
    "start_time": "2022-04-30T15:35:36.735Z"
   },
   {
    "duration": 7,
    "start_time": "2022-04-30T15:35:36.745Z"
   },
   {
    "duration": 7,
    "start_time": "2022-04-30T15:35:36.755Z"
   },
   {
    "duration": 44,
    "start_time": "2022-04-30T15:35:36.764Z"
   },
   {
    "duration": 37,
    "start_time": "2022-04-30T15:35:36.810Z"
   },
   {
    "duration": 93,
    "start_time": "2022-04-30T15:36:02.887Z"
   },
   {
    "duration": 19,
    "start_time": "2022-04-30T15:36:02.982Z"
   },
   {
    "duration": 20,
    "start_time": "2022-04-30T15:36:03.003Z"
   },
   {
    "duration": 23,
    "start_time": "2022-04-30T15:36:03.026Z"
   },
   {
    "duration": 5,
    "start_time": "2022-04-30T15:36:03.051Z"
   },
   {
    "duration": 40,
    "start_time": "2022-04-30T15:36:03.058Z"
   },
   {
    "duration": 7,
    "start_time": "2022-04-30T15:36:03.100Z"
   },
   {
    "duration": 7,
    "start_time": "2022-04-30T15:36:03.109Z"
   },
   {
    "duration": 21,
    "start_time": "2022-04-30T15:36:03.118Z"
   },
   {
    "duration": 53,
    "start_time": "2022-04-30T15:36:03.143Z"
   },
   {
    "duration": 5,
    "start_time": "2022-04-30T15:36:03.198Z"
   },
   {
    "duration": 13,
    "start_time": "2022-04-30T15:36:03.205Z"
   },
   {
    "duration": 10,
    "start_time": "2022-04-30T15:36:03.220Z"
   },
   {
    "duration": 10,
    "start_time": "2022-04-30T15:36:03.232Z"
   },
   {
    "duration": 8,
    "start_time": "2022-04-30T15:36:03.244Z"
   },
   {
    "duration": 6,
    "start_time": "2022-04-30T15:36:03.294Z"
   },
   {
    "duration": 10,
    "start_time": "2022-04-30T15:36:03.302Z"
   },
   {
    "duration": 7,
    "start_time": "2022-04-30T15:36:03.314Z"
   },
   {
    "duration": 6,
    "start_time": "2022-04-30T15:36:03.323Z"
   },
   {
    "duration": 79,
    "start_time": "2022-04-30T15:36:03.331Z"
   },
   {
    "duration": 37,
    "start_time": "2022-04-30T15:36:03.413Z"
   },
   {
    "duration": 104,
    "start_time": "2022-04-30T15:38:39.925Z"
   },
   {
    "duration": 19,
    "start_time": "2022-04-30T15:38:40.032Z"
   },
   {
    "duration": 26,
    "start_time": "2022-04-30T15:38:40.054Z"
   },
   {
    "duration": 29,
    "start_time": "2022-04-30T15:38:40.082Z"
   },
   {
    "duration": 5,
    "start_time": "2022-04-30T15:38:40.114Z"
   },
   {
    "duration": 15,
    "start_time": "2022-04-30T15:38:40.120Z"
   },
   {
    "duration": 6,
    "start_time": "2022-04-30T15:38:40.137Z"
   },
   {
    "duration": 6,
    "start_time": "2022-04-30T15:38:40.145Z"
   },
   {
    "duration": 46,
    "start_time": "2022-04-30T15:38:40.194Z"
   },
   {
    "duration": 20,
    "start_time": "2022-04-30T15:38:40.243Z"
   },
   {
    "duration": 4,
    "start_time": "2022-04-30T15:38:40.266Z"
   },
   {
    "duration": 16,
    "start_time": "2022-04-30T15:38:40.294Z"
   },
   {
    "duration": 7,
    "start_time": "2022-04-30T15:38:40.312Z"
   },
   {
    "duration": 6,
    "start_time": "2022-04-30T15:38:40.324Z"
   },
   {
    "duration": 7,
    "start_time": "2022-04-30T15:38:40.332Z"
   },
   {
    "duration": 7,
    "start_time": "2022-04-30T15:38:40.341Z"
   },
   {
    "duration": 48,
    "start_time": "2022-04-30T15:38:40.350Z"
   },
   {
    "duration": 9,
    "start_time": "2022-04-30T15:38:40.401Z"
   },
   {
    "duration": 7,
    "start_time": "2022-04-30T15:38:40.411Z"
   },
   {
    "duration": 34,
    "start_time": "2022-04-30T15:38:40.420Z"
   },
   {
    "duration": 52,
    "start_time": "2022-04-30T15:38:40.455Z"
   },
   {
    "duration": 71,
    "start_time": "2022-04-30T15:39:28.946Z"
   },
   {
    "duration": 19,
    "start_time": "2022-04-30T15:39:29.020Z"
   },
   {
    "duration": 23,
    "start_time": "2022-04-30T15:39:29.041Z"
   },
   {
    "duration": 43,
    "start_time": "2022-04-30T15:39:29.066Z"
   },
   {
    "duration": 5,
    "start_time": "2022-04-30T15:39:29.112Z"
   },
   {
    "duration": 17,
    "start_time": "2022-04-30T15:39:29.119Z"
   },
   {
    "duration": 6,
    "start_time": "2022-04-30T15:39:29.138Z"
   },
   {
    "duration": 8,
    "start_time": "2022-04-30T15:39:29.147Z"
   },
   {
    "duration": 52,
    "start_time": "2022-04-30T15:39:29.157Z"
   },
   {
    "duration": 18,
    "start_time": "2022-04-30T15:39:29.212Z"
   },
   {
    "duration": 5,
    "start_time": "2022-04-30T15:39:29.232Z"
   },
   {
    "duration": 8,
    "start_time": "2022-04-30T15:39:29.239Z"
   },
   {
    "duration": 44,
    "start_time": "2022-04-30T15:39:29.249Z"
   },
   {
    "duration": 6,
    "start_time": "2022-04-30T15:39:29.297Z"
   },
   {
    "duration": 8,
    "start_time": "2022-04-30T15:39:29.305Z"
   },
   {
    "duration": 9,
    "start_time": "2022-04-30T15:39:29.315Z"
   },
   {
    "duration": 11,
    "start_time": "2022-04-30T15:39:29.326Z"
   },
   {
    "duration": 58,
    "start_time": "2022-04-30T15:39:29.339Z"
   },
   {
    "duration": 8,
    "start_time": "2022-04-30T15:39:29.400Z"
   },
   {
    "duration": 37,
    "start_time": "2022-04-30T15:39:29.410Z"
   },
   {
    "duration": 48,
    "start_time": "2022-04-30T15:39:29.450Z"
   },
   {
    "duration": 108,
    "start_time": "2022-04-30T15:39:47.119Z"
   },
   {
    "duration": 28,
    "start_time": "2022-04-30T15:39:47.232Z"
   },
   {
    "duration": 44,
    "start_time": "2022-04-30T15:39:47.263Z"
   },
   {
    "duration": 24,
    "start_time": "2022-04-30T15:39:47.309Z"
   },
   {
    "duration": 6,
    "start_time": "2022-04-30T15:39:47.336Z"
   },
   {
    "duration": 19,
    "start_time": "2022-04-30T15:39:47.345Z"
   },
   {
    "duration": 7,
    "start_time": "2022-04-30T15:39:47.393Z"
   },
   {
    "duration": 5,
    "start_time": "2022-04-30T15:39:47.402Z"
   },
   {
    "duration": 21,
    "start_time": "2022-04-30T15:39:47.410Z"
   },
   {
    "duration": 21,
    "start_time": "2022-04-30T15:39:47.433Z"
   },
   {
    "duration": 3,
    "start_time": "2022-04-30T15:39:47.493Z"
   },
   {
    "duration": 14,
    "start_time": "2022-04-30T15:39:47.498Z"
   },
   {
    "duration": 6,
    "start_time": "2022-04-30T15:39:47.514Z"
   },
   {
    "duration": 6,
    "start_time": "2022-04-30T15:39:47.524Z"
   },
   {
    "duration": 7,
    "start_time": "2022-04-30T15:39:47.532Z"
   },
   {
    "duration": 53,
    "start_time": "2022-04-30T15:39:47.541Z"
   },
   {
    "duration": 14,
    "start_time": "2022-04-30T15:39:47.597Z"
   },
   {
    "duration": 8,
    "start_time": "2022-04-30T15:39:47.613Z"
   },
   {
    "duration": 6,
    "start_time": "2022-04-30T15:39:47.623Z"
   },
   {
    "duration": 69,
    "start_time": "2022-04-30T15:39:47.632Z"
   },
   {
    "duration": 7,
    "start_time": "2022-04-30T15:39:47.703Z"
   },
   {
    "duration": 72,
    "start_time": "2022-04-30T15:40:33.155Z"
   },
   {
    "duration": 19,
    "start_time": "2022-04-30T15:40:33.229Z"
   },
   {
    "duration": 22,
    "start_time": "2022-04-30T15:40:33.250Z"
   },
   {
    "duration": 37,
    "start_time": "2022-04-30T15:40:33.274Z"
   },
   {
    "duration": 5,
    "start_time": "2022-04-30T15:40:33.314Z"
   },
   {
    "duration": 17,
    "start_time": "2022-04-30T15:40:33.321Z"
   },
   {
    "duration": 6,
    "start_time": "2022-04-30T15:40:33.340Z"
   },
   {
    "duration": 45,
    "start_time": "2022-04-30T15:40:33.348Z"
   },
   {
    "duration": 19,
    "start_time": "2022-04-30T15:40:33.395Z"
   },
   {
    "duration": 23,
    "start_time": "2022-04-30T15:40:33.416Z"
   },
   {
    "duration": 14,
    "start_time": "2022-04-30T15:40:33.442Z"
   },
   {
    "duration": 31,
    "start_time": "2022-04-30T15:40:33.458Z"
   },
   {
    "duration": 13,
    "start_time": "2022-04-30T15:40:33.491Z"
   },
   {
    "duration": 6,
    "start_time": "2022-04-30T15:40:33.508Z"
   },
   {
    "duration": 10,
    "start_time": "2022-04-30T15:40:33.516Z"
   },
   {
    "duration": 10,
    "start_time": "2022-04-30T15:40:33.529Z"
   },
   {
    "duration": 11,
    "start_time": "2022-04-30T15:40:33.542Z"
   },
   {
    "duration": 8,
    "start_time": "2022-04-30T15:40:33.592Z"
   },
   {
    "duration": 6,
    "start_time": "2022-04-30T15:40:33.603Z"
   },
   {
    "duration": 35,
    "start_time": "2022-04-30T15:40:33.611Z"
   },
   {
    "duration": 5,
    "start_time": "2022-04-30T15:40:33.648Z"
   },
   {
    "duration": 80,
    "start_time": "2022-04-30T15:44:40.899Z"
   },
   {
    "duration": 19,
    "start_time": "2022-04-30T15:44:40.982Z"
   },
   {
    "duration": 20,
    "start_time": "2022-04-30T15:44:41.003Z"
   },
   {
    "duration": 22,
    "start_time": "2022-04-30T15:44:41.025Z"
   },
   {
    "duration": 6,
    "start_time": "2022-04-30T15:44:41.050Z"
   },
   {
    "duration": 47,
    "start_time": "2022-04-30T15:44:41.058Z"
   },
   {
    "duration": 6,
    "start_time": "2022-04-30T15:44:41.108Z"
   },
   {
    "duration": 7,
    "start_time": "2022-04-30T15:44:41.116Z"
   },
   {
    "duration": 23,
    "start_time": "2022-04-30T15:44:41.125Z"
   },
   {
    "duration": 57,
    "start_time": "2022-04-30T15:44:41.150Z"
   },
   {
    "duration": 7,
    "start_time": "2022-04-30T15:44:41.209Z"
   },
   {
    "duration": 8,
    "start_time": "2022-04-30T15:44:41.218Z"
   },
   {
    "duration": 10,
    "start_time": "2022-04-30T15:44:41.228Z"
   },
   {
    "duration": 7,
    "start_time": "2022-04-30T15:44:41.243Z"
   },
   {
    "duration": 43,
    "start_time": "2022-04-30T15:44:41.252Z"
   },
   {
    "duration": 8,
    "start_time": "2022-04-30T15:44:41.297Z"
   },
   {
    "duration": 8,
    "start_time": "2022-04-30T15:44:41.307Z"
   },
   {
    "duration": 15,
    "start_time": "2022-04-30T15:44:41.317Z"
   },
   {
    "duration": 8,
    "start_time": "2022-04-30T15:44:41.334Z"
   },
   {
    "duration": 77,
    "start_time": "2022-04-30T15:44:41.344Z"
   },
   {
    "duration": 7,
    "start_time": "2022-04-30T15:44:41.423Z"
   },
   {
    "duration": 34,
    "start_time": "2022-04-30T15:44:41.433Z"
   },
   {
    "duration": 69,
    "start_time": "2022-04-30T15:45:06.060Z"
   },
   {
    "duration": 18,
    "start_time": "2022-04-30T15:45:06.132Z"
   },
   {
    "duration": 19,
    "start_time": "2022-04-30T15:45:06.152Z"
   },
   {
    "duration": 20,
    "start_time": "2022-04-30T15:45:06.192Z"
   },
   {
    "duration": 6,
    "start_time": "2022-04-30T15:45:06.214Z"
   },
   {
    "duration": 15,
    "start_time": "2022-04-30T15:45:06.222Z"
   },
   {
    "duration": 5,
    "start_time": "2022-04-30T15:45:06.239Z"
   },
   {
    "duration": 7,
    "start_time": "2022-04-30T15:45:06.246Z"
   },
   {
    "duration": 20,
    "start_time": "2022-04-30T15:45:06.293Z"
   },
   {
    "duration": 22,
    "start_time": "2022-04-30T15:45:06.317Z"
   },
   {
    "duration": 4,
    "start_time": "2022-04-30T15:45:06.342Z"
   },
   {
    "duration": 11,
    "start_time": "2022-04-30T15:45:06.349Z"
   },
   {
    "duration": 6,
    "start_time": "2022-04-30T15:45:06.393Z"
   },
   {
    "duration": 9,
    "start_time": "2022-04-30T15:45:06.401Z"
   },
   {
    "duration": 7,
    "start_time": "2022-04-30T15:45:06.412Z"
   },
   {
    "duration": 10,
    "start_time": "2022-04-30T15:45:06.421Z"
   },
   {
    "duration": 10,
    "start_time": "2022-04-30T15:45:06.432Z"
   },
   {
    "duration": 9,
    "start_time": "2022-04-30T15:45:06.444Z"
   },
   {
    "duration": 7,
    "start_time": "2022-04-30T15:45:06.492Z"
   },
   {
    "duration": 33,
    "start_time": "2022-04-30T15:45:06.501Z"
   },
   {
    "duration": 5,
    "start_time": "2022-04-30T15:45:06.537Z"
   },
   {
    "duration": 50,
    "start_time": "2022-04-30T15:45:06.544Z"
   },
   {
    "duration": 68,
    "start_time": "2022-04-30T15:45:53.579Z"
   },
   {
    "duration": 17,
    "start_time": "2022-04-30T15:45:53.650Z"
   },
   {
    "duration": 25,
    "start_time": "2022-04-30T15:45:53.670Z"
   },
   {
    "duration": 20,
    "start_time": "2022-04-30T15:45:53.698Z"
   },
   {
    "duration": 5,
    "start_time": "2022-04-30T15:45:53.720Z"
   },
   {
    "duration": 16,
    "start_time": "2022-04-30T15:45:53.728Z"
   },
   {
    "duration": 6,
    "start_time": "2022-04-30T15:45:53.747Z"
   },
   {
    "duration": 5,
    "start_time": "2022-04-30T15:45:53.794Z"
   },
   {
    "duration": 19,
    "start_time": "2022-04-30T15:45:53.801Z"
   },
   {
    "duration": 19,
    "start_time": "2022-04-30T15:45:53.823Z"
   },
   {
    "duration": 7,
    "start_time": "2022-04-30T15:45:53.845Z"
   },
   {
    "duration": 41,
    "start_time": "2022-04-30T15:45:53.854Z"
   },
   {
    "duration": 6,
    "start_time": "2022-04-30T15:45:53.897Z"
   },
   {
    "duration": 10,
    "start_time": "2022-04-30T15:45:53.905Z"
   },
   {
    "duration": 10,
    "start_time": "2022-04-30T15:45:53.917Z"
   },
   {
    "duration": 9,
    "start_time": "2022-04-30T15:45:53.929Z"
   },
   {
    "duration": 53,
    "start_time": "2022-04-30T15:45:53.940Z"
   },
   {
    "duration": 8,
    "start_time": "2022-04-30T15:45:53.995Z"
   },
   {
    "duration": 6,
    "start_time": "2022-04-30T15:45:54.005Z"
   },
   {
    "duration": 34,
    "start_time": "2022-04-30T15:45:54.014Z"
   },
   {
    "duration": 6,
    "start_time": "2022-04-30T15:45:54.050Z"
   },
   {
    "duration": 17,
    "start_time": "2022-04-30T15:45:54.094Z"
   },
   {
    "duration": 73,
    "start_time": "2022-04-30T15:51:11.147Z"
   },
   {
    "duration": 18,
    "start_time": "2022-04-30T15:51:11.223Z"
   },
   {
    "duration": 20,
    "start_time": "2022-04-30T15:51:11.244Z"
   },
   {
    "duration": 38,
    "start_time": "2022-04-30T15:51:11.267Z"
   },
   {
    "duration": 6,
    "start_time": "2022-04-30T15:51:11.307Z"
   },
   {
    "duration": 18,
    "start_time": "2022-04-30T15:51:11.315Z"
   },
   {
    "duration": 6,
    "start_time": "2022-04-30T15:51:11.335Z"
   },
   {
    "duration": 7,
    "start_time": "2022-04-30T15:51:11.343Z"
   },
   {
    "duration": 55,
    "start_time": "2022-04-30T15:51:11.352Z"
   },
   {
    "duration": 19,
    "start_time": "2022-04-30T15:51:11.412Z"
   },
   {
    "duration": 6,
    "start_time": "2022-04-30T15:51:11.433Z"
   },
   {
    "duration": 13,
    "start_time": "2022-04-30T15:51:11.441Z"
   },
   {
    "duration": 37,
    "start_time": "2022-04-30T15:51:11.457Z"
   },
   {
    "duration": 9,
    "start_time": "2022-04-30T15:51:11.496Z"
   },
   {
    "duration": 7,
    "start_time": "2022-04-30T15:51:11.507Z"
   },
   {
    "duration": 8,
    "start_time": "2022-04-30T15:51:11.516Z"
   },
   {
    "duration": 10,
    "start_time": "2022-04-30T15:51:11.526Z"
   },
   {
    "duration": 8,
    "start_time": "2022-04-30T15:51:11.538Z"
   },
   {
    "duration": 46,
    "start_time": "2022-04-30T15:51:11.548Z"
   },
   {
    "duration": 39,
    "start_time": "2022-04-30T15:51:11.596Z"
   },
   {
    "duration": 5,
    "start_time": "2022-04-30T15:51:11.637Z"
   },
   {
    "duration": 53,
    "start_time": "2022-04-30T15:51:11.644Z"
   },
   {
    "duration": 73,
    "start_time": "2022-04-30T16:06:29.325Z"
   },
   {
    "duration": 18,
    "start_time": "2022-04-30T16:06:29.400Z"
   },
   {
    "duration": 22,
    "start_time": "2022-04-30T16:06:29.420Z"
   },
   {
    "duration": 22,
    "start_time": "2022-04-30T16:06:29.445Z"
   },
   {
    "duration": 25,
    "start_time": "2022-04-30T16:06:29.471Z"
   },
   {
    "duration": 16,
    "start_time": "2022-04-30T16:06:29.498Z"
   },
   {
    "duration": 6,
    "start_time": "2022-04-30T16:06:29.516Z"
   },
   {
    "duration": 6,
    "start_time": "2022-04-30T16:06:29.525Z"
   },
   {
    "duration": 25,
    "start_time": "2022-04-30T16:06:29.533Z"
   },
   {
    "duration": 50,
    "start_time": "2022-04-30T16:06:29.560Z"
   },
   {
    "duration": 5,
    "start_time": "2022-04-30T16:06:29.612Z"
   },
   {
    "duration": 9,
    "start_time": "2022-04-30T16:06:29.619Z"
   },
   {
    "duration": 8,
    "start_time": "2022-04-30T16:06:29.630Z"
   },
   {
    "duration": 6,
    "start_time": "2022-04-30T16:06:29.642Z"
   },
   {
    "duration": 44,
    "start_time": "2022-04-30T16:06:29.650Z"
   },
   {
    "duration": 8,
    "start_time": "2022-04-30T16:06:29.696Z"
   },
   {
    "duration": 12,
    "start_time": "2022-04-30T16:06:29.706Z"
   },
   {
    "duration": 15,
    "start_time": "2022-04-30T16:06:29.720Z"
   },
   {
    "duration": 6,
    "start_time": "2022-04-30T16:06:29.738Z"
   },
   {
    "duration": 70,
    "start_time": "2022-04-30T16:06:29.746Z"
   },
   {
    "duration": 6,
    "start_time": "2022-04-30T16:06:29.818Z"
   },
   {
    "duration": 23,
    "start_time": "2022-04-30T16:06:29.826Z"
   },
   {
    "duration": 53,
    "start_time": "2022-04-30T16:06:29.851Z"
   },
   {
    "duration": 71,
    "start_time": "2022-04-30T16:07:31.794Z"
   },
   {
    "duration": 36,
    "start_time": "2022-04-30T16:07:31.868Z"
   },
   {
    "duration": 48,
    "start_time": "2022-04-30T16:07:31.906Z"
   },
   {
    "duration": 38,
    "start_time": "2022-04-30T16:07:31.956Z"
   },
   {
    "duration": 7,
    "start_time": "2022-04-30T16:07:31.999Z"
   },
   {
    "duration": 35,
    "start_time": "2022-04-30T16:07:32.009Z"
   },
   {
    "duration": 7,
    "start_time": "2022-04-30T16:07:32.047Z"
   },
   {
    "duration": 15,
    "start_time": "2022-04-30T16:07:32.056Z"
   },
   {
    "duration": 37,
    "start_time": "2022-04-30T16:07:32.074Z"
   },
   {
    "duration": 32,
    "start_time": "2022-04-30T16:07:32.114Z"
   },
   {
    "duration": 10,
    "start_time": "2022-04-30T16:07:32.149Z"
   },
   {
    "duration": 13,
    "start_time": "2022-04-30T16:07:32.161Z"
   },
   {
    "duration": 28,
    "start_time": "2022-04-30T16:07:32.176Z"
   },
   {
    "duration": 7,
    "start_time": "2022-04-30T16:07:32.207Z"
   },
   {
    "duration": 11,
    "start_time": "2022-04-30T16:07:32.216Z"
   },
   {
    "duration": 11,
    "start_time": "2022-04-30T16:07:32.230Z"
   },
   {
    "duration": 19,
    "start_time": "2022-04-30T16:07:32.243Z"
   },
   {
    "duration": 8,
    "start_time": "2022-04-30T16:07:32.293Z"
   },
   {
    "duration": 9,
    "start_time": "2022-04-30T16:07:32.303Z"
   },
   {
    "duration": 36,
    "start_time": "2022-04-30T16:07:32.314Z"
   },
   {
    "duration": 43,
    "start_time": "2022-04-30T16:07:32.352Z"
   },
   {
    "duration": 32,
    "start_time": "2022-04-30T16:07:32.397Z"
   },
   {
    "duration": 26,
    "start_time": "2022-04-30T16:07:32.431Z"
   },
   {
    "duration": 70,
    "start_time": "2022-04-30T16:07:53.382Z"
   },
   {
    "duration": 18,
    "start_time": "2022-04-30T16:07:53.455Z"
   },
   {
    "duration": 32,
    "start_time": "2022-04-30T16:07:53.475Z"
   },
   {
    "duration": 21,
    "start_time": "2022-04-30T16:07:53.510Z"
   },
   {
    "duration": 6,
    "start_time": "2022-04-30T16:07:53.534Z"
   },
   {
    "duration": 15,
    "start_time": "2022-04-30T16:07:53.542Z"
   },
   {
    "duration": 7,
    "start_time": "2022-04-30T16:07:53.593Z"
   },
   {
    "duration": 6,
    "start_time": "2022-04-30T16:07:53.602Z"
   },
   {
    "duration": 20,
    "start_time": "2022-04-30T16:07:53.610Z"
   },
   {
    "duration": 19,
    "start_time": "2022-04-30T16:07:53.632Z"
   },
   {
    "duration": 43,
    "start_time": "2022-04-30T16:07:53.653Z"
   },
   {
    "duration": 10,
    "start_time": "2022-04-30T16:07:53.698Z"
   },
   {
    "duration": 8,
    "start_time": "2022-04-30T16:07:53.710Z"
   },
   {
    "duration": 6,
    "start_time": "2022-04-30T16:07:53.723Z"
   },
   {
    "duration": 8,
    "start_time": "2022-04-30T16:07:53.731Z"
   },
   {
    "duration": 53,
    "start_time": "2022-04-30T16:07:53.741Z"
   },
   {
    "duration": 9,
    "start_time": "2022-04-30T16:07:53.796Z"
   },
   {
    "duration": 8,
    "start_time": "2022-04-30T16:07:53.807Z"
   },
   {
    "duration": 6,
    "start_time": "2022-04-30T16:07:53.818Z"
   },
   {
    "duration": 72,
    "start_time": "2022-04-30T16:07:53.826Z"
   },
   {
    "duration": 5,
    "start_time": "2022-04-30T16:07:53.900Z"
   },
   {
    "duration": 26,
    "start_time": "2022-04-30T16:07:53.907Z"
   },
   {
    "duration": 27,
    "start_time": "2022-04-30T16:07:53.935Z"
   },
   {
    "duration": 72,
    "start_time": "2022-04-30T16:11:03.687Z"
   },
   {
    "duration": 31,
    "start_time": "2022-04-30T16:11:03.762Z"
   },
   {
    "duration": 19,
    "start_time": "2022-04-30T16:11:03.796Z"
   },
   {
    "duration": 21,
    "start_time": "2022-04-30T16:11:03.818Z"
   },
   {
    "duration": 6,
    "start_time": "2022-04-30T16:11:03.841Z"
   },
   {
    "duration": 51,
    "start_time": "2022-04-30T16:11:03.849Z"
   },
   {
    "duration": 6,
    "start_time": "2022-04-30T16:11:03.903Z"
   },
   {
    "duration": 7,
    "start_time": "2022-04-30T16:11:03.912Z"
   },
   {
    "duration": 20,
    "start_time": "2022-04-30T16:11:03.921Z"
   },
   {
    "duration": 57,
    "start_time": "2022-04-30T16:11:03.945Z"
   },
   {
    "duration": 5,
    "start_time": "2022-04-30T16:11:04.004Z"
   },
   {
    "duration": 13,
    "start_time": "2022-04-30T16:11:04.012Z"
   },
   {
    "duration": 8,
    "start_time": "2022-04-30T16:11:04.027Z"
   },
   {
    "duration": 11,
    "start_time": "2022-04-30T16:11:04.037Z"
   },
   {
    "duration": 45,
    "start_time": "2022-04-30T16:11:04.050Z"
   },
   {
    "duration": 8,
    "start_time": "2022-04-30T16:11:04.097Z"
   },
   {
    "duration": 10,
    "start_time": "2022-04-30T16:11:04.107Z"
   },
   {
    "duration": 7,
    "start_time": "2022-04-30T16:11:04.120Z"
   },
   {
    "duration": 8,
    "start_time": "2022-04-30T16:11:04.129Z"
   },
   {
    "duration": 68,
    "start_time": "2022-04-30T16:11:04.140Z"
   },
   {
    "duration": 5,
    "start_time": "2022-04-30T16:11:04.211Z"
   },
   {
    "duration": 28,
    "start_time": "2022-04-30T16:11:04.218Z"
   },
   {
    "duration": 49,
    "start_time": "2022-04-30T16:11:04.248Z"
   },
   {
    "duration": 28,
    "start_time": "2022-04-30T16:11:04.299Z"
   },
   {
    "duration": 26,
    "start_time": "2022-04-30T16:11:04.329Z"
   },
   {
    "duration": 111,
    "start_time": "2022-04-30T16:38:14.191Z"
   },
   {
    "duration": 25,
    "start_time": "2022-04-30T16:38:14.305Z"
   },
   {
    "duration": 25,
    "start_time": "2022-04-30T16:38:14.333Z"
   },
   {
    "duration": 52,
    "start_time": "2022-04-30T16:38:14.362Z"
   },
   {
    "duration": 7,
    "start_time": "2022-04-30T16:38:14.417Z"
   },
   {
    "duration": 14,
    "start_time": "2022-04-30T16:38:14.427Z"
   },
   {
    "duration": 6,
    "start_time": "2022-04-30T16:38:14.444Z"
   },
   {
    "duration": 42,
    "start_time": "2022-04-30T16:38:14.452Z"
   },
   {
    "duration": 18,
    "start_time": "2022-04-30T16:38:14.497Z"
   },
   {
    "duration": 20,
    "start_time": "2022-04-30T16:38:14.519Z"
   },
   {
    "duration": 7,
    "start_time": "2022-04-30T16:38:14.542Z"
   },
   {
    "duration": 48,
    "start_time": "2022-04-30T16:38:14.551Z"
   },
   {
    "duration": 7,
    "start_time": "2022-04-30T16:38:14.601Z"
   },
   {
    "duration": 6,
    "start_time": "2022-04-30T16:38:14.610Z"
   },
   {
    "duration": 6,
    "start_time": "2022-04-30T16:38:14.618Z"
   },
   {
    "duration": 6,
    "start_time": "2022-04-30T16:38:14.626Z"
   },
   {
    "duration": 62,
    "start_time": "2022-04-30T16:38:14.635Z"
   },
   {
    "duration": 7,
    "start_time": "2022-04-30T16:38:14.700Z"
   },
   {
    "duration": 24,
    "start_time": "2022-04-30T16:38:14.710Z"
   },
   {
    "duration": 67,
    "start_time": "2022-04-30T16:38:14.736Z"
   },
   {
    "duration": 6,
    "start_time": "2022-04-30T16:38:14.806Z"
   },
   {
    "duration": 35,
    "start_time": "2022-04-30T16:38:14.814Z"
   },
   {
    "duration": 56,
    "start_time": "2022-04-30T16:38:14.852Z"
   },
   {
    "duration": 38,
    "start_time": "2022-04-30T16:38:14.910Z"
   },
   {
    "duration": 58,
    "start_time": "2022-04-30T16:38:14.951Z"
   },
   {
    "duration": 32,
    "start_time": "2022-04-30T16:38:15.011Z"
   },
   {
    "duration": 79,
    "start_time": "2022-04-30T16:41:22.037Z"
   },
   {
    "duration": 20,
    "start_time": "2022-04-30T16:41:22.119Z"
   },
   {
    "duration": 24,
    "start_time": "2022-04-30T16:41:22.142Z"
   },
   {
    "duration": 38,
    "start_time": "2022-04-30T16:41:22.170Z"
   },
   {
    "duration": 5,
    "start_time": "2022-04-30T16:41:22.210Z"
   },
   {
    "duration": 19,
    "start_time": "2022-04-30T16:41:22.217Z"
   },
   {
    "duration": 11,
    "start_time": "2022-04-30T16:41:22.239Z"
   },
   {
    "duration": 17,
    "start_time": "2022-04-30T16:41:22.252Z"
   },
   {
    "duration": 64,
    "start_time": "2022-04-30T16:41:22.271Z"
   },
   {
    "duration": 24,
    "start_time": "2022-04-30T16:41:22.339Z"
   },
   {
    "duration": 14,
    "start_time": "2022-04-30T16:41:22.365Z"
   },
   {
    "duration": 14,
    "start_time": "2022-04-30T16:41:22.381Z"
   },
   {
    "duration": 24,
    "start_time": "2022-04-30T16:41:22.397Z"
   },
   {
    "duration": 18,
    "start_time": "2022-04-30T16:41:22.422Z"
   },
   {
    "duration": 20,
    "start_time": "2022-04-30T16:41:22.442Z"
   },
   {
    "duration": 15,
    "start_time": "2022-04-30T16:41:22.464Z"
   },
   {
    "duration": 13,
    "start_time": "2022-04-30T16:41:22.481Z"
   },
   {
    "duration": 7,
    "start_time": "2022-04-30T16:41:22.496Z"
   },
   {
    "duration": 11,
    "start_time": "2022-04-30T16:41:22.505Z"
   },
   {
    "duration": 48,
    "start_time": "2022-04-30T16:41:22.518Z"
   },
   {
    "duration": 6,
    "start_time": "2022-04-30T16:41:22.592Z"
   },
   {
    "duration": 28,
    "start_time": "2022-04-30T16:41:22.600Z"
   },
   {
    "duration": 26,
    "start_time": "2022-04-30T16:41:22.631Z"
   },
   {
    "duration": 54,
    "start_time": "2022-04-30T16:41:22.659Z"
   },
   {
    "duration": 25,
    "start_time": "2022-04-30T16:41:22.715Z"
   },
   {
    "duration": 19,
    "start_time": "2022-04-30T16:41:22.742Z"
   },
   {
    "duration": 46,
    "start_time": "2022-04-30T16:41:22.763Z"
   },
   {
    "duration": 20,
    "start_time": "2022-04-30T16:41:22.814Z"
   },
   {
    "duration": 19,
    "start_time": "2022-04-30T16:41:22.836Z"
   },
   {
    "duration": 53,
    "start_time": "2022-04-30T16:41:22.857Z"
   },
   {
    "duration": 86,
    "start_time": "2022-04-30T16:49:16.645Z"
   },
   {
    "duration": 19,
    "start_time": "2022-04-30T16:49:16.734Z"
   },
   {
    "duration": 21,
    "start_time": "2022-04-30T16:49:16.755Z"
   },
   {
    "duration": 23,
    "start_time": "2022-04-30T16:49:16.793Z"
   },
   {
    "duration": 6,
    "start_time": "2022-04-30T16:49:16.819Z"
   },
   {
    "duration": 16,
    "start_time": "2022-04-30T16:49:16.828Z"
   },
   {
    "duration": 49,
    "start_time": "2022-04-30T16:49:16.846Z"
   },
   {
    "duration": 7,
    "start_time": "2022-04-30T16:49:16.897Z"
   },
   {
    "duration": 21,
    "start_time": "2022-04-30T16:49:16.907Z"
   },
   {
    "duration": 29,
    "start_time": "2022-04-30T16:49:16.934Z"
   },
   {
    "duration": 4,
    "start_time": "2022-04-30T16:49:16.993Z"
   },
   {
    "duration": 10,
    "start_time": "2022-04-30T16:49:17.000Z"
   },
   {
    "duration": 9,
    "start_time": "2022-04-30T16:49:17.012Z"
   },
   {
    "duration": 7,
    "start_time": "2022-04-30T16:49:17.023Z"
   },
   {
    "duration": 8,
    "start_time": "2022-04-30T16:49:17.032Z"
   },
   {
    "duration": 56,
    "start_time": "2022-04-30T16:49:17.043Z"
   },
   {
    "duration": 12,
    "start_time": "2022-04-30T16:49:17.102Z"
   },
   {
    "duration": 8,
    "start_time": "2022-04-30T16:49:17.116Z"
   },
   {
    "duration": 6,
    "start_time": "2022-04-30T16:49:17.126Z"
   },
   {
    "duration": 80,
    "start_time": "2022-04-30T16:49:17.134Z"
   },
   {
    "duration": 5,
    "start_time": "2022-04-30T16:49:17.216Z"
   },
   {
    "duration": 26,
    "start_time": "2022-04-30T16:49:17.223Z"
   },
   {
    "duration": 49,
    "start_time": "2022-04-30T16:49:17.252Z"
   },
   {
    "duration": 29,
    "start_time": "2022-04-30T16:49:17.303Z"
   },
   {
    "duration": 25,
    "start_time": "2022-04-30T16:49:17.335Z"
   },
   {
    "duration": 44,
    "start_time": "2022-04-30T16:49:17.362Z"
   },
   {
    "duration": 21,
    "start_time": "2022-04-30T16:49:17.409Z"
   },
   {
    "duration": 20,
    "start_time": "2022-04-30T16:49:17.435Z"
   },
   {
    "duration": 52,
    "start_time": "2022-04-30T16:49:17.457Z"
   },
   {
    "duration": 22,
    "start_time": "2022-04-30T16:49:17.511Z"
   },
   {
    "duration": 7,
    "start_time": "2022-04-30T16:49:17.535Z"
   },
   {
    "duration": 77,
    "start_time": "2022-04-30T16:55:21.468Z"
   },
   {
    "duration": 20,
    "start_time": "2022-04-30T16:55:21.547Z"
   },
   {
    "duration": 44,
    "start_time": "2022-04-30T16:55:21.570Z"
   },
   {
    "duration": 22,
    "start_time": "2022-04-30T16:55:21.617Z"
   },
   {
    "duration": 6,
    "start_time": "2022-04-30T16:55:21.643Z"
   },
   {
    "duration": 51,
    "start_time": "2022-04-30T16:55:21.651Z"
   },
   {
    "duration": 6,
    "start_time": "2022-04-30T16:55:21.705Z"
   },
   {
    "duration": 13,
    "start_time": "2022-04-30T16:55:21.713Z"
   },
   {
    "duration": 32,
    "start_time": "2022-04-30T16:55:21.728Z"
   },
   {
    "duration": 47,
    "start_time": "2022-04-30T16:55:21.762Z"
   },
   {
    "duration": 16,
    "start_time": "2022-04-30T16:55:21.811Z"
   },
   {
    "duration": 15,
    "start_time": "2022-04-30T16:55:21.830Z"
   },
   {
    "duration": 16,
    "start_time": "2022-04-30T16:55:21.848Z"
   },
   {
    "duration": 26,
    "start_time": "2022-04-30T16:55:21.870Z"
   },
   {
    "duration": 9,
    "start_time": "2022-04-30T16:55:21.898Z"
   },
   {
    "duration": 8,
    "start_time": "2022-04-30T16:55:21.910Z"
   },
   {
    "duration": 20,
    "start_time": "2022-04-30T16:55:21.920Z"
   },
   {
    "duration": 17,
    "start_time": "2022-04-30T16:55:21.942Z"
   },
   {
    "duration": 34,
    "start_time": "2022-04-30T16:55:21.962Z"
   },
   {
    "duration": 36,
    "start_time": "2022-04-30T16:55:21.999Z"
   },
   {
    "duration": 6,
    "start_time": "2022-04-30T16:55:22.037Z"
   },
   {
    "duration": 57,
    "start_time": "2022-04-30T16:55:22.045Z"
   },
   {
    "duration": 27,
    "start_time": "2022-04-30T16:55:22.104Z"
   },
   {
    "duration": 31,
    "start_time": "2022-04-30T16:55:22.134Z"
   },
   {
    "duration": 32,
    "start_time": "2022-04-30T16:55:22.194Z"
   },
   {
    "duration": 21,
    "start_time": "2022-04-30T16:55:22.229Z"
   },
   {
    "duration": 50,
    "start_time": "2022-04-30T16:55:22.252Z"
   },
   {
    "duration": 25,
    "start_time": "2022-04-30T16:55:22.305Z"
   },
   {
    "duration": 21,
    "start_time": "2022-04-30T16:55:22.333Z"
   },
   {
    "duration": 57,
    "start_time": "2022-04-30T16:55:22.357Z"
   },
   {
    "duration": 11,
    "start_time": "2022-04-30T16:55:22.416Z"
   },
   {
    "duration": 81,
    "start_time": "2022-04-30T16:55:59.790Z"
   },
   {
    "duration": 23,
    "start_time": "2022-04-30T16:55:59.874Z"
   },
   {
    "duration": 24,
    "start_time": "2022-04-30T16:55:59.899Z"
   },
   {
    "duration": 24,
    "start_time": "2022-04-30T16:55:59.925Z"
   },
   {
    "duration": 5,
    "start_time": "2022-04-30T16:55:59.952Z"
   },
   {
    "duration": 41,
    "start_time": "2022-04-30T16:55:59.959Z"
   },
   {
    "duration": 10,
    "start_time": "2022-04-30T16:56:00.003Z"
   },
   {
    "duration": 6,
    "start_time": "2022-04-30T16:56:00.015Z"
   },
   {
    "duration": 32,
    "start_time": "2022-04-30T16:56:00.024Z"
   },
   {
    "duration": 53,
    "start_time": "2022-04-30T16:56:00.059Z"
   },
   {
    "duration": 13,
    "start_time": "2022-04-30T16:56:00.114Z"
   },
   {
    "duration": 14,
    "start_time": "2022-04-30T16:56:00.130Z"
   },
   {
    "duration": 7,
    "start_time": "2022-04-30T16:56:00.146Z"
   },
   {
    "duration": 13,
    "start_time": "2022-04-30T16:56:00.157Z"
   },
   {
    "duration": 8,
    "start_time": "2022-04-30T16:56:00.192Z"
   },
   {
    "duration": 12,
    "start_time": "2022-04-30T16:56:00.202Z"
   },
   {
    "duration": 12,
    "start_time": "2022-04-30T16:56:00.217Z"
   },
   {
    "duration": 8,
    "start_time": "2022-04-30T16:56:00.231Z"
   },
   {
    "duration": 8,
    "start_time": "2022-04-30T16:56:00.241Z"
   },
   {
    "duration": 38,
    "start_time": "2022-04-30T16:56:00.293Z"
   },
   {
    "duration": 5,
    "start_time": "2022-04-30T16:56:00.333Z"
   },
   {
    "duration": 53,
    "start_time": "2022-04-30T16:56:00.341Z"
   },
   {
    "duration": 26,
    "start_time": "2022-04-30T16:56:00.396Z"
   },
   {
    "duration": 29,
    "start_time": "2022-04-30T16:56:00.424Z"
   },
   {
    "duration": 62,
    "start_time": "2022-04-30T16:56:00.455Z"
   },
   {
    "duration": 22,
    "start_time": "2022-04-30T16:56:00.519Z"
   },
   {
    "duration": 50,
    "start_time": "2022-04-30T16:56:00.543Z"
   },
   {
    "duration": 22,
    "start_time": "2022-04-30T16:56:00.595Z"
   },
   {
    "duration": 21,
    "start_time": "2022-04-30T16:56:00.619Z"
   },
   {
    "duration": 52,
    "start_time": "2022-04-30T16:56:00.643Z"
   },
   {
    "duration": 9,
    "start_time": "2022-04-30T16:56:00.698Z"
   },
   {
    "duration": 98,
    "start_time": "2022-04-30T16:56:32.949Z"
   },
   {
    "duration": 26,
    "start_time": "2022-04-30T16:56:33.050Z"
   },
   {
    "duration": 37,
    "start_time": "2022-04-30T16:56:33.078Z"
   },
   {
    "duration": 20,
    "start_time": "2022-04-30T16:56:33.117Z"
   },
   {
    "duration": 5,
    "start_time": "2022-04-30T16:56:33.140Z"
   },
   {
    "duration": 46,
    "start_time": "2022-04-30T16:56:33.147Z"
   },
   {
    "duration": 6,
    "start_time": "2022-04-30T16:56:33.195Z"
   },
   {
    "duration": 10,
    "start_time": "2022-04-30T16:56:33.203Z"
   },
   {
    "duration": 25,
    "start_time": "2022-04-30T16:56:33.214Z"
   },
   {
    "duration": 25,
    "start_time": "2022-04-30T16:56:33.241Z"
   },
   {
    "duration": 3,
    "start_time": "2022-04-30T16:56:33.294Z"
   },
   {
    "duration": 14,
    "start_time": "2022-04-30T16:56:33.300Z"
   },
   {
    "duration": 12,
    "start_time": "2022-04-30T16:56:33.316Z"
   },
   {
    "duration": 6,
    "start_time": "2022-04-30T16:56:33.332Z"
   },
   {
    "duration": 7,
    "start_time": "2022-04-30T16:56:33.340Z"
   },
   {
    "duration": 46,
    "start_time": "2022-04-30T16:56:33.350Z"
   },
   {
    "duration": 8,
    "start_time": "2022-04-30T16:56:33.398Z"
   },
   {
    "duration": 10,
    "start_time": "2022-04-30T16:56:33.408Z"
   },
   {
    "duration": 6,
    "start_time": "2022-04-30T16:56:33.420Z"
   },
   {
    "duration": 71,
    "start_time": "2022-04-30T16:56:33.428Z"
   },
   {
    "duration": 5,
    "start_time": "2022-04-30T16:56:33.502Z"
   },
   {
    "duration": 29,
    "start_time": "2022-04-30T16:56:33.509Z"
   },
   {
    "duration": 26,
    "start_time": "2022-04-30T16:56:33.540Z"
   },
   {
    "duration": 30,
    "start_time": "2022-04-30T16:56:33.594Z"
   },
   {
    "duration": 26,
    "start_time": "2022-04-30T16:56:33.627Z"
   },
   {
    "duration": 45,
    "start_time": "2022-04-30T16:56:33.655Z"
   },
   {
    "duration": 22,
    "start_time": "2022-04-30T16:56:33.702Z"
   },
   {
    "duration": 20,
    "start_time": "2022-04-30T16:56:33.727Z"
   },
   {
    "duration": 58,
    "start_time": "2022-04-30T16:56:33.750Z"
   },
   {
    "duration": 23,
    "start_time": "2022-04-30T16:56:33.811Z"
   },
   {
    "duration": 8,
    "start_time": "2022-04-30T16:56:33.836Z"
   },
   {
    "duration": 98,
    "start_time": "2022-04-30T16:59:18.035Z"
   },
   {
    "duration": 25,
    "start_time": "2022-04-30T16:59:18.136Z"
   },
   {
    "duration": 40,
    "start_time": "2022-04-30T16:59:18.163Z"
   },
   {
    "duration": 23,
    "start_time": "2022-04-30T16:59:18.205Z"
   },
   {
    "duration": 6,
    "start_time": "2022-04-30T16:59:18.231Z"
   },
   {
    "duration": 18,
    "start_time": "2022-04-30T16:59:18.240Z"
   },
   {
    "duration": 33,
    "start_time": "2022-04-30T16:59:18.260Z"
   },
   {
    "duration": 8,
    "start_time": "2022-04-30T16:59:18.296Z"
   },
   {
    "duration": 30,
    "start_time": "2022-04-30T16:59:18.306Z"
   },
   {
    "duration": 21,
    "start_time": "2022-04-30T16:59:18.338Z"
   },
   {
    "duration": 32,
    "start_time": "2022-04-30T16:59:18.361Z"
   },
   {
    "duration": 10,
    "start_time": "2022-04-30T16:59:18.395Z"
   },
   {
    "duration": 7,
    "start_time": "2022-04-30T16:59:18.407Z"
   },
   {
    "duration": 6,
    "start_time": "2022-04-30T16:59:18.418Z"
   },
   {
    "duration": 8,
    "start_time": "2022-04-30T16:59:18.426Z"
   },
   {
    "duration": 8,
    "start_time": "2022-04-30T16:59:18.436Z"
   },
   {
    "duration": 8,
    "start_time": "2022-04-30T16:59:18.492Z"
   },
   {
    "duration": 8,
    "start_time": "2022-04-30T16:59:18.502Z"
   },
   {
    "duration": 8,
    "start_time": "2022-04-30T16:59:18.512Z"
   },
   {
    "duration": 74,
    "start_time": "2022-04-30T16:59:18.523Z"
   },
   {
    "duration": 6,
    "start_time": "2022-04-30T16:59:18.599Z"
   },
   {
    "duration": 35,
    "start_time": "2022-04-30T16:59:18.608Z"
   },
   {
    "duration": 55,
    "start_time": "2022-04-30T16:59:18.645Z"
   },
   {
    "duration": 30,
    "start_time": "2022-04-30T16:59:18.703Z"
   },
   {
    "duration": 26,
    "start_time": "2022-04-30T16:59:18.735Z"
   },
   {
    "duration": 32,
    "start_time": "2022-04-30T16:59:18.763Z"
   },
   {
    "duration": 0,
    "start_time": "2022-04-30T16:59:18.797Z"
   },
   {
    "duration": 0,
    "start_time": "2022-04-30T16:59:18.798Z"
   },
   {
    "duration": 0,
    "start_time": "2022-04-30T16:59:18.800Z"
   },
   {
    "duration": 0,
    "start_time": "2022-04-30T16:59:18.801Z"
   },
   {
    "duration": 86,
    "start_time": "2022-04-30T17:03:01.852Z"
   },
   {
    "duration": 20,
    "start_time": "2022-04-30T17:03:01.941Z"
   },
   {
    "duration": 35,
    "start_time": "2022-04-30T17:03:01.963Z"
   },
   {
    "duration": 29,
    "start_time": "2022-04-30T17:03:02.001Z"
   },
   {
    "duration": 6,
    "start_time": "2022-04-30T17:03:02.033Z"
   },
   {
    "duration": 22,
    "start_time": "2022-04-30T17:03:02.041Z"
   },
   {
    "duration": 31,
    "start_time": "2022-04-30T17:03:02.065Z"
   },
   {
    "duration": 12,
    "start_time": "2022-04-30T17:03:02.098Z"
   },
   {
    "duration": 36,
    "start_time": "2022-04-30T17:03:02.112Z"
   },
   {
    "duration": 42,
    "start_time": "2022-04-30T17:03:02.153Z"
   },
   {
    "duration": 4,
    "start_time": "2022-04-30T17:03:02.197Z"
   },
   {
    "duration": 18,
    "start_time": "2022-04-30T17:03:02.203Z"
   },
   {
    "duration": 8,
    "start_time": "2022-04-30T17:03:02.223Z"
   },
   {
    "duration": 15,
    "start_time": "2022-04-30T17:03:02.234Z"
   },
   {
    "duration": 10,
    "start_time": "2022-04-30T17:03:02.252Z"
   },
   {
    "duration": 33,
    "start_time": "2022-04-30T17:03:02.265Z"
   },
   {
    "duration": 10,
    "start_time": "2022-04-30T17:03:02.300Z"
   },
   {
    "duration": 8,
    "start_time": "2022-04-30T17:03:02.312Z"
   },
   {
    "duration": 8,
    "start_time": "2022-04-30T17:03:02.323Z"
   },
   {
    "duration": 90,
    "start_time": "2022-04-30T17:03:02.333Z"
   },
   {
    "duration": 7,
    "start_time": "2022-04-30T17:03:02.426Z"
   },
   {
    "duration": 26,
    "start_time": "2022-04-30T17:03:02.436Z"
   },
   {
    "duration": 26,
    "start_time": "2022-04-30T17:03:02.492Z"
   },
   {
    "duration": 30,
    "start_time": "2022-04-30T17:03:02.520Z"
   },
   {
    "duration": 59,
    "start_time": "2022-04-30T17:03:02.553Z"
   },
   {
    "duration": 21,
    "start_time": "2022-04-30T17:03:02.615Z"
   },
   {
    "duration": 22,
    "start_time": "2022-04-30T17:03:02.639Z"
   },
   {
    "duration": 19,
    "start_time": "2022-04-30T17:03:02.694Z"
   },
   {
    "duration": 19,
    "start_time": "2022-04-30T17:03:02.715Z"
   },
   {
    "duration": 45,
    "start_time": "2022-04-30T17:03:02.736Z"
   },
   {
    "duration": 3379,
    "start_time": "2022-04-30T17:03:02.783Z"
   },
   {
    "duration": 3351,
    "start_time": "2022-04-30T17:03:55.727Z"
   },
   {
    "duration": 77,
    "start_time": "2022-04-30T17:05:09.311Z"
   },
   {
    "duration": 19,
    "start_time": "2022-04-30T17:05:09.391Z"
   },
   {
    "duration": 21,
    "start_time": "2022-04-30T17:05:09.413Z"
   },
   {
    "duration": 23,
    "start_time": "2022-04-30T17:05:09.437Z"
   },
   {
    "duration": 5,
    "start_time": "2022-04-30T17:05:09.493Z"
   },
   {
    "duration": 19,
    "start_time": "2022-04-30T17:05:09.501Z"
   },
   {
    "duration": 7,
    "start_time": "2022-04-30T17:05:09.522Z"
   },
   {
    "duration": 11,
    "start_time": "2022-04-30T17:05:09.531Z"
   },
   {
    "duration": 58,
    "start_time": "2022-04-30T17:05:09.544Z"
   },
   {
    "duration": 31,
    "start_time": "2022-04-30T17:05:09.608Z"
   },
   {
    "duration": 7,
    "start_time": "2022-04-30T17:05:09.642Z"
   },
   {
    "duration": 11,
    "start_time": "2022-04-30T17:05:09.651Z"
   },
   {
    "duration": 30,
    "start_time": "2022-04-30T17:05:09.664Z"
   },
   {
    "duration": 7,
    "start_time": "2022-04-30T17:05:09.696Z"
   },
   {
    "duration": 8,
    "start_time": "2022-04-30T17:05:09.705Z"
   },
   {
    "duration": 8,
    "start_time": "2022-04-30T17:05:09.715Z"
   },
   {
    "duration": 10,
    "start_time": "2022-04-30T17:05:09.725Z"
   },
   {
    "duration": 8,
    "start_time": "2022-04-30T17:05:09.737Z"
   },
   {
    "duration": 7,
    "start_time": "2022-04-30T17:05:09.793Z"
   },
   {
    "duration": 34,
    "start_time": "2022-04-30T17:05:09.802Z"
   },
   {
    "duration": 5,
    "start_time": "2022-04-30T17:05:09.838Z"
   },
   {
    "duration": 58,
    "start_time": "2022-04-30T17:05:09.845Z"
   },
   {
    "duration": 26,
    "start_time": "2022-04-30T17:05:09.905Z"
   },
   {
    "duration": 28,
    "start_time": "2022-04-30T17:05:09.933Z"
   },
   {
    "duration": 53,
    "start_time": "2022-04-30T17:05:09.963Z"
   },
   {
    "duration": 20,
    "start_time": "2022-04-30T17:05:10.018Z"
   },
   {
    "duration": 20,
    "start_time": "2022-04-30T17:05:10.041Z"
   },
   {
    "duration": 18,
    "start_time": "2022-04-30T17:05:10.094Z"
   },
   {
    "duration": 19,
    "start_time": "2022-04-30T17:05:10.114Z"
   },
   {
    "duration": 22,
    "start_time": "2022-04-30T17:05:10.136Z"
   },
   {
    "duration": 58,
    "start_time": "2022-04-30T17:05:10.160Z"
   },
   {
    "duration": 72,
    "start_time": "2022-04-30T17:05:24.125Z"
   },
   {
    "duration": 18,
    "start_time": "2022-04-30T17:05:24.199Z"
   },
   {
    "duration": 26,
    "start_time": "2022-04-30T17:05:24.219Z"
   },
   {
    "duration": 25,
    "start_time": "2022-04-30T17:05:24.248Z"
   },
   {
    "duration": 5,
    "start_time": "2022-04-30T17:05:24.294Z"
   },
   {
    "duration": 17,
    "start_time": "2022-04-30T17:05:24.302Z"
   },
   {
    "duration": 6,
    "start_time": "2022-04-30T17:05:24.322Z"
   },
   {
    "duration": 9,
    "start_time": "2022-04-30T17:05:24.329Z"
   },
   {
    "duration": 61,
    "start_time": "2022-04-30T17:05:24.341Z"
   },
   {
    "duration": 20,
    "start_time": "2022-04-30T17:05:24.408Z"
   },
   {
    "duration": 5,
    "start_time": "2022-04-30T17:05:24.430Z"
   },
   {
    "duration": 14,
    "start_time": "2022-04-30T17:05:24.438Z"
   },
   {
    "duration": 7,
    "start_time": "2022-04-30T17:05:24.454Z"
   },
   {
    "duration": 7,
    "start_time": "2022-04-30T17:05:24.494Z"
   },
   {
    "duration": 9,
    "start_time": "2022-04-30T17:05:24.503Z"
   },
   {
    "duration": 6,
    "start_time": "2022-04-30T17:05:24.515Z"
   },
   {
    "duration": 20,
    "start_time": "2022-04-30T17:05:24.523Z"
   },
   {
    "duration": 14,
    "start_time": "2022-04-30T17:05:24.545Z"
   },
   {
    "duration": 36,
    "start_time": "2022-04-30T17:05:24.561Z"
   },
   {
    "duration": 36,
    "start_time": "2022-04-30T17:05:24.599Z"
   },
   {
    "duration": 6,
    "start_time": "2022-04-30T17:05:24.637Z"
   },
   {
    "duration": 58,
    "start_time": "2022-04-30T17:05:24.644Z"
   },
   {
    "duration": 24,
    "start_time": "2022-04-30T17:05:24.704Z"
   },
   {
    "duration": 28,
    "start_time": "2022-04-30T17:05:24.730Z"
   },
   {
    "duration": 49,
    "start_time": "2022-04-30T17:05:24.760Z"
   },
   {
    "duration": 19,
    "start_time": "2022-04-30T17:05:24.811Z"
   },
   {
    "duration": 19,
    "start_time": "2022-04-30T17:05:24.832Z"
   },
   {
    "duration": 46,
    "start_time": "2022-04-30T17:05:24.856Z"
   },
   {
    "duration": 30,
    "start_time": "2022-04-30T17:05:24.905Z"
   },
   {
    "duration": 57,
    "start_time": "2022-04-30T17:05:24.937Z"
   },
   {
    "duration": 61,
    "start_time": "2022-04-30T17:05:24.997Z"
   },
   {
    "duration": 9,
    "start_time": "2022-04-30T17:18:19.510Z"
   },
   {
    "duration": 8,
    "start_time": "2022-04-30T17:20:09.480Z"
   },
   {
    "duration": 49,
    "start_time": "2022-05-01T07:05:24.646Z"
   },
   {
    "duration": 599,
    "start_time": "2022-05-01T07:05:35.333Z"
   },
   {
    "duration": 26,
    "start_time": "2022-05-01T07:05:35.935Z"
   },
   {
    "duration": 11,
    "start_time": "2022-05-01T07:05:35.965Z"
   },
   {
    "duration": 15,
    "start_time": "2022-05-01T07:05:35.977Z"
   },
   {
    "duration": 3,
    "start_time": "2022-05-01T07:05:35.994Z"
   },
   {
    "duration": 15,
    "start_time": "2022-05-01T07:05:35.999Z"
   },
   {
    "duration": 5,
    "start_time": "2022-05-01T07:05:36.016Z"
   },
   {
    "duration": 6,
    "start_time": "2022-05-01T07:05:36.049Z"
   },
   {
    "duration": 24,
    "start_time": "2022-05-01T07:05:36.057Z"
   },
   {
    "duration": 13,
    "start_time": "2022-05-01T07:05:36.085Z"
   },
   {
    "duration": 7,
    "start_time": "2022-05-01T07:05:36.099Z"
   },
   {
    "duration": 5,
    "start_time": "2022-05-01T07:05:36.108Z"
   },
   {
    "duration": 5,
    "start_time": "2022-05-01T07:05:36.115Z"
   },
   {
    "duration": 6,
    "start_time": "2022-05-01T07:05:36.148Z"
   },
   {
    "duration": 16,
    "start_time": "2022-05-01T07:05:36.155Z"
   },
   {
    "duration": 9,
    "start_time": "2022-05-01T07:05:36.172Z"
   },
   {
    "duration": 4,
    "start_time": "2022-05-01T07:05:36.183Z"
   },
   {
    "duration": 4,
    "start_time": "2022-05-01T07:05:36.189Z"
   },
   {
    "duration": 24,
    "start_time": "2022-05-01T07:05:36.195Z"
   },
   {
    "duration": 33,
    "start_time": "2022-05-01T07:05:36.220Z"
   },
   {
    "duration": 25,
    "start_time": "2022-05-01T07:05:36.255Z"
   },
   {
    "duration": 24,
    "start_time": "2022-05-01T07:05:36.282Z"
   },
   {
    "duration": 48,
    "start_time": "2022-05-01T07:05:36.308Z"
   },
   {
    "duration": 18,
    "start_time": "2022-05-01T07:05:36.358Z"
   },
   {
    "duration": 15,
    "start_time": "2022-05-01T07:05:36.377Z"
   },
   {
    "duration": 15,
    "start_time": "2022-05-01T07:05:36.393Z"
   },
   {
    "duration": 14,
    "start_time": "2022-05-01T07:05:36.409Z"
   },
   {
    "duration": 24,
    "start_time": "2022-05-01T07:05:36.449Z"
   },
   {
    "duration": 24,
    "start_time": "2022-05-01T07:05:36.476Z"
   },
   {
    "duration": 60,
    "start_time": "2022-05-01T07:05:36.502Z"
   },
   {
    "duration": 7,
    "start_time": "2022-05-01T07:05:36.564Z"
   },
   {
    "duration": 7,
    "start_time": "2022-05-01T07:05:36.573Z"
   },
   {
    "duration": 4,
    "start_time": "2022-05-01T07:05:36.582Z"
   },
   {
    "duration": 107,
    "start_time": "2022-05-01T07:05:36.588Z"
   },
   {
    "duration": 0,
    "start_time": "2022-05-01T07:05:36.697Z"
   },
   {
    "duration": 0,
    "start_time": "2022-05-01T07:05:36.698Z"
   },
   {
    "duration": 18,
    "start_time": "2022-05-01T07:05:41.584Z"
   },
   {
    "duration": 57,
    "start_time": "2022-05-01T07:09:14.003Z"
   },
   {
    "duration": 12,
    "start_time": "2022-05-01T07:09:14.062Z"
   },
   {
    "duration": 12,
    "start_time": "2022-05-01T07:09:14.076Z"
   },
   {
    "duration": 14,
    "start_time": "2022-05-01T07:09:14.090Z"
   },
   {
    "duration": 4,
    "start_time": "2022-05-01T07:09:14.105Z"
   },
   {
    "duration": 12,
    "start_time": "2022-05-01T07:09:14.110Z"
   },
   {
    "duration": 27,
    "start_time": "2022-05-01T07:09:14.124Z"
   },
   {
    "duration": 9,
    "start_time": "2022-05-01T07:09:14.160Z"
   },
   {
    "duration": 12,
    "start_time": "2022-05-01T07:09:14.170Z"
   },
   {
    "duration": 12,
    "start_time": "2022-05-01T07:09:14.185Z"
   },
   {
    "duration": 6,
    "start_time": "2022-05-01T07:09:14.198Z"
   },
   {
    "duration": 4,
    "start_time": "2022-05-01T07:09:14.205Z"
   },
   {
    "duration": 4,
    "start_time": "2022-05-01T07:09:14.211Z"
   },
   {
    "duration": 38,
    "start_time": "2022-05-01T07:09:14.217Z"
   },
   {
    "duration": 11,
    "start_time": "2022-05-01T07:09:14.256Z"
   },
   {
    "duration": 6,
    "start_time": "2022-05-01T07:09:14.268Z"
   },
   {
    "duration": 5,
    "start_time": "2022-05-01T07:09:14.275Z"
   },
   {
    "duration": 5,
    "start_time": "2022-05-01T07:09:14.281Z"
   },
   {
    "duration": 21,
    "start_time": "2022-05-01T07:09:14.287Z"
   },
   {
    "duration": 3,
    "start_time": "2022-05-01T07:09:14.309Z"
   },
   {
    "duration": 43,
    "start_time": "2022-05-01T07:09:14.314Z"
   },
   {
    "duration": 17,
    "start_time": "2022-05-01T07:09:14.361Z"
   },
   {
    "duration": 18,
    "start_time": "2022-05-01T07:09:14.380Z"
   },
   {
    "duration": 17,
    "start_time": "2022-05-01T07:09:14.399Z"
   },
   {
    "duration": 45,
    "start_time": "2022-05-01T07:09:14.418Z"
   },
   {
    "duration": 16,
    "start_time": "2022-05-01T07:09:14.465Z"
   },
   {
    "duration": 14,
    "start_time": "2022-05-01T07:09:14.483Z"
   },
   {
    "duration": 15,
    "start_time": "2022-05-01T07:09:14.501Z"
   },
   {
    "duration": 51,
    "start_time": "2022-05-01T07:09:14.518Z"
   },
   {
    "duration": 30,
    "start_time": "2022-05-01T07:09:14.571Z"
   },
   {
    "duration": 18,
    "start_time": "2022-05-01T07:09:14.603Z"
   },
   {
    "duration": 53,
    "start_time": "2022-05-01T07:09:14.623Z"
   },
   {
    "duration": 5,
    "start_time": "2022-05-01T07:09:14.678Z"
   },
   {
    "duration": 6,
    "start_time": "2022-05-01T07:09:14.684Z"
   },
   {
    "duration": 4,
    "start_time": "2022-05-01T07:09:14.691Z"
   },
   {
    "duration": 113,
    "start_time": "2022-05-01T07:09:14.696Z"
   },
   {
    "duration": 0,
    "start_time": "2022-05-01T07:09:14.810Z"
   },
   {
    "duration": 0,
    "start_time": "2022-05-01T07:09:14.811Z"
   },
   {
    "duration": 20,
    "start_time": "2022-05-01T07:13:23.422Z"
   },
   {
    "duration": 53,
    "start_time": "2022-05-01T07:35:11.380Z"
   },
   {
    "duration": 11,
    "start_time": "2022-05-01T07:35:11.435Z"
   },
   {
    "duration": 22,
    "start_time": "2022-05-01T07:35:11.449Z"
   },
   {
    "duration": 16,
    "start_time": "2022-05-01T07:35:11.473Z"
   },
   {
    "duration": 3,
    "start_time": "2022-05-01T07:35:11.491Z"
   },
   {
    "duration": 14,
    "start_time": "2022-05-01T07:35:11.495Z"
   },
   {
    "duration": 4,
    "start_time": "2022-05-01T07:35:11.511Z"
   },
   {
    "duration": 5,
    "start_time": "2022-05-01T07:35:11.517Z"
   },
   {
    "duration": 40,
    "start_time": "2022-05-01T07:35:11.524Z"
   },
   {
    "duration": 11,
    "start_time": "2022-05-01T07:35:11.567Z"
   },
   {
    "duration": 6,
    "start_time": "2022-05-01T07:35:11.579Z"
   },
   {
    "duration": 5,
    "start_time": "2022-05-01T07:35:11.587Z"
   },
   {
    "duration": 5,
    "start_time": "2022-05-01T07:35:11.593Z"
   },
   {
    "duration": 5,
    "start_time": "2022-05-01T07:35:11.599Z"
   },
   {
    "duration": 5,
    "start_time": "2022-05-01T07:35:11.605Z"
   },
   {
    "duration": 6,
    "start_time": "2022-05-01T07:35:11.612Z"
   },
   {
    "duration": 37,
    "start_time": "2022-05-01T07:35:11.619Z"
   },
   {
    "duration": 13,
    "start_time": "2022-05-01T07:35:11.658Z"
   },
   {
    "duration": 23,
    "start_time": "2022-05-01T07:35:11.672Z"
   },
   {
    "duration": 4,
    "start_time": "2022-05-01T07:35:11.697Z"
   },
   {
    "duration": 17,
    "start_time": "2022-05-01T07:35:11.703Z"
   },
   {
    "duration": 43,
    "start_time": "2022-05-01T07:35:11.722Z"
   },
   {
    "duration": 19,
    "start_time": "2022-05-01T07:35:11.767Z"
   },
   {
    "duration": 17,
    "start_time": "2022-05-01T07:35:11.788Z"
   },
   {
    "duration": 14,
    "start_time": "2022-05-01T07:35:11.807Z"
   },
   {
    "duration": 23,
    "start_time": "2022-05-01T07:35:11.848Z"
   },
   {
    "duration": 14,
    "start_time": "2022-05-01T07:35:11.872Z"
   },
   {
    "duration": 14,
    "start_time": "2022-05-01T07:35:11.889Z"
   },
   {
    "duration": 15,
    "start_time": "2022-05-01T07:35:11.905Z"
   },
   {
    "duration": 51,
    "start_time": "2022-05-01T07:35:11.921Z"
   },
   {
    "duration": 18,
    "start_time": "2022-05-01T07:35:11.974Z"
   },
   {
    "duration": 23,
    "start_time": "2022-05-01T07:35:11.994Z"
   },
   {
    "duration": 5,
    "start_time": "2022-05-01T07:35:12.018Z"
   },
   {
    "duration": 28,
    "start_time": "2022-05-01T07:35:12.025Z"
   },
   {
    "duration": 108,
    "start_time": "2022-05-01T07:35:12.054Z"
   },
   {
    "duration": 0,
    "start_time": "2022-05-01T07:35:12.163Z"
   },
   {
    "duration": 0,
    "start_time": "2022-05-01T07:35:12.164Z"
   },
   {
    "duration": 51,
    "start_time": "2022-05-01T07:35:54.969Z"
   },
   {
    "duration": 11,
    "start_time": "2022-05-01T07:35:55.022Z"
   },
   {
    "duration": 22,
    "start_time": "2022-05-01T07:35:55.034Z"
   },
   {
    "duration": 17,
    "start_time": "2022-05-01T07:35:55.059Z"
   },
   {
    "duration": 4,
    "start_time": "2022-05-01T07:35:55.077Z"
   },
   {
    "duration": 11,
    "start_time": "2022-05-01T07:35:55.082Z"
   },
   {
    "duration": 4,
    "start_time": "2022-05-01T07:35:55.094Z"
   },
   {
    "duration": 4,
    "start_time": "2022-05-01T07:35:55.100Z"
   },
   {
    "duration": 12,
    "start_time": "2022-05-01T07:35:55.106Z"
   },
   {
    "duration": 36,
    "start_time": "2022-05-01T07:35:55.121Z"
   },
   {
    "duration": 8,
    "start_time": "2022-05-01T07:35:55.159Z"
   },
   {
    "duration": 7,
    "start_time": "2022-05-01T07:35:55.168Z"
   },
   {
    "duration": 5,
    "start_time": "2022-05-01T07:35:55.177Z"
   },
   {
    "duration": 9,
    "start_time": "2022-05-01T07:35:55.183Z"
   },
   {
    "duration": 4,
    "start_time": "2022-05-01T07:35:55.194Z"
   },
   {
    "duration": 7,
    "start_time": "2022-05-01T07:35:55.200Z"
   },
   {
    "duration": 6,
    "start_time": "2022-05-01T07:35:55.208Z"
   },
   {
    "duration": 14,
    "start_time": "2022-05-01T07:35:55.247Z"
   },
   {
    "duration": 21,
    "start_time": "2022-05-01T07:35:55.263Z"
   },
   {
    "duration": 4,
    "start_time": "2022-05-01T07:35:55.286Z"
   },
   {
    "duration": 17,
    "start_time": "2022-05-01T07:35:55.292Z"
   },
   {
    "duration": 15,
    "start_time": "2022-05-01T07:35:55.310Z"
   },
   {
    "duration": 26,
    "start_time": "2022-05-01T07:35:55.347Z"
   },
   {
    "duration": 16,
    "start_time": "2022-05-01T07:35:55.375Z"
   },
   {
    "duration": 13,
    "start_time": "2022-05-01T07:35:55.392Z"
   },
   {
    "duration": 14,
    "start_time": "2022-05-01T07:35:55.407Z"
   },
   {
    "duration": 42,
    "start_time": "2022-05-01T07:35:55.423Z"
   },
   {
    "duration": 14,
    "start_time": "2022-05-01T07:35:55.468Z"
   },
   {
    "duration": 16,
    "start_time": "2022-05-01T07:35:55.484Z"
   },
   {
    "duration": 53,
    "start_time": "2022-05-01T07:35:55.502Z"
   },
   {
    "duration": 21,
    "start_time": "2022-05-01T07:35:55.557Z"
   },
   {
    "duration": 23,
    "start_time": "2022-05-01T07:35:55.580Z"
   },
   {
    "duration": 6,
    "start_time": "2022-05-01T07:35:55.605Z"
   },
   {
    "duration": 6,
    "start_time": "2022-05-01T07:35:55.613Z"
   },
   {
    "duration": 43,
    "start_time": "2022-05-01T07:35:55.620Z"
   },
   {
    "duration": 8,
    "start_time": "2022-05-01T07:35:55.664Z"
   },
   {
    "duration": 9,
    "start_time": "2022-05-01T07:35:55.673Z"
   },
   {
    "duration": 55,
    "start_time": "2022-05-01T08:07:24.669Z"
   },
   {
    "duration": 11,
    "start_time": "2022-05-01T08:07:24.726Z"
   },
   {
    "duration": 19,
    "start_time": "2022-05-01T08:07:24.739Z"
   },
   {
    "duration": 16,
    "start_time": "2022-05-01T08:07:24.761Z"
   },
   {
    "duration": 5,
    "start_time": "2022-05-01T08:07:24.779Z"
   },
   {
    "duration": 10,
    "start_time": "2022-05-01T08:07:24.786Z"
   },
   {
    "duration": 5,
    "start_time": "2022-05-01T08:07:24.798Z"
   },
   {
    "duration": 5,
    "start_time": "2022-05-01T08:07:24.804Z"
   },
   {
    "duration": 43,
    "start_time": "2022-05-01T08:07:24.810Z"
   },
   {
    "duration": 20,
    "start_time": "2022-05-01T08:07:24.855Z"
   },
   {
    "duration": 5,
    "start_time": "2022-05-01T08:07:24.876Z"
   },
   {
    "duration": 5,
    "start_time": "2022-05-01T08:07:24.883Z"
   },
   {
    "duration": 5,
    "start_time": "2022-05-01T08:07:24.889Z"
   },
   {
    "duration": 4,
    "start_time": "2022-05-01T08:07:24.897Z"
   },
   {
    "duration": 5,
    "start_time": "2022-05-01T08:07:24.902Z"
   },
   {
    "duration": 7,
    "start_time": "2022-05-01T08:07:24.908Z"
   },
   {
    "duration": 41,
    "start_time": "2022-05-01T08:07:24.916Z"
   },
   {
    "duration": 5,
    "start_time": "2022-05-01T08:07:24.959Z"
   },
   {
    "duration": 21,
    "start_time": "2022-05-01T08:07:24.966Z"
   },
   {
    "duration": 4,
    "start_time": "2022-05-01T08:07:24.989Z"
   },
   {
    "duration": 16,
    "start_time": "2022-05-01T08:07:24.995Z"
   },
   {
    "duration": 51,
    "start_time": "2022-05-01T08:07:25.013Z"
   },
   {
    "duration": 18,
    "start_time": "2022-05-01T08:07:25.066Z"
   },
   {
    "duration": 16,
    "start_time": "2022-05-01T08:07:25.085Z"
   },
   {
    "duration": 13,
    "start_time": "2022-05-01T08:07:25.103Z"
   },
   {
    "duration": 46,
    "start_time": "2022-05-01T08:07:25.118Z"
   },
   {
    "duration": 13,
    "start_time": "2022-05-01T08:07:25.165Z"
   },
   {
    "duration": 14,
    "start_time": "2022-05-01T08:07:25.180Z"
   },
   {
    "duration": 15,
    "start_time": "2022-05-01T08:07:25.196Z"
   },
   {
    "duration": 55,
    "start_time": "2022-05-01T08:07:25.212Z"
   },
   {
    "duration": 18,
    "start_time": "2022-05-01T08:07:25.269Z"
   },
   {
    "duration": 22,
    "start_time": "2022-05-01T08:07:25.289Z"
   },
   {
    "duration": 5,
    "start_time": "2022-05-01T08:07:25.313Z"
   },
   {
    "duration": 5,
    "start_time": "2022-05-01T08:07:25.319Z"
   },
   {
    "duration": 30,
    "start_time": "2022-05-01T08:07:25.325Z"
   },
   {
    "duration": 13,
    "start_time": "2022-05-01T08:07:25.357Z"
   },
   {
    "duration": 11,
    "start_time": "2022-05-01T08:07:25.371Z"
   },
   {
    "duration": 28,
    "start_time": "2022-05-01T08:07:25.384Z"
   },
   {
    "duration": 58,
    "start_time": "2022-05-01T08:07:34.902Z"
   },
   {
    "duration": 11,
    "start_time": "2022-05-01T08:07:34.962Z"
   },
   {
    "duration": 14,
    "start_time": "2022-05-01T08:07:34.974Z"
   },
   {
    "duration": 16,
    "start_time": "2022-05-01T08:07:34.989Z"
   },
   {
    "duration": 3,
    "start_time": "2022-05-01T08:07:35.007Z"
   },
   {
    "duration": 11,
    "start_time": "2022-05-01T08:07:35.011Z"
   },
   {
    "duration": 27,
    "start_time": "2022-05-01T08:07:35.024Z"
   },
   {
    "duration": 4,
    "start_time": "2022-05-01T08:07:35.053Z"
   },
   {
    "duration": 17,
    "start_time": "2022-05-01T08:07:35.059Z"
   },
   {
    "duration": 11,
    "start_time": "2022-05-01T08:07:35.080Z"
   },
   {
    "duration": 7,
    "start_time": "2022-05-01T08:07:35.092Z"
   },
   {
    "duration": 9,
    "start_time": "2022-05-01T08:07:35.100Z"
   },
   {
    "duration": 4,
    "start_time": "2022-05-01T08:07:35.111Z"
   },
   {
    "duration": 6,
    "start_time": "2022-05-01T08:07:35.116Z"
   },
   {
    "duration": 31,
    "start_time": "2022-05-01T08:07:35.123Z"
   },
   {
    "duration": 15,
    "start_time": "2022-05-01T08:07:35.156Z"
   },
   {
    "duration": 5,
    "start_time": "2022-05-01T08:07:35.172Z"
   },
   {
    "duration": 5,
    "start_time": "2022-05-01T08:07:35.179Z"
   },
   {
    "duration": 22,
    "start_time": "2022-05-01T08:07:35.185Z"
   },
   {
    "duration": 5,
    "start_time": "2022-05-01T08:07:35.208Z"
   },
   {
    "duration": 42,
    "start_time": "2022-05-01T08:07:35.214Z"
   },
   {
    "duration": 17,
    "start_time": "2022-05-01T08:07:35.258Z"
   },
   {
    "duration": 18,
    "start_time": "2022-05-01T08:07:35.276Z"
   },
   {
    "duration": 16,
    "start_time": "2022-05-01T08:07:35.295Z"
   },
   {
    "duration": 34,
    "start_time": "2022-05-01T08:07:35.313Z"
   },
   {
    "duration": 22,
    "start_time": "2022-05-01T08:07:35.349Z"
   },
   {
    "duration": 15,
    "start_time": "2022-05-01T08:07:35.373Z"
   },
   {
    "duration": 15,
    "start_time": "2022-05-01T08:07:35.391Z"
   },
   {
    "duration": 42,
    "start_time": "2022-05-01T08:07:35.408Z"
   },
   {
    "duration": 25,
    "start_time": "2022-05-01T08:07:35.452Z"
   },
   {
    "duration": 19,
    "start_time": "2022-05-01T08:07:35.478Z"
   },
   {
    "duration": 22,
    "start_time": "2022-05-01T08:07:35.499Z"
   },
   {
    "duration": 30,
    "start_time": "2022-05-01T08:07:35.523Z"
   },
   {
    "duration": 7,
    "start_time": "2022-05-01T08:07:35.555Z"
   },
   {
    "duration": 7,
    "start_time": "2022-05-01T08:07:35.564Z"
   },
   {
    "duration": 10,
    "start_time": "2022-05-01T08:07:35.572Z"
   },
   {
    "duration": 9,
    "start_time": "2022-05-01T08:07:35.583Z"
   },
   {
    "duration": 16,
    "start_time": "2022-05-01T08:07:35.593Z"
   },
   {
    "duration": 61,
    "start_time": "2022-05-01T08:08:28.718Z"
   },
   {
    "duration": 12,
    "start_time": "2022-05-01T08:08:28.781Z"
   },
   {
    "duration": 13,
    "start_time": "2022-05-01T08:08:28.795Z"
   },
   {
    "duration": 42,
    "start_time": "2022-05-01T08:08:28.810Z"
   },
   {
    "duration": 5,
    "start_time": "2022-05-01T08:08:28.855Z"
   },
   {
    "duration": 12,
    "start_time": "2022-05-01T08:08:28.861Z"
   },
   {
    "duration": 5,
    "start_time": "2022-05-01T08:08:28.874Z"
   },
   {
    "duration": 7,
    "start_time": "2022-05-01T08:08:28.880Z"
   },
   {
    "duration": 19,
    "start_time": "2022-05-01T08:08:28.889Z"
   },
   {
    "duration": 14,
    "start_time": "2022-05-01T08:08:28.910Z"
   },
   {
    "duration": 30,
    "start_time": "2022-05-01T08:08:28.926Z"
   },
   {
    "duration": 10,
    "start_time": "2022-05-01T08:08:28.957Z"
   },
   {
    "duration": 5,
    "start_time": "2022-05-01T08:08:28.969Z"
   },
   {
    "duration": 4,
    "start_time": "2022-05-01T08:08:28.977Z"
   },
   {
    "duration": 6,
    "start_time": "2022-05-01T08:08:28.982Z"
   },
   {
    "duration": 7,
    "start_time": "2022-05-01T08:08:28.989Z"
   },
   {
    "duration": 5,
    "start_time": "2022-05-01T08:08:28.997Z"
   },
   {
    "duration": 5,
    "start_time": "2022-05-01T08:08:29.003Z"
   },
   {
    "duration": 85,
    "start_time": "2022-05-01T08:08:29.009Z"
   },
   {
    "duration": 4,
    "start_time": "2022-05-01T08:08:29.096Z"
   },
   {
    "duration": 15,
    "start_time": "2022-05-01T08:08:29.101Z"
   },
   {
    "duration": 42,
    "start_time": "2022-05-01T08:08:29.117Z"
   },
   {
    "duration": 18,
    "start_time": "2022-05-01T08:08:29.161Z"
   },
   {
    "duration": 17,
    "start_time": "2022-05-01T08:08:29.181Z"
   },
   {
    "duration": 13,
    "start_time": "2022-05-01T08:08:29.199Z"
   },
   {
    "duration": 46,
    "start_time": "2022-05-01T08:08:29.214Z"
   },
   {
    "duration": 14,
    "start_time": "2022-05-01T08:08:29.262Z"
   },
   {
    "duration": 14,
    "start_time": "2022-05-01T08:08:29.277Z"
   },
   {
    "duration": 15,
    "start_time": "2022-05-01T08:08:29.293Z"
   },
   {
    "duration": 15,
    "start_time": "2022-05-01T08:08:29.310Z"
   },
   {
    "duration": 43,
    "start_time": "2022-05-01T08:08:29.327Z"
   },
   {
    "duration": 20,
    "start_time": "2022-05-01T08:08:29.371Z"
   },
   {
    "duration": 24,
    "start_time": "2022-05-01T08:08:29.392Z"
   },
   {
    "duration": 36,
    "start_time": "2022-05-01T08:08:29.418Z"
   },
   {
    "duration": 6,
    "start_time": "2022-05-01T08:08:29.457Z"
   },
   {
    "duration": 6,
    "start_time": "2022-05-01T08:08:29.464Z"
   },
   {
    "duration": 8,
    "start_time": "2022-05-01T08:08:29.471Z"
   },
   {
    "duration": 8,
    "start_time": "2022-05-01T08:08:29.480Z"
   },
   {
    "duration": 18,
    "start_time": "2022-05-01T08:08:29.489Z"
   },
   {
    "duration": 39,
    "start_time": "2022-05-01T08:53:53.869Z"
   },
   {
    "duration": 14,
    "start_time": "2022-05-01T08:54:44.676Z"
   },
   {
    "duration": 14,
    "start_time": "2022-05-01T08:55:08.180Z"
   },
   {
    "duration": 16,
    "start_time": "2022-05-01T08:55:14.827Z"
   },
   {
    "duration": 54,
    "start_time": "2022-05-01T14:09:39.628Z"
   },
   {
    "duration": 12,
    "start_time": "2022-05-01T14:09:39.683Z"
   },
   {
    "duration": 13,
    "start_time": "2022-05-01T14:09:39.696Z"
   },
   {
    "duration": 36,
    "start_time": "2022-05-01T14:09:39.711Z"
   },
   {
    "duration": 4,
    "start_time": "2022-05-01T14:09:39.749Z"
   },
   {
    "duration": 11,
    "start_time": "2022-05-01T14:09:39.754Z"
   },
   {
    "duration": 4,
    "start_time": "2022-05-01T14:09:39.767Z"
   },
   {
    "duration": 4,
    "start_time": "2022-05-01T14:09:39.772Z"
   },
   {
    "duration": 16,
    "start_time": "2022-05-01T14:09:39.777Z"
   },
   {
    "duration": 12,
    "start_time": "2022-05-01T14:09:39.795Z"
   },
   {
    "duration": 5,
    "start_time": "2022-05-01T14:09:39.808Z"
   },
   {
    "duration": 36,
    "start_time": "2022-05-01T14:09:39.814Z"
   },
   {
    "duration": 4,
    "start_time": "2022-05-01T14:09:39.852Z"
   },
   {
    "duration": 5,
    "start_time": "2022-05-01T14:09:39.857Z"
   },
   {
    "duration": 5,
    "start_time": "2022-05-01T14:09:39.864Z"
   },
   {
    "duration": 6,
    "start_time": "2022-05-01T14:09:39.870Z"
   },
   {
    "duration": 4,
    "start_time": "2022-05-01T14:09:39.878Z"
   },
   {
    "duration": 4,
    "start_time": "2022-05-01T14:09:39.883Z"
   },
   {
    "duration": 19,
    "start_time": "2022-05-01T14:09:39.889Z"
   },
   {
    "duration": 41,
    "start_time": "2022-05-01T14:09:39.910Z"
   },
   {
    "duration": 18,
    "start_time": "2022-05-01T14:09:39.952Z"
   },
   {
    "duration": 16,
    "start_time": "2022-05-01T14:09:39.971Z"
   },
   {
    "duration": 17,
    "start_time": "2022-05-01T14:09:39.989Z"
   },
   {
    "duration": 40,
    "start_time": "2022-05-01T14:09:40.008Z"
   },
   {
    "duration": 13,
    "start_time": "2022-05-01T14:09:40.050Z"
   },
   {
    "duration": 14,
    "start_time": "2022-05-01T14:09:40.064Z"
   },
   {
    "duration": 14,
    "start_time": "2022-05-01T14:09:40.080Z"
   },
   {
    "duration": 12,
    "start_time": "2022-05-01T14:09:40.097Z"
   },
   {
    "duration": 41,
    "start_time": "2022-05-01T14:09:40.111Z"
   },
   {
    "duration": 16,
    "start_time": "2022-05-01T14:09:40.153Z"
   },
   {
    "duration": 17,
    "start_time": "2022-05-01T14:09:40.171Z"
   },
   {
    "duration": 21,
    "start_time": "2022-05-01T14:09:40.189Z"
   },
   {
    "duration": 42,
    "start_time": "2022-05-01T14:09:40.211Z"
   },
   {
    "duration": 6,
    "start_time": "2022-05-01T14:09:40.255Z"
   },
   {
    "duration": 6,
    "start_time": "2022-05-01T14:09:40.262Z"
   },
   {
    "duration": 6,
    "start_time": "2022-05-01T14:09:40.270Z"
   },
   {
    "duration": 10,
    "start_time": "2022-05-01T14:09:40.277Z"
   },
   {
    "duration": 11,
    "start_time": "2022-05-01T14:09:40.289Z"
   },
   {
    "duration": 47,
    "start_time": "2022-05-01T14:09:40.302Z"
   },
   {
    "duration": 19,
    "start_time": "2022-05-01T14:09:40.350Z"
   },
   {
    "duration": 134,
    "start_time": "2022-05-01T14:09:40.371Z"
   },
   {
    "duration": 51,
    "start_time": "2022-05-01T14:09:47.529Z"
   },
   {
    "duration": 12,
    "start_time": "2022-05-01T14:09:47.581Z"
   },
   {
    "duration": 13,
    "start_time": "2022-05-01T14:09:47.594Z"
   },
   {
    "duration": 38,
    "start_time": "2022-05-01T14:09:47.609Z"
   },
   {
    "duration": 4,
    "start_time": "2022-05-01T14:09:47.649Z"
   },
   {
    "duration": 11,
    "start_time": "2022-05-01T14:09:47.654Z"
   },
   {
    "duration": 4,
    "start_time": "2022-05-01T14:09:47.666Z"
   },
   {
    "duration": 6,
    "start_time": "2022-05-01T14:09:47.672Z"
   },
   {
    "duration": 12,
    "start_time": "2022-05-01T14:09:47.679Z"
   },
   {
    "duration": 12,
    "start_time": "2022-05-01T14:09:47.694Z"
   },
   {
    "duration": 40,
    "start_time": "2022-05-01T14:09:47.708Z"
   },
   {
    "duration": 5,
    "start_time": "2022-05-01T14:09:47.750Z"
   },
   {
    "duration": 5,
    "start_time": "2022-05-01T14:09:47.757Z"
   },
   {
    "duration": 5,
    "start_time": "2022-05-01T14:09:47.763Z"
   },
   {
    "duration": 5,
    "start_time": "2022-05-01T14:09:47.770Z"
   },
   {
    "duration": 6,
    "start_time": "2022-05-01T14:09:47.776Z"
   },
   {
    "duration": 5,
    "start_time": "2022-05-01T14:09:47.783Z"
   },
   {
    "duration": 5,
    "start_time": "2022-05-01T14:09:47.789Z"
   },
   {
    "duration": 68,
    "start_time": "2022-05-01T14:09:47.795Z"
   },
   {
    "duration": 3,
    "start_time": "2022-05-01T14:09:47.865Z"
   },
   {
    "duration": 14,
    "start_time": "2022-05-01T14:09:47.870Z"
   },
   {
    "duration": 15,
    "start_time": "2022-05-01T14:09:47.886Z"
   },
   {
    "duration": 18,
    "start_time": "2022-05-01T14:09:47.902Z"
   },
   {
    "duration": 40,
    "start_time": "2022-05-01T14:09:47.921Z"
   },
   {
    "duration": 12,
    "start_time": "2022-05-01T14:09:47.963Z"
   },
   {
    "duration": 15,
    "start_time": "2022-05-01T14:09:47.977Z"
   },
   {
    "duration": 15,
    "start_time": "2022-05-01T14:09:47.994Z"
   },
   {
    "duration": 42,
    "start_time": "2022-05-01T14:09:48.013Z"
   },
   {
    "duration": 16,
    "start_time": "2022-05-01T14:09:48.057Z"
   },
   {
    "duration": 16,
    "start_time": "2022-05-01T14:09:48.075Z"
   },
   {
    "duration": 20,
    "start_time": "2022-05-01T14:09:48.093Z"
   },
   {
    "duration": 51,
    "start_time": "2022-05-01T14:09:48.114Z"
   },
   {
    "duration": 23,
    "start_time": "2022-05-01T14:09:48.167Z"
   },
   {
    "duration": 6,
    "start_time": "2022-05-01T14:09:48.192Z"
   },
   {
    "duration": 6,
    "start_time": "2022-05-01T14:09:48.200Z"
   },
   {
    "duration": 4,
    "start_time": "2022-05-01T14:09:48.208Z"
   },
   {
    "duration": 35,
    "start_time": "2022-05-01T14:09:48.214Z"
   },
   {
    "duration": 8,
    "start_time": "2022-05-01T14:09:48.250Z"
   },
   {
    "duration": 15,
    "start_time": "2022-05-01T14:09:48.259Z"
   },
   {
    "duration": 15,
    "start_time": "2022-05-01T14:09:48.275Z"
   },
   {
    "duration": 151,
    "start_time": "2022-05-01T14:09:48.292Z"
   },
   {
    "duration": 64,
    "start_time": "2022-05-01T14:18:35.225Z"
   },
   {
    "duration": 12,
    "start_time": "2022-05-01T14:18:35.290Z"
   },
   {
    "duration": 13,
    "start_time": "2022-05-01T14:18:35.303Z"
   },
   {
    "duration": 42,
    "start_time": "2022-05-01T14:18:35.318Z"
   },
   {
    "duration": 4,
    "start_time": "2022-05-01T14:18:35.362Z"
   },
   {
    "duration": 10,
    "start_time": "2022-05-01T14:18:35.368Z"
   },
   {
    "duration": 3,
    "start_time": "2022-05-01T14:18:35.380Z"
   },
   {
    "duration": 5,
    "start_time": "2022-05-01T14:18:35.385Z"
   },
   {
    "duration": 15,
    "start_time": "2022-05-01T14:18:35.391Z"
   },
   {
    "duration": 16,
    "start_time": "2022-05-01T14:18:35.407Z"
   },
   {
    "duration": 9,
    "start_time": "2022-05-01T14:18:35.449Z"
   },
   {
    "duration": 9,
    "start_time": "2022-05-01T14:18:35.460Z"
   },
   {
    "duration": 4,
    "start_time": "2022-05-01T14:18:35.470Z"
   },
   {
    "duration": 5,
    "start_time": "2022-05-01T14:18:35.477Z"
   },
   {
    "duration": 5,
    "start_time": "2022-05-01T14:18:35.483Z"
   },
   {
    "duration": 6,
    "start_time": "2022-05-01T14:18:35.490Z"
   },
   {
    "duration": 5,
    "start_time": "2022-05-01T14:18:35.497Z"
   },
   {
    "duration": 50,
    "start_time": "2022-05-01T14:18:35.504Z"
   },
   {
    "duration": 23,
    "start_time": "2022-05-01T14:18:35.557Z"
   },
   {
    "duration": 3,
    "start_time": "2022-05-01T14:18:35.582Z"
   },
   {
    "duration": 16,
    "start_time": "2022-05-01T14:18:35.586Z"
   },
   {
    "duration": 15,
    "start_time": "2022-05-01T14:18:35.604Z"
   },
   {
    "duration": 26,
    "start_time": "2022-05-01T14:18:35.647Z"
   },
   {
    "duration": 17,
    "start_time": "2022-05-01T14:18:35.675Z"
   },
   {
    "duration": 13,
    "start_time": "2022-05-01T14:18:35.693Z"
   },
   {
    "duration": 13,
    "start_time": "2022-05-01T14:18:35.708Z"
   },
   {
    "duration": 21,
    "start_time": "2022-05-01T14:18:35.747Z"
   },
   {
    "duration": 14,
    "start_time": "2022-05-01T14:18:35.770Z"
   },
   {
    "duration": 15,
    "start_time": "2022-05-01T14:18:35.785Z"
   },
   {
    "duration": 16,
    "start_time": "2022-05-01T14:18:35.802Z"
   },
   {
    "duration": 53,
    "start_time": "2022-05-01T14:18:35.820Z"
   },
   {
    "duration": 19,
    "start_time": "2022-05-01T14:18:35.875Z"
   },
   {
    "duration": 22,
    "start_time": "2022-05-01T14:18:35.896Z"
   },
   {
    "duration": 30,
    "start_time": "2022-05-01T14:18:35.919Z"
   },
   {
    "duration": 9,
    "start_time": "2022-05-01T14:18:35.951Z"
   },
   {
    "duration": 8,
    "start_time": "2022-05-01T14:18:35.963Z"
   },
   {
    "duration": 7,
    "start_time": "2022-05-01T14:18:35.973Z"
   },
   {
    "duration": 7,
    "start_time": "2022-05-01T14:18:35.982Z"
   },
   {
    "duration": 17,
    "start_time": "2022-05-01T14:18:35.990Z"
   },
   {
    "duration": 58,
    "start_time": "2022-05-01T14:18:36.009Z"
   },
   {
    "duration": 143,
    "start_time": "2022-05-01T14:18:36.070Z"
   },
   {
    "duration": 56,
    "start_time": "2022-05-01T15:37:16.289Z"
   },
   {
    "duration": 11,
    "start_time": "2022-05-01T15:37:16.347Z"
   },
   {
    "duration": 13,
    "start_time": "2022-05-01T15:37:16.360Z"
   },
   {
    "duration": 15,
    "start_time": "2022-05-01T15:37:16.375Z"
   },
   {
    "duration": 4,
    "start_time": "2022-05-01T15:37:16.392Z"
   },
   {
    "duration": 10,
    "start_time": "2022-05-01T15:37:16.397Z"
   },
   {
    "duration": 4,
    "start_time": "2022-05-01T15:37:16.409Z"
   },
   {
    "duration": 34,
    "start_time": "2022-05-01T15:37:16.414Z"
   },
   {
    "duration": 11,
    "start_time": "2022-05-01T15:37:16.450Z"
   },
   {
    "duration": 11,
    "start_time": "2022-05-01T15:37:16.464Z"
   },
   {
    "duration": 6,
    "start_time": "2022-05-01T15:37:16.476Z"
   },
   {
    "duration": 7,
    "start_time": "2022-05-01T15:37:16.483Z"
   },
   {
    "duration": 4,
    "start_time": "2022-05-01T15:37:16.492Z"
   },
   {
    "duration": 5,
    "start_time": "2022-05-01T15:37:16.497Z"
   },
   {
    "duration": 6,
    "start_time": "2022-05-01T15:37:16.503Z"
   },
   {
    "duration": 42,
    "start_time": "2022-05-01T15:37:16.510Z"
   },
   {
    "duration": 5,
    "start_time": "2022-05-01T15:37:16.553Z"
   },
   {
    "duration": 4,
    "start_time": "2022-05-01T15:37:16.559Z"
   },
   {
    "duration": 20,
    "start_time": "2022-05-01T15:37:16.565Z"
   },
   {
    "duration": 4,
    "start_time": "2022-05-01T15:37:16.586Z"
   },
   {
    "duration": 15,
    "start_time": "2022-05-01T15:37:16.591Z"
   },
   {
    "duration": 49,
    "start_time": "2022-05-01T15:37:16.608Z"
   },
   {
    "duration": 18,
    "start_time": "2022-05-01T15:37:16.659Z"
   },
   {
    "duration": 17,
    "start_time": "2022-05-01T15:37:16.678Z"
   },
   {
    "duration": 13,
    "start_time": "2022-05-01T15:37:16.697Z"
   },
   {
    "duration": 43,
    "start_time": "2022-05-01T15:37:16.712Z"
   },
   {
    "duration": 15,
    "start_time": "2022-05-01T15:37:16.757Z"
   },
   {
    "duration": 14,
    "start_time": "2022-05-01T15:37:16.776Z"
   },
   {
    "duration": 15,
    "start_time": "2022-05-01T15:37:16.792Z"
   },
   {
    "duration": 49,
    "start_time": "2022-05-01T15:37:16.809Z"
   },
   {
    "duration": 18,
    "start_time": "2022-05-01T15:37:16.861Z"
   },
   {
    "duration": 20,
    "start_time": "2022-05-01T15:37:16.881Z"
   },
   {
    "duration": 49,
    "start_time": "2022-05-01T15:37:16.902Z"
   },
   {
    "duration": 5,
    "start_time": "2022-05-01T15:37:16.953Z"
   },
   {
    "duration": 6,
    "start_time": "2022-05-01T15:37:16.960Z"
   },
   {
    "duration": 5,
    "start_time": "2022-05-01T15:37:16.968Z"
   },
   {
    "duration": 9,
    "start_time": "2022-05-01T15:37:16.974Z"
   },
   {
    "duration": 7,
    "start_time": "2022-05-01T15:37:16.985Z"
   },
   {
    "duration": 15,
    "start_time": "2022-05-01T15:37:16.993Z"
   },
   {
    "duration": 134,
    "start_time": "2022-05-01T15:37:17.048Z"
   },
   {
    "duration": 139,
    "start_time": "2022-05-01T15:37:17.184Z"
   },
   {
    "duration": 428,
    "start_time": "2022-05-02T10:20:10.061Z"
   },
   {
    "duration": 19,
    "start_time": "2022-05-02T10:20:10.491Z"
   },
   {
    "duration": 17,
    "start_time": "2022-05-02T10:20:10.512Z"
   },
   {
    "duration": 16,
    "start_time": "2022-05-02T10:20:10.531Z"
   },
   {
    "duration": 4,
    "start_time": "2022-05-02T10:20:10.548Z"
   },
   {
    "duration": 12,
    "start_time": "2022-05-02T10:20:10.554Z"
   },
   {
    "duration": 7,
    "start_time": "2022-05-02T10:20:10.569Z"
   },
   {
    "duration": 16,
    "start_time": "2022-05-02T10:20:10.577Z"
   },
   {
    "duration": 40,
    "start_time": "2022-05-02T10:20:10.595Z"
   },
   {
    "duration": 8,
    "start_time": "2022-05-02T10:20:10.639Z"
   },
   {
    "duration": 5,
    "start_time": "2022-05-02T10:20:10.648Z"
   },
   {
    "duration": 7,
    "start_time": "2022-05-02T10:20:10.654Z"
   },
   {
    "duration": 5,
    "start_time": "2022-05-02T10:20:10.662Z"
   },
   {
    "duration": 8,
    "start_time": "2022-05-02T10:20:10.669Z"
   },
   {
    "duration": 7,
    "start_time": "2022-05-02T10:20:10.678Z"
   },
   {
    "duration": 38,
    "start_time": "2022-05-02T10:20:10.687Z"
   },
   {
    "duration": 5,
    "start_time": "2022-05-02T10:20:10.726Z"
   },
   {
    "duration": 23,
    "start_time": "2022-05-02T10:20:10.732Z"
   },
   {
    "duration": 4,
    "start_time": "2022-05-02T10:20:10.757Z"
   },
   {
    "duration": 15,
    "start_time": "2022-05-02T10:20:10.762Z"
   },
   {
    "duration": 16,
    "start_time": "2022-05-02T10:20:10.778Z"
   },
   {
    "duration": 20,
    "start_time": "2022-05-02T10:20:10.824Z"
   },
   {
    "duration": 16,
    "start_time": "2022-05-02T10:20:10.845Z"
   },
   {
    "duration": 13,
    "start_time": "2022-05-02T10:20:10.862Z"
   },
   {
    "duration": 13,
    "start_time": "2022-05-02T10:20:10.876Z"
   },
   {
    "duration": 43,
    "start_time": "2022-05-02T10:20:10.890Z"
   },
   {
    "duration": 24,
    "start_time": "2022-05-02T10:20:10.935Z"
   },
   {
    "duration": 14,
    "start_time": "2022-05-02T10:20:10.962Z"
   },
   {
    "duration": 39,
    "start_time": "2022-05-02T10:20:10.978Z"
   },
   {
    "duration": 32,
    "start_time": "2022-05-02T10:20:11.019Z"
   },
   {
    "duration": 47,
    "start_time": "2022-05-02T10:20:11.053Z"
   },
   {
    "duration": 33,
    "start_time": "2022-05-02T10:20:11.102Z"
   },
   {
    "duration": 14,
    "start_time": "2022-05-02T10:20:11.137Z"
   },
   {
    "duration": 27,
    "start_time": "2022-05-02T10:20:11.152Z"
   },
   {
    "duration": 24,
    "start_time": "2022-05-02T10:20:11.180Z"
   },
   {
    "duration": 35,
    "start_time": "2022-05-02T10:20:11.206Z"
   },
   {
    "duration": 29,
    "start_time": "2022-05-02T10:20:11.242Z"
   },
   {
    "duration": 31,
    "start_time": "2022-05-02T10:20:11.272Z"
   },
   {
    "duration": 156,
    "start_time": "2022-05-02T10:20:11.305Z"
   },
   {
    "duration": 144,
    "start_time": "2022-05-02T10:20:11.462Z"
   },
   {
    "duration": 5,
    "start_time": "2022-05-02T10:57:13.577Z"
   },
   {
    "duration": 5,
    "start_time": "2022-05-02T10:57:56.269Z"
   },
   {
    "duration": 104,
    "start_time": "2022-05-02T10:58:07.928Z"
   },
   {
    "duration": 16,
    "start_time": "2022-05-02T10:58:08.035Z"
   },
   {
    "duration": 45,
    "start_time": "2022-05-02T10:58:08.053Z"
   },
   {
    "duration": 26,
    "start_time": "2022-05-02T10:58:08.101Z"
   },
   {
    "duration": 10,
    "start_time": "2022-05-02T10:58:08.129Z"
   },
   {
    "duration": 19,
    "start_time": "2022-05-02T10:58:08.140Z"
   },
   {
    "duration": 10,
    "start_time": "2022-05-02T10:58:08.160Z"
   },
   {
    "duration": 22,
    "start_time": "2022-05-02T10:58:08.171Z"
   },
   {
    "duration": 19,
    "start_time": "2022-05-02T10:58:08.195Z"
   },
   {
    "duration": 23,
    "start_time": "2022-05-02T10:58:08.217Z"
   },
   {
    "duration": 10,
    "start_time": "2022-05-02T10:58:08.242Z"
   },
   {
    "duration": 10,
    "start_time": "2022-05-02T10:58:08.253Z"
   },
   {
    "duration": 17,
    "start_time": "2022-05-02T10:58:08.264Z"
   },
   {
    "duration": 7,
    "start_time": "2022-05-02T10:58:08.283Z"
   },
   {
    "duration": 10,
    "start_time": "2022-05-02T10:58:08.292Z"
   },
   {
    "duration": 9,
    "start_time": "2022-05-02T10:58:08.304Z"
   },
   {
    "duration": 12,
    "start_time": "2022-05-02T10:58:08.314Z"
   },
   {
    "duration": 29,
    "start_time": "2022-05-02T10:58:08.327Z"
   },
   {
    "duration": 3,
    "start_time": "2022-05-02T10:58:08.358Z"
   },
   {
    "duration": 18,
    "start_time": "2022-05-02T10:58:08.363Z"
   },
   {
    "duration": 15,
    "start_time": "2022-05-02T10:58:08.383Z"
   },
   {
    "duration": 35,
    "start_time": "2022-05-02T10:58:08.400Z"
   },
   {
    "duration": 17,
    "start_time": "2022-05-02T10:58:08.436Z"
   },
   {
    "duration": 14,
    "start_time": "2022-05-02T10:58:08.454Z"
   },
   {
    "duration": 16,
    "start_time": "2022-05-02T10:58:08.469Z"
   },
   {
    "duration": 39,
    "start_time": "2022-05-02T10:58:08.487Z"
   },
   {
    "duration": 13,
    "start_time": "2022-05-02T10:58:08.528Z"
   },
   {
    "duration": 15,
    "start_time": "2022-05-02T10:58:08.546Z"
   },
   {
    "duration": 36,
    "start_time": "2022-05-02T10:58:08.563Z"
   },
   {
    "duration": 31,
    "start_time": "2022-05-02T10:58:08.601Z"
   },
   {
    "duration": 27,
    "start_time": "2022-05-02T10:58:08.634Z"
   },
   {
    "duration": 23,
    "start_time": "2022-05-02T10:58:08.663Z"
   },
   {
    "duration": 7,
    "start_time": "2022-05-02T10:58:08.688Z"
   },
   {
    "duration": 28,
    "start_time": "2022-05-02T10:58:08.696Z"
   },
   {
    "duration": 8,
    "start_time": "2022-05-02T10:58:08.726Z"
   },
   {
    "duration": 36,
    "start_time": "2022-05-02T10:58:08.736Z"
   },
   {
    "duration": 11,
    "start_time": "2022-05-02T10:58:08.773Z"
   },
   {
    "duration": 39,
    "start_time": "2022-05-02T10:58:08.786Z"
   },
   {
    "duration": 148,
    "start_time": "2022-05-02T10:58:08.827Z"
   },
   {
    "duration": 150,
    "start_time": "2022-05-02T10:58:08.976Z"
   },
   {
    "duration": 6,
    "start_time": "2022-05-02T10:59:48.536Z"
   },
   {
    "duration": 6,
    "start_time": "2022-05-02T11:00:19.314Z"
   },
   {
    "duration": 86,
    "start_time": "2022-05-02T11:01:02.205Z"
   },
   {
    "duration": 11,
    "start_time": "2022-05-02T11:01:02.293Z"
   },
   {
    "duration": 18,
    "start_time": "2022-05-02T11:01:02.306Z"
   },
   {
    "duration": 13,
    "start_time": "2022-05-02T11:01:02.327Z"
   },
   {
    "duration": 4,
    "start_time": "2022-05-02T11:01:02.342Z"
   },
   {
    "duration": 10,
    "start_time": "2022-05-02T11:01:02.348Z"
   },
   {
    "duration": 5,
    "start_time": "2022-05-02T11:01:02.360Z"
   },
   {
    "duration": 13,
    "start_time": "2022-05-02T11:01:02.367Z"
   },
   {
    "duration": 52,
    "start_time": "2022-05-02T11:01:02.382Z"
   },
   {
    "duration": 11,
    "start_time": "2022-05-02T11:01:02.435Z"
   },
   {
    "duration": 7,
    "start_time": "2022-05-02T11:01:02.448Z"
   },
   {
    "duration": 7,
    "start_time": "2022-05-02T11:01:02.456Z"
   },
   {
    "duration": 6,
    "start_time": "2022-05-02T11:01:02.464Z"
   },
   {
    "duration": 7,
    "start_time": "2022-05-02T11:01:02.473Z"
   },
   {
    "duration": 10,
    "start_time": "2022-05-02T11:01:02.481Z"
   },
   {
    "duration": 32,
    "start_time": "2022-05-02T11:01:02.493Z"
   },
   {
    "duration": 6,
    "start_time": "2022-05-02T11:01:02.527Z"
   },
   {
    "duration": 24,
    "start_time": "2022-05-02T11:01:02.535Z"
   },
   {
    "duration": 7,
    "start_time": "2022-05-02T11:01:02.561Z"
   },
   {
    "duration": 22,
    "start_time": "2022-05-02T11:01:02.569Z"
   },
   {
    "duration": 52,
    "start_time": "2022-05-02T11:01:02.593Z"
   },
   {
    "duration": 26,
    "start_time": "2022-05-02T11:01:02.647Z"
   },
   {
    "duration": 24,
    "start_time": "2022-05-02T11:01:02.675Z"
   },
   {
    "duration": 39,
    "start_time": "2022-05-02T11:01:02.701Z"
   },
   {
    "duration": 22,
    "start_time": "2022-05-02T11:01:02.742Z"
   },
   {
    "duration": 22,
    "start_time": "2022-05-02T11:01:02.766Z"
   },
   {
    "duration": 45,
    "start_time": "2022-05-02T11:01:02.789Z"
   },
   {
    "duration": 21,
    "start_time": "2022-05-02T11:01:02.836Z"
   },
   {
    "duration": 19,
    "start_time": "2022-05-02T11:01:02.859Z"
   },
   {
    "duration": 20,
    "start_time": "2022-05-02T11:01:02.879Z"
   },
   {
    "duration": 20,
    "start_time": "2022-05-02T11:01:02.924Z"
   },
   {
    "duration": 23,
    "start_time": "2022-05-02T11:01:02.946Z"
   },
   {
    "duration": 6,
    "start_time": "2022-05-02T11:01:02.970Z"
   },
   {
    "duration": 8,
    "start_time": "2022-05-02T11:01:02.977Z"
   },
   {
    "duration": 39,
    "start_time": "2022-05-02T11:01:02.986Z"
   },
   {
    "duration": 15,
    "start_time": "2022-05-02T11:01:03.027Z"
   },
   {
    "duration": 9,
    "start_time": "2022-05-02T11:01:03.043Z"
   },
   {
    "duration": 20,
    "start_time": "2022-05-02T11:01:03.054Z"
   },
   {
    "duration": 164,
    "start_time": "2022-05-02T11:01:03.076Z"
   },
   {
    "duration": 162,
    "start_time": "2022-05-02T11:01:03.241Z"
   },
   {
    "duration": 52,
    "start_time": "2022-05-02T11:33:18.280Z"
   },
   {
    "duration": 13,
    "start_time": "2022-05-02T11:33:18.334Z"
   },
   {
    "duration": 16,
    "start_time": "2022-05-02T11:33:18.349Z"
   },
   {
    "duration": 15,
    "start_time": "2022-05-02T11:33:18.366Z"
   },
   {
    "duration": 4,
    "start_time": "2022-05-02T11:33:18.383Z"
   },
   {
    "duration": 11,
    "start_time": "2022-05-02T11:33:18.389Z"
   },
   {
    "duration": 7,
    "start_time": "2022-05-02T11:33:18.424Z"
   },
   {
    "duration": 14,
    "start_time": "2022-05-02T11:33:18.432Z"
   },
   {
    "duration": 13,
    "start_time": "2022-05-02T11:33:18.448Z"
   },
   {
    "duration": 6,
    "start_time": "2022-05-02T11:33:18.463Z"
   },
   {
    "duration": 6,
    "start_time": "2022-05-02T11:33:18.471Z"
   },
   {
    "duration": 5,
    "start_time": "2022-05-02T11:33:18.479Z"
   },
   {
    "duration": 40,
    "start_time": "2022-05-02T11:33:18.485Z"
   },
   {
    "duration": 5,
    "start_time": "2022-05-02T11:33:18.529Z"
   },
   {
    "duration": 8,
    "start_time": "2022-05-02T11:33:18.536Z"
   },
   {
    "duration": 5,
    "start_time": "2022-05-02T11:33:18.545Z"
   },
   {
    "duration": 7,
    "start_time": "2022-05-02T11:33:18.552Z"
   },
   {
    "duration": 24,
    "start_time": "2022-05-02T11:33:18.560Z"
   },
   {
    "duration": 40,
    "start_time": "2022-05-02T11:33:18.586Z"
   },
   {
    "duration": 21,
    "start_time": "2022-05-02T11:33:18.628Z"
   },
   {
    "duration": 20,
    "start_time": "2022-05-02T11:33:18.651Z"
   },
   {
    "duration": 18,
    "start_time": "2022-05-02T11:33:18.673Z"
   },
   {
    "duration": 41,
    "start_time": "2022-05-02T11:33:18.692Z"
   },
   {
    "duration": 13,
    "start_time": "2022-05-02T11:33:18.735Z"
   },
   {
    "duration": 13,
    "start_time": "2022-05-02T11:33:18.749Z"
   },
   {
    "duration": 18,
    "start_time": "2022-05-02T11:33:18.764Z"
   },
   {
    "duration": 20,
    "start_time": "2022-05-02T11:33:18.784Z"
   },
   {
    "duration": 27,
    "start_time": "2022-05-02T11:33:18.806Z"
   },
   {
    "duration": 14,
    "start_time": "2022-05-02T11:33:18.835Z"
   },
   {
    "duration": 17,
    "start_time": "2022-05-02T11:33:18.851Z"
   },
   {
    "duration": 24,
    "start_time": "2022-05-02T11:33:18.870Z"
   },
   {
    "duration": 42,
    "start_time": "2022-05-02T11:33:18.896Z"
   },
   {
    "duration": 15,
    "start_time": "2022-05-02T11:33:18.939Z"
   },
   {
    "duration": 14,
    "start_time": "2022-05-02T11:33:18.956Z"
   },
   {
    "duration": 10,
    "start_time": "2022-05-02T11:33:18.972Z"
   },
   {
    "duration": 35,
    "start_time": "2022-05-02T11:33:18.984Z"
   },
   {
    "duration": 24,
    "start_time": "2022-05-02T11:33:19.020Z"
   },
   {
    "duration": 37,
    "start_time": "2022-05-02T11:33:19.045Z"
   },
   {
    "duration": 159,
    "start_time": "2022-05-02T11:33:19.084Z"
   },
   {
    "duration": 158,
    "start_time": "2022-05-02T11:33:19.245Z"
   },
   {
    "duration": 15,
    "start_time": "2022-05-02T11:54:31.448Z"
   },
   {
    "duration": 50,
    "start_time": "2022-05-02T11:54:39.854Z"
   },
   {
    "duration": 12,
    "start_time": "2022-05-02T11:54:39.906Z"
   },
   {
    "duration": 16,
    "start_time": "2022-05-02T11:54:39.919Z"
   },
   {
    "duration": 14,
    "start_time": "2022-05-02T11:54:39.936Z"
   },
   {
    "duration": 4,
    "start_time": "2022-05-02T11:54:39.951Z"
   },
   {
    "duration": 9,
    "start_time": "2022-05-02T11:54:39.956Z"
   },
   {
    "duration": 6,
    "start_time": "2022-05-02T11:54:39.966Z"
   },
   {
    "duration": 15,
    "start_time": "2022-05-02T11:54:39.973Z"
   },
   {
    "duration": 38,
    "start_time": "2022-05-02T11:54:39.989Z"
   },
   {
    "duration": 7,
    "start_time": "2022-05-02T11:54:40.029Z"
   },
   {
    "duration": 7,
    "start_time": "2022-05-02T11:54:40.037Z"
   },
   {
    "duration": 5,
    "start_time": "2022-05-02T11:54:40.045Z"
   },
   {
    "duration": 6,
    "start_time": "2022-05-02T11:54:40.052Z"
   },
   {
    "duration": 6,
    "start_time": "2022-05-02T11:54:40.059Z"
   },
   {
    "duration": 5,
    "start_time": "2022-05-02T11:54:40.066Z"
   },
   {
    "duration": 4,
    "start_time": "2022-05-02T11:54:40.073Z"
   },
   {
    "duration": 46,
    "start_time": "2022-05-02T11:54:40.078Z"
   },
   {
    "duration": 16,
    "start_time": "2022-05-02T11:54:40.126Z"
   },
   {
    "duration": 4,
    "start_time": "2022-05-02T11:54:40.143Z"
   },
   {
    "duration": 45,
    "start_time": "2022-05-02T11:54:40.148Z"
   },
   {
    "duration": 43,
    "start_time": "2022-05-02T11:54:40.195Z"
   },
   {
    "duration": 18,
    "start_time": "2022-05-02T11:54:40.240Z"
   },
   {
    "duration": 15,
    "start_time": "2022-05-02T11:54:40.260Z"
   },
   {
    "duration": 12,
    "start_time": "2022-05-02T11:54:40.276Z"
   },
   {
    "duration": 38,
    "start_time": "2022-05-02T11:54:40.290Z"
   },
   {
    "duration": 13,
    "start_time": "2022-05-02T11:54:40.330Z"
   },
   {
    "duration": 13,
    "start_time": "2022-05-02T11:54:40.344Z"
   },
   {
    "duration": 14,
    "start_time": "2022-05-02T11:54:40.360Z"
   },
   {
    "duration": 53,
    "start_time": "2022-05-02T11:54:40.375Z"
   },
   {
    "duration": 18,
    "start_time": "2022-05-02T11:54:40.430Z"
   },
   {
    "duration": 20,
    "start_time": "2022-05-02T11:54:40.450Z"
   },
   {
    "duration": 22,
    "start_time": "2022-05-02T11:54:40.471Z"
   },
   {
    "duration": 29,
    "start_time": "2022-05-02T11:54:40.495Z"
   },
   {
    "duration": 5,
    "start_time": "2022-05-02T11:54:40.526Z"
   },
   {
    "duration": 7,
    "start_time": "2022-05-02T11:54:40.533Z"
   },
   {
    "duration": 14,
    "start_time": "2022-05-02T11:54:40.542Z"
   },
   {
    "duration": 10,
    "start_time": "2022-05-02T11:54:40.558Z"
   },
   {
    "duration": 23,
    "start_time": "2022-05-02T11:54:40.570Z"
   },
   {
    "duration": 239,
    "start_time": "2022-05-02T11:54:40.595Z"
   },
   {
    "duration": 223,
    "start_time": "2022-05-02T11:54:40.836Z"
   },
   {
    "duration": 20,
    "start_time": "2022-05-02T12:10:33.523Z"
   },
   {
    "duration": 63,
    "start_time": "2022-05-02T12:10:40.798Z"
   },
   {
    "duration": 16,
    "start_time": "2022-05-02T12:10:40.864Z"
   },
   {
    "duration": 17,
    "start_time": "2022-05-02T12:10:40.882Z"
   },
   {
    "duration": 37,
    "start_time": "2022-05-02T12:10:40.901Z"
   },
   {
    "duration": 4,
    "start_time": "2022-05-02T12:10:40.940Z"
   },
   {
    "duration": 12,
    "start_time": "2022-05-02T12:10:40.946Z"
   },
   {
    "duration": 9,
    "start_time": "2022-05-02T12:10:40.959Z"
   },
   {
    "duration": 12,
    "start_time": "2022-05-02T12:10:40.970Z"
   },
   {
    "duration": 43,
    "start_time": "2022-05-02T12:10:40.984Z"
   },
   {
    "duration": 6,
    "start_time": "2022-05-02T12:10:41.029Z"
   },
   {
    "duration": 10,
    "start_time": "2022-05-02T12:10:41.037Z"
   },
   {
    "duration": 13,
    "start_time": "2022-05-02T12:10:41.048Z"
   },
   {
    "duration": 7,
    "start_time": "2022-05-02T12:10:41.063Z"
   },
   {
    "duration": 5,
    "start_time": "2022-05-02T12:10:41.072Z"
   },
   {
    "duration": 8,
    "start_time": "2022-05-02T12:10:41.079Z"
   },
   {
    "duration": 5,
    "start_time": "2022-05-02T12:10:41.089Z"
   },
   {
    "duration": 31,
    "start_time": "2022-05-02T12:10:41.096Z"
   },
   {
    "duration": 24,
    "start_time": "2022-05-02T12:10:41.129Z"
   },
   {
    "duration": 5,
    "start_time": "2022-05-02T12:10:41.154Z"
   },
   {
    "duration": 8,
    "start_time": "2022-05-02T12:10:41.160Z"
   },
   {
    "duration": 19,
    "start_time": "2022-05-02T12:10:41.169Z"
   },
   {
    "duration": 51,
    "start_time": "2022-05-02T12:10:41.190Z"
   },
   {
    "duration": 26,
    "start_time": "2022-05-02T12:10:41.243Z"
   },
   {
    "duration": 23,
    "start_time": "2022-05-02T12:10:41.271Z"
   },
   {
    "duration": 36,
    "start_time": "2022-05-02T12:10:41.296Z"
   },
   {
    "duration": 21,
    "start_time": "2022-05-02T12:10:41.334Z"
   },
   {
    "duration": 14,
    "start_time": "2022-05-02T12:10:41.356Z"
   },
   {
    "duration": 12,
    "start_time": "2022-05-02T12:10:41.374Z"
   },
   {
    "duration": 43,
    "start_time": "2022-05-02T12:10:41.388Z"
   },
   {
    "duration": 18,
    "start_time": "2022-05-02T12:10:41.433Z"
   },
   {
    "duration": 30,
    "start_time": "2022-05-02T12:10:41.453Z"
   },
   {
    "duration": 19,
    "start_time": "2022-05-02T12:10:41.485Z"
   },
   {
    "duration": 43,
    "start_time": "2022-05-02T12:10:41.506Z"
   },
   {
    "duration": 6,
    "start_time": "2022-05-02T12:10:41.551Z"
   },
   {
    "duration": 9,
    "start_time": "2022-05-02T12:10:41.559Z"
   },
   {
    "duration": 8,
    "start_time": "2022-05-02T12:10:41.569Z"
   },
   {
    "duration": 10,
    "start_time": "2022-05-02T12:10:41.578Z"
   },
   {
    "duration": 35,
    "start_time": "2022-05-02T12:10:41.590Z"
   },
   {
    "duration": 21,
    "start_time": "2022-05-02T12:10:41.627Z"
   },
   {
    "duration": 171,
    "start_time": "2022-05-02T12:10:41.649Z"
   },
   {
    "duration": 159,
    "start_time": "2022-05-02T12:10:41.821Z"
   },
   {
    "duration": 5,
    "start_time": "2022-05-02T12:14:33.987Z"
   },
   {
    "duration": 51,
    "start_time": "2022-05-02T12:15:03.970Z"
   },
   {
    "duration": 12,
    "start_time": "2022-05-02T12:15:04.023Z"
   },
   {
    "duration": 14,
    "start_time": "2022-05-02T12:15:04.036Z"
   },
   {
    "duration": 17,
    "start_time": "2022-05-02T12:15:04.052Z"
   },
   {
    "duration": 4,
    "start_time": "2022-05-02T12:15:04.070Z"
   },
   {
    "duration": 15,
    "start_time": "2022-05-02T12:15:04.076Z"
   },
   {
    "duration": 35,
    "start_time": "2022-05-02T12:15:04.093Z"
   },
   {
    "duration": 12,
    "start_time": "2022-05-02T12:15:04.130Z"
   },
   {
    "duration": 21,
    "start_time": "2022-05-02T12:15:04.144Z"
   },
   {
    "duration": 7,
    "start_time": "2022-05-02T12:15:04.169Z"
   },
   {
    "duration": 8,
    "start_time": "2022-05-02T12:15:04.177Z"
   },
   {
    "duration": 6,
    "start_time": "2022-05-02T12:15:04.187Z"
   },
   {
    "duration": 29,
    "start_time": "2022-05-02T12:15:04.195Z"
   },
   {
    "duration": 8,
    "start_time": "2022-05-02T12:15:04.226Z"
   },
   {
    "duration": 7,
    "start_time": "2022-05-02T12:15:04.236Z"
   },
   {
    "duration": 5,
    "start_time": "2022-05-02T12:15:04.245Z"
   },
   {
    "duration": 8,
    "start_time": "2022-05-02T12:15:04.252Z"
   },
   {
    "duration": 22,
    "start_time": "2022-05-02T12:15:04.261Z"
   },
   {
    "duration": 4,
    "start_time": "2022-05-02T12:15:04.285Z"
   },
   {
    "duration": 6,
    "start_time": "2022-05-02T12:15:04.324Z"
   },
   {
    "duration": 19,
    "start_time": "2022-05-02T12:15:04.331Z"
   },
   {
    "duration": 17,
    "start_time": "2022-05-02T12:15:04.351Z"
   },
   {
    "duration": 19,
    "start_time": "2022-05-02T12:15:04.370Z"
   },
   {
    "duration": 45,
    "start_time": "2022-05-02T12:15:04.391Z"
   },
   {
    "duration": 12,
    "start_time": "2022-05-02T12:15:04.438Z"
   },
   {
    "duration": 12,
    "start_time": "2022-05-02T12:15:04.452Z"
   },
   {
    "duration": 20,
    "start_time": "2022-05-02T12:15:04.466Z"
   },
   {
    "duration": 44,
    "start_time": "2022-05-02T12:15:04.491Z"
   },
   {
    "duration": 13,
    "start_time": "2022-05-02T12:15:04.537Z"
   },
   {
    "duration": 15,
    "start_time": "2022-05-02T12:15:04.552Z"
   },
   {
    "duration": 19,
    "start_time": "2022-05-02T12:15:04.569Z"
   },
   {
    "duration": 48,
    "start_time": "2022-05-02T12:15:04.589Z"
   },
   {
    "duration": 35,
    "start_time": "2022-05-02T12:15:04.639Z"
   },
   {
    "duration": 6,
    "start_time": "2022-05-02T12:15:04.676Z"
   },
   {
    "duration": 10,
    "start_time": "2022-05-02T12:15:04.684Z"
   },
   {
    "duration": 30,
    "start_time": "2022-05-02T12:15:04.695Z"
   },
   {
    "duration": 10,
    "start_time": "2022-05-02T12:15:04.726Z"
   },
   {
    "duration": 9,
    "start_time": "2022-05-02T12:15:04.738Z"
   },
   {
    "duration": 18,
    "start_time": "2022-05-02T12:15:04.748Z"
   },
   {
    "duration": 155,
    "start_time": "2022-05-02T12:15:04.768Z"
   },
   {
    "duration": 144,
    "start_time": "2022-05-02T12:15:04.925Z"
   },
   {
    "duration": 55,
    "start_time": "2022-05-02T12:26:09.863Z"
   },
   {
    "duration": 12,
    "start_time": "2022-05-02T12:26:09.920Z"
   },
   {
    "duration": 14,
    "start_time": "2022-05-02T12:26:09.933Z"
   },
   {
    "duration": 24,
    "start_time": "2022-05-02T12:26:09.948Z"
   },
   {
    "duration": 4,
    "start_time": "2022-05-02T12:26:09.973Z"
   },
   {
    "duration": 12,
    "start_time": "2022-05-02T12:26:09.978Z"
   },
   {
    "duration": 5,
    "start_time": "2022-05-02T12:26:09.991Z"
   },
   {
    "duration": 34,
    "start_time": "2022-05-02T12:26:09.998Z"
   },
   {
    "duration": 13,
    "start_time": "2022-05-02T12:26:10.034Z"
   },
   {
    "duration": 5,
    "start_time": "2022-05-02T12:26:10.050Z"
   },
   {
    "duration": 6,
    "start_time": "2022-05-02T12:26:10.056Z"
   },
   {
    "duration": 6,
    "start_time": "2022-05-02T12:26:10.064Z"
   },
   {
    "duration": 12,
    "start_time": "2022-05-02T12:26:10.072Z"
   },
   {
    "duration": 7,
    "start_time": "2022-05-02T12:26:10.085Z"
   },
   {
    "duration": 38,
    "start_time": "2022-05-02T12:26:10.093Z"
   },
   {
    "duration": 10,
    "start_time": "2022-05-02T12:26:10.132Z"
   },
   {
    "duration": 8,
    "start_time": "2022-05-02T12:26:10.143Z"
   },
   {
    "duration": 15,
    "start_time": "2022-05-02T12:26:10.153Z"
   },
   {
    "duration": 4,
    "start_time": "2022-05-02T12:26:10.170Z"
   },
   {
    "duration": 6,
    "start_time": "2022-05-02T12:26:10.175Z"
   },
   {
    "duration": 14,
    "start_time": "2022-05-02T12:26:10.182Z"
   },
   {
    "duration": 41,
    "start_time": "2022-05-02T12:26:10.197Z"
   },
   {
    "duration": 18,
    "start_time": "2022-05-02T12:26:10.239Z"
   },
   {
    "duration": 16,
    "start_time": "2022-05-02T12:26:10.258Z"
   },
   {
    "duration": 11,
    "start_time": "2022-05-02T12:26:10.276Z"
   },
   {
    "duration": 39,
    "start_time": "2022-05-02T12:26:10.289Z"
   },
   {
    "duration": 12,
    "start_time": "2022-05-02T12:26:10.330Z"
   },
   {
    "duration": 13,
    "start_time": "2022-05-02T12:26:10.345Z"
   },
   {
    "duration": 14,
    "start_time": "2022-05-02T12:26:10.359Z"
   },
   {
    "duration": 14,
    "start_time": "2022-05-02T12:26:10.375Z"
   },
   {
    "duration": 47,
    "start_time": "2022-05-02T12:26:10.391Z"
   },
   {
    "duration": 18,
    "start_time": "2022-05-02T12:26:10.439Z"
   },
   {
    "duration": 20,
    "start_time": "2022-05-02T12:26:10.458Z"
   },
   {
    "duration": 4,
    "start_time": "2022-05-02T12:26:10.480Z"
   },
   {
    "duration": 5,
    "start_time": "2022-05-02T12:26:10.486Z"
   },
   {
    "duration": 35,
    "start_time": "2022-05-02T12:26:10.492Z"
   },
   {
    "duration": 13,
    "start_time": "2022-05-02T12:26:10.529Z"
   },
   {
    "duration": 10,
    "start_time": "2022-05-02T12:26:10.544Z"
   },
   {
    "duration": 23,
    "start_time": "2022-05-02T12:26:10.556Z"
   },
   {
    "duration": 220,
    "start_time": "2022-05-02T12:26:10.581Z"
   },
   {
    "duration": 219,
    "start_time": "2022-05-02T12:26:10.803Z"
   },
   {
    "duration": 82,
    "start_time": "2022-05-02T12:35:20.478Z"
   },
   {
    "duration": 14,
    "start_time": "2022-05-02T12:35:20.563Z"
   },
   {
    "duration": 17,
    "start_time": "2022-05-02T12:35:20.579Z"
   },
   {
    "duration": 35,
    "start_time": "2022-05-02T12:35:20.598Z"
   },
   {
    "duration": 4,
    "start_time": "2022-05-02T12:35:20.636Z"
   },
   {
    "duration": 13,
    "start_time": "2022-05-02T12:35:20.641Z"
   },
   {
    "duration": 6,
    "start_time": "2022-05-02T12:35:20.655Z"
   },
   {
    "duration": 18,
    "start_time": "2022-05-02T12:35:20.662Z"
   },
   {
    "duration": 43,
    "start_time": "2022-05-02T12:35:20.681Z"
   },
   {
    "duration": 6,
    "start_time": "2022-05-02T12:35:20.725Z"
   },
   {
    "duration": 14,
    "start_time": "2022-05-02T12:35:20.732Z"
   },
   {
    "duration": 6,
    "start_time": "2022-05-02T12:35:20.748Z"
   },
   {
    "duration": 9,
    "start_time": "2022-05-02T12:35:20.756Z"
   },
   {
    "duration": 12,
    "start_time": "2022-05-02T12:35:20.768Z"
   },
   {
    "duration": 8,
    "start_time": "2022-05-02T12:35:20.782Z"
   },
   {
    "duration": 6,
    "start_time": "2022-05-02T12:35:20.791Z"
   },
   {
    "duration": 28,
    "start_time": "2022-05-02T12:35:20.799Z"
   },
   {
    "duration": 22,
    "start_time": "2022-05-02T12:35:20.828Z"
   },
   {
    "duration": 5,
    "start_time": "2022-05-02T12:35:20.851Z"
   },
   {
    "duration": 15,
    "start_time": "2022-05-02T12:35:20.857Z"
   },
   {
    "duration": 17,
    "start_time": "2022-05-02T12:35:20.874Z"
   },
   {
    "duration": 41,
    "start_time": "2022-05-02T12:35:20.892Z"
   },
   {
    "duration": 19,
    "start_time": "2022-05-02T12:35:20.935Z"
   },
   {
    "duration": 17,
    "start_time": "2022-05-02T12:35:20.956Z"
   },
   {
    "duration": 14,
    "start_time": "2022-05-02T12:35:20.974Z"
   },
   {
    "duration": 42,
    "start_time": "2022-05-02T12:35:20.989Z"
   },
   {
    "duration": 13,
    "start_time": "2022-05-02T12:35:21.033Z"
   },
   {
    "duration": 27,
    "start_time": "2022-05-02T12:35:21.047Z"
   },
   {
    "duration": 23,
    "start_time": "2022-05-02T12:35:21.075Z"
   },
   {
    "duration": 25,
    "start_time": "2022-05-02T12:35:21.099Z"
   },
   {
    "duration": 17,
    "start_time": "2022-05-02T12:35:21.126Z"
   },
   {
    "duration": 25,
    "start_time": "2022-05-02T12:35:21.144Z"
   },
   {
    "duration": 24,
    "start_time": "2022-05-02T12:35:21.170Z"
   },
   {
    "duration": 29,
    "start_time": "2022-05-02T12:35:21.196Z"
   },
   {
    "duration": 12,
    "start_time": "2022-05-02T12:35:21.227Z"
   },
   {
    "duration": 10,
    "start_time": "2022-05-02T12:35:21.241Z"
   },
   {
    "duration": 13,
    "start_time": "2022-05-02T12:35:21.253Z"
   },
   {
    "duration": 161,
    "start_time": "2022-05-02T12:35:21.268Z"
   },
   {
    "duration": 152,
    "start_time": "2022-05-02T12:35:21.431Z"
   },
   {
    "duration": 57,
    "start_time": "2022-05-02T12:38:33.780Z"
   },
   {
    "duration": 16,
    "start_time": "2022-05-02T12:38:33.839Z"
   },
   {
    "duration": 16,
    "start_time": "2022-05-02T12:38:33.856Z"
   },
   {
    "duration": 15,
    "start_time": "2022-05-02T12:38:33.874Z"
   },
   {
    "duration": 3,
    "start_time": "2022-05-02T12:38:33.890Z"
   },
   {
    "duration": 39,
    "start_time": "2022-05-02T12:38:33.895Z"
   },
   {
    "duration": 11,
    "start_time": "2022-05-02T12:38:33.936Z"
   },
   {
    "duration": 14,
    "start_time": "2022-05-02T12:38:33.949Z"
   },
   {
    "duration": 14,
    "start_time": "2022-05-02T12:38:33.964Z"
   },
   {
    "duration": 5,
    "start_time": "2022-05-02T12:38:33.981Z"
   },
   {
    "duration": 4,
    "start_time": "2022-05-02T12:38:33.988Z"
   },
   {
    "duration": 31,
    "start_time": "2022-05-02T12:38:33.994Z"
   },
   {
    "duration": 8,
    "start_time": "2022-05-02T12:38:34.027Z"
   },
   {
    "duration": 6,
    "start_time": "2022-05-02T12:38:34.037Z"
   },
   {
    "duration": 7,
    "start_time": "2022-05-02T12:38:34.046Z"
   },
   {
    "duration": 7,
    "start_time": "2022-05-02T12:38:34.055Z"
   },
   {
    "duration": 6,
    "start_time": "2022-05-02T12:38:34.064Z"
   },
   {
    "duration": 59,
    "start_time": "2022-05-02T12:38:34.072Z"
   },
   {
    "duration": 7,
    "start_time": "2022-05-02T12:38:34.133Z"
   },
   {
    "duration": 7,
    "start_time": "2022-05-02T12:38:34.142Z"
   },
   {
    "duration": 15,
    "start_time": "2022-05-02T12:38:34.151Z"
   },
   {
    "duration": 17,
    "start_time": "2022-05-02T12:38:34.168Z"
   },
   {
    "duration": 55,
    "start_time": "2022-05-02T12:38:34.187Z"
   },
   {
    "duration": 19,
    "start_time": "2022-05-02T12:38:34.244Z"
   },
   {
    "duration": 14,
    "start_time": "2022-05-02T12:38:34.265Z"
   },
   {
    "duration": 43,
    "start_time": "2022-05-02T12:38:34.281Z"
   },
   {
    "duration": 15,
    "start_time": "2022-05-02T12:38:34.326Z"
   },
   {
    "duration": 14,
    "start_time": "2022-05-02T12:38:34.344Z"
   },
   {
    "duration": 15,
    "start_time": "2022-05-02T12:38:34.360Z"
   },
   {
    "duration": 16,
    "start_time": "2022-05-02T12:38:34.376Z"
   },
   {
    "duration": 21,
    "start_time": "2022-05-02T12:38:34.423Z"
   },
   {
    "duration": 23,
    "start_time": "2022-05-02T12:38:34.446Z"
   },
   {
    "duration": 22,
    "start_time": "2022-05-02T12:38:34.470Z"
   },
   {
    "duration": 7,
    "start_time": "2022-05-02T12:38:34.494Z"
   },
   {
    "duration": 8,
    "start_time": "2022-05-02T12:38:34.523Z"
   },
   {
    "duration": 12,
    "start_time": "2022-05-02T12:38:34.533Z"
   },
   {
    "duration": 18,
    "start_time": "2022-05-02T12:38:34.547Z"
   },
   {
    "duration": 242,
    "start_time": "2022-05-02T12:38:34.567Z"
   },
   {
    "duration": 150,
    "start_time": "2022-05-02T12:38:34.812Z"
   },
   {
    "duration": 4,
    "start_time": "2022-05-02T13:05:48.049Z"
   },
   {
    "duration": 5,
    "start_time": "2022-05-02T13:11:15.838Z"
   },
   {
    "duration": 6,
    "start_time": "2022-05-02T13:12:11.663Z"
   },
   {
    "duration": 52,
    "start_time": "2022-05-02T13:12:18.513Z"
   },
   {
    "duration": 12,
    "start_time": "2022-05-02T13:12:18.567Z"
   },
   {
    "duration": 13,
    "start_time": "2022-05-02T13:12:18.580Z"
   },
   {
    "duration": 30,
    "start_time": "2022-05-02T13:12:18.595Z"
   },
   {
    "duration": 4,
    "start_time": "2022-05-02T13:12:18.626Z"
   },
   {
    "duration": 11,
    "start_time": "2022-05-02T13:12:18.631Z"
   },
   {
    "duration": 5,
    "start_time": "2022-05-02T13:12:18.644Z"
   },
   {
    "duration": 12,
    "start_time": "2022-05-02T13:12:18.651Z"
   },
   {
    "duration": 18,
    "start_time": "2022-05-02T13:12:18.665Z"
   },
   {
    "duration": 40,
    "start_time": "2022-05-02T13:12:18.686Z"
   },
   {
    "duration": 10,
    "start_time": "2022-05-02T13:12:18.727Z"
   },
   {
    "duration": 5,
    "start_time": "2022-05-02T13:12:18.739Z"
   },
   {
    "duration": 11,
    "start_time": "2022-05-02T13:12:18.745Z"
   },
   {
    "duration": 7,
    "start_time": "2022-05-02T13:12:18.757Z"
   },
   {
    "duration": 6,
    "start_time": "2022-05-02T13:12:18.766Z"
   },
   {
    "duration": 5,
    "start_time": "2022-05-02T13:12:18.774Z"
   },
   {
    "duration": 6,
    "start_time": "2022-05-02T13:12:18.780Z"
   },
   {
    "duration": 45,
    "start_time": "2022-05-02T13:12:18.788Z"
   },
   {
    "duration": 5,
    "start_time": "2022-05-02T13:12:18.835Z"
   },
   {
    "duration": 8,
    "start_time": "2022-05-02T13:12:18.841Z"
   },
   {
    "duration": 16,
    "start_time": "2022-05-02T13:12:18.850Z"
   },
   {
    "duration": 17,
    "start_time": "2022-05-02T13:12:18.868Z"
   },
   {
    "duration": 52,
    "start_time": "2022-05-02T13:12:18.887Z"
   },
   {
    "duration": 18,
    "start_time": "2022-05-02T13:12:18.941Z"
   },
   {
    "duration": 14,
    "start_time": "2022-05-02T13:12:18.961Z"
   },
   {
    "duration": 14,
    "start_time": "2022-05-02T13:12:18.977Z"
   },
   {
    "duration": 43,
    "start_time": "2022-05-02T13:12:18.993Z"
   },
   {
    "duration": 16,
    "start_time": "2022-05-02T13:12:19.039Z"
   },
   {
    "duration": 13,
    "start_time": "2022-05-02T13:12:19.057Z"
   },
   {
    "duration": 15,
    "start_time": "2022-05-02T13:12:19.071Z"
   },
   {
    "duration": 44,
    "start_time": "2022-05-02T13:12:19.088Z"
   },
   {
    "duration": 18,
    "start_time": "2022-05-02T13:12:19.134Z"
   },
   {
    "duration": 24,
    "start_time": "2022-05-02T13:12:19.154Z"
   },
   {
    "duration": 5,
    "start_time": "2022-05-02T13:12:19.180Z"
   },
   {
    "duration": 8,
    "start_time": "2022-05-02T13:12:19.187Z"
   },
   {
    "duration": 28,
    "start_time": "2022-05-02T13:12:19.197Z"
   },
   {
    "duration": 13,
    "start_time": "2022-05-02T13:12:19.227Z"
   },
   {
    "duration": 157,
    "start_time": "2022-05-02T13:12:19.241Z"
   },
   {
    "duration": 147,
    "start_time": "2022-05-02T13:12:19.399Z"
   },
   {
    "duration": 57,
    "start_time": "2022-05-02T13:14:39.855Z"
   },
   {
    "duration": 14,
    "start_time": "2022-05-02T13:14:39.914Z"
   },
   {
    "duration": 14,
    "start_time": "2022-05-02T13:14:39.930Z"
   },
   {
    "duration": 14,
    "start_time": "2022-05-02T13:14:39.947Z"
   },
   {
    "duration": 4,
    "start_time": "2022-05-02T13:14:39.963Z"
   },
   {
    "duration": 12,
    "start_time": "2022-05-02T13:14:39.968Z"
   },
   {
    "duration": 7,
    "start_time": "2022-05-02T13:14:39.981Z"
   },
   {
    "duration": 13,
    "start_time": "2022-05-02T13:14:40.024Z"
   },
   {
    "duration": 13,
    "start_time": "2022-05-02T13:14:40.039Z"
   },
   {
    "duration": 5,
    "start_time": "2022-05-02T13:14:40.057Z"
   },
   {
    "duration": 6,
    "start_time": "2022-05-02T13:14:40.064Z"
   },
   {
    "duration": 10,
    "start_time": "2022-05-02T13:14:40.072Z"
   },
   {
    "duration": 11,
    "start_time": "2022-05-02T13:14:40.083Z"
   },
   {
    "duration": 29,
    "start_time": "2022-05-02T13:14:40.096Z"
   },
   {
    "duration": 5,
    "start_time": "2022-05-02T13:14:40.127Z"
   },
   {
    "duration": 11,
    "start_time": "2022-05-02T13:14:40.134Z"
   },
   {
    "duration": 4,
    "start_time": "2022-05-02T13:14:40.147Z"
   },
   {
    "duration": 16,
    "start_time": "2022-05-02T13:14:40.153Z"
   },
   {
    "duration": 3,
    "start_time": "2022-05-02T13:14:40.171Z"
   },
   {
    "duration": 6,
    "start_time": "2022-05-02T13:14:40.176Z"
   },
   {
    "duration": 41,
    "start_time": "2022-05-02T13:14:40.183Z"
   },
   {
    "duration": 15,
    "start_time": "2022-05-02T13:14:40.226Z"
   },
   {
    "duration": 18,
    "start_time": "2022-05-02T13:14:40.243Z"
   },
   {
    "duration": 16,
    "start_time": "2022-05-02T13:14:40.263Z"
   },
   {
    "duration": 13,
    "start_time": "2022-05-02T13:14:40.280Z"
   },
   {
    "duration": 40,
    "start_time": "2022-05-02T13:14:40.294Z"
   },
   {
    "duration": 14,
    "start_time": "2022-05-02T13:14:40.335Z"
   },
   {
    "duration": 13,
    "start_time": "2022-05-02T13:14:40.352Z"
   },
   {
    "duration": 13,
    "start_time": "2022-05-02T13:14:40.366Z"
   },
   {
    "duration": 44,
    "start_time": "2022-05-02T13:14:40.380Z"
   },
   {
    "duration": 18,
    "start_time": "2022-05-02T13:14:40.426Z"
   },
   {
    "duration": 20,
    "start_time": "2022-05-02T13:14:40.446Z"
   },
   {
    "duration": 21,
    "start_time": "2022-05-02T13:14:40.467Z"
   },
   {
    "duration": 6,
    "start_time": "2022-05-02T13:14:40.490Z"
   },
   {
    "duration": 33,
    "start_time": "2022-05-02T13:14:40.497Z"
   },
   {
    "duration": 10,
    "start_time": "2022-05-02T13:14:40.531Z"
   },
   {
    "duration": 18,
    "start_time": "2022-05-02T13:14:40.542Z"
   },
   {
    "duration": 149,
    "start_time": "2022-05-02T13:14:40.561Z"
   },
   {
    "duration": 149,
    "start_time": "2022-05-02T13:14:40.712Z"
   },
   {
    "duration": 23,
    "start_time": "2022-05-02T13:29:10.421Z"
   },
   {
    "duration": 13,
    "start_time": "2022-05-02T13:31:57.486Z"
   },
   {
    "duration": 13,
    "start_time": "2022-05-02T13:34:14.928Z"
   },
   {
    "duration": 15,
    "start_time": "2022-05-02T13:35:39.843Z"
   },
   {
    "duration": 15,
    "start_time": "2022-05-02T13:36:14.096Z"
   },
   {
    "duration": 94,
    "start_time": "2022-05-02T13:47:46.983Z"
   },
   {
    "duration": 12,
    "start_time": "2022-05-02T13:47:47.079Z"
   },
   {
    "duration": 21,
    "start_time": "2022-05-02T13:47:47.092Z"
   },
   {
    "duration": 17,
    "start_time": "2022-05-02T13:47:47.115Z"
   },
   {
    "duration": 4,
    "start_time": "2022-05-02T13:47:47.134Z"
   },
   {
    "duration": 11,
    "start_time": "2022-05-02T13:47:47.140Z"
   },
   {
    "duration": 6,
    "start_time": "2022-05-02T13:47:47.153Z"
   },
   {
    "duration": 14,
    "start_time": "2022-05-02T13:47:47.160Z"
   },
   {
    "duration": 14,
    "start_time": "2022-05-02T13:47:47.175Z"
   },
   {
    "duration": 33,
    "start_time": "2022-05-02T13:47:47.191Z"
   },
   {
    "duration": 6,
    "start_time": "2022-05-02T13:47:47.226Z"
   },
   {
    "duration": 5,
    "start_time": "2022-05-02T13:47:47.233Z"
   },
   {
    "duration": 8,
    "start_time": "2022-05-02T13:47:47.239Z"
   },
   {
    "duration": 7,
    "start_time": "2022-05-02T13:47:47.248Z"
   },
   {
    "duration": 7,
    "start_time": "2022-05-02T13:47:47.257Z"
   },
   {
    "duration": 7,
    "start_time": "2022-05-02T13:47:47.266Z"
   },
   {
    "duration": 7,
    "start_time": "2022-05-02T13:47:47.275Z"
   },
   {
    "duration": 61,
    "start_time": "2022-05-02T13:47:47.284Z"
   },
   {
    "duration": 4,
    "start_time": "2022-05-02T13:47:47.346Z"
   },
   {
    "duration": 7,
    "start_time": "2022-05-02T13:47:47.352Z"
   },
   {
    "duration": 15,
    "start_time": "2022-05-02T13:47:47.361Z"
   },
   {
    "duration": 16,
    "start_time": "2022-05-02T13:47:47.377Z"
   },
   {
    "duration": 49,
    "start_time": "2022-05-02T13:47:47.395Z"
   },
   {
    "duration": 21,
    "start_time": "2022-05-02T13:47:47.446Z"
   },
   {
    "duration": 13,
    "start_time": "2022-05-02T13:47:47.469Z"
   },
   {
    "duration": 12,
    "start_time": "2022-05-02T13:47:47.483Z"
   },
   {
    "duration": 13,
    "start_time": "2022-05-02T13:47:47.523Z"
   },
   {
    "duration": 20,
    "start_time": "2022-05-02T13:47:47.539Z"
   },
   {
    "duration": 16,
    "start_time": "2022-05-02T13:47:47.561Z"
   },
   {
    "duration": 17,
    "start_time": "2022-05-02T13:47:47.579Z"
   },
   {
    "duration": 18,
    "start_time": "2022-05-02T13:47:47.623Z"
   },
   {
    "duration": 20,
    "start_time": "2022-05-02T13:47:47.643Z"
   },
   {
    "duration": 21,
    "start_time": "2022-05-02T13:47:47.665Z"
   },
   {
    "duration": 5,
    "start_time": "2022-05-02T13:47:47.688Z"
   },
   {
    "duration": 32,
    "start_time": "2022-05-02T13:47:47.694Z"
   },
   {
    "duration": 7,
    "start_time": "2022-05-02T13:47:47.727Z"
   },
   {
    "duration": 12,
    "start_time": "2022-05-02T13:47:47.736Z"
   },
   {
    "duration": 164,
    "start_time": "2022-05-02T13:47:47.750Z"
   },
   {
    "duration": 213,
    "start_time": "2022-05-02T13:47:47.917Z"
   },
   {
    "duration": 19,
    "start_time": "2022-05-02T13:47:48.132Z"
   },
   {
    "duration": 15,
    "start_time": "2022-05-02T13:47:48.152Z"
   },
   {
    "duration": 12,
    "start_time": "2022-05-02T13:47:48.169Z"
   },
   {
    "duration": 42,
    "start_time": "2022-05-02T13:47:48.182Z"
   },
   {
    "duration": 85,
    "start_time": "2022-05-02T13:50:57.064Z"
   },
   {
    "duration": 13,
    "start_time": "2022-05-02T13:50:57.152Z"
   },
   {
    "duration": 13,
    "start_time": "2022-05-02T13:50:57.166Z"
   },
   {
    "duration": 15,
    "start_time": "2022-05-02T13:50:57.180Z"
   },
   {
    "duration": 4,
    "start_time": "2022-05-02T13:50:57.196Z"
   },
   {
    "duration": 28,
    "start_time": "2022-05-02T13:50:57.201Z"
   },
   {
    "duration": 5,
    "start_time": "2022-05-02T13:50:57.231Z"
   },
   {
    "duration": 13,
    "start_time": "2022-05-02T13:50:57.238Z"
   },
   {
    "duration": 15,
    "start_time": "2022-05-02T13:50:57.253Z"
   },
   {
    "duration": 6,
    "start_time": "2022-05-02T13:50:57.270Z"
   },
   {
    "duration": 4,
    "start_time": "2022-05-02T13:50:57.278Z"
   },
   {
    "duration": 6,
    "start_time": "2022-05-02T13:50:57.283Z"
   },
   {
    "duration": 34,
    "start_time": "2022-05-02T13:50:57.290Z"
   },
   {
    "duration": 4,
    "start_time": "2022-05-02T13:50:57.326Z"
   },
   {
    "duration": 6,
    "start_time": "2022-05-02T13:50:57.332Z"
   },
   {
    "duration": 7,
    "start_time": "2022-05-02T13:50:57.340Z"
   },
   {
    "duration": 9,
    "start_time": "2022-05-02T13:50:57.349Z"
   },
   {
    "duration": 19,
    "start_time": "2022-05-02T13:50:57.359Z"
   },
   {
    "duration": 4,
    "start_time": "2022-05-02T13:50:57.379Z"
   },
   {
    "duration": 7,
    "start_time": "2022-05-02T13:50:57.384Z"
   },
   {
    "duration": 42,
    "start_time": "2022-05-02T13:50:57.392Z"
   },
   {
    "duration": 16,
    "start_time": "2022-05-02T13:50:57.436Z"
   },
   {
    "duration": 19,
    "start_time": "2022-05-02T13:50:57.453Z"
   },
   {
    "duration": 16,
    "start_time": "2022-05-02T13:50:57.473Z"
   },
   {
    "duration": 38,
    "start_time": "2022-05-02T13:50:57.490Z"
   },
   {
    "duration": 14,
    "start_time": "2022-05-02T13:50:57.530Z"
   },
   {
    "duration": 16,
    "start_time": "2022-05-02T13:50:57.546Z"
   },
   {
    "duration": 14,
    "start_time": "2022-05-02T13:50:57.566Z"
   },
   {
    "duration": 43,
    "start_time": "2022-05-02T13:50:57.581Z"
   },
   {
    "duration": 18,
    "start_time": "2022-05-02T13:50:57.627Z"
   },
   {
    "duration": 21,
    "start_time": "2022-05-02T13:50:57.647Z"
   },
   {
    "duration": 22,
    "start_time": "2022-05-02T13:50:57.669Z"
   },
   {
    "duration": 48,
    "start_time": "2022-05-02T13:50:57.692Z"
   },
   {
    "duration": 6,
    "start_time": "2022-05-02T13:50:57.742Z"
   },
   {
    "duration": 10,
    "start_time": "2022-05-02T13:50:57.750Z"
   },
   {
    "duration": 10,
    "start_time": "2022-05-02T13:50:57.762Z"
   },
   {
    "duration": 13,
    "start_time": "2022-05-02T13:50:57.773Z"
   },
   {
    "duration": 167,
    "start_time": "2022-05-02T13:50:57.788Z"
   },
   {
    "duration": 147,
    "start_time": "2022-05-02T13:50:57.957Z"
   },
   {
    "duration": 22,
    "start_time": "2022-05-02T13:50:58.106Z"
   },
   {
    "duration": 7,
    "start_time": "2022-05-02T13:50:58.130Z"
   },
   {
    "duration": 14,
    "start_time": "2022-05-02T13:50:58.139Z"
   },
   {
    "duration": 15,
    "start_time": "2022-05-02T13:50:58.155Z"
   },
   {
    "duration": 13,
    "start_time": "2022-05-02T13:50:58.172Z"
   },
   {
    "duration": 26,
    "start_time": "2022-05-02T14:09:52.450Z"
   },
   {
    "duration": 87,
    "start_time": "2022-05-02T14:09:54.963Z"
   },
   {
    "duration": 12,
    "start_time": "2022-05-02T14:09:55.052Z"
   },
   {
    "duration": 15,
    "start_time": "2022-05-02T14:09:55.066Z"
   },
   {
    "duration": 17,
    "start_time": "2022-05-02T14:09:55.083Z"
   },
   {
    "duration": 4,
    "start_time": "2022-05-02T14:09:55.102Z"
   },
   {
    "duration": 20,
    "start_time": "2022-05-02T14:09:55.107Z"
   },
   {
    "duration": 6,
    "start_time": "2022-05-02T14:09:55.128Z"
   },
   {
    "duration": 11,
    "start_time": "2022-05-02T14:09:55.136Z"
   },
   {
    "duration": 14,
    "start_time": "2022-05-02T14:09:55.149Z"
   },
   {
    "duration": 6,
    "start_time": "2022-05-02T14:09:55.166Z"
   },
   {
    "duration": 5,
    "start_time": "2022-05-02T14:09:55.174Z"
   },
   {
    "duration": 5,
    "start_time": "2022-05-02T14:09:55.181Z"
   },
   {
    "duration": 38,
    "start_time": "2022-05-02T14:09:55.187Z"
   },
   {
    "duration": 5,
    "start_time": "2022-05-02T14:09:55.227Z"
   },
   {
    "duration": 10,
    "start_time": "2022-05-02T14:09:55.234Z"
   },
   {
    "duration": 4,
    "start_time": "2022-05-02T14:09:55.246Z"
   },
   {
    "duration": 7,
    "start_time": "2022-05-02T14:09:55.251Z"
   },
   {
    "duration": 16,
    "start_time": "2022-05-02T14:09:55.260Z"
   },
   {
    "duration": 3,
    "start_time": "2022-05-02T14:09:55.278Z"
   },
   {
    "duration": 9,
    "start_time": "2022-05-02T14:09:55.283Z"
   },
   {
    "duration": 15,
    "start_time": "2022-05-02T14:09:55.324Z"
   },
   {
    "duration": 15,
    "start_time": "2022-05-02T14:09:55.340Z"
   },
   {
    "duration": 20,
    "start_time": "2022-05-02T14:09:55.356Z"
   },
   {
    "duration": 16,
    "start_time": "2022-05-02T14:09:55.377Z"
   },
   {
    "duration": 41,
    "start_time": "2022-05-02T14:09:55.394Z"
   },
   {
    "duration": 14,
    "start_time": "2022-05-02T14:09:55.437Z"
   },
   {
    "duration": 14,
    "start_time": "2022-05-02T14:09:55.452Z"
   },
   {
    "duration": 12,
    "start_time": "2022-05-02T14:09:55.470Z"
   },
   {
    "duration": 42,
    "start_time": "2022-05-02T14:09:55.484Z"
   },
   {
    "duration": 16,
    "start_time": "2022-05-02T14:09:55.527Z"
   },
   {
    "duration": 18,
    "start_time": "2022-05-02T14:09:55.545Z"
   },
   {
    "duration": 23,
    "start_time": "2022-05-02T14:09:55.565Z"
   },
   {
    "duration": 44,
    "start_time": "2022-05-02T14:09:55.589Z"
   },
   {
    "duration": 6,
    "start_time": "2022-05-02T14:09:55.634Z"
   },
   {
    "duration": 11,
    "start_time": "2022-05-02T14:09:55.641Z"
   },
   {
    "duration": 8,
    "start_time": "2022-05-02T14:09:55.654Z"
   },
   {
    "duration": 12,
    "start_time": "2022-05-02T14:09:55.663Z"
   },
   {
    "duration": 160,
    "start_time": "2022-05-02T14:09:55.677Z"
   },
   {
    "duration": 151,
    "start_time": "2022-05-02T14:09:55.838Z"
   },
   {
    "duration": 14,
    "start_time": "2022-05-02T14:09:55.990Z"
   },
   {
    "duration": 31,
    "start_time": "2022-05-02T14:09:56.006Z"
   },
   {
    "duration": 5,
    "start_time": "2022-05-02T14:09:56.039Z"
   },
   {
    "duration": 14,
    "start_time": "2022-05-02T14:09:56.045Z"
   },
   {
    "duration": 13,
    "start_time": "2022-05-02T14:09:56.061Z"
   },
   {
    "duration": 14,
    "start_time": "2022-05-02T14:09:56.075Z"
   },
   {
    "duration": 51,
    "start_time": "2022-05-02T14:11:14.176Z"
   },
   {
    "duration": 12,
    "start_time": "2022-05-02T14:11:14.229Z"
   },
   {
    "duration": 13,
    "start_time": "2022-05-02T14:11:14.243Z"
   },
   {
    "duration": 14,
    "start_time": "2022-05-02T14:11:14.258Z"
   },
   {
    "duration": 4,
    "start_time": "2022-05-02T14:11:14.274Z"
   },
   {
    "duration": 9,
    "start_time": "2022-05-02T14:11:14.280Z"
   },
   {
    "duration": 6,
    "start_time": "2022-05-02T14:11:14.324Z"
   },
   {
    "duration": 13,
    "start_time": "2022-05-02T14:11:14.331Z"
   },
   {
    "duration": 13,
    "start_time": "2022-05-02T14:11:14.345Z"
   },
   {
    "duration": 5,
    "start_time": "2022-05-02T14:11:14.360Z"
   },
   {
    "duration": 5,
    "start_time": "2022-05-02T14:11:14.366Z"
   },
   {
    "duration": 5,
    "start_time": "2022-05-02T14:11:14.372Z"
   },
   {
    "duration": 6,
    "start_time": "2022-05-02T14:11:14.378Z"
   },
   {
    "duration": 5,
    "start_time": "2022-05-02T14:11:14.385Z"
   },
   {
    "duration": 5,
    "start_time": "2022-05-02T14:11:14.424Z"
   },
   {
    "duration": 4,
    "start_time": "2022-05-02T14:11:14.431Z"
   },
   {
    "duration": 5,
    "start_time": "2022-05-02T14:11:14.436Z"
   },
   {
    "duration": 14,
    "start_time": "2022-05-02T14:11:14.443Z"
   },
   {
    "duration": 4,
    "start_time": "2022-05-02T14:11:14.458Z"
   },
   {
    "duration": 7,
    "start_time": "2022-05-02T14:11:14.463Z"
   },
   {
    "duration": 14,
    "start_time": "2022-05-02T14:11:14.471Z"
   },
   {
    "duration": 49,
    "start_time": "2022-05-02T14:11:14.486Z"
   },
   {
    "duration": 19,
    "start_time": "2022-05-02T14:11:14.536Z"
   },
   {
    "duration": 16,
    "start_time": "2022-05-02T14:11:14.557Z"
   },
   {
    "duration": 12,
    "start_time": "2022-05-02T14:11:14.575Z"
   },
   {
    "duration": 37,
    "start_time": "2022-05-02T14:11:14.588Z"
   },
   {
    "duration": 13,
    "start_time": "2022-05-02T14:11:14.627Z"
   },
   {
    "duration": 12,
    "start_time": "2022-05-02T14:11:14.643Z"
   },
   {
    "duration": 12,
    "start_time": "2022-05-02T14:11:14.657Z"
   },
   {
    "duration": 14,
    "start_time": "2022-05-02T14:11:14.671Z"
   },
   {
    "duration": 46,
    "start_time": "2022-05-02T14:11:14.687Z"
   },
   {
    "duration": 19,
    "start_time": "2022-05-02T14:11:14.734Z"
   },
   {
    "duration": 25,
    "start_time": "2022-05-02T14:11:14.755Z"
   },
   {
    "duration": 8,
    "start_time": "2022-05-02T14:11:14.782Z"
   },
   {
    "duration": 35,
    "start_time": "2022-05-02T14:11:14.792Z"
   },
   {
    "duration": 8,
    "start_time": "2022-05-02T14:11:14.829Z"
   },
   {
    "duration": 14,
    "start_time": "2022-05-02T14:11:14.839Z"
   },
   {
    "duration": 162,
    "start_time": "2022-05-02T14:11:14.855Z"
   },
   {
    "duration": 164,
    "start_time": "2022-05-02T14:11:15.019Z"
   },
   {
    "duration": 15,
    "start_time": "2022-05-02T14:11:15.185Z"
   },
   {
    "duration": 33,
    "start_time": "2022-05-02T14:11:15.202Z"
   },
   {
    "duration": 8,
    "start_time": "2022-05-02T14:11:15.237Z"
   },
   {
    "duration": 14,
    "start_time": "2022-05-02T14:11:15.246Z"
   },
   {
    "duration": 14,
    "start_time": "2022-05-02T14:11:15.262Z"
   },
   {
    "duration": 12,
    "start_time": "2022-05-02T14:11:15.278Z"
   },
   {
    "duration": 52,
    "start_time": "2022-05-02T14:12:24.364Z"
   },
   {
    "duration": 11,
    "start_time": "2022-05-02T14:12:24.418Z"
   },
   {
    "duration": 15,
    "start_time": "2022-05-02T14:12:24.431Z"
   },
   {
    "duration": 14,
    "start_time": "2022-05-02T14:12:24.448Z"
   },
   {
    "duration": 3,
    "start_time": "2022-05-02T14:12:24.463Z"
   },
   {
    "duration": 11,
    "start_time": "2022-05-02T14:12:24.467Z"
   },
   {
    "duration": 5,
    "start_time": "2022-05-02T14:12:24.479Z"
   },
   {
    "duration": 12,
    "start_time": "2022-05-02T14:12:24.485Z"
   },
   {
    "duration": 34,
    "start_time": "2022-05-02T14:12:24.499Z"
   },
   {
    "duration": 5,
    "start_time": "2022-05-02T14:12:24.536Z"
   },
   {
    "duration": 5,
    "start_time": "2022-05-02T14:12:24.542Z"
   },
   {
    "duration": 5,
    "start_time": "2022-05-02T14:12:24.549Z"
   },
   {
    "duration": 5,
    "start_time": "2022-05-02T14:12:24.555Z"
   },
   {
    "duration": 7,
    "start_time": "2022-05-02T14:12:24.561Z"
   },
   {
    "duration": 7,
    "start_time": "2022-05-02T14:12:24.569Z"
   },
   {
    "duration": 5,
    "start_time": "2022-05-02T14:12:24.577Z"
   },
   {
    "duration": 43,
    "start_time": "2022-05-02T14:12:24.583Z"
   },
   {
    "duration": 15,
    "start_time": "2022-05-02T14:12:24.628Z"
   },
   {
    "duration": 3,
    "start_time": "2022-05-02T14:12:24.645Z"
   },
   {
    "duration": 5,
    "start_time": "2022-05-02T14:12:24.650Z"
   },
   {
    "duration": 11,
    "start_time": "2022-05-02T14:12:24.657Z"
   },
   {
    "duration": 15,
    "start_time": "2022-05-02T14:12:24.669Z"
   },
   {
    "duration": 51,
    "start_time": "2022-05-02T14:12:24.685Z"
   },
   {
    "duration": 15,
    "start_time": "2022-05-02T14:12:24.738Z"
   },
   {
    "duration": 12,
    "start_time": "2022-05-02T14:12:24.755Z"
   },
   {
    "duration": 13,
    "start_time": "2022-05-02T14:12:24.768Z"
   },
   {
    "duration": 13,
    "start_time": "2022-05-02T14:12:24.782Z"
   },
   {
    "duration": 12,
    "start_time": "2022-05-02T14:12:24.825Z"
   },
   {
    "duration": 13,
    "start_time": "2022-05-02T14:12:24.839Z"
   },
   {
    "duration": 14,
    "start_time": "2022-05-02T14:12:24.854Z"
   },
   {
    "duration": 17,
    "start_time": "2022-05-02T14:12:24.870Z"
   },
   {
    "duration": 45,
    "start_time": "2022-05-02T14:12:24.888Z"
   },
   {
    "duration": 20,
    "start_time": "2022-05-02T14:12:24.935Z"
   },
   {
    "duration": 6,
    "start_time": "2022-05-02T14:12:24.956Z"
   },
   {
    "duration": 12,
    "start_time": "2022-05-02T14:12:24.963Z"
   },
   {
    "duration": 9,
    "start_time": "2022-05-02T14:12:24.977Z"
   },
   {
    "duration": 13,
    "start_time": "2022-05-02T14:12:24.988Z"
   },
   {
    "duration": 149,
    "start_time": "2022-05-02T14:12:25.024Z"
   },
   {
    "duration": 141,
    "start_time": "2022-05-02T14:12:25.174Z"
   },
   {
    "duration": 18,
    "start_time": "2022-05-02T14:12:25.317Z"
   },
   {
    "duration": 4,
    "start_time": "2022-05-02T14:12:25.337Z"
   },
   {
    "duration": 12,
    "start_time": "2022-05-02T14:12:25.343Z"
   },
   {
    "duration": 17,
    "start_time": "2022-05-02T14:12:25.357Z"
   },
   {
    "duration": 12,
    "start_time": "2022-05-02T14:12:25.376Z"
   },
   {
    "duration": 39,
    "start_time": "2022-05-02T14:12:25.389Z"
   },
   {
    "duration": 55,
    "start_time": "2022-05-02T14:12:39.704Z"
   },
   {
    "duration": 11,
    "start_time": "2022-05-02T14:12:39.761Z"
   },
   {
    "duration": 16,
    "start_time": "2022-05-02T14:12:39.774Z"
   },
   {
    "duration": 32,
    "start_time": "2022-05-02T14:12:39.792Z"
   },
   {
    "duration": 4,
    "start_time": "2022-05-02T14:12:39.827Z"
   },
   {
    "duration": 17,
    "start_time": "2022-05-02T14:12:39.833Z"
   },
   {
    "duration": 6,
    "start_time": "2022-05-02T14:12:39.852Z"
   },
   {
    "duration": 11,
    "start_time": "2022-05-02T14:12:39.859Z"
   },
   {
    "duration": 19,
    "start_time": "2022-05-02T14:12:39.871Z"
   },
   {
    "duration": 7,
    "start_time": "2022-05-02T14:12:39.892Z"
   },
   {
    "duration": 23,
    "start_time": "2022-05-02T14:12:39.901Z"
   },
   {
    "duration": 5,
    "start_time": "2022-05-02T14:12:39.926Z"
   },
   {
    "duration": 14,
    "start_time": "2022-05-02T14:12:39.933Z"
   },
   {
    "duration": 7,
    "start_time": "2022-05-02T14:12:39.950Z"
   },
   {
    "duration": 7,
    "start_time": "2022-05-02T14:12:39.959Z"
   },
   {
    "duration": 5,
    "start_time": "2022-05-02T14:12:39.967Z"
   },
   {
    "duration": 5,
    "start_time": "2022-05-02T14:12:39.973Z"
   },
   {
    "duration": 16,
    "start_time": "2022-05-02T14:12:39.979Z"
   },
   {
    "duration": 29,
    "start_time": "2022-05-02T14:12:39.997Z"
   },
   {
    "duration": 17,
    "start_time": "2022-05-02T14:12:40.027Z"
   },
   {
    "duration": 19,
    "start_time": "2022-05-02T14:12:40.045Z"
   },
   {
    "duration": 15,
    "start_time": "2022-05-02T14:12:40.065Z"
   },
   {
    "duration": 17,
    "start_time": "2022-05-02T14:12:40.082Z"
   },
   {
    "duration": 34,
    "start_time": "2022-05-02T14:12:40.101Z"
   },
   {
    "duration": 13,
    "start_time": "2022-05-02T14:12:40.137Z"
   },
   {
    "duration": 13,
    "start_time": "2022-05-02T14:12:40.151Z"
   },
   {
    "duration": 13,
    "start_time": "2022-05-02T14:12:40.166Z"
   },
   {
    "duration": 12,
    "start_time": "2022-05-02T14:12:40.180Z"
   },
   {
    "duration": 21,
    "start_time": "2022-05-02T14:12:40.223Z"
   },
   {
    "duration": 15,
    "start_time": "2022-05-02T14:12:40.246Z"
   },
   {
    "duration": 17,
    "start_time": "2022-05-02T14:12:40.263Z"
   },
   {
    "duration": 43,
    "start_time": "2022-05-02T14:12:40.282Z"
   },
   {
    "duration": 28,
    "start_time": "2022-05-02T14:12:40.327Z"
   },
   {
    "duration": 5,
    "start_time": "2022-05-02T14:12:40.357Z"
   },
   {
    "duration": 8,
    "start_time": "2022-05-02T14:12:40.364Z"
   },
   {
    "duration": 8,
    "start_time": "2022-05-02T14:12:40.374Z"
   },
   {
    "duration": 13,
    "start_time": "2022-05-02T14:12:40.383Z"
   },
   {
    "duration": 162,
    "start_time": "2022-05-02T14:12:40.423Z"
   },
   {
    "duration": 156,
    "start_time": "2022-05-02T14:12:40.586Z"
   },
   {
    "duration": 13,
    "start_time": "2022-05-02T14:12:40.744Z"
   },
   {
    "duration": 13,
    "start_time": "2022-05-02T14:12:40.760Z"
   },
   {
    "duration": 5,
    "start_time": "2022-05-02T14:12:40.775Z"
   },
   {
    "duration": 15,
    "start_time": "2022-05-02T14:12:40.781Z"
   },
   {
    "duration": 44,
    "start_time": "2022-05-02T14:12:40.797Z"
   },
   {
    "duration": 15,
    "start_time": "2022-05-02T14:12:40.843Z"
   },
   {
    "duration": 62,
    "start_time": "2022-05-02T14:17:11.734Z"
   },
   {
    "duration": 7,
    "start_time": "2022-05-02T14:17:25.407Z"
   },
   {
    "duration": 4,
    "start_time": "2022-05-02T14:17:50.587Z"
   },
   {
    "duration": 5,
    "start_time": "2022-05-02T14:19:25.491Z"
   },
   {
    "duration": 467,
    "start_time": "2022-05-02T15:53:48.594Z"
   },
   {
    "duration": 18,
    "start_time": "2022-05-02T15:53:49.062Z"
   },
   {
    "duration": 14,
    "start_time": "2022-05-02T15:53:49.081Z"
   },
   {
    "duration": 15,
    "start_time": "2022-05-02T15:53:49.097Z"
   },
   {
    "duration": 4,
    "start_time": "2022-05-02T15:53:49.113Z"
   },
   {
    "duration": 13,
    "start_time": "2022-05-02T15:53:49.118Z"
   },
   {
    "duration": 5,
    "start_time": "2022-05-02T15:53:49.133Z"
   },
   {
    "duration": 12,
    "start_time": "2022-05-02T15:53:49.140Z"
   },
   {
    "duration": 13,
    "start_time": "2022-05-02T15:53:49.153Z"
   },
   {
    "duration": 5,
    "start_time": "2022-05-02T15:53:49.170Z"
   },
   {
    "duration": 25,
    "start_time": "2022-05-02T15:53:49.176Z"
   },
   {
    "duration": 13,
    "start_time": "2022-05-02T15:53:49.202Z"
   },
   {
    "duration": 7,
    "start_time": "2022-05-02T15:53:49.216Z"
   },
   {
    "duration": 7,
    "start_time": "2022-05-02T15:53:49.224Z"
   },
   {
    "duration": 8,
    "start_time": "2022-05-02T15:53:49.232Z"
   },
   {
    "duration": 4,
    "start_time": "2022-05-02T15:53:49.242Z"
   },
   {
    "duration": 6,
    "start_time": "2022-05-02T15:53:49.247Z"
   },
   {
    "duration": 18,
    "start_time": "2022-05-02T15:53:49.254Z"
   },
   {
    "duration": 4,
    "start_time": "2022-05-02T15:53:49.273Z"
   },
   {
    "duration": 6,
    "start_time": "2022-05-02T15:53:49.299Z"
   },
   {
    "duration": 14,
    "start_time": "2022-05-02T15:53:49.307Z"
   },
   {
    "duration": 17,
    "start_time": "2022-05-02T15:53:49.322Z"
   },
   {
    "duration": 17,
    "start_time": "2022-05-02T15:53:49.340Z"
   },
   {
    "duration": 16,
    "start_time": "2022-05-02T15:53:49.358Z"
   },
   {
    "duration": 13,
    "start_time": "2022-05-02T15:53:49.400Z"
   },
   {
    "duration": 14,
    "start_time": "2022-05-02T15:53:49.414Z"
   },
   {
    "duration": 14,
    "start_time": "2022-05-02T15:53:49.429Z"
   },
   {
    "duration": 13,
    "start_time": "2022-05-02T15:53:49.446Z"
   },
   {
    "duration": 43,
    "start_time": "2022-05-02T15:53:49.461Z"
   },
   {
    "duration": 17,
    "start_time": "2022-05-02T15:53:49.506Z"
   },
   {
    "duration": 19,
    "start_time": "2022-05-02T15:53:49.524Z"
   },
   {
    "duration": 18,
    "start_time": "2022-05-02T15:53:49.545Z"
   },
   {
    "duration": 43,
    "start_time": "2022-05-02T15:53:49.565Z"
   },
   {
    "duration": 5,
    "start_time": "2022-05-02T15:53:49.610Z"
   },
   {
    "duration": 11,
    "start_time": "2022-05-02T15:53:49.616Z"
   },
   {
    "duration": 8,
    "start_time": "2022-05-02T15:53:49.629Z"
   },
   {
    "duration": 14,
    "start_time": "2022-05-02T15:53:49.638Z"
   },
   {
    "duration": 142,
    "start_time": "2022-05-02T15:53:49.654Z"
   },
   {
    "duration": 130,
    "start_time": "2022-05-02T15:53:49.800Z"
   },
   {
    "duration": 12,
    "start_time": "2022-05-02T15:53:49.931Z"
   },
   {
    "duration": 11,
    "start_time": "2022-05-02T15:53:49.944Z"
   },
   {
    "duration": 4,
    "start_time": "2022-05-02T15:53:49.957Z"
   },
   {
    "duration": 8,
    "start_time": "2022-05-02T15:53:49.962Z"
   },
   {
    "duration": 37,
    "start_time": "2022-05-02T15:53:49.971Z"
   },
   {
    "duration": 9,
    "start_time": "2022-05-02T15:53:50.009Z"
   },
   {
    "duration": 27,
    "start_time": "2022-05-02T15:53:50.019Z"
   },
   {
    "duration": 24,
    "start_time": "2022-05-02T15:53:50.047Z"
   },
   {
    "duration": 6,
    "start_time": "2022-05-02T15:57:48.676Z"
   },
   {
    "duration": 9,
    "start_time": "2022-05-02T15:58:30.722Z"
   },
   {
    "duration": 71,
    "start_time": "2022-05-02T16:02:07.647Z"
   },
   {
    "duration": 13,
    "start_time": "2022-05-02T16:02:07.720Z"
   },
   {
    "duration": 13,
    "start_time": "2022-05-02T16:02:07.735Z"
   },
   {
    "duration": 15,
    "start_time": "2022-05-02T16:02:07.750Z"
   },
   {
    "duration": 5,
    "start_time": "2022-05-02T16:02:07.766Z"
   },
   {
    "duration": 10,
    "start_time": "2022-05-02T16:02:07.800Z"
   },
   {
    "duration": 6,
    "start_time": "2022-05-02T16:02:07.812Z"
   },
   {
    "duration": 12,
    "start_time": "2022-05-02T16:02:07.819Z"
   },
   {
    "duration": 15,
    "start_time": "2022-05-02T16:02:07.833Z"
   },
   {
    "duration": 5,
    "start_time": "2022-05-02T16:02:07.851Z"
   },
   {
    "duration": 5,
    "start_time": "2022-05-02T16:02:07.858Z"
   },
   {
    "duration": 5,
    "start_time": "2022-05-02T16:02:07.901Z"
   },
   {
    "duration": 6,
    "start_time": "2022-05-02T16:02:07.907Z"
   },
   {
    "duration": 7,
    "start_time": "2022-05-02T16:02:07.914Z"
   },
   {
    "duration": 6,
    "start_time": "2022-05-02T16:02:07.923Z"
   },
   {
    "duration": 4,
    "start_time": "2022-05-02T16:02:07.931Z"
   },
   {
    "duration": 8,
    "start_time": "2022-05-02T16:02:07.936Z"
   },
   {
    "duration": 15,
    "start_time": "2022-05-02T16:02:07.945Z"
   },
   {
    "duration": 41,
    "start_time": "2022-05-02T16:02:07.962Z"
   },
   {
    "duration": 8,
    "start_time": "2022-05-02T16:02:08.005Z"
   },
   {
    "duration": 19,
    "start_time": "2022-05-02T16:02:08.015Z"
   },
   {
    "duration": 23,
    "start_time": "2022-05-02T16:02:08.036Z"
   },
   {
    "duration": 46,
    "start_time": "2022-05-02T16:02:08.061Z"
   },
   {
    "duration": 16,
    "start_time": "2022-05-02T16:02:08.108Z"
   },
   {
    "duration": 19,
    "start_time": "2022-05-02T16:02:08.126Z"
   },
   {
    "duration": 22,
    "start_time": "2022-05-02T16:02:08.147Z"
   },
   {
    "duration": 43,
    "start_time": "2022-05-02T16:02:08.171Z"
   },
   {
    "duration": 22,
    "start_time": "2022-05-02T16:02:08.218Z"
   },
   {
    "duration": 23,
    "start_time": "2022-05-02T16:02:08.242Z"
   },
   {
    "duration": 44,
    "start_time": "2022-05-02T16:02:08.266Z"
   },
   {
    "duration": 30,
    "start_time": "2022-05-02T16:02:08.311Z"
   },
   {
    "duration": 34,
    "start_time": "2022-05-02T16:02:08.343Z"
   },
   {
    "duration": 40,
    "start_time": "2022-05-02T16:02:08.378Z"
   },
   {
    "duration": 5,
    "start_time": "2022-05-02T16:02:08.419Z"
   },
   {
    "duration": 13,
    "start_time": "2022-05-02T16:02:08.426Z"
   },
   {
    "duration": 8,
    "start_time": "2022-05-02T16:02:08.440Z"
   },
   {
    "duration": 13,
    "start_time": "2022-05-02T16:02:08.449Z"
   },
   {
    "duration": 153,
    "start_time": "2022-05-02T16:02:08.464Z"
   },
   {
    "duration": 136,
    "start_time": "2022-05-02T16:02:08.619Z"
   },
   {
    "duration": 13,
    "start_time": "2022-05-02T16:02:08.757Z"
   },
   {
    "duration": 30,
    "start_time": "2022-05-02T16:02:08.771Z"
   },
   {
    "duration": 5,
    "start_time": "2022-05-02T16:02:08.802Z"
   },
   {
    "duration": 13,
    "start_time": "2022-05-02T16:02:08.809Z"
   },
   {
    "duration": 6,
    "start_time": "2022-05-02T16:02:08.823Z"
   },
   {
    "duration": 6,
    "start_time": "2022-05-02T16:02:08.831Z"
   },
   {
    "duration": 18,
    "start_time": "2022-05-02T16:02:08.839Z"
   },
   {
    "duration": 10,
    "start_time": "2022-05-02T16:02:08.858Z"
   },
   {
    "duration": 39,
    "start_time": "2022-05-02T16:02:08.869Z"
   },
   {
    "duration": 6,
    "start_time": "2022-05-02T16:02:08.910Z"
   },
   {
    "duration": 57,
    "start_time": "2022-05-02T16:49:20.342Z"
   },
   {
    "duration": 11,
    "start_time": "2022-05-02T16:49:20.401Z"
   },
   {
    "duration": 17,
    "start_time": "2022-05-02T16:49:20.414Z"
   },
   {
    "duration": 14,
    "start_time": "2022-05-02T16:49:20.432Z"
   },
   {
    "duration": 4,
    "start_time": "2022-05-02T16:49:20.447Z"
   },
   {
    "duration": 11,
    "start_time": "2022-05-02T16:49:20.452Z"
   },
   {
    "duration": 5,
    "start_time": "2022-05-02T16:49:20.464Z"
   },
   {
    "duration": 37,
    "start_time": "2022-05-02T16:49:20.470Z"
   },
   {
    "duration": 12,
    "start_time": "2022-05-02T16:49:20.508Z"
   },
   {
    "duration": 4,
    "start_time": "2022-05-02T16:49:20.523Z"
   },
   {
    "duration": 4,
    "start_time": "2022-05-02T16:49:20.528Z"
   },
   {
    "duration": 6,
    "start_time": "2022-05-02T16:49:20.533Z"
   },
   {
    "duration": 5,
    "start_time": "2022-05-02T16:49:20.540Z"
   },
   {
    "duration": 4,
    "start_time": "2022-05-02T16:49:20.547Z"
   },
   {
    "duration": 6,
    "start_time": "2022-05-02T16:49:20.552Z"
   },
   {
    "duration": 5,
    "start_time": "2022-05-02T16:49:20.559Z"
   },
   {
    "duration": 4,
    "start_time": "2022-05-02T16:49:20.600Z"
   },
   {
    "duration": 14,
    "start_time": "2022-05-02T16:49:20.606Z"
   },
   {
    "duration": 4,
    "start_time": "2022-05-02T16:49:20.621Z"
   },
   {
    "duration": 6,
    "start_time": "2022-05-02T16:49:20.626Z"
   },
   {
    "duration": 15,
    "start_time": "2022-05-02T16:49:20.633Z"
   },
   {
    "duration": 14,
    "start_time": "2022-05-02T16:49:20.649Z"
   },
   {
    "duration": 48,
    "start_time": "2022-05-02T16:49:20.664Z"
   },
   {
    "duration": 13,
    "start_time": "2022-05-02T16:49:20.714Z"
   },
   {
    "duration": 12,
    "start_time": "2022-05-02T16:49:20.728Z"
   },
   {
    "duration": 13,
    "start_time": "2022-05-02T16:49:20.741Z"
   },
   {
    "duration": 13,
    "start_time": "2022-05-02T16:49:20.756Z"
   },
   {
    "duration": 38,
    "start_time": "2022-05-02T16:49:20.772Z"
   },
   {
    "duration": 13,
    "start_time": "2022-05-02T16:49:20.811Z"
   },
   {
    "duration": 15,
    "start_time": "2022-05-02T16:49:20.825Z"
   },
   {
    "duration": 18,
    "start_time": "2022-05-02T16:49:20.841Z"
   },
   {
    "duration": 40,
    "start_time": "2022-05-02T16:49:20.860Z"
   },
   {
    "duration": 20,
    "start_time": "2022-05-02T16:49:20.902Z"
   },
   {
    "duration": 4,
    "start_time": "2022-05-02T16:49:20.924Z"
   },
   {
    "duration": 7,
    "start_time": "2022-05-02T16:49:20.930Z"
   },
   {
    "duration": 7,
    "start_time": "2022-05-02T16:49:20.938Z"
   },
   {
    "duration": 11,
    "start_time": "2022-05-02T16:49:20.946Z"
   },
   {
    "duration": 153,
    "start_time": "2022-05-02T16:49:20.958Z"
   },
   {
    "duration": 140,
    "start_time": "2022-05-02T16:49:21.113Z"
   },
   {
    "duration": 14,
    "start_time": "2022-05-02T16:49:21.255Z"
   },
   {
    "duration": 31,
    "start_time": "2022-05-02T16:49:21.270Z"
   },
   {
    "duration": 5,
    "start_time": "2022-05-02T16:49:21.303Z"
   },
   {
    "duration": 12,
    "start_time": "2022-05-02T16:49:21.309Z"
   },
   {
    "duration": 6,
    "start_time": "2022-05-02T16:49:21.322Z"
   },
   {
    "duration": 6,
    "start_time": "2022-05-02T16:49:21.330Z"
   },
   {
    "duration": 13,
    "start_time": "2022-05-02T16:49:21.337Z"
   },
   {
    "duration": 5,
    "start_time": "2022-05-02T16:49:21.351Z"
   },
   {
    "duration": 46,
    "start_time": "2022-05-02T16:49:21.358Z"
   },
   {
    "duration": 6,
    "start_time": "2022-05-02T16:49:21.405Z"
   },
   {
    "duration": 526,
    "start_time": "2022-05-06T11:25:52.704Z"
   },
   {
    "duration": 22,
    "start_time": "2022-05-06T11:25:53.232Z"
   },
   {
    "duration": 14,
    "start_time": "2022-05-06T11:25:53.256Z"
   },
   {
    "duration": 22,
    "start_time": "2022-05-06T11:25:53.272Z"
   },
   {
    "duration": 4,
    "start_time": "2022-05-06T11:25:53.296Z"
   },
   {
    "duration": 35,
    "start_time": "2022-05-06T11:25:53.301Z"
   },
   {
    "duration": 6,
    "start_time": "2022-05-06T11:25:53.338Z"
   },
   {
    "duration": 17,
    "start_time": "2022-05-06T11:25:53.345Z"
   },
   {
    "duration": 18,
    "start_time": "2022-05-06T11:25:53.364Z"
   },
   {
    "duration": 8,
    "start_time": "2022-05-06T11:25:53.386Z"
   },
   {
    "duration": 8,
    "start_time": "2022-05-06T11:25:53.396Z"
   },
   {
    "duration": 5,
    "start_time": "2022-05-06T11:25:53.433Z"
   },
   {
    "duration": 11,
    "start_time": "2022-05-06T11:25:53.439Z"
   },
   {
    "duration": 15,
    "start_time": "2022-05-06T11:25:53.452Z"
   },
   {
    "duration": 8,
    "start_time": "2022-05-06T11:25:53.469Z"
   },
   {
    "duration": 7,
    "start_time": "2022-05-06T11:25:53.479Z"
   },
   {
    "duration": 7,
    "start_time": "2022-05-06T11:25:53.488Z"
   },
   {
    "duration": 38,
    "start_time": "2022-05-06T11:25:53.496Z"
   },
   {
    "duration": 5,
    "start_time": "2022-05-06T11:25:53.537Z"
   },
   {
    "duration": 10,
    "start_time": "2022-05-06T11:25:53.543Z"
   },
   {
    "duration": 19,
    "start_time": "2022-05-06T11:25:53.555Z"
   },
   {
    "duration": 17,
    "start_time": "2022-05-06T11:25:53.576Z"
   },
   {
    "duration": 49,
    "start_time": "2022-05-06T11:25:53.595Z"
   },
   {
    "duration": 18,
    "start_time": "2022-05-06T11:25:53.646Z"
   },
   {
    "duration": 15,
    "start_time": "2022-05-06T11:25:53.665Z"
   },
   {
    "duration": 19,
    "start_time": "2022-05-06T11:25:53.682Z"
   },
   {
    "duration": 42,
    "start_time": "2022-05-06T11:25:53.703Z"
   },
   {
    "duration": 24,
    "start_time": "2022-05-06T11:25:53.748Z"
   },
   {
    "duration": 20,
    "start_time": "2022-05-06T11:25:53.774Z"
   },
   {
    "duration": 18,
    "start_time": "2022-05-06T11:25:53.797Z"
   },
   {
    "duration": 36,
    "start_time": "2022-05-06T11:25:53.817Z"
   },
   {
    "duration": 22,
    "start_time": "2022-05-06T11:25:53.854Z"
   },
   {
    "duration": 26,
    "start_time": "2022-05-06T11:25:53.878Z"
   },
   {
    "duration": 28,
    "start_time": "2022-05-06T11:25:53.906Z"
   },
   {
    "duration": 13,
    "start_time": "2022-05-06T11:25:53.935Z"
   },
   {
    "duration": 13,
    "start_time": "2022-05-06T11:25:53.949Z"
   },
   {
    "duration": 20,
    "start_time": "2022-05-06T11:25:53.964Z"
   },
   {
    "duration": 159,
    "start_time": "2022-05-06T11:25:53.986Z"
   },
   {
    "duration": 154,
    "start_time": "2022-05-06T11:25:54.147Z"
   },
   {
    "duration": 16,
    "start_time": "2022-05-06T11:25:54.302Z"
   },
   {
    "duration": 30,
    "start_time": "2022-05-06T11:25:54.319Z"
   },
   {
    "duration": 6,
    "start_time": "2022-05-06T11:25:54.351Z"
   },
   {
    "duration": 18,
    "start_time": "2022-05-06T11:25:54.359Z"
   },
   {
    "duration": 7,
    "start_time": "2022-05-06T11:25:54.379Z"
   },
   {
    "duration": 11,
    "start_time": "2022-05-06T11:25:54.387Z"
   },
   {
    "duration": 45,
    "start_time": "2022-05-06T11:25:54.400Z"
   },
   {
    "duration": 8,
    "start_time": "2022-05-06T11:25:54.446Z"
   },
   {
    "duration": 19,
    "start_time": "2022-05-06T11:25:54.455Z"
   },
   {
    "duration": 6,
    "start_time": "2022-05-06T11:25:54.476Z"
   },
   {
    "duration": 83,
    "start_time": "2022-05-06T11:44:52.945Z"
   },
   {
    "duration": 15,
    "start_time": "2022-05-06T11:44:53.032Z"
   },
   {
    "duration": 16,
    "start_time": "2022-05-06T11:44:53.049Z"
   },
   {
    "duration": 21,
    "start_time": "2022-05-06T11:44:53.068Z"
   },
   {
    "duration": 5,
    "start_time": "2022-05-06T11:44:53.092Z"
   },
   {
    "duration": 39,
    "start_time": "2022-05-06T11:44:53.099Z"
   },
   {
    "duration": 12,
    "start_time": "2022-05-06T11:44:53.139Z"
   },
   {
    "duration": 13,
    "start_time": "2022-05-06T11:44:53.153Z"
   },
   {
    "duration": 19,
    "start_time": "2022-05-06T11:44:53.168Z"
   },
   {
    "duration": 7,
    "start_time": "2022-05-06T11:44:53.190Z"
   },
   {
    "duration": 36,
    "start_time": "2022-05-06T11:44:53.199Z"
   },
   {
    "duration": 7,
    "start_time": "2022-05-06T11:44:53.237Z"
   },
   {
    "duration": 18,
    "start_time": "2022-05-06T11:44:53.246Z"
   },
   {
    "duration": 8,
    "start_time": "2022-05-06T11:44:53.266Z"
   },
   {
    "duration": 8,
    "start_time": "2022-05-06T11:44:53.276Z"
   },
   {
    "duration": 6,
    "start_time": "2022-05-06T11:44:53.286Z"
   },
   {
    "duration": 6,
    "start_time": "2022-05-06T11:44:53.294Z"
   },
   {
    "duration": 45,
    "start_time": "2022-05-06T11:44:53.302Z"
   },
   {
    "duration": 6,
    "start_time": "2022-05-06T11:44:53.349Z"
   },
   {
    "duration": 13,
    "start_time": "2022-05-06T11:44:53.357Z"
   },
   {
    "duration": 20,
    "start_time": "2022-05-06T11:44:53.372Z"
   },
   {
    "duration": 40,
    "start_time": "2022-05-06T11:44:53.394Z"
   },
   {
    "duration": 21,
    "start_time": "2022-05-06T11:44:53.436Z"
   },
   {
    "duration": 18,
    "start_time": "2022-05-06T11:44:53.458Z"
   },
   {
    "duration": 14,
    "start_time": "2022-05-06T11:44:53.477Z"
   },
   {
    "duration": 41,
    "start_time": "2022-05-06T11:44:53.493Z"
   },
   {
    "duration": 17,
    "start_time": "2022-05-06T11:44:53.536Z"
   },
   {
    "duration": 15,
    "start_time": "2022-05-06T11:44:53.556Z"
   },
   {
    "duration": 16,
    "start_time": "2022-05-06T11:44:53.573Z"
   },
   {
    "duration": 49,
    "start_time": "2022-05-06T11:44:53.591Z"
   },
   {
    "duration": 22,
    "start_time": "2022-05-06T11:44:53.642Z"
   },
   {
    "duration": 36,
    "start_time": "2022-05-06T11:44:53.665Z"
   },
   {
    "duration": 35,
    "start_time": "2022-05-06T11:44:53.703Z"
   },
   {
    "duration": 6,
    "start_time": "2022-05-06T11:44:53.739Z"
   },
   {
    "duration": 12,
    "start_time": "2022-05-06T11:44:53.747Z"
   },
   {
    "duration": 26,
    "start_time": "2022-05-06T11:44:53.761Z"
   },
   {
    "duration": 22,
    "start_time": "2022-05-06T11:44:53.789Z"
   },
   {
    "duration": 159,
    "start_time": "2022-05-06T11:44:53.812Z"
   },
   {
    "duration": 148,
    "start_time": "2022-05-06T11:44:53.973Z"
   },
   {
    "duration": 23,
    "start_time": "2022-05-06T11:44:54.122Z"
   },
   {
    "duration": 14,
    "start_time": "2022-05-06T11:44:54.146Z"
   },
   {
    "duration": 13,
    "start_time": "2022-05-06T11:44:54.161Z"
   },
   {
    "duration": 21,
    "start_time": "2022-05-06T11:44:54.176Z"
   },
   {
    "duration": 9,
    "start_time": "2022-05-06T11:44:54.198Z"
   },
   {
    "duration": 25,
    "start_time": "2022-05-06T11:44:54.209Z"
   },
   {
    "duration": 15,
    "start_time": "2022-05-06T11:44:54.236Z"
   },
   {
    "duration": 7,
    "start_time": "2022-05-06T11:44:54.252Z"
   },
   {
    "duration": 20,
    "start_time": "2022-05-06T11:44:54.260Z"
   },
   {
    "duration": 7,
    "start_time": "2022-05-06T11:44:54.281Z"
   },
   {
    "duration": 2769,
    "start_time": "2022-05-06T11:48:11.861Z"
   },
   {
    "duration": 63,
    "start_time": "2022-05-06T11:48:14.908Z"
   },
   {
    "duration": 14,
    "start_time": "2022-05-06T11:48:14.973Z"
   },
   {
    "duration": 20,
    "start_time": "2022-05-06T11:48:14.988Z"
   },
   {
    "duration": 19,
    "start_time": "2022-05-06T11:48:15.032Z"
   },
   {
    "duration": 4,
    "start_time": "2022-05-06T11:48:15.053Z"
   },
   {
    "duration": 18,
    "start_time": "2022-05-06T11:48:15.058Z"
   },
   {
    "duration": 8,
    "start_time": "2022-05-06T11:48:15.077Z"
   },
   {
    "duration": 19,
    "start_time": "2022-05-06T11:48:15.086Z"
   },
   {
    "duration": 41,
    "start_time": "2022-05-06T11:48:15.107Z"
   },
   {
    "duration": 7,
    "start_time": "2022-05-06T11:48:15.151Z"
   },
   {
    "duration": 5,
    "start_time": "2022-05-06T11:48:15.160Z"
   },
   {
    "duration": 6,
    "start_time": "2022-05-06T11:48:15.167Z"
   },
   {
    "duration": 8,
    "start_time": "2022-05-06T11:48:15.174Z"
   },
   {
    "duration": 7,
    "start_time": "2022-05-06T11:48:15.184Z"
   },
   {
    "duration": 15,
    "start_time": "2022-05-06T11:48:15.193Z"
   },
   {
    "duration": 30,
    "start_time": "2022-05-06T11:48:15.209Z"
   },
   {
    "duration": 10,
    "start_time": "2022-05-06T11:48:15.241Z"
   },
   {
    "duration": 21,
    "start_time": "2022-05-06T11:48:15.252Z"
   },
   {
    "duration": 4,
    "start_time": "2022-05-06T11:48:15.275Z"
   },
   {
    "duration": 8,
    "start_time": "2022-05-06T11:48:15.281Z"
   },
   {
    "duration": 9,
    "start_time": "2022-05-06T11:48:15.291Z"
   },
   {
    "duration": 38,
    "start_time": "2022-05-06T11:48:15.302Z"
   },
   {
    "duration": 18,
    "start_time": "2022-05-06T11:48:15.341Z"
   },
   {
    "duration": 20,
    "start_time": "2022-05-06T11:48:15.361Z"
   },
   {
    "duration": 20,
    "start_time": "2022-05-06T11:48:15.383Z"
   },
   {
    "duration": 41,
    "start_time": "2022-05-06T11:48:15.405Z"
   },
   {
    "duration": 17,
    "start_time": "2022-05-06T11:48:15.447Z"
   },
   {
    "duration": 17,
    "start_time": "2022-05-06T11:48:15.468Z"
   },
   {
    "duration": 16,
    "start_time": "2022-05-06T11:48:15.487Z"
   },
   {
    "duration": 16,
    "start_time": "2022-05-06T11:48:15.534Z"
   },
   {
    "duration": 19,
    "start_time": "2022-05-06T11:48:15.552Z"
   },
   {
    "duration": 22,
    "start_time": "2022-05-06T11:48:15.573Z"
   },
   {
    "duration": 55,
    "start_time": "2022-05-06T11:48:15.598Z"
   },
   {
    "duration": 27,
    "start_time": "2022-05-06T11:48:15.655Z"
   },
   {
    "duration": 5,
    "start_time": "2022-05-06T11:48:15.684Z"
   },
   {
    "duration": 18,
    "start_time": "2022-05-06T11:48:15.691Z"
   },
   {
    "duration": 24,
    "start_time": "2022-05-06T11:48:15.710Z"
   },
   {
    "duration": 13,
    "start_time": "2022-05-06T11:48:15.736Z"
   },
   {
    "duration": 165,
    "start_time": "2022-05-06T11:48:15.750Z"
   },
   {
    "duration": 162,
    "start_time": "2022-05-06T11:48:15.917Z"
   },
   {
    "duration": 15,
    "start_time": "2022-05-06T11:48:16.081Z"
   },
   {
    "duration": 36,
    "start_time": "2022-05-06T11:48:16.098Z"
   },
   {
    "duration": 6,
    "start_time": "2022-05-06T11:48:16.136Z"
   },
   {
    "duration": 17,
    "start_time": "2022-05-06T11:48:16.144Z"
   },
   {
    "duration": 6,
    "start_time": "2022-05-06T11:48:16.163Z"
   },
   {
    "duration": 8,
    "start_time": "2022-05-06T11:48:16.171Z"
   },
   {
    "duration": 19,
    "start_time": "2022-05-06T11:48:16.181Z"
   },
   {
    "duration": 37,
    "start_time": "2022-05-06T11:48:16.202Z"
   },
   {
    "duration": 20,
    "start_time": "2022-05-06T11:48:16.240Z"
   },
   {
    "duration": 8,
    "start_time": "2022-05-06T11:48:16.262Z"
   },
   {
    "duration": 5,
    "start_time": "2022-05-06T11:49:14.091Z"
   },
   {
    "duration": 5,
    "start_time": "2022-05-06T11:51:16.943Z"
   },
   {
    "duration": 6,
    "start_time": "2022-05-06T11:51:36.660Z"
   },
   {
    "duration": 76,
    "start_time": "2022-05-06T11:54:01.000Z"
   },
   {
    "duration": 15,
    "start_time": "2022-05-06T11:54:01.078Z"
   },
   {
    "duration": 22,
    "start_time": "2022-05-06T11:54:01.095Z"
   },
   {
    "duration": 22,
    "start_time": "2022-05-06T11:54:01.135Z"
   },
   {
    "duration": 11,
    "start_time": "2022-05-06T11:54:01.159Z"
   },
   {
    "duration": 15,
    "start_time": "2022-05-06T11:54:01.172Z"
   },
   {
    "duration": 7,
    "start_time": "2022-05-06T11:54:01.188Z"
   },
   {
    "duration": 19,
    "start_time": "2022-05-06T11:54:01.197Z"
   },
   {
    "duration": 15,
    "start_time": "2022-05-06T11:54:01.234Z"
   },
   {
    "duration": 12,
    "start_time": "2022-05-06T11:54:01.252Z"
   },
   {
    "duration": 7,
    "start_time": "2022-05-06T11:54:01.266Z"
   },
   {
    "duration": 7,
    "start_time": "2022-05-06T11:54:01.274Z"
   },
   {
    "duration": 14,
    "start_time": "2022-05-06T11:54:01.283Z"
   },
   {
    "duration": 6,
    "start_time": "2022-05-06T11:54:01.299Z"
   },
   {
    "duration": 7,
    "start_time": "2022-05-06T11:54:01.334Z"
   },
   {
    "duration": 9,
    "start_time": "2022-05-06T11:54:01.343Z"
   },
   {
    "duration": 10,
    "start_time": "2022-05-06T11:54:01.354Z"
   },
   {
    "duration": 20,
    "start_time": "2022-05-06T11:54:01.366Z"
   },
   {
    "duration": 20,
    "start_time": "2022-05-06T11:54:01.389Z"
   },
   {
    "duration": 25,
    "start_time": "2022-05-06T11:54:01.411Z"
   },
   {
    "duration": 14,
    "start_time": "2022-05-06T11:54:01.438Z"
   },
   {
    "duration": 27,
    "start_time": "2022-05-06T11:54:01.454Z"
   },
   {
    "duration": 18,
    "start_time": "2022-05-06T11:54:01.483Z"
   },
   {
    "duration": 39,
    "start_time": "2022-05-06T11:54:01.503Z"
   },
   {
    "duration": 19,
    "start_time": "2022-05-06T11:54:01.544Z"
   },
   {
    "duration": 16,
    "start_time": "2022-05-06T11:54:01.565Z"
   },
   {
    "duration": 34,
    "start_time": "2022-05-06T11:54:01.583Z"
   },
   {
    "duration": 53,
    "start_time": "2022-05-06T11:54:01.634Z"
   },
   {
    "duration": 38,
    "start_time": "2022-05-06T11:54:01.689Z"
   },
   {
    "duration": 25,
    "start_time": "2022-05-06T11:54:01.728Z"
   },
   {
    "duration": 24,
    "start_time": "2022-05-06T11:54:01.755Z"
   },
   {
    "duration": 20,
    "start_time": "2022-05-06T11:54:01.781Z"
   },
   {
    "duration": 31,
    "start_time": "2022-05-06T11:54:01.803Z"
   },
   {
    "duration": 26,
    "start_time": "2022-05-06T11:54:01.836Z"
   },
   {
    "duration": 12,
    "start_time": "2022-05-06T11:54:01.864Z"
   },
   {
    "duration": 27,
    "start_time": "2022-05-06T11:54:01.878Z"
   },
   {
    "duration": 22,
    "start_time": "2022-05-06T11:54:01.907Z"
   },
   {
    "duration": 25,
    "start_time": "2022-05-06T11:54:01.931Z"
   },
   {
    "duration": 157,
    "start_time": "2022-05-06T11:54:01.957Z"
   },
   {
    "duration": 150,
    "start_time": "2022-05-06T11:54:02.115Z"
   },
   {
    "duration": 54,
    "start_time": "2022-05-06T11:54:02.266Z"
   },
   {
    "duration": 25,
    "start_time": "2022-05-06T11:54:02.321Z"
   },
   {
    "duration": 6,
    "start_time": "2022-05-06T11:54:02.348Z"
   },
   {
    "duration": 22,
    "start_time": "2022-05-06T11:54:02.356Z"
   },
   {
    "duration": 9,
    "start_time": "2022-05-06T11:54:02.379Z"
   },
   {
    "duration": 8,
    "start_time": "2022-05-06T11:54:02.390Z"
   },
   {
    "duration": 42,
    "start_time": "2022-05-06T11:54:02.400Z"
   },
   {
    "duration": 7,
    "start_time": "2022-05-06T11:54:02.444Z"
   },
   {
    "duration": 21,
    "start_time": "2022-05-06T11:54:02.452Z"
   },
   {
    "duration": 6,
    "start_time": "2022-05-06T11:54:02.475Z"
   },
   {
    "duration": 67,
    "start_time": "2022-05-06T11:54:40.821Z"
   },
   {
    "duration": 14,
    "start_time": "2022-05-06T11:54:40.890Z"
   },
   {
    "duration": 15,
    "start_time": "2022-05-06T11:54:40.934Z"
   },
   {
    "duration": 18,
    "start_time": "2022-05-06T11:54:40.951Z"
   },
   {
    "duration": 3,
    "start_time": "2022-05-06T11:54:40.971Z"
   },
   {
    "duration": 13,
    "start_time": "2022-05-06T11:54:40.976Z"
   },
   {
    "duration": 6,
    "start_time": "2022-05-06T11:54:40.990Z"
   },
   {
    "duration": 44,
    "start_time": "2022-05-06T11:54:40.997Z"
   },
   {
    "duration": 18,
    "start_time": "2022-05-06T11:54:41.042Z"
   },
   {
    "duration": 10,
    "start_time": "2022-05-06T11:54:41.063Z"
   },
   {
    "duration": 10,
    "start_time": "2022-05-06T11:54:41.074Z"
   },
   {
    "duration": 9,
    "start_time": "2022-05-06T11:54:41.085Z"
   },
   {
    "duration": 7,
    "start_time": "2022-05-06T11:54:41.096Z"
   },
   {
    "duration": 29,
    "start_time": "2022-05-06T11:54:41.105Z"
   },
   {
    "duration": 7,
    "start_time": "2022-05-06T11:54:41.136Z"
   },
   {
    "duration": 8,
    "start_time": "2022-05-06T11:54:41.144Z"
   },
   {
    "duration": 8,
    "start_time": "2022-05-06T11:54:41.154Z"
   },
   {
    "duration": 20,
    "start_time": "2022-05-06T11:54:41.164Z"
   },
   {
    "duration": 5,
    "start_time": "2022-05-06T11:54:41.186Z"
   },
   {
    "duration": 43,
    "start_time": "2022-05-06T11:54:41.193Z"
   },
   {
    "duration": 8,
    "start_time": "2022-05-06T11:54:41.237Z"
   },
   {
    "duration": 16,
    "start_time": "2022-05-06T11:54:41.247Z"
   },
   {
    "duration": 18,
    "start_time": "2022-05-06T11:54:41.264Z"
   },
   {
    "duration": 20,
    "start_time": "2022-05-06T11:54:41.283Z"
   },
   {
    "duration": 17,
    "start_time": "2022-05-06T11:54:41.334Z"
   },
   {
    "duration": 15,
    "start_time": "2022-05-06T11:54:41.353Z"
   },
   {
    "duration": 16,
    "start_time": "2022-05-06T11:54:41.370Z"
   },
   {
    "duration": 44,
    "start_time": "2022-05-06T11:54:41.390Z"
   },
   {
    "duration": 16,
    "start_time": "2022-05-06T11:54:41.436Z"
   },
   {
    "duration": 17,
    "start_time": "2022-05-06T11:54:41.454Z"
   },
   {
    "duration": 19,
    "start_time": "2022-05-06T11:54:41.473Z"
   },
   {
    "duration": 52,
    "start_time": "2022-05-06T11:54:41.494Z"
   },
   {
    "duration": 24,
    "start_time": "2022-05-06T11:54:41.547Z"
   },
   {
    "duration": 39,
    "start_time": "2022-05-06T11:54:41.573Z"
   },
   {
    "duration": 5,
    "start_time": "2022-05-06T11:54:41.614Z"
   },
   {
    "duration": 7,
    "start_time": "2022-05-06T11:54:41.635Z"
   },
   {
    "duration": 12,
    "start_time": "2022-05-06T11:54:41.644Z"
   },
   {
    "duration": 16,
    "start_time": "2022-05-06T11:54:41.658Z"
   },
   {
    "duration": 176,
    "start_time": "2022-05-06T11:54:41.676Z"
   },
   {
    "duration": 160,
    "start_time": "2022-05-06T11:54:41.854Z"
   },
   {
    "duration": 27,
    "start_time": "2022-05-06T11:54:42.016Z"
   },
   {
    "duration": 15,
    "start_time": "2022-05-06T11:54:42.046Z"
   },
   {
    "duration": 7,
    "start_time": "2022-05-06T11:54:42.063Z"
   },
   {
    "duration": 17,
    "start_time": "2022-05-06T11:54:42.071Z"
   },
   {
    "duration": 6,
    "start_time": "2022-05-06T11:54:42.089Z"
   },
   {
    "duration": 37,
    "start_time": "2022-05-06T11:54:42.097Z"
   },
   {
    "duration": 15,
    "start_time": "2022-05-06T11:54:42.136Z"
   },
   {
    "duration": 6,
    "start_time": "2022-05-06T11:54:42.153Z"
   },
   {
    "duration": 26,
    "start_time": "2022-05-06T11:54:42.161Z"
   },
   {
    "duration": 7,
    "start_time": "2022-05-06T11:54:42.189Z"
   },
   {
    "duration": 13,
    "start_time": "2022-05-06T11:55:07.555Z"
   },
   {
    "duration": 14,
    "start_time": "2022-05-06T11:55:32.025Z"
   },
   {
    "duration": 13,
    "start_time": "2022-05-06T11:56:27.841Z"
   },
   {
    "duration": 6,
    "start_time": "2022-05-06T11:57:10.745Z"
   },
   {
    "duration": 5,
    "start_time": "2022-05-06T11:57:29.595Z"
   },
   {
    "duration": 76,
    "start_time": "2022-05-06T12:08:45.347Z"
   },
   {
    "duration": 14,
    "start_time": "2022-05-06T12:08:45.425Z"
   },
   {
    "duration": 15,
    "start_time": "2022-05-06T12:08:45.441Z"
   },
   {
    "duration": 17,
    "start_time": "2022-05-06T12:08:45.458Z"
   },
   {
    "duration": 4,
    "start_time": "2022-05-06T12:08:45.477Z"
   },
   {
    "duration": 14,
    "start_time": "2022-05-06T12:08:45.483Z"
   },
   {
    "duration": 46,
    "start_time": "2022-05-06T12:08:45.498Z"
   },
   {
    "duration": 17,
    "start_time": "2022-05-06T12:08:45.545Z"
   },
   {
    "duration": 17,
    "start_time": "2022-05-06T12:08:45.563Z"
   },
   {
    "duration": 9,
    "start_time": "2022-05-06T12:08:45.582Z"
   },
   {
    "duration": 6,
    "start_time": "2022-05-06T12:08:45.593Z"
   },
   {
    "duration": 5,
    "start_time": "2022-05-06T12:08:45.601Z"
   },
   {
    "duration": 28,
    "start_time": "2022-05-06T12:08:45.608Z"
   },
   {
    "duration": 7,
    "start_time": "2022-05-06T12:08:45.638Z"
   },
   {
    "duration": 8,
    "start_time": "2022-05-06T12:08:45.646Z"
   },
   {
    "duration": 7,
    "start_time": "2022-05-06T12:08:45.655Z"
   },
   {
    "duration": 6,
    "start_time": "2022-05-06T12:08:45.663Z"
   },
   {
    "duration": 20,
    "start_time": "2022-05-06T12:08:45.671Z"
   },
   {
    "duration": 5,
    "start_time": "2022-05-06T12:08:45.692Z"
   },
   {
    "duration": 7,
    "start_time": "2022-05-06T12:08:45.734Z"
   },
   {
    "duration": 10,
    "start_time": "2022-05-06T12:08:45.742Z"
   },
   {
    "duration": 8,
    "start_time": "2022-05-06T12:08:45.754Z"
   },
   {
    "duration": 5,
    "start_time": "2022-05-06T12:08:45.764Z"
   },
   {
    "duration": 14,
    "start_time": "2022-05-06T12:08:45.770Z"
   },
   {
    "duration": 8,
    "start_time": "2022-05-06T12:08:45.786Z"
   },
   {
    "duration": 49,
    "start_time": "2022-05-06T12:08:45.796Z"
   },
   {
    "duration": 18,
    "start_time": "2022-05-06T12:08:45.847Z"
   },
   {
    "duration": 20,
    "start_time": "2022-05-06T12:08:45.869Z"
   },
   {
    "duration": 43,
    "start_time": "2022-05-06T12:08:45.891Z"
   },
   {
    "duration": 15,
    "start_time": "2022-05-06T12:08:45.936Z"
   },
   {
    "duration": 21,
    "start_time": "2022-05-06T12:08:45.953Z"
   },
   {
    "duration": 21,
    "start_time": "2022-05-06T12:08:45.976Z"
   },
   {
    "duration": 38,
    "start_time": "2022-05-06T12:08:45.998Z"
   },
   {
    "duration": 17,
    "start_time": "2022-05-06T12:08:46.038Z"
   },
   {
    "duration": 34,
    "start_time": "2022-05-06T12:08:46.057Z"
   },
   {
    "duration": 25,
    "start_time": "2022-05-06T12:08:46.093Z"
   },
   {
    "duration": 49,
    "start_time": "2022-05-06T12:08:46.120Z"
   },
   {
    "duration": 26,
    "start_time": "2022-05-06T12:08:46.171Z"
   },
   {
    "duration": 5,
    "start_time": "2022-05-06T12:08:46.199Z"
   },
   {
    "duration": 20,
    "start_time": "2022-05-06T12:08:46.206Z"
   },
   {
    "duration": 19,
    "start_time": "2022-05-06T12:08:46.228Z"
   },
   {
    "duration": 21,
    "start_time": "2022-05-06T12:08:46.249Z"
   },
   {
    "duration": 155,
    "start_time": "2022-05-06T12:08:46.271Z"
   },
   {
    "duration": 149,
    "start_time": "2022-05-06T12:08:46.427Z"
   },
   {
    "duration": 14,
    "start_time": "2022-05-06T12:08:46.578Z"
   },
   {
    "duration": 18,
    "start_time": "2022-05-06T12:08:46.593Z"
   },
   {
    "duration": 23,
    "start_time": "2022-05-06T12:08:46.613Z"
   },
   {
    "duration": 29,
    "start_time": "2022-05-06T12:08:46.638Z"
   },
   {
    "duration": 19,
    "start_time": "2022-05-06T12:08:46.669Z"
   },
   {
    "duration": 18,
    "start_time": "2022-05-06T12:08:46.690Z"
   },
   {
    "duration": 32,
    "start_time": "2022-05-06T12:08:46.709Z"
   },
   {
    "duration": 7,
    "start_time": "2022-05-06T12:08:46.742Z"
   },
   {
    "duration": 33,
    "start_time": "2022-05-06T12:08:46.750Z"
   },
   {
    "duration": 16,
    "start_time": "2022-05-06T12:08:46.785Z"
   },
   {
    "duration": 5,
    "start_time": "2022-05-06T12:13:12.126Z"
   },
   {
    "duration": 82,
    "start_time": "2022-05-06T12:13:36.186Z"
   },
   {
    "duration": 13,
    "start_time": "2022-05-06T12:13:36.270Z"
   },
   {
    "duration": 16,
    "start_time": "2022-05-06T12:13:36.285Z"
   },
   {
    "duration": 16,
    "start_time": "2022-05-06T12:13:36.334Z"
   },
   {
    "duration": 4,
    "start_time": "2022-05-06T12:13:36.352Z"
   },
   {
    "duration": 19,
    "start_time": "2022-05-06T12:13:36.357Z"
   },
   {
    "duration": 7,
    "start_time": "2022-05-06T12:13:36.378Z"
   },
   {
    "duration": 21,
    "start_time": "2022-05-06T12:13:36.386Z"
   },
   {
    "duration": 32,
    "start_time": "2022-05-06T12:13:36.409Z"
   },
   {
    "duration": 8,
    "start_time": "2022-05-06T12:13:36.445Z"
   },
   {
    "duration": 13,
    "start_time": "2022-05-06T12:13:36.454Z"
   },
   {
    "duration": 14,
    "start_time": "2022-05-06T12:13:36.469Z"
   },
   {
    "duration": 16,
    "start_time": "2022-05-06T12:13:36.485Z"
   },
   {
    "duration": 8,
    "start_time": "2022-05-06T12:13:36.503Z"
   },
   {
    "duration": 21,
    "start_time": "2022-05-06T12:13:36.513Z"
   },
   {
    "duration": 6,
    "start_time": "2022-05-06T12:13:36.536Z"
   },
   {
    "duration": 5,
    "start_time": "2022-05-06T12:13:36.544Z"
   },
   {
    "duration": 19,
    "start_time": "2022-05-06T12:13:36.551Z"
   },
   {
    "duration": 5,
    "start_time": "2022-05-06T12:13:36.572Z"
   },
   {
    "duration": 9,
    "start_time": "2022-05-06T12:13:36.578Z"
   },
   {
    "duration": 45,
    "start_time": "2022-05-06T12:13:36.589Z"
   },
   {
    "duration": 6,
    "start_time": "2022-05-06T12:13:36.637Z"
   },
   {
    "duration": 8,
    "start_time": "2022-05-06T12:13:36.645Z"
   },
   {
    "duration": 5,
    "start_time": "2022-05-06T12:13:36.655Z"
   },
   {
    "duration": 13,
    "start_time": "2022-05-06T12:13:36.662Z"
   },
   {
    "duration": 13,
    "start_time": "2022-05-06T12:13:36.677Z"
   },
   {
    "duration": 42,
    "start_time": "2022-05-06T12:13:36.691Z"
   },
   {
    "duration": 16,
    "start_time": "2022-05-06T12:13:36.737Z"
   },
   {
    "duration": 16,
    "start_time": "2022-05-06T12:13:36.754Z"
   },
   {
    "duration": 21,
    "start_time": "2022-05-06T12:13:36.772Z"
   },
   {
    "duration": 47,
    "start_time": "2022-05-06T12:13:36.794Z"
   },
   {
    "duration": 14,
    "start_time": "2022-05-06T12:13:36.843Z"
   },
   {
    "duration": 15,
    "start_time": "2022-05-06T12:13:36.858Z"
   },
   {
    "duration": 16,
    "start_time": "2022-05-06T12:13:36.875Z"
   },
   {
    "duration": 44,
    "start_time": "2022-05-06T12:13:36.893Z"
   },
   {
    "duration": 16,
    "start_time": "2022-05-06T12:13:36.939Z"
   },
   {
    "duration": 17,
    "start_time": "2022-05-06T12:13:36.957Z"
   },
   {
    "duration": 20,
    "start_time": "2022-05-06T12:13:36.977Z"
   },
   {
    "duration": 50,
    "start_time": "2022-05-06T12:13:36.999Z"
   },
   {
    "duration": 25,
    "start_time": "2022-05-06T12:13:37.050Z"
   },
   {
    "duration": 6,
    "start_time": "2022-05-06T12:13:37.076Z"
   },
   {
    "duration": 10,
    "start_time": "2022-05-06T12:13:37.083Z"
   },
   {
    "duration": 10,
    "start_time": "2022-05-06T12:13:37.094Z"
   },
   {
    "duration": 35,
    "start_time": "2022-05-06T12:13:37.105Z"
   },
   {
    "duration": 157,
    "start_time": "2022-05-06T12:13:37.142Z"
   },
   {
    "duration": 154,
    "start_time": "2022-05-06T12:13:37.300Z"
   },
   {
    "duration": 16,
    "start_time": "2022-05-06T12:13:37.456Z"
   },
   {
    "duration": 17,
    "start_time": "2022-05-06T12:13:37.473Z"
   },
   {
    "duration": 6,
    "start_time": "2022-05-06T12:13:37.492Z"
   },
   {
    "duration": 44,
    "start_time": "2022-05-06T12:13:37.500Z"
   },
   {
    "duration": 10,
    "start_time": "2022-05-06T12:13:37.545Z"
   },
   {
    "duration": 10,
    "start_time": "2022-05-06T12:13:37.557Z"
   },
   {
    "duration": 17,
    "start_time": "2022-05-06T12:13:37.569Z"
   },
   {
    "duration": 7,
    "start_time": "2022-05-06T12:13:37.588Z"
   },
   {
    "duration": 17,
    "start_time": "2022-05-06T12:13:37.634Z"
   },
   {
    "duration": 8,
    "start_time": "2022-05-06T12:13:37.653Z"
   },
   {
    "duration": 7,
    "start_time": "2022-05-06T12:26:12.356Z"
   },
   {
    "duration": 72,
    "start_time": "2022-05-06T12:29:51.032Z"
   },
   {
    "duration": 29,
    "start_time": "2022-05-06T12:29:51.106Z"
   },
   {
    "duration": 28,
    "start_time": "2022-05-06T12:29:51.137Z"
   },
   {
    "duration": 16,
    "start_time": "2022-05-06T12:29:51.167Z"
   },
   {
    "duration": 4,
    "start_time": "2022-05-06T12:29:51.185Z"
   },
   {
    "duration": 13,
    "start_time": "2022-05-06T12:29:51.192Z"
   },
   {
    "duration": 29,
    "start_time": "2022-05-06T12:29:51.207Z"
   },
   {
    "duration": 14,
    "start_time": "2022-05-06T12:29:51.239Z"
   },
   {
    "duration": 19,
    "start_time": "2022-05-06T12:29:51.255Z"
   },
   {
    "duration": 6,
    "start_time": "2022-05-06T12:29:51.278Z"
   },
   {
    "duration": 7,
    "start_time": "2022-05-06T12:29:51.285Z"
   },
   {
    "duration": 6,
    "start_time": "2022-05-06T12:29:51.294Z"
   },
   {
    "duration": 6,
    "start_time": "2022-05-06T12:29:51.334Z"
   },
   {
    "duration": 5,
    "start_time": "2022-05-06T12:29:51.342Z"
   },
   {
    "duration": 10,
    "start_time": "2022-05-06T12:29:51.349Z"
   },
   {
    "duration": 6,
    "start_time": "2022-05-06T12:29:51.361Z"
   },
   {
    "duration": 6,
    "start_time": "2022-05-06T12:29:51.369Z"
   },
   {
    "duration": 61,
    "start_time": "2022-05-06T12:29:51.377Z"
   },
   {
    "duration": 5,
    "start_time": "2022-05-06T12:29:51.440Z"
   },
   {
    "duration": 10,
    "start_time": "2022-05-06T12:29:51.447Z"
   },
   {
    "duration": 7,
    "start_time": "2022-05-06T12:29:51.459Z"
   },
   {
    "duration": 8,
    "start_time": "2022-05-06T12:29:51.467Z"
   },
   {
    "duration": 8,
    "start_time": "2022-05-06T12:29:51.476Z"
   },
   {
    "duration": 7,
    "start_time": "2022-05-06T12:29:51.485Z"
   },
   {
    "duration": 51,
    "start_time": "2022-05-06T12:29:51.493Z"
   },
   {
    "duration": 20,
    "start_time": "2022-05-06T12:29:51.545Z"
   },
   {
    "duration": 5,
    "start_time": "2022-05-06T12:29:51.566Z"
   },
   {
    "duration": 16,
    "start_time": "2022-05-06T12:29:51.575Z"
   },
   {
    "duration": 16,
    "start_time": "2022-05-06T12:29:51.593Z"
   },
   {
    "duration": 37,
    "start_time": "2022-05-06T12:29:51.611Z"
   },
   {
    "duration": 20,
    "start_time": "2022-05-06T12:29:51.650Z"
   },
   {
    "duration": 18,
    "start_time": "2022-05-06T12:29:51.672Z"
   },
   {
    "duration": 41,
    "start_time": "2022-05-06T12:29:51.692Z"
   },
   {
    "duration": 18,
    "start_time": "2022-05-06T12:29:51.735Z"
   },
   {
    "duration": 20,
    "start_time": "2022-05-06T12:29:51.755Z"
   },
   {
    "duration": 17,
    "start_time": "2022-05-06T12:29:51.777Z"
   },
   {
    "duration": 47,
    "start_time": "2022-05-06T12:29:51.796Z"
   },
   {
    "duration": 21,
    "start_time": "2022-05-06T12:29:51.845Z"
   },
   {
    "duration": 23,
    "start_time": "2022-05-06T12:29:51.867Z"
   },
   {
    "duration": 22,
    "start_time": "2022-05-06T12:29:51.891Z"
   },
   {
    "duration": 43,
    "start_time": "2022-05-06T12:29:51.914Z"
   },
   {
    "duration": 6,
    "start_time": "2022-05-06T12:29:51.959Z"
   },
   {
    "duration": 12,
    "start_time": "2022-05-06T12:29:51.967Z"
   },
   {
    "duration": 11,
    "start_time": "2022-05-06T12:29:51.981Z"
   },
   {
    "duration": 24,
    "start_time": "2022-05-06T12:29:51.994Z"
   },
   {
    "duration": 156,
    "start_time": "2022-05-06T12:29:52.020Z"
   },
   {
    "duration": 149,
    "start_time": "2022-05-06T12:29:52.178Z"
   },
   {
    "duration": 14,
    "start_time": "2022-05-06T12:29:52.333Z"
   },
   {
    "duration": 14,
    "start_time": "2022-05-06T12:29:52.349Z"
   },
   {
    "duration": 8,
    "start_time": "2022-05-06T12:29:52.364Z"
   },
   {
    "duration": 16,
    "start_time": "2022-05-06T12:29:52.374Z"
   },
   {
    "duration": 11,
    "start_time": "2022-05-06T12:29:52.391Z"
   },
   {
    "duration": 30,
    "start_time": "2022-05-06T12:29:52.404Z"
   },
   {
    "duration": 19,
    "start_time": "2022-05-06T12:29:52.436Z"
   },
   {
    "duration": 7,
    "start_time": "2022-05-06T12:29:52.457Z"
   },
   {
    "duration": 23,
    "start_time": "2022-05-06T12:29:52.465Z"
   },
   {
    "duration": 8,
    "start_time": "2022-05-06T12:29:52.490Z"
   },
   {
    "duration": 64,
    "start_time": "2022-05-06T12:30:15.977Z"
   },
   {
    "duration": 15,
    "start_time": "2022-05-06T12:30:16.043Z"
   },
   {
    "duration": 17,
    "start_time": "2022-05-06T12:30:16.060Z"
   },
   {
    "duration": 18,
    "start_time": "2022-05-06T12:30:16.079Z"
   },
   {
    "duration": 36,
    "start_time": "2022-05-06T12:30:16.099Z"
   },
   {
    "duration": 17,
    "start_time": "2022-05-06T12:30:16.137Z"
   },
   {
    "duration": 7,
    "start_time": "2022-05-06T12:30:16.156Z"
   },
   {
    "duration": 16,
    "start_time": "2022-05-06T12:30:16.164Z"
   },
   {
    "duration": 20,
    "start_time": "2022-05-06T12:30:16.182Z"
   },
   {
    "duration": 29,
    "start_time": "2022-05-06T12:30:16.204Z"
   },
   {
    "duration": 6,
    "start_time": "2022-05-06T12:30:16.235Z"
   },
   {
    "duration": 8,
    "start_time": "2022-05-06T12:30:16.242Z"
   },
   {
    "duration": 8,
    "start_time": "2022-05-06T12:30:16.251Z"
   },
   {
    "duration": 7,
    "start_time": "2022-05-06T12:30:16.260Z"
   },
   {
    "duration": 9,
    "start_time": "2022-05-06T12:30:16.269Z"
   },
   {
    "duration": 9,
    "start_time": "2022-05-06T12:30:16.279Z"
   },
   {
    "duration": 5,
    "start_time": "2022-05-06T12:30:16.290Z"
   },
   {
    "duration": 53,
    "start_time": "2022-05-06T12:30:16.297Z"
   },
   {
    "duration": 4,
    "start_time": "2022-05-06T12:30:16.352Z"
   },
   {
    "duration": 9,
    "start_time": "2022-05-06T12:30:16.358Z"
   },
   {
    "duration": 6,
    "start_time": "2022-05-06T12:30:16.369Z"
   },
   {
    "duration": 8,
    "start_time": "2022-05-06T12:30:16.376Z"
   },
   {
    "duration": 7,
    "start_time": "2022-05-06T12:30:16.385Z"
   },
   {
    "duration": 6,
    "start_time": "2022-05-06T12:30:16.393Z"
   },
   {
    "duration": 14,
    "start_time": "2022-05-06T12:30:16.434Z"
   },
   {
    "duration": 17,
    "start_time": "2022-05-06T12:30:16.450Z"
   },
   {
    "duration": 4,
    "start_time": "2022-05-06T12:30:16.469Z"
   },
   {
    "duration": 7,
    "start_time": "2022-05-06T12:30:16.478Z"
   },
   {
    "duration": 49,
    "start_time": "2022-05-06T12:30:16.487Z"
   },
   {
    "duration": 18,
    "start_time": "2022-05-06T12:30:16.537Z"
   },
   {
    "duration": 21,
    "start_time": "2022-05-06T12:30:16.557Z"
   },
   {
    "duration": 18,
    "start_time": "2022-05-06T12:30:16.579Z"
   },
   {
    "duration": 41,
    "start_time": "2022-05-06T12:30:16.599Z"
   },
   {
    "duration": 15,
    "start_time": "2022-05-06T12:30:16.642Z"
   },
   {
    "duration": 16,
    "start_time": "2022-05-06T12:30:16.659Z"
   },
   {
    "duration": 15,
    "start_time": "2022-05-06T12:30:16.676Z"
   },
   {
    "duration": 45,
    "start_time": "2022-05-06T12:30:16.693Z"
   },
   {
    "duration": 18,
    "start_time": "2022-05-06T12:30:16.739Z"
   },
   {
    "duration": 19,
    "start_time": "2022-05-06T12:30:16.759Z"
   },
   {
    "duration": 26,
    "start_time": "2022-05-06T12:30:16.780Z"
   },
   {
    "duration": 45,
    "start_time": "2022-05-06T12:30:16.808Z"
   },
   {
    "duration": 6,
    "start_time": "2022-05-06T12:30:16.855Z"
   },
   {
    "duration": 11,
    "start_time": "2022-05-06T12:30:16.862Z"
   },
   {
    "duration": 9,
    "start_time": "2022-05-06T12:30:16.875Z"
   },
   {
    "duration": 16,
    "start_time": "2022-05-06T12:30:16.885Z"
   },
   {
    "duration": 164,
    "start_time": "2022-05-06T12:30:16.902Z"
   },
   {
    "duration": 150,
    "start_time": "2022-05-06T12:30:17.068Z"
   },
   {
    "duration": 21,
    "start_time": "2022-05-06T12:30:17.219Z"
   },
   {
    "duration": 14,
    "start_time": "2022-05-06T12:30:17.242Z"
   },
   {
    "duration": 5,
    "start_time": "2022-05-06T12:30:17.258Z"
   },
   {
    "duration": 16,
    "start_time": "2022-05-06T12:30:17.264Z"
   },
   {
    "duration": 6,
    "start_time": "2022-05-06T12:30:17.281Z"
   },
   {
    "duration": 9,
    "start_time": "2022-05-06T12:30:17.288Z"
   },
   {
    "duration": 49,
    "start_time": "2022-05-06T12:30:17.299Z"
   },
   {
    "duration": 7,
    "start_time": "2022-05-06T12:30:17.350Z"
   },
   {
    "duration": 20,
    "start_time": "2022-05-06T12:30:17.358Z"
   },
   {
    "duration": 8,
    "start_time": "2022-05-06T12:30:17.379Z"
   },
   {
    "duration": 531,
    "start_time": "2022-05-06T12:32:16.425Z"
   },
   {
    "duration": 20,
    "start_time": "2022-05-06T12:32:16.958Z"
   },
   {
    "duration": 14,
    "start_time": "2022-05-06T12:32:16.980Z"
   },
   {
    "duration": 20,
    "start_time": "2022-05-06T12:32:16.996Z"
   },
   {
    "duration": 4,
    "start_time": "2022-05-06T12:32:17.033Z"
   },
   {
    "duration": 13,
    "start_time": "2022-05-06T12:32:17.039Z"
   },
   {
    "duration": 6,
    "start_time": "2022-05-06T12:32:17.053Z"
   },
   {
    "duration": 12,
    "start_time": "2022-05-06T12:32:17.061Z"
   },
   {
    "duration": 15,
    "start_time": "2022-05-06T12:32:17.075Z"
   },
   {
    "duration": 6,
    "start_time": "2022-05-06T12:32:17.093Z"
   },
   {
    "duration": 35,
    "start_time": "2022-05-06T12:32:17.101Z"
   },
   {
    "duration": 8,
    "start_time": "2022-05-06T12:32:17.138Z"
   },
   {
    "duration": 6,
    "start_time": "2022-05-06T12:32:17.148Z"
   },
   {
    "duration": 6,
    "start_time": "2022-05-06T12:32:17.155Z"
   },
   {
    "duration": 7,
    "start_time": "2022-05-06T12:32:17.163Z"
   },
   {
    "duration": 10,
    "start_time": "2022-05-06T12:32:17.171Z"
   },
   {
    "duration": 6,
    "start_time": "2022-05-06T12:32:17.182Z"
   },
   {
    "duration": 52,
    "start_time": "2022-05-06T12:32:17.190Z"
   },
   {
    "duration": 4,
    "start_time": "2022-05-06T12:32:17.244Z"
   },
   {
    "duration": 8,
    "start_time": "2022-05-06T12:32:17.250Z"
   },
   {
    "duration": 6,
    "start_time": "2022-05-06T12:32:17.259Z"
   },
   {
    "duration": 6,
    "start_time": "2022-05-06T12:32:17.267Z"
   },
   {
    "duration": 7,
    "start_time": "2022-05-06T12:32:17.275Z"
   },
   {
    "duration": 5,
    "start_time": "2022-05-06T12:32:17.283Z"
   },
   {
    "duration": 56,
    "start_time": "2022-05-06T12:32:17.290Z"
   },
   {
    "duration": 14,
    "start_time": "2022-05-06T12:32:17.349Z"
   },
   {
    "duration": 6,
    "start_time": "2022-05-06T12:32:17.365Z"
   },
   {
    "duration": 8,
    "start_time": "2022-05-06T12:32:17.376Z"
   },
   {
    "duration": 16,
    "start_time": "2022-05-06T12:32:17.386Z"
   },
   {
    "duration": 19,
    "start_time": "2022-05-06T12:32:17.434Z"
   },
   {
    "duration": 21,
    "start_time": "2022-05-06T12:32:17.455Z"
   },
   {
    "duration": 19,
    "start_time": "2022-05-06T12:32:17.477Z"
   },
   {
    "duration": 45,
    "start_time": "2022-05-06T12:32:17.498Z"
   },
   {
    "duration": 18,
    "start_time": "2022-05-06T12:32:17.545Z"
   },
   {
    "duration": 17,
    "start_time": "2022-05-06T12:32:17.565Z"
   },
   {
    "duration": 16,
    "start_time": "2022-05-06T12:32:17.584Z"
   },
   {
    "duration": 18,
    "start_time": "2022-05-06T12:32:17.633Z"
   },
   {
    "duration": 20,
    "start_time": "2022-05-06T12:32:17.653Z"
   },
   {
    "duration": 24,
    "start_time": "2022-05-06T12:32:17.675Z"
   },
   {
    "duration": 52,
    "start_time": "2022-05-06T12:32:17.701Z"
   },
   {
    "duration": 28,
    "start_time": "2022-05-06T12:32:17.755Z"
   },
   {
    "duration": 6,
    "start_time": "2022-05-06T12:32:17.785Z"
   },
   {
    "duration": 16,
    "start_time": "2022-05-06T12:32:17.793Z"
   },
   {
    "duration": 9,
    "start_time": "2022-05-06T12:32:17.833Z"
   },
   {
    "duration": 15,
    "start_time": "2022-05-06T12:32:17.844Z"
   },
   {
    "duration": 158,
    "start_time": "2022-05-06T12:32:17.861Z"
   },
   {
    "duration": 157,
    "start_time": "2022-05-06T12:32:18.021Z"
   },
   {
    "duration": 15,
    "start_time": "2022-05-06T12:32:18.180Z"
   },
   {
    "duration": 15,
    "start_time": "2022-05-06T12:32:18.197Z"
   },
   {
    "duration": 23,
    "start_time": "2022-05-06T12:32:18.214Z"
   },
   {
    "duration": 15,
    "start_time": "2022-05-06T12:32:18.239Z"
   },
   {
    "duration": 6,
    "start_time": "2022-05-06T12:32:18.256Z"
   },
   {
    "duration": 8,
    "start_time": "2022-05-06T12:32:18.263Z"
   },
   {
    "duration": 18,
    "start_time": "2022-05-06T12:32:18.272Z"
   },
   {
    "duration": 7,
    "start_time": "2022-05-06T12:32:18.291Z"
   },
   {
    "duration": 17,
    "start_time": "2022-05-06T12:32:18.332Z"
   },
   {
    "duration": 7,
    "start_time": "2022-05-06T12:32:18.350Z"
   },
   {
    "duration": 17,
    "start_time": "2022-05-06T13:35:47.634Z"
   },
   {
    "duration": 24,
    "start_time": "2022-05-06T13:37:38.751Z"
   },
   {
    "duration": 15,
    "start_time": "2022-05-06T13:42:47.300Z"
   },
   {
    "duration": 15,
    "start_time": "2022-05-06T13:43:31.254Z"
   },
   {
    "duration": 18,
    "start_time": "2022-05-06T13:44:40.859Z"
   },
   {
    "duration": 15,
    "start_time": "2022-05-06T13:52:08.390Z"
   },
   {
    "duration": 14,
    "start_time": "2022-05-06T14:23:46.173Z"
   },
   {
    "duration": 85,
    "start_time": "2022-05-06T14:59:46.822Z"
   },
   {
    "duration": 75,
    "start_time": "2022-05-06T15:00:10.258Z"
   },
   {
    "duration": 14,
    "start_time": "2022-05-06T15:00:10.335Z"
   },
   {
    "duration": 44,
    "start_time": "2022-05-06T15:00:10.351Z"
   },
   {
    "duration": 25,
    "start_time": "2022-05-06T15:00:10.398Z"
   },
   {
    "duration": 5,
    "start_time": "2022-05-06T15:00:10.425Z"
   },
   {
    "duration": 38,
    "start_time": "2022-05-06T15:00:10.431Z"
   },
   {
    "duration": 22,
    "start_time": "2022-05-06T15:00:10.470Z"
   },
   {
    "duration": 23,
    "start_time": "2022-05-06T15:00:10.493Z"
   },
   {
    "duration": 32,
    "start_time": "2022-05-06T15:00:10.517Z"
   },
   {
    "duration": 16,
    "start_time": "2022-05-06T15:00:10.552Z"
   },
   {
    "duration": 16,
    "start_time": "2022-05-06T15:00:10.570Z"
   },
   {
    "duration": 11,
    "start_time": "2022-05-06T15:00:10.588Z"
   },
   {
    "duration": 24,
    "start_time": "2022-05-06T15:00:10.601Z"
   },
   {
    "duration": 18,
    "start_time": "2022-05-06T15:00:10.627Z"
   },
   {
    "duration": 22,
    "start_time": "2022-05-06T15:00:10.647Z"
   },
   {
    "duration": 37,
    "start_time": "2022-05-06T15:00:10.671Z"
   },
   {
    "duration": 18,
    "start_time": "2022-05-06T15:00:10.710Z"
   },
   {
    "duration": 32,
    "start_time": "2022-05-06T15:00:10.730Z"
   },
   {
    "duration": 26,
    "start_time": "2022-05-06T15:00:10.764Z"
   },
   {
    "duration": 11,
    "start_time": "2022-05-06T15:00:10.792Z"
   },
   {
    "duration": 31,
    "start_time": "2022-05-06T15:00:10.805Z"
   },
   {
    "duration": 23,
    "start_time": "2022-05-06T15:00:10.838Z"
   },
   {
    "duration": 30,
    "start_time": "2022-05-06T15:00:10.863Z"
   },
   {
    "duration": 17,
    "start_time": "2022-05-06T15:00:10.896Z"
   },
   {
    "duration": 23,
    "start_time": "2022-05-06T15:00:10.914Z"
   },
   {
    "duration": 21,
    "start_time": "2022-05-06T15:00:10.939Z"
   },
   {
    "duration": 23,
    "start_time": "2022-05-06T15:00:10.962Z"
   },
   {
    "duration": 7,
    "start_time": "2022-05-06T15:00:10.990Z"
   },
   {
    "duration": 30,
    "start_time": "2022-05-06T15:00:10.999Z"
   },
   {
    "duration": 21,
    "start_time": "2022-05-06T15:00:11.030Z"
   },
   {
    "duration": 28,
    "start_time": "2022-05-06T15:00:11.053Z"
   },
   {
    "duration": 19,
    "start_time": "2022-05-06T15:00:11.083Z"
   },
   {
    "duration": 30,
    "start_time": "2022-05-06T15:00:11.104Z"
   },
   {
    "duration": 20,
    "start_time": "2022-05-06T15:00:11.136Z"
   },
   {
    "duration": 19,
    "start_time": "2022-05-06T15:00:11.158Z"
   },
   {
    "duration": 32,
    "start_time": "2022-05-06T15:00:11.179Z"
   },
   {
    "duration": 37,
    "start_time": "2022-05-06T15:00:11.213Z"
   },
   {
    "duration": 23,
    "start_time": "2022-05-06T15:00:11.252Z"
   },
   {
    "duration": 26,
    "start_time": "2022-05-06T15:00:11.277Z"
   },
   {
    "duration": 29,
    "start_time": "2022-05-06T15:00:11.305Z"
   },
   {
    "duration": 26,
    "start_time": "2022-05-06T15:00:11.336Z"
   },
   {
    "duration": 6,
    "start_time": "2022-05-06T15:00:11.364Z"
   },
   {
    "duration": 34,
    "start_time": "2022-05-06T15:00:11.372Z"
   },
   {
    "duration": 22,
    "start_time": "2022-05-06T15:00:11.408Z"
   },
   {
    "duration": 29,
    "start_time": "2022-05-06T15:00:11.432Z"
   },
   {
    "duration": 160,
    "start_time": "2022-05-06T15:00:11.463Z"
   },
   {
    "duration": 159,
    "start_time": "2022-05-06T15:00:11.625Z"
   },
   {
    "duration": 18,
    "start_time": "2022-05-06T15:00:11.786Z"
   },
   {
    "duration": 36,
    "start_time": "2022-05-06T15:00:11.805Z"
   },
   {
    "duration": 6,
    "start_time": "2022-05-06T15:00:11.842Z"
   },
   {
    "duration": 42,
    "start_time": "2022-05-06T15:00:11.850Z"
   },
   {
    "duration": 0,
    "start_time": "2022-05-06T15:00:11.894Z"
   },
   {
    "duration": 0,
    "start_time": "2022-05-06T15:00:11.896Z"
   },
   {
    "duration": 0,
    "start_time": "2022-05-06T15:00:11.897Z"
   },
   {
    "duration": 0,
    "start_time": "2022-05-06T15:00:11.898Z"
   },
   {
    "duration": 0,
    "start_time": "2022-05-06T15:00:11.899Z"
   },
   {
    "duration": 0,
    "start_time": "2022-05-06T15:00:11.900Z"
   },
   {
    "duration": 0,
    "start_time": "2022-05-06T15:00:11.901Z"
   },
   {
    "duration": 21,
    "start_time": "2022-05-06T15:00:49.428Z"
   },
   {
    "duration": 66,
    "start_time": "2022-05-06T15:05:29.573Z"
   },
   {
    "duration": 15,
    "start_time": "2022-05-06T15:05:29.641Z"
   },
   {
    "duration": 18,
    "start_time": "2022-05-06T15:05:29.657Z"
   },
   {
    "duration": 19,
    "start_time": "2022-05-06T15:05:29.678Z"
   },
   {
    "duration": 4,
    "start_time": "2022-05-06T15:05:29.700Z"
   },
   {
    "duration": 12,
    "start_time": "2022-05-06T15:05:29.734Z"
   },
   {
    "duration": 7,
    "start_time": "2022-05-06T15:05:29.748Z"
   },
   {
    "duration": 15,
    "start_time": "2022-05-06T15:05:29.757Z"
   },
   {
    "duration": 17,
    "start_time": "2022-05-06T15:05:29.773Z"
   },
   {
    "duration": 42,
    "start_time": "2022-05-06T15:05:29.793Z"
   },
   {
    "duration": 6,
    "start_time": "2022-05-06T15:05:29.836Z"
   },
   {
    "duration": 8,
    "start_time": "2022-05-06T15:05:29.844Z"
   },
   {
    "duration": 6,
    "start_time": "2022-05-06T15:05:29.854Z"
   },
   {
    "duration": 8,
    "start_time": "2022-05-06T15:05:29.862Z"
   },
   {
    "duration": 8,
    "start_time": "2022-05-06T15:05:29.872Z"
   },
   {
    "duration": 7,
    "start_time": "2022-05-06T15:05:29.882Z"
   },
   {
    "duration": 44,
    "start_time": "2022-05-06T15:05:29.891Z"
   },
   {
    "duration": 21,
    "start_time": "2022-05-06T15:05:29.937Z"
   },
   {
    "duration": 5,
    "start_time": "2022-05-06T15:05:29.960Z"
   },
   {
    "duration": 9,
    "start_time": "2022-05-06T15:05:29.966Z"
   },
   {
    "duration": 7,
    "start_time": "2022-05-06T15:05:29.977Z"
   },
   {
    "duration": 9,
    "start_time": "2022-05-06T15:05:29.986Z"
   },
   {
    "duration": 41,
    "start_time": "2022-05-06T15:05:29.997Z"
   },
   {
    "duration": 6,
    "start_time": "2022-05-06T15:05:30.040Z"
   },
   {
    "duration": 20,
    "start_time": "2022-05-06T15:05:30.048Z"
   },
   {
    "duration": 18,
    "start_time": "2022-05-06T15:05:30.070Z"
   },
   {
    "duration": 11,
    "start_time": "2022-05-06T15:05:30.090Z"
   },
   {
    "duration": 28,
    "start_time": "2022-05-06T15:05:30.106Z"
   },
   {
    "duration": 24,
    "start_time": "2022-05-06T15:05:30.136Z"
   },
   {
    "duration": 24,
    "start_time": "2022-05-06T15:05:30.162Z"
   },
   {
    "duration": 21,
    "start_time": "2022-05-06T15:05:30.188Z"
   },
   {
    "duration": 35,
    "start_time": "2022-05-06T15:05:30.211Z"
   },
   {
    "duration": 18,
    "start_time": "2022-05-06T15:05:30.248Z"
   },
   {
    "duration": 27,
    "start_time": "2022-05-06T15:05:30.268Z"
   },
   {
    "duration": 37,
    "start_time": "2022-05-06T15:05:30.297Z"
   },
   {
    "duration": 18,
    "start_time": "2022-05-06T15:05:30.336Z"
   },
   {
    "duration": 30,
    "start_time": "2022-05-06T15:05:30.356Z"
   },
   {
    "duration": 23,
    "start_time": "2022-05-06T15:05:30.388Z"
   },
   {
    "duration": 42,
    "start_time": "2022-05-06T15:05:30.413Z"
   },
   {
    "duration": 47,
    "start_time": "2022-05-06T15:05:30.457Z"
   },
   {
    "duration": 51,
    "start_time": "2022-05-06T15:05:30.505Z"
   },
   {
    "duration": 10,
    "start_time": "2022-05-06T15:05:30.558Z"
   },
   {
    "duration": 21,
    "start_time": "2022-05-06T15:05:30.570Z"
   },
   {
    "duration": 31,
    "start_time": "2022-05-06T15:05:30.593Z"
   },
   {
    "duration": 34,
    "start_time": "2022-05-06T15:05:30.625Z"
   },
   {
    "duration": 171,
    "start_time": "2022-05-06T15:05:30.661Z"
   },
   {
    "duration": 165,
    "start_time": "2022-05-06T15:05:30.834Z"
   },
   {
    "duration": 16,
    "start_time": "2022-05-06T15:05:31.001Z"
   },
   {
    "duration": 29,
    "start_time": "2022-05-06T15:05:31.019Z"
   },
   {
    "duration": 20,
    "start_time": "2022-05-06T15:05:31.050Z"
   },
   {
    "duration": 24,
    "start_time": "2022-05-06T15:05:31.071Z"
   },
   {
    "duration": 14,
    "start_time": "2022-05-06T15:05:31.096Z"
   },
   {
    "duration": 23,
    "start_time": "2022-05-06T15:05:31.111Z"
   },
   {
    "duration": 80,
    "start_time": "2022-05-06T15:05:31.137Z"
   },
   {
    "duration": 22,
    "start_time": "2022-05-06T15:05:31.218Z"
   },
   {
    "duration": 34,
    "start_time": "2022-05-06T15:05:31.242Z"
   },
   {
    "duration": 39,
    "start_time": "2022-05-06T15:05:31.278Z"
   },
   {
    "duration": 8,
    "start_time": "2022-05-06T15:10:19.400Z"
   },
   {
    "duration": 79,
    "start_time": "2022-05-06T15:10:22.443Z"
   },
   {
    "duration": 20,
    "start_time": "2022-05-06T15:10:22.525Z"
   },
   {
    "duration": 16,
    "start_time": "2022-05-06T15:10:22.546Z"
   },
   {
    "duration": 19,
    "start_time": "2022-05-06T15:10:22.564Z"
   },
   {
    "duration": 4,
    "start_time": "2022-05-06T15:10:22.585Z"
   },
   {
    "duration": 17,
    "start_time": "2022-05-06T15:10:22.591Z"
   },
   {
    "duration": 28,
    "start_time": "2022-05-06T15:10:22.610Z"
   },
   {
    "duration": 14,
    "start_time": "2022-05-06T15:10:22.639Z"
   },
   {
    "duration": 18,
    "start_time": "2022-05-06T15:10:22.654Z"
   },
   {
    "duration": 8,
    "start_time": "2022-05-06T15:10:22.675Z"
   },
   {
    "duration": 9,
    "start_time": "2022-05-06T15:10:22.685Z"
   },
   {
    "duration": 6,
    "start_time": "2022-05-06T15:10:22.696Z"
   },
   {
    "duration": 33,
    "start_time": "2022-05-06T15:10:22.703Z"
   },
   {
    "duration": 5,
    "start_time": "2022-05-06T15:10:22.737Z"
   },
   {
    "duration": 11,
    "start_time": "2022-05-06T15:10:22.743Z"
   },
   {
    "duration": 13,
    "start_time": "2022-05-06T15:10:22.756Z"
   },
   {
    "duration": 18,
    "start_time": "2022-05-06T15:10:22.771Z"
   },
   {
    "duration": 47,
    "start_time": "2022-05-06T15:10:22.791Z"
   },
   {
    "duration": 24,
    "start_time": "2022-05-06T15:10:22.839Z"
   },
   {
    "duration": 8,
    "start_time": "2022-05-06T15:10:22.865Z"
   },
   {
    "duration": 14,
    "start_time": "2022-05-06T15:10:22.875Z"
   },
   {
    "duration": 12,
    "start_time": "2022-05-06T15:10:22.890Z"
   },
   {
    "duration": 5,
    "start_time": "2022-05-06T15:10:22.904Z"
   },
   {
    "duration": 6,
    "start_time": "2022-05-06T15:10:22.911Z"
   },
   {
    "duration": 22,
    "start_time": "2022-05-06T15:10:22.918Z"
   },
   {
    "duration": 21,
    "start_time": "2022-05-06T15:10:22.942Z"
   },
   {
    "duration": 10,
    "start_time": "2022-05-06T15:10:22.967Z"
   },
   {
    "duration": 12,
    "start_time": "2022-05-06T15:10:22.982Z"
   },
   {
    "duration": 28,
    "start_time": "2022-05-06T15:10:22.996Z"
   },
   {
    "duration": 18,
    "start_time": "2022-05-06T15:10:23.034Z"
   },
   {
    "duration": 27,
    "start_time": "2022-05-06T15:10:23.054Z"
   },
   {
    "duration": 20,
    "start_time": "2022-05-06T15:10:23.083Z"
   },
   {
    "duration": 42,
    "start_time": "2022-05-06T15:10:23.105Z"
   },
   {
    "duration": 25,
    "start_time": "2022-05-06T15:10:23.149Z"
   },
   {
    "duration": 26,
    "start_time": "2022-05-06T15:10:23.177Z"
   },
   {
    "duration": 49,
    "start_time": "2022-05-06T15:10:23.206Z"
   },
   {
    "duration": 27,
    "start_time": "2022-05-06T15:10:23.257Z"
   },
   {
    "duration": 25,
    "start_time": "2022-05-06T15:10:23.286Z"
   },
   {
    "duration": 21,
    "start_time": "2022-05-06T15:10:23.334Z"
   },
   {
    "duration": 30,
    "start_time": "2022-05-06T15:10:23.357Z"
   },
   {
    "duration": 44,
    "start_time": "2022-05-06T15:10:23.389Z"
   },
   {
    "duration": 6,
    "start_time": "2022-05-06T15:10:23.435Z"
   },
   {
    "duration": 11,
    "start_time": "2022-05-06T15:10:23.443Z"
   },
   {
    "duration": 9,
    "start_time": "2022-05-06T15:10:23.456Z"
   },
   {
    "duration": 24,
    "start_time": "2022-05-06T15:10:23.467Z"
   },
   {
    "duration": 171,
    "start_time": "2022-05-06T15:10:23.493Z"
   },
   {
    "duration": 173,
    "start_time": "2022-05-06T15:10:23.666Z"
   },
   {
    "duration": 16,
    "start_time": "2022-05-06T15:10:23.841Z"
   },
   {
    "duration": 15,
    "start_time": "2022-05-06T15:10:23.858Z"
   },
   {
    "duration": 5,
    "start_time": "2022-05-06T15:10:23.875Z"
   },
   {
    "duration": 11,
    "start_time": "2022-05-06T15:10:23.882Z"
   },
   {
    "duration": 0,
    "start_time": "2022-05-06T15:10:23.894Z"
   },
   {
    "duration": 0,
    "start_time": "2022-05-06T15:10:23.895Z"
   },
   {
    "duration": 1,
    "start_time": "2022-05-06T15:10:23.896Z"
   },
   {
    "duration": 0,
    "start_time": "2022-05-06T15:10:23.898Z"
   },
   {
    "duration": 0,
    "start_time": "2022-05-06T15:10:23.934Z"
   },
   {
    "duration": 0,
    "start_time": "2022-05-06T15:10:23.935Z"
   },
   {
    "duration": 0,
    "start_time": "2022-05-06T15:10:23.937Z"
   },
   {
    "duration": 76,
    "start_time": "2022-05-06T15:10:40.141Z"
   },
   {
    "duration": 25,
    "start_time": "2022-05-06T15:10:40.220Z"
   },
   {
    "duration": 18,
    "start_time": "2022-05-06T15:10:40.247Z"
   },
   {
    "duration": 25,
    "start_time": "2022-05-06T15:10:40.267Z"
   },
   {
    "duration": 4,
    "start_time": "2022-05-06T15:10:40.294Z"
   },
   {
    "duration": 15,
    "start_time": "2022-05-06T15:10:40.300Z"
   },
   {
    "duration": 9,
    "start_time": "2022-05-06T15:10:40.334Z"
   },
   {
    "duration": 14,
    "start_time": "2022-05-06T15:10:40.345Z"
   },
   {
    "duration": 23,
    "start_time": "2022-05-06T15:10:40.361Z"
   },
   {
    "duration": 15,
    "start_time": "2022-05-06T15:10:40.387Z"
   },
   {
    "duration": 9,
    "start_time": "2022-05-06T15:10:40.404Z"
   },
   {
    "duration": 21,
    "start_time": "2022-05-06T15:10:40.414Z"
   },
   {
    "duration": 8,
    "start_time": "2022-05-06T15:10:40.437Z"
   },
   {
    "duration": 8,
    "start_time": "2022-05-06T15:10:40.447Z"
   },
   {
    "duration": 13,
    "start_time": "2022-05-06T15:10:40.456Z"
   },
   {
    "duration": 5,
    "start_time": "2022-05-06T15:10:40.471Z"
   },
   {
    "duration": 5,
    "start_time": "2022-05-06T15:10:40.478Z"
   },
   {
    "duration": 20,
    "start_time": "2022-05-06T15:10:40.485Z"
   },
   {
    "duration": 5,
    "start_time": "2022-05-06T15:10:40.534Z"
   },
   {
    "duration": 16,
    "start_time": "2022-05-06T15:10:40.540Z"
   },
   {
    "duration": 6,
    "start_time": "2022-05-06T15:10:40.558Z"
   },
   {
    "duration": 8,
    "start_time": "2022-05-06T15:10:40.565Z"
   },
   {
    "duration": 6,
    "start_time": "2022-05-06T15:10:40.574Z"
   },
   {
    "duration": 6,
    "start_time": "2022-05-06T15:10:40.582Z"
   },
   {
    "duration": 49,
    "start_time": "2022-05-06T15:10:40.590Z"
   },
   {
    "duration": 16,
    "start_time": "2022-05-06T15:10:40.641Z"
   },
   {
    "duration": 7,
    "start_time": "2022-05-06T15:10:40.660Z"
   },
   {
    "duration": 7,
    "start_time": "2022-05-06T15:10:40.672Z"
   },
   {
    "duration": 19,
    "start_time": "2022-05-06T15:10:40.681Z"
   },
   {
    "duration": 42,
    "start_time": "2022-05-06T15:10:40.701Z"
   },
   {
    "duration": 21,
    "start_time": "2022-05-06T15:10:40.745Z"
   },
   {
    "duration": 18,
    "start_time": "2022-05-06T15:10:40.767Z"
   },
   {
    "duration": 14,
    "start_time": "2022-05-06T15:10:40.787Z"
   },
   {
    "duration": 44,
    "start_time": "2022-05-06T15:10:40.803Z"
   },
   {
    "duration": 16,
    "start_time": "2022-05-06T15:10:40.849Z"
   },
   {
    "duration": 16,
    "start_time": "2022-05-06T15:10:40.867Z"
   },
   {
    "duration": 17,
    "start_time": "2022-05-06T15:10:40.885Z"
   },
   {
    "duration": 49,
    "start_time": "2022-05-06T15:10:40.903Z"
   },
   {
    "duration": 24,
    "start_time": "2022-05-06T15:10:40.954Z"
   },
   {
    "duration": 23,
    "start_time": "2022-05-06T15:10:40.980Z"
   },
   {
    "duration": 52,
    "start_time": "2022-05-06T15:10:41.005Z"
   },
   {
    "duration": 6,
    "start_time": "2022-05-06T15:10:41.059Z"
   },
   {
    "duration": 11,
    "start_time": "2022-05-06T15:10:41.067Z"
   },
   {
    "duration": 13,
    "start_time": "2022-05-06T15:10:41.080Z"
   },
   {
    "duration": 20,
    "start_time": "2022-05-06T15:10:41.095Z"
   },
   {
    "duration": 164,
    "start_time": "2022-05-06T15:10:41.116Z"
   },
   {
    "duration": 155,
    "start_time": "2022-05-06T15:10:41.282Z"
   },
   {
    "duration": 16,
    "start_time": "2022-05-06T15:10:41.438Z"
   },
   {
    "duration": 15,
    "start_time": "2022-05-06T15:10:41.456Z"
   },
   {
    "duration": 5,
    "start_time": "2022-05-06T15:10:41.473Z"
   },
   {
    "duration": 54,
    "start_time": "2022-05-06T15:10:41.479Z"
   },
   {
    "duration": 14,
    "start_time": "2022-05-06T15:10:41.535Z"
   },
   {
    "duration": 6,
    "start_time": "2022-05-06T15:10:41.550Z"
   },
   {
    "duration": 10,
    "start_time": "2022-05-06T15:10:41.558Z"
   },
   {
    "duration": 16,
    "start_time": "2022-05-06T15:10:41.570Z"
   },
   {
    "duration": 8,
    "start_time": "2022-05-06T15:10:41.588Z"
   },
   {
    "duration": 49,
    "start_time": "2022-05-06T15:10:41.597Z"
   },
   {
    "duration": 7,
    "start_time": "2022-05-06T15:10:41.648Z"
   },
   {
    "duration": 25,
    "start_time": "2022-05-06T15:10:58.177Z"
   },
   {
    "duration": 49,
    "start_time": "2022-05-06T15:11:34.627Z"
   },
   {
    "duration": 73,
    "start_time": "2022-05-06T18:02:58.008Z"
   },
   {
    "duration": 879,
    "start_time": "2022-05-06T18:03:09.764Z"
   },
   {
    "duration": 22,
    "start_time": "2022-05-06T18:03:10.646Z"
   },
   {
    "duration": 18,
    "start_time": "2022-05-06T18:03:10.670Z"
   },
   {
    "duration": 34,
    "start_time": "2022-05-06T18:03:10.691Z"
   },
   {
    "duration": 5,
    "start_time": "2022-05-06T18:03:10.727Z"
   },
   {
    "duration": 17,
    "start_time": "2022-05-06T18:03:10.734Z"
   },
   {
    "duration": 7,
    "start_time": "2022-05-06T18:03:10.753Z"
   },
   {
    "duration": 21,
    "start_time": "2022-05-06T18:03:10.762Z"
   },
   {
    "duration": 51,
    "start_time": "2022-05-06T18:03:10.785Z"
   },
   {
    "duration": 11,
    "start_time": "2022-05-06T18:03:10.842Z"
   },
   {
    "duration": 6,
    "start_time": "2022-05-06T18:03:10.855Z"
   },
   {
    "duration": 12,
    "start_time": "2022-05-06T18:03:10.863Z"
   },
   {
    "duration": 7,
    "start_time": "2022-05-06T18:03:10.877Z"
   },
   {
    "duration": 42,
    "start_time": "2022-05-06T18:03:10.886Z"
   },
   {
    "duration": 7,
    "start_time": "2022-05-06T18:03:10.931Z"
   },
   {
    "duration": 9,
    "start_time": "2022-05-06T18:03:10.939Z"
   },
   {
    "duration": 5,
    "start_time": "2022-05-06T18:03:10.950Z"
   },
   {
    "duration": 19,
    "start_time": "2022-05-06T18:03:10.957Z"
   },
   {
    "duration": 45,
    "start_time": "2022-05-06T18:03:10.978Z"
   },
   {
    "duration": 7,
    "start_time": "2022-05-06T18:03:11.025Z"
   },
   {
    "duration": 6,
    "start_time": "2022-05-06T18:03:11.034Z"
   },
   {
    "duration": 7,
    "start_time": "2022-05-06T18:03:11.041Z"
   },
   {
    "duration": 6,
    "start_time": "2022-05-06T18:03:11.050Z"
   },
   {
    "duration": 6,
    "start_time": "2022-05-06T18:03:11.058Z"
   },
   {
    "duration": 67,
    "start_time": "2022-05-06T18:03:11.066Z"
   },
   {
    "duration": 15,
    "start_time": "2022-05-06T18:03:11.136Z"
   },
   {
    "duration": 7,
    "start_time": "2022-05-06T18:03:11.153Z"
   },
   {
    "duration": 9,
    "start_time": "2022-05-06T18:03:11.166Z"
   },
   {
    "duration": 45,
    "start_time": "2022-05-06T18:03:11.178Z"
   },
   {
    "duration": 19,
    "start_time": "2022-05-06T18:03:11.225Z"
   },
   {
    "duration": 21,
    "start_time": "2022-05-06T18:03:11.246Z"
   },
   {
    "duration": 19,
    "start_time": "2022-05-06T18:03:11.270Z"
   },
   {
    "duration": 16,
    "start_time": "2022-05-06T18:03:11.323Z"
   },
   {
    "duration": 16,
    "start_time": "2022-05-06T18:03:11.342Z"
   },
   {
    "duration": 19,
    "start_time": "2022-05-06T18:03:11.361Z"
   },
   {
    "duration": 49,
    "start_time": "2022-05-06T18:03:11.383Z"
   },
   {
    "duration": 18,
    "start_time": "2022-05-06T18:03:11.433Z"
   },
   {
    "duration": 20,
    "start_time": "2022-05-06T18:03:11.454Z"
   },
   {
    "duration": 68,
    "start_time": "2022-05-06T18:03:11.476Z"
   },
   {
    "duration": 38,
    "start_time": "2022-05-06T18:03:11.547Z"
   },
   {
    "duration": 63,
    "start_time": "2022-05-06T18:03:11.587Z"
   },
   {
    "duration": 13,
    "start_time": "2022-05-06T18:03:11.652Z"
   },
   {
    "duration": 10,
    "start_time": "2022-05-06T18:03:11.667Z"
   },
   {
    "duration": 13,
    "start_time": "2022-05-06T18:03:11.679Z"
   },
   {
    "duration": 34,
    "start_time": "2022-05-06T18:03:11.694Z"
   },
   {
    "duration": 166,
    "start_time": "2022-05-06T18:03:11.731Z"
   },
   {
    "duration": 260,
    "start_time": "2022-05-06T18:03:11.899Z"
   },
   {
    "duration": 23,
    "start_time": "2022-05-06T18:03:12.161Z"
   },
   {
    "duration": 43,
    "start_time": "2022-05-06T18:03:12.186Z"
   },
   {
    "duration": 8,
    "start_time": "2022-05-06T18:03:12.232Z"
   },
   {
    "duration": 16,
    "start_time": "2022-05-06T18:03:12.242Z"
   },
   {
    "duration": 8,
    "start_time": "2022-05-06T18:03:12.259Z"
   },
   {
    "duration": 7,
    "start_time": "2022-05-06T18:03:12.269Z"
   },
   {
    "duration": 55,
    "start_time": "2022-05-06T18:03:12.278Z"
   },
   {
    "duration": 11,
    "start_time": "2022-05-06T18:03:12.335Z"
   },
   {
    "duration": 25,
    "start_time": "2022-05-06T18:03:12.349Z"
   },
   {
    "duration": 11,
    "start_time": "2022-05-06T18:03:12.376Z"
   },
   {
    "duration": 22,
    "start_time": "2022-05-06T18:07:34.443Z"
   },
   {
    "duration": 24,
    "start_time": "2022-05-06T18:25:07.765Z"
   },
   {
    "duration": 25,
    "start_time": "2022-05-06T18:26:49.559Z"
   },
   {
    "duration": 31,
    "start_time": "2022-05-06T18:27:46.024Z"
   },
   {
    "duration": 479,
    "start_time": "2022-05-06T18:28:37.264Z"
   },
   {
    "duration": 25,
    "start_time": "2022-05-06T18:28:37.746Z"
   },
   {
    "duration": 14,
    "start_time": "2022-05-06T18:28:37.773Z"
   },
   {
    "duration": 36,
    "start_time": "2022-05-06T18:28:37.790Z"
   },
   {
    "duration": 6,
    "start_time": "2022-05-06T18:28:37.828Z"
   },
   {
    "duration": 21,
    "start_time": "2022-05-06T18:28:37.836Z"
   },
   {
    "duration": 6,
    "start_time": "2022-05-06T18:28:37.859Z"
   },
   {
    "duration": 13,
    "start_time": "2022-05-06T18:28:37.867Z"
   },
   {
    "duration": 13,
    "start_time": "2022-05-06T18:28:37.881Z"
   },
   {
    "duration": 10,
    "start_time": "2022-05-06T18:28:37.924Z"
   },
   {
    "duration": 7,
    "start_time": "2022-05-06T18:28:37.938Z"
   },
   {
    "duration": 27,
    "start_time": "2022-05-06T18:28:37.947Z"
   },
   {
    "duration": 11,
    "start_time": "2022-05-06T18:28:37.975Z"
   },
   {
    "duration": 21,
    "start_time": "2022-05-06T18:28:37.988Z"
   },
   {
    "duration": 26,
    "start_time": "2022-05-06T18:28:38.011Z"
   },
   {
    "duration": 11,
    "start_time": "2022-05-06T18:28:38.042Z"
   },
   {
    "duration": 20,
    "start_time": "2022-05-06T18:28:38.055Z"
   },
   {
    "duration": 30,
    "start_time": "2022-05-06T18:28:38.077Z"
   },
   {
    "duration": 4,
    "start_time": "2022-05-06T18:28:38.109Z"
   },
   {
    "duration": 39,
    "start_time": "2022-05-06T18:28:38.115Z"
   },
   {
    "duration": 12,
    "start_time": "2022-05-06T18:28:38.156Z"
   },
   {
    "duration": 23,
    "start_time": "2022-05-06T18:28:38.170Z"
   },
   {
    "duration": 26,
    "start_time": "2022-05-06T18:28:38.195Z"
   },
   {
    "duration": 23,
    "start_time": "2022-05-06T18:28:38.224Z"
   },
   {
    "duration": 18,
    "start_time": "2022-05-06T18:28:38.251Z"
   },
   {
    "duration": 22,
    "start_time": "2022-05-06T18:28:38.271Z"
   },
   {
    "duration": 14,
    "start_time": "2022-05-06T18:28:38.295Z"
   },
   {
    "duration": 33,
    "start_time": "2022-05-06T18:28:38.313Z"
   },
   {
    "duration": 52,
    "start_time": "2022-05-06T18:28:38.348Z"
   },
   {
    "duration": 31,
    "start_time": "2022-05-06T18:28:38.403Z"
   },
   {
    "duration": 27,
    "start_time": "2022-05-06T18:28:38.435Z"
   },
   {
    "duration": 18,
    "start_time": "2022-05-06T18:28:38.464Z"
   },
   {
    "duration": 24,
    "start_time": "2022-05-06T18:28:38.484Z"
   },
   {
    "duration": 42,
    "start_time": "2022-05-06T18:28:38.510Z"
   },
   {
    "duration": 26,
    "start_time": "2022-05-06T18:28:38.555Z"
   },
   {
    "duration": 48,
    "start_time": "2022-05-06T18:28:38.583Z"
   },
   {
    "duration": 25,
    "start_time": "2022-05-06T18:28:38.634Z"
   },
   {
    "duration": 22,
    "start_time": "2022-05-06T18:28:38.661Z"
   },
   {
    "duration": 27,
    "start_time": "2022-05-06T18:28:38.686Z"
   },
   {
    "duration": 48,
    "start_time": "2022-05-06T18:28:38.715Z"
   },
   {
    "duration": 28,
    "start_time": "2022-05-06T18:28:38.765Z"
   },
   {
    "duration": 8,
    "start_time": "2022-05-06T18:28:38.794Z"
   },
   {
    "duration": 32,
    "start_time": "2022-05-06T18:28:38.804Z"
   },
   {
    "duration": 17,
    "start_time": "2022-05-06T18:28:38.843Z"
   },
   {
    "duration": 14,
    "start_time": "2022-05-06T18:28:38.862Z"
   },
   {
    "duration": 179,
    "start_time": "2022-05-06T18:28:38.878Z"
   },
   {
    "duration": 182,
    "start_time": "2022-05-06T18:28:39.060Z"
   },
   {
    "duration": 24,
    "start_time": "2022-05-06T18:28:39.243Z"
   },
   {
    "duration": 24,
    "start_time": "2022-05-06T18:28:39.269Z"
   },
   {
    "duration": 33,
    "start_time": "2022-05-06T18:28:39.294Z"
   },
   {
    "duration": 7,
    "start_time": "2022-05-06T18:28:39.330Z"
   },
   {
    "duration": 29,
    "start_time": "2022-05-06T18:28:39.341Z"
   },
   {
    "duration": 21,
    "start_time": "2022-05-06T18:28:39.372Z"
   },
   {
    "duration": 601,
    "start_time": "2022-05-06T18:31:35.292Z"
   },
   {
    "duration": 40,
    "start_time": "2022-05-06T18:31:35.896Z"
   },
   {
    "duration": 21,
    "start_time": "2022-05-06T18:31:35.938Z"
   },
   {
    "duration": 24,
    "start_time": "2022-05-06T18:31:35.964Z"
   },
   {
    "duration": 6,
    "start_time": "2022-05-06T18:31:35.992Z"
   },
   {
    "duration": 21,
    "start_time": "2022-05-06T18:31:36.025Z"
   },
   {
    "duration": 10,
    "start_time": "2022-05-06T18:31:36.048Z"
   },
   {
    "duration": 20,
    "start_time": "2022-05-06T18:31:36.060Z"
   },
   {
    "duration": 19,
    "start_time": "2022-05-06T18:31:36.082Z"
   },
   {
    "duration": 19,
    "start_time": "2022-05-06T18:31:36.104Z"
   },
   {
    "duration": 22,
    "start_time": "2022-05-06T18:31:36.125Z"
   },
   {
    "duration": 11,
    "start_time": "2022-05-06T18:31:36.151Z"
   },
   {
    "duration": 7,
    "start_time": "2022-05-06T18:31:36.166Z"
   },
   {
    "duration": 8,
    "start_time": "2022-05-06T18:31:36.177Z"
   },
   {
    "duration": 11,
    "start_time": "2022-05-06T18:31:36.187Z"
   },
   {
    "duration": 13,
    "start_time": "2022-05-06T18:31:36.199Z"
   },
   {
    "duration": 26,
    "start_time": "2022-05-06T18:31:36.214Z"
   },
   {
    "duration": 24,
    "start_time": "2022-05-06T18:31:36.242Z"
   },
   {
    "duration": 5,
    "start_time": "2022-05-06T18:31:36.268Z"
   },
   {
    "duration": 8,
    "start_time": "2022-05-06T18:31:36.275Z"
   },
   {
    "duration": 16,
    "start_time": "2022-05-06T18:31:36.285Z"
   },
   {
    "duration": 24,
    "start_time": "2022-05-06T18:31:36.303Z"
   },
   {
    "duration": 8,
    "start_time": "2022-05-06T18:31:36.329Z"
   },
   {
    "duration": 22,
    "start_time": "2022-05-06T18:31:36.339Z"
   },
   {
    "duration": 24,
    "start_time": "2022-05-06T18:31:36.363Z"
   },
   {
    "duration": 19,
    "start_time": "2022-05-06T18:31:36.390Z"
   },
   {
    "duration": 13,
    "start_time": "2022-05-06T18:31:36.411Z"
   },
   {
    "duration": 10,
    "start_time": "2022-05-06T18:31:36.429Z"
   },
   {
    "duration": 23,
    "start_time": "2022-05-06T18:31:36.441Z"
   },
   {
    "duration": 19,
    "start_time": "2022-05-06T18:31:36.466Z"
   },
   {
    "duration": 52,
    "start_time": "2022-05-06T18:31:36.487Z"
   },
   {
    "duration": 34,
    "start_time": "2022-05-06T18:31:36.541Z"
   },
   {
    "duration": 17,
    "start_time": "2022-05-06T18:31:36.576Z"
   },
   {
    "duration": 41,
    "start_time": "2022-05-06T18:31:36.595Z"
   },
   {
    "duration": 29,
    "start_time": "2022-05-06T18:31:36.638Z"
   },
   {
    "duration": 23,
    "start_time": "2022-05-06T18:31:36.669Z"
   },
   {
    "duration": 46,
    "start_time": "2022-05-06T18:31:36.694Z"
   },
   {
    "duration": 26,
    "start_time": "2022-05-06T18:31:36.742Z"
   },
   {
    "duration": 24,
    "start_time": "2022-05-06T18:31:36.770Z"
   },
   {
    "duration": 49,
    "start_time": "2022-05-06T18:31:36.796Z"
   },
   {
    "duration": 43,
    "start_time": "2022-05-06T18:31:36.852Z"
   },
   {
    "duration": 6,
    "start_time": "2022-05-06T18:31:36.897Z"
   },
   {
    "duration": 26,
    "start_time": "2022-05-06T18:31:36.905Z"
   },
   {
    "duration": 20,
    "start_time": "2022-05-06T18:31:36.936Z"
   },
   {
    "duration": 19,
    "start_time": "2022-05-06T18:31:36.960Z"
   },
   {
    "duration": 205,
    "start_time": "2022-05-06T18:31:36.980Z"
   },
   {
    "duration": 194,
    "start_time": "2022-05-06T18:31:37.188Z"
   },
   {
    "duration": 21,
    "start_time": "2022-05-06T18:31:37.384Z"
   },
   {
    "duration": 30,
    "start_time": "2022-05-06T18:31:37.407Z"
   },
   {
    "duration": 23,
    "start_time": "2022-05-06T18:31:37.438Z"
   },
   {
    "duration": 7,
    "start_time": "2022-05-06T18:31:37.463Z"
   },
   {
    "duration": 56,
    "start_time": "2022-05-06T18:31:37.471Z"
   },
   {
    "duration": 32,
    "start_time": "2022-05-06T18:31:37.529Z"
   },
   {
    "duration": 513,
    "start_time": "2022-05-06T18:40:21.770Z"
   },
   {
    "duration": 26,
    "start_time": "2022-05-06T18:40:22.285Z"
   },
   {
    "duration": 19,
    "start_time": "2022-05-06T18:40:22.313Z"
   },
   {
    "duration": 18,
    "start_time": "2022-05-06T18:40:22.335Z"
   },
   {
    "duration": 5,
    "start_time": "2022-05-06T18:40:22.354Z"
   },
   {
    "duration": 12,
    "start_time": "2022-05-06T18:40:22.361Z"
   },
   {
    "duration": 7,
    "start_time": "2022-05-06T18:40:22.375Z"
   },
   {
    "duration": 52,
    "start_time": "2022-05-06T18:40:22.383Z"
   },
   {
    "duration": 14,
    "start_time": "2022-05-06T18:40:22.437Z"
   },
   {
    "duration": 7,
    "start_time": "2022-05-06T18:40:22.454Z"
   },
   {
    "duration": 5,
    "start_time": "2022-05-06T18:40:22.463Z"
   },
   {
    "duration": 5,
    "start_time": "2022-05-06T18:40:22.469Z"
   },
   {
    "duration": 48,
    "start_time": "2022-05-06T18:40:22.476Z"
   },
   {
    "duration": 7,
    "start_time": "2022-05-06T18:40:22.527Z"
   },
   {
    "duration": 8,
    "start_time": "2022-05-06T18:40:22.536Z"
   },
   {
    "duration": 9,
    "start_time": "2022-05-06T18:40:22.546Z"
   },
   {
    "duration": 12,
    "start_time": "2022-05-06T18:40:22.557Z"
   },
   {
    "duration": 62,
    "start_time": "2022-05-06T18:40:22.572Z"
   },
   {
    "duration": 5,
    "start_time": "2022-05-06T18:40:22.635Z"
   },
   {
    "duration": 7,
    "start_time": "2022-05-06T18:40:22.642Z"
   },
   {
    "duration": 6,
    "start_time": "2022-05-06T18:40:22.651Z"
   },
   {
    "duration": 11,
    "start_time": "2022-05-06T18:40:22.658Z"
   },
   {
    "duration": 9,
    "start_time": "2022-05-06T18:40:22.671Z"
   },
   {
    "duration": 44,
    "start_time": "2022-05-06T18:40:22.682Z"
   },
   {
    "duration": 15,
    "start_time": "2022-05-06T18:40:22.728Z"
   },
   {
    "duration": 18,
    "start_time": "2022-05-06T18:40:22.744Z"
   },
   {
    "duration": 12,
    "start_time": "2022-05-06T18:40:22.765Z"
   },
   {
    "duration": 8,
    "start_time": "2022-05-06T18:40:22.780Z"
   },
   {
    "duration": 42,
    "start_time": "2022-05-06T18:40:22.790Z"
   },
   {
    "duration": 18,
    "start_time": "2022-05-06T18:40:22.834Z"
   },
   {
    "duration": 21,
    "start_time": "2022-05-06T18:40:22.854Z"
   },
   {
    "duration": 51,
    "start_time": "2022-05-06T18:40:22.877Z"
   },
   {
    "duration": 19,
    "start_time": "2022-05-06T18:40:22.930Z"
   },
   {
    "duration": 27,
    "start_time": "2022-05-06T18:40:22.951Z"
   },
   {
    "duration": 51,
    "start_time": "2022-05-06T18:40:22.980Z"
   },
   {
    "duration": 16,
    "start_time": "2022-05-06T18:40:23.033Z"
   },
   {
    "duration": 18,
    "start_time": "2022-05-06T18:40:23.051Z"
   },
   {
    "duration": 51,
    "start_time": "2022-05-06T18:40:23.071Z"
   },
   {
    "duration": 33,
    "start_time": "2022-05-06T18:40:23.124Z"
   },
   {
    "duration": 37,
    "start_time": "2022-05-06T18:40:23.160Z"
   },
   {
    "duration": 65,
    "start_time": "2022-05-06T18:40:23.199Z"
   },
   {
    "duration": 7,
    "start_time": "2022-05-06T18:40:23.266Z"
   },
   {
    "duration": 10,
    "start_time": "2022-05-06T18:40:23.274Z"
   },
   {
    "duration": 7,
    "start_time": "2022-05-06T18:40:23.286Z"
   },
   {
    "duration": 14,
    "start_time": "2022-05-06T18:40:23.322Z"
   },
   {
    "duration": 264,
    "start_time": "2022-05-06T18:40:23.339Z"
   },
   {
    "duration": 254,
    "start_time": "2022-05-06T18:40:23.606Z"
   },
   {
    "duration": 39,
    "start_time": "2022-05-06T18:40:23.862Z"
   },
   {
    "duration": 45,
    "start_time": "2022-05-06T18:40:23.904Z"
   },
   {
    "duration": 30,
    "start_time": "2022-05-06T18:40:23.952Z"
   },
   {
    "duration": 9,
    "start_time": "2022-05-06T18:40:23.984Z"
   },
   {
    "duration": 49,
    "start_time": "2022-05-06T18:40:23.995Z"
   },
   {
    "duration": 36,
    "start_time": "2022-05-06T18:40:24.046Z"
   }
  ],
  "kernelspec": {
   "display_name": "Python 3 (ipykernel)",
   "language": "python",
   "name": "python3"
  },
  "language_info": {
   "codemirror_mode": {
    "name": "ipython",
    "version": 3
   },
   "file_extension": ".py",
   "mimetype": "text/x-python",
   "name": "python",
   "nbconvert_exporter": "python",
   "pygments_lexer": "ipython3",
   "version": "3.9.7"
  },
  "toc": {
   "base_numbering": 1,
   "nav_menu": {},
   "number_sections": true,
   "sideBar": true,
   "skip_h1_title": true,
   "title_cell": "Table of Contents",
   "title_sidebar": "Contents",
   "toc_cell": false,
   "toc_position": {},
   "toc_section_display": true,
   "toc_window_display": false
  }
 },
 "nbformat": 4,
 "nbformat_minor": 5
}
